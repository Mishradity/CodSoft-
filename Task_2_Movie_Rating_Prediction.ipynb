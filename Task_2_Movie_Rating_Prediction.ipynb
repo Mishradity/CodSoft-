{
  "nbformat": 4,
  "nbformat_minor": 0,
  "metadata": {
    "colab": {
      "provenance": [],
      "toc_visible": true
    },
    "kernelspec": {
      "name": "python3",
      "display_name": "Python 3"
    },
    "language_info": {
      "name": "python"
    }
  },
  "cells": [
    {
      "cell_type": "markdown",
      "source": [
        "**CodSoft Internship**\n",
        "\n",
        "**TASK 2: Movie Rating Prediction **\n",
        "\n",
        "**Author**: Aditya Kumar Mishra\n",
        "\n",
        "**Domain**: Data Science\n",
        "\n",
        "**Batch**: A57"
      ],
      "metadata": {
        "id": "MaA8qBNbIRFY"
      }
    },
    {
      "cell_type": "code",
      "source": [
        "# Import libraries for Prediction\n",
        "import numpy as np\n",
        "import pandas as pd\n",
        "import matplotlib.pyplot as plt\n",
        "import seaborn as sn\n",
        "\n"
      ],
      "metadata": {
        "id": "NpKWE0yKI96x"
      },
      "execution_count": 16,
      "outputs": []
    },
    {
      "cell_type": "code",
      "source": [
        "from google.colab import files\n",
        "uploaded = files.upload()"
      ],
      "metadata": {
        "colab": {
          "base_uri": "https://localhost:8080/",
          "height": 73
        },
        "id": "QKDLAPXIPKbP",
        "outputId": "dc82fd99-da8a-4037-9873-df16b3c9a98d"
      },
      "execution_count": 29,
      "outputs": [
        {
          "output_type": "display_data",
          "data": {
            "text/plain": [
              "<IPython.core.display.HTML object>"
            ],
            "text/html": [
              "\n",
              "     <input type=\"file\" id=\"files-0b2b5dea-0498-40f0-a08b-066b857d6afc\" name=\"files[]\" multiple disabled\n",
              "        style=\"border:none\" />\n",
              "     <output id=\"result-0b2b5dea-0498-40f0-a08b-066b857d6afc\">\n",
              "      Upload widget is only available when the cell has been executed in the\n",
              "      current browser session. Please rerun this cell to enable.\n",
              "      </output>\n",
              "      <script>// Copyright 2017 Google LLC\n",
              "//\n",
              "// Licensed under the Apache License, Version 2.0 (the \"License\");\n",
              "// you may not use this file except in compliance with the License.\n",
              "// You may obtain a copy of the License at\n",
              "//\n",
              "//      http://www.apache.org/licenses/LICENSE-2.0\n",
              "//\n",
              "// Unless required by applicable law or agreed to in writing, software\n",
              "// distributed under the License is distributed on an \"AS IS\" BASIS,\n",
              "// WITHOUT WARRANTIES OR CONDITIONS OF ANY KIND, either express or implied.\n",
              "// See the License for the specific language governing permissions and\n",
              "// limitations under the License.\n",
              "\n",
              "/**\n",
              " * @fileoverview Helpers for google.colab Python module.\n",
              " */\n",
              "(function(scope) {\n",
              "function span(text, styleAttributes = {}) {\n",
              "  const element = document.createElement('span');\n",
              "  element.textContent = text;\n",
              "  for (const key of Object.keys(styleAttributes)) {\n",
              "    element.style[key] = styleAttributes[key];\n",
              "  }\n",
              "  return element;\n",
              "}\n",
              "\n",
              "// Max number of bytes which will be uploaded at a time.\n",
              "const MAX_PAYLOAD_SIZE = 100 * 1024;\n",
              "\n",
              "function _uploadFiles(inputId, outputId) {\n",
              "  const steps = uploadFilesStep(inputId, outputId);\n",
              "  const outputElement = document.getElementById(outputId);\n",
              "  // Cache steps on the outputElement to make it available for the next call\n",
              "  // to uploadFilesContinue from Python.\n",
              "  outputElement.steps = steps;\n",
              "\n",
              "  return _uploadFilesContinue(outputId);\n",
              "}\n",
              "\n",
              "// This is roughly an async generator (not supported in the browser yet),\n",
              "// where there are multiple asynchronous steps and the Python side is going\n",
              "// to poll for completion of each step.\n",
              "// This uses a Promise to block the python side on completion of each step,\n",
              "// then passes the result of the previous step as the input to the next step.\n",
              "function _uploadFilesContinue(outputId) {\n",
              "  const outputElement = document.getElementById(outputId);\n",
              "  const steps = outputElement.steps;\n",
              "\n",
              "  const next = steps.next(outputElement.lastPromiseValue);\n",
              "  return Promise.resolve(next.value.promise).then((value) => {\n",
              "    // Cache the last promise value to make it available to the next\n",
              "    // step of the generator.\n",
              "    outputElement.lastPromiseValue = value;\n",
              "    return next.value.response;\n",
              "  });\n",
              "}\n",
              "\n",
              "/**\n",
              " * Generator function which is called between each async step of the upload\n",
              " * process.\n",
              " * @param {string} inputId Element ID of the input file picker element.\n",
              " * @param {string} outputId Element ID of the output display.\n",
              " * @return {!Iterable<!Object>} Iterable of next steps.\n",
              " */\n",
              "function* uploadFilesStep(inputId, outputId) {\n",
              "  const inputElement = document.getElementById(inputId);\n",
              "  inputElement.disabled = false;\n",
              "\n",
              "  const outputElement = document.getElementById(outputId);\n",
              "  outputElement.innerHTML = '';\n",
              "\n",
              "  const pickedPromise = new Promise((resolve) => {\n",
              "    inputElement.addEventListener('change', (e) => {\n",
              "      resolve(e.target.files);\n",
              "    });\n",
              "  });\n",
              "\n",
              "  const cancel = document.createElement('button');\n",
              "  inputElement.parentElement.appendChild(cancel);\n",
              "  cancel.textContent = 'Cancel upload';\n",
              "  const cancelPromise = new Promise((resolve) => {\n",
              "    cancel.onclick = () => {\n",
              "      resolve(null);\n",
              "    };\n",
              "  });\n",
              "\n",
              "  // Wait for the user to pick the files.\n",
              "  const files = yield {\n",
              "    promise: Promise.race([pickedPromise, cancelPromise]),\n",
              "    response: {\n",
              "      action: 'starting',\n",
              "    }\n",
              "  };\n",
              "\n",
              "  cancel.remove();\n",
              "\n",
              "  // Disable the input element since further picks are not allowed.\n",
              "  inputElement.disabled = true;\n",
              "\n",
              "  if (!files) {\n",
              "    return {\n",
              "      response: {\n",
              "        action: 'complete',\n",
              "      }\n",
              "    };\n",
              "  }\n",
              "\n",
              "  for (const file of files) {\n",
              "    const li = document.createElement('li');\n",
              "    li.append(span(file.name, {fontWeight: 'bold'}));\n",
              "    li.append(span(\n",
              "        `(${file.type || 'n/a'}) - ${file.size} bytes, ` +\n",
              "        `last modified: ${\n",
              "            file.lastModifiedDate ? file.lastModifiedDate.toLocaleDateString() :\n",
              "                                    'n/a'} - `));\n",
              "    const percent = span('0% done');\n",
              "    li.appendChild(percent);\n",
              "\n",
              "    outputElement.appendChild(li);\n",
              "\n",
              "    const fileDataPromise = new Promise((resolve) => {\n",
              "      const reader = new FileReader();\n",
              "      reader.onload = (e) => {\n",
              "        resolve(e.target.result);\n",
              "      };\n",
              "      reader.readAsArrayBuffer(file);\n",
              "    });\n",
              "    // Wait for the data to be ready.\n",
              "    let fileData = yield {\n",
              "      promise: fileDataPromise,\n",
              "      response: {\n",
              "        action: 'continue',\n",
              "      }\n",
              "    };\n",
              "\n",
              "    // Use a chunked sending to avoid message size limits. See b/62115660.\n",
              "    let position = 0;\n",
              "    do {\n",
              "      const length = Math.min(fileData.byteLength - position, MAX_PAYLOAD_SIZE);\n",
              "      const chunk = new Uint8Array(fileData, position, length);\n",
              "      position += length;\n",
              "\n",
              "      const base64 = btoa(String.fromCharCode.apply(null, chunk));\n",
              "      yield {\n",
              "        response: {\n",
              "          action: 'append',\n",
              "          file: file.name,\n",
              "          data: base64,\n",
              "        },\n",
              "      };\n",
              "\n",
              "      let percentDone = fileData.byteLength === 0 ?\n",
              "          100 :\n",
              "          Math.round((position / fileData.byteLength) * 100);\n",
              "      percent.textContent = `${percentDone}% done`;\n",
              "\n",
              "    } while (position < fileData.byteLength);\n",
              "  }\n",
              "\n",
              "  // All done.\n",
              "  yield {\n",
              "    response: {\n",
              "      action: 'complete',\n",
              "    }\n",
              "  };\n",
              "}\n",
              "\n",
              "scope.google = scope.google || {};\n",
              "scope.google.colab = scope.google.colab || {};\n",
              "scope.google.colab._files = {\n",
              "  _uploadFiles,\n",
              "  _uploadFilesContinue,\n",
              "};\n",
              "})(self);\n",
              "</script> "
            ]
          },
          "metadata": {}
        },
        {
          "output_type": "stream",
          "name": "stdout",
          "text": [
            "Saving IMDb Movies India.csv to IMDb Movies India.csv\n"
          ]
        }
      ]
    },
    {
      "cell_type": "code",
      "source": [
        "#linking Dataset in colab\n",
        "import io\n",
        "imdb_df = pd.read_csv((io.BytesIO(uploaded['IMDb Movies India.csv'])),encoding='unicode_Escape')"
      ],
      "metadata": {
        "id": "sUaH4wlbSOZp"
      },
      "execution_count": 32,
      "outputs": []
    },
    {
      "cell_type": "code",
      "source": [
        "imdb_df.head(10)"
      ],
      "metadata": {
        "colab": {
          "base_uri": "https://localhost:8080/",
          "height": 501
        },
        "id": "C_ff7wgfTjaY",
        "outputId": "5ee32352-a5b8-4f7b-e184-9fd7152da195"
      },
      "execution_count": 33,
      "outputs": [
        {
          "output_type": "execute_result",
          "data": {
            "text/plain": [
              "                                 Name    Year Duration  \\\n",
              "0                                         NaN      NaN   \n",
              "1  #Gadhvi (He thought he was Gandhi)  (2019)  109 min   \n",
              "2                         #Homecoming  (2021)   90 min   \n",
              "3                             #Yaaram  (2019)  110 min   \n",
              "4                   ...And Once Again  (2010)  105 min   \n",
              "5                ...Aur Pyaar Ho Gaya  (1997)  147 min   \n",
              "6                           ...Yahaan  (2005)  142 min   \n",
              "7                      .in for Motion  (2008)   59 min   \n",
              "8                  ?: A Question Mark  (2012)   82 min   \n",
              "9                            @Andheri  (2014)  116 min   \n",
              "\n",
              "                       Genre  Rating  Votes            Director  \\\n",
              "0                      Drama     NaN    NaN       J.S. Randhawa   \n",
              "1                      Drama     7.0      8       Gaurav Bakshi   \n",
              "2             Drama, Musical     NaN    NaN  Soumyajit Majumdar   \n",
              "3            Comedy, Romance     4.4     35          Ovais Khan   \n",
              "4                      Drama     NaN    NaN        Amol Palekar   \n",
              "5     Comedy, Drama, Musical     4.7    827        Rahul Rawail   \n",
              "6        Drama, Romance, War     7.4  1,086      Shoojit Sircar   \n",
              "7                Documentary     NaN    NaN       Anirban Datta   \n",
              "8  Horror, Mystery, Thriller     5.6    326       Allyson Patel   \n",
              "9    Action, Crime, Thriller     4.0     11   Biju Bhaskar Nair   \n",
              "\n",
              "           Actor 1                 Actor 2          Actor 3  \n",
              "0         Manmauji                  Birbal  Rajendra Bhatia  \n",
              "1     Rasika Dugal          Vivek Ghamande    Arvind Jangid  \n",
              "2     Sayani Gupta       Plabita Borthakur       Roy Angana  \n",
              "3          Prateik              Ishita Raj  Siddhant Kapoor  \n",
              "4     Rajat Kapoor      Rituparna Sengupta      Antara Mali  \n",
              "5       Bobby Deol  Aishwarya Rai Bachchan    Shammi Kapoor  \n",
              "6  Jimmy Sheirgill          Minissha Lamba   Yashpal Sharma  \n",
              "7              NaN                     NaN              NaN  \n",
              "8        Yash Dave          Muntazir Ahmad     Kiran Bhatia  \n",
              "9        Augustine            Fathima Babu             Byon  "
            ],
            "text/html": [
              "\n",
              "  <div id=\"df-f2fb3f37-d411-4a5c-83e7-ca51ed3ff8ce\" class=\"colab-df-container\">\n",
              "    <div>\n",
              "<style scoped>\n",
              "    .dataframe tbody tr th:only-of-type {\n",
              "        vertical-align: middle;\n",
              "    }\n",
              "\n",
              "    .dataframe tbody tr th {\n",
              "        vertical-align: top;\n",
              "    }\n",
              "\n",
              "    .dataframe thead th {\n",
              "        text-align: right;\n",
              "    }\n",
              "</style>\n",
              "<table border=\"1\" class=\"dataframe\">\n",
              "  <thead>\n",
              "    <tr style=\"text-align: right;\">\n",
              "      <th></th>\n",
              "      <th>Name</th>\n",
              "      <th>Year</th>\n",
              "      <th>Duration</th>\n",
              "      <th>Genre</th>\n",
              "      <th>Rating</th>\n",
              "      <th>Votes</th>\n",
              "      <th>Director</th>\n",
              "      <th>Actor 1</th>\n",
              "      <th>Actor 2</th>\n",
              "      <th>Actor 3</th>\n",
              "    </tr>\n",
              "  </thead>\n",
              "  <tbody>\n",
              "    <tr>\n",
              "      <th>0</th>\n",
              "      <td></td>\n",
              "      <td>NaN</td>\n",
              "      <td>NaN</td>\n",
              "      <td>Drama</td>\n",
              "      <td>NaN</td>\n",
              "      <td>NaN</td>\n",
              "      <td>J.S. Randhawa</td>\n",
              "      <td>Manmauji</td>\n",
              "      <td>Birbal</td>\n",
              "      <td>Rajendra Bhatia</td>\n",
              "    </tr>\n",
              "    <tr>\n",
              "      <th>1</th>\n",
              "      <td>#Gadhvi (He thought he was Gandhi)</td>\n",
              "      <td>(2019)</td>\n",
              "      <td>109 min</td>\n",
              "      <td>Drama</td>\n",
              "      <td>7.0</td>\n",
              "      <td>8</td>\n",
              "      <td>Gaurav Bakshi</td>\n",
              "      <td>Rasika Dugal</td>\n",
              "      <td>Vivek Ghamande</td>\n",
              "      <td>Arvind Jangid</td>\n",
              "    </tr>\n",
              "    <tr>\n",
              "      <th>2</th>\n",
              "      <td>#Homecoming</td>\n",
              "      <td>(2021)</td>\n",
              "      <td>90 min</td>\n",
              "      <td>Drama, Musical</td>\n",
              "      <td>NaN</td>\n",
              "      <td>NaN</td>\n",
              "      <td>Soumyajit Majumdar</td>\n",
              "      <td>Sayani Gupta</td>\n",
              "      <td>Plabita Borthakur</td>\n",
              "      <td>Roy Angana</td>\n",
              "    </tr>\n",
              "    <tr>\n",
              "      <th>3</th>\n",
              "      <td>#Yaaram</td>\n",
              "      <td>(2019)</td>\n",
              "      <td>110 min</td>\n",
              "      <td>Comedy, Romance</td>\n",
              "      <td>4.4</td>\n",
              "      <td>35</td>\n",
              "      <td>Ovais Khan</td>\n",
              "      <td>Prateik</td>\n",
              "      <td>Ishita Raj</td>\n",
              "      <td>Siddhant Kapoor</td>\n",
              "    </tr>\n",
              "    <tr>\n",
              "      <th>4</th>\n",
              "      <td>...And Once Again</td>\n",
              "      <td>(2010)</td>\n",
              "      <td>105 min</td>\n",
              "      <td>Drama</td>\n",
              "      <td>NaN</td>\n",
              "      <td>NaN</td>\n",
              "      <td>Amol Palekar</td>\n",
              "      <td>Rajat Kapoor</td>\n",
              "      <td>Rituparna Sengupta</td>\n",
              "      <td>Antara Mali</td>\n",
              "    </tr>\n",
              "    <tr>\n",
              "      <th>5</th>\n",
              "      <td>...Aur Pyaar Ho Gaya</td>\n",
              "      <td>(1997)</td>\n",
              "      <td>147 min</td>\n",
              "      <td>Comedy, Drama, Musical</td>\n",
              "      <td>4.7</td>\n",
              "      <td>827</td>\n",
              "      <td>Rahul Rawail</td>\n",
              "      <td>Bobby Deol</td>\n",
              "      <td>Aishwarya Rai Bachchan</td>\n",
              "      <td>Shammi Kapoor</td>\n",
              "    </tr>\n",
              "    <tr>\n",
              "      <th>6</th>\n",
              "      <td>...Yahaan</td>\n",
              "      <td>(2005)</td>\n",
              "      <td>142 min</td>\n",
              "      <td>Drama, Romance, War</td>\n",
              "      <td>7.4</td>\n",
              "      <td>1,086</td>\n",
              "      <td>Shoojit Sircar</td>\n",
              "      <td>Jimmy Sheirgill</td>\n",
              "      <td>Minissha Lamba</td>\n",
              "      <td>Yashpal Sharma</td>\n",
              "    </tr>\n",
              "    <tr>\n",
              "      <th>7</th>\n",
              "      <td>.in for Motion</td>\n",
              "      <td>(2008)</td>\n",
              "      <td>59 min</td>\n",
              "      <td>Documentary</td>\n",
              "      <td>NaN</td>\n",
              "      <td>NaN</td>\n",
              "      <td>Anirban Datta</td>\n",
              "      <td>NaN</td>\n",
              "      <td>NaN</td>\n",
              "      <td>NaN</td>\n",
              "    </tr>\n",
              "    <tr>\n",
              "      <th>8</th>\n",
              "      <td>?: A Question Mark</td>\n",
              "      <td>(2012)</td>\n",
              "      <td>82 min</td>\n",
              "      <td>Horror, Mystery, Thriller</td>\n",
              "      <td>5.6</td>\n",
              "      <td>326</td>\n",
              "      <td>Allyson Patel</td>\n",
              "      <td>Yash Dave</td>\n",
              "      <td>Muntazir Ahmad</td>\n",
              "      <td>Kiran Bhatia</td>\n",
              "    </tr>\n",
              "    <tr>\n",
              "      <th>9</th>\n",
              "      <td>@Andheri</td>\n",
              "      <td>(2014)</td>\n",
              "      <td>116 min</td>\n",
              "      <td>Action, Crime, Thriller</td>\n",
              "      <td>4.0</td>\n",
              "      <td>11</td>\n",
              "      <td>Biju Bhaskar Nair</td>\n",
              "      <td>Augustine</td>\n",
              "      <td>Fathima Babu</td>\n",
              "      <td>Byon</td>\n",
              "    </tr>\n",
              "  </tbody>\n",
              "</table>\n",
              "</div>\n",
              "    <div class=\"colab-df-buttons\">\n",
              "\n",
              "  <div class=\"colab-df-container\">\n",
              "    <button class=\"colab-df-convert\" onclick=\"convertToInteractive('df-f2fb3f37-d411-4a5c-83e7-ca51ed3ff8ce')\"\n",
              "            title=\"Convert this dataframe to an interactive table.\"\n",
              "            style=\"display:none;\">\n",
              "\n",
              "  <svg xmlns=\"http://www.w3.org/2000/svg\" height=\"24px\" viewBox=\"0 -960 960 960\">\n",
              "    <path d=\"M120-120v-720h720v720H120Zm60-500h600v-160H180v160Zm220 220h160v-160H400v160Zm0 220h160v-160H400v160ZM180-400h160v-160H180v160Zm440 0h160v-160H620v160ZM180-180h160v-160H180v160Zm440 0h160v-160H620v160Z\"/>\n",
              "  </svg>\n",
              "    </button>\n",
              "\n",
              "  <style>\n",
              "    .colab-df-container {\n",
              "      display:flex;\n",
              "      gap: 12px;\n",
              "    }\n",
              "\n",
              "    .colab-df-convert {\n",
              "      background-color: #E8F0FE;\n",
              "      border: none;\n",
              "      border-radius: 50%;\n",
              "      cursor: pointer;\n",
              "      display: none;\n",
              "      fill: #1967D2;\n",
              "      height: 32px;\n",
              "      padding: 0 0 0 0;\n",
              "      width: 32px;\n",
              "    }\n",
              "\n",
              "    .colab-df-convert:hover {\n",
              "      background-color: #E2EBFA;\n",
              "      box-shadow: 0px 1px 2px rgba(60, 64, 67, 0.3), 0px 1px 3px 1px rgba(60, 64, 67, 0.15);\n",
              "      fill: #174EA6;\n",
              "    }\n",
              "\n",
              "    .colab-df-buttons div {\n",
              "      margin-bottom: 4px;\n",
              "    }\n",
              "\n",
              "    [theme=dark] .colab-df-convert {\n",
              "      background-color: #3B4455;\n",
              "      fill: #D2E3FC;\n",
              "    }\n",
              "\n",
              "    [theme=dark] .colab-df-convert:hover {\n",
              "      background-color: #434B5C;\n",
              "      box-shadow: 0px 1px 3px 1px rgba(0, 0, 0, 0.15);\n",
              "      filter: drop-shadow(0px 1px 2px rgba(0, 0, 0, 0.3));\n",
              "      fill: #FFFFFF;\n",
              "    }\n",
              "  </style>\n",
              "\n",
              "    <script>\n",
              "      const buttonEl =\n",
              "        document.querySelector('#df-f2fb3f37-d411-4a5c-83e7-ca51ed3ff8ce button.colab-df-convert');\n",
              "      buttonEl.style.display =\n",
              "        google.colab.kernel.accessAllowed ? 'block' : 'none';\n",
              "\n",
              "      async function convertToInteractive(key) {\n",
              "        const element = document.querySelector('#df-f2fb3f37-d411-4a5c-83e7-ca51ed3ff8ce');\n",
              "        const dataTable =\n",
              "          await google.colab.kernel.invokeFunction('convertToInteractive',\n",
              "                                                    [key], {});\n",
              "        if (!dataTable) return;\n",
              "\n",
              "        const docLinkHtml = 'Like what you see? Visit the ' +\n",
              "          '<a target=\"_blank\" href=https://colab.research.google.com/notebooks/data_table.ipynb>data table notebook</a>'\n",
              "          + ' to learn more about interactive tables.';\n",
              "        element.innerHTML = '';\n",
              "        dataTable['output_type'] = 'display_data';\n",
              "        await google.colab.output.renderOutput(dataTable, element);\n",
              "        const docLink = document.createElement('div');\n",
              "        docLink.innerHTML = docLinkHtml;\n",
              "        element.appendChild(docLink);\n",
              "      }\n",
              "    </script>\n",
              "  </div>\n",
              "\n",
              "\n",
              "<div id=\"df-3758c508-db1f-4019-b599-ed8518805c2c\">\n",
              "  <button class=\"colab-df-quickchart\" onclick=\"quickchart('df-3758c508-db1f-4019-b599-ed8518805c2c')\"\n",
              "            title=\"Suggest charts\"\n",
              "            style=\"display:none;\">\n",
              "\n",
              "<svg xmlns=\"http://www.w3.org/2000/svg\" height=\"24px\"viewBox=\"0 0 24 24\"\n",
              "     width=\"24px\">\n",
              "    <g>\n",
              "        <path d=\"M19 3H5c-1.1 0-2 .9-2 2v14c0 1.1.9 2 2 2h14c1.1 0 2-.9 2-2V5c0-1.1-.9-2-2-2zM9 17H7v-7h2v7zm4 0h-2V7h2v10zm4 0h-2v-4h2v4z\"/>\n",
              "    </g>\n",
              "</svg>\n",
              "  </button>\n",
              "\n",
              "<style>\n",
              "  .colab-df-quickchart {\n",
              "      --bg-color: #E8F0FE;\n",
              "      --fill-color: #1967D2;\n",
              "      --hover-bg-color: #E2EBFA;\n",
              "      --hover-fill-color: #174EA6;\n",
              "      --disabled-fill-color: #AAA;\n",
              "      --disabled-bg-color: #DDD;\n",
              "  }\n",
              "\n",
              "  [theme=dark] .colab-df-quickchart {\n",
              "      --bg-color: #3B4455;\n",
              "      --fill-color: #D2E3FC;\n",
              "      --hover-bg-color: #434B5C;\n",
              "      --hover-fill-color: #FFFFFF;\n",
              "      --disabled-bg-color: #3B4455;\n",
              "      --disabled-fill-color: #666;\n",
              "  }\n",
              "\n",
              "  .colab-df-quickchart {\n",
              "    background-color: var(--bg-color);\n",
              "    border: none;\n",
              "    border-radius: 50%;\n",
              "    cursor: pointer;\n",
              "    display: none;\n",
              "    fill: var(--fill-color);\n",
              "    height: 32px;\n",
              "    padding: 0;\n",
              "    width: 32px;\n",
              "  }\n",
              "\n",
              "  .colab-df-quickchart:hover {\n",
              "    background-color: var(--hover-bg-color);\n",
              "    box-shadow: 0 1px 2px rgba(60, 64, 67, 0.3), 0 1px 3px 1px rgba(60, 64, 67, 0.15);\n",
              "    fill: var(--button-hover-fill-color);\n",
              "  }\n",
              "\n",
              "  .colab-df-quickchart-complete:disabled,\n",
              "  .colab-df-quickchart-complete:disabled:hover {\n",
              "    background-color: var(--disabled-bg-color);\n",
              "    fill: var(--disabled-fill-color);\n",
              "    box-shadow: none;\n",
              "  }\n",
              "\n",
              "  .colab-df-spinner {\n",
              "    border: 2px solid var(--fill-color);\n",
              "    border-color: transparent;\n",
              "    border-bottom-color: var(--fill-color);\n",
              "    animation:\n",
              "      spin 1s steps(1) infinite;\n",
              "  }\n",
              "\n",
              "  @keyframes spin {\n",
              "    0% {\n",
              "      border-color: transparent;\n",
              "      border-bottom-color: var(--fill-color);\n",
              "      border-left-color: var(--fill-color);\n",
              "    }\n",
              "    20% {\n",
              "      border-color: transparent;\n",
              "      border-left-color: var(--fill-color);\n",
              "      border-top-color: var(--fill-color);\n",
              "    }\n",
              "    30% {\n",
              "      border-color: transparent;\n",
              "      border-left-color: var(--fill-color);\n",
              "      border-top-color: var(--fill-color);\n",
              "      border-right-color: var(--fill-color);\n",
              "    }\n",
              "    40% {\n",
              "      border-color: transparent;\n",
              "      border-right-color: var(--fill-color);\n",
              "      border-top-color: var(--fill-color);\n",
              "    }\n",
              "    60% {\n",
              "      border-color: transparent;\n",
              "      border-right-color: var(--fill-color);\n",
              "    }\n",
              "    80% {\n",
              "      border-color: transparent;\n",
              "      border-right-color: var(--fill-color);\n",
              "      border-bottom-color: var(--fill-color);\n",
              "    }\n",
              "    90% {\n",
              "      border-color: transparent;\n",
              "      border-bottom-color: var(--fill-color);\n",
              "    }\n",
              "  }\n",
              "</style>\n",
              "\n",
              "  <script>\n",
              "    async function quickchart(key) {\n",
              "      const quickchartButtonEl =\n",
              "        document.querySelector('#' + key + ' button');\n",
              "      quickchartButtonEl.disabled = true;  // To prevent multiple clicks.\n",
              "      quickchartButtonEl.classList.add('colab-df-spinner');\n",
              "      try {\n",
              "        const charts = await google.colab.kernel.invokeFunction(\n",
              "            'suggestCharts', [key], {});\n",
              "      } catch (error) {\n",
              "        console.error('Error during call to suggestCharts:', error);\n",
              "      }\n",
              "      quickchartButtonEl.classList.remove('colab-df-spinner');\n",
              "      quickchartButtonEl.classList.add('colab-df-quickchart-complete');\n",
              "    }\n",
              "    (() => {\n",
              "      let quickchartButtonEl =\n",
              "        document.querySelector('#df-3758c508-db1f-4019-b599-ed8518805c2c button');\n",
              "      quickchartButtonEl.style.display =\n",
              "        google.colab.kernel.accessAllowed ? 'block' : 'none';\n",
              "    })();\n",
              "  </script>\n",
              "</div>\n",
              "\n",
              "    </div>\n",
              "  </div>\n"
            ],
            "application/vnd.google.colaboratory.intrinsic+json": {
              "type": "dataframe",
              "variable_name": "imdb_df",
              "summary": "{\n  \"name\": \"imdb_df\",\n  \"rows\": 15509,\n  \"fields\": [\n    {\n      \"column\": \"Name\",\n      \"properties\": {\n        \"dtype\": \"string\",\n        \"num_unique_values\": 13838,\n        \"samples\": [\n          \"Tumsa Nahin Dekha\",\n          \"Thanedaar\",\n          \"Farzande Hind\"\n        ],\n        \"semantic_type\": \"\",\n        \"description\": \"\"\n      }\n    },\n    {\n      \"column\": \"Year\",\n      \"properties\": {\n        \"dtype\": \"category\",\n        \"num_unique_values\": 102,\n        \"samples\": [\n          \"(1974)\",\n          \"(1963)\",\n          \"(1971)\"\n        ],\n        \"semantic_type\": \"\",\n        \"description\": \"\"\n      }\n    },\n    {\n      \"column\": \"Duration\",\n      \"properties\": {\n        \"dtype\": \"category\",\n        \"num_unique_values\": 182,\n        \"samples\": [\n          \"168 min\",\n          \"99 min\",\n          \"179 min\"\n        ],\n        \"semantic_type\": \"\",\n        \"description\": \"\"\n      }\n    },\n    {\n      \"column\": \"Genre\",\n      \"properties\": {\n        \"dtype\": \"category\",\n        \"num_unique_values\": 485,\n        \"samples\": [\n          \"Family, Mystery\",\n          \"Comedy, Fantasy, Musical\",\n          \"Action, Adventure, Crime\"\n        ],\n        \"semantic_type\": \"\",\n        \"description\": \"\"\n      }\n    },\n    {\n      \"column\": \"Rating\",\n      \"properties\": {\n        \"dtype\": \"number\",\n        \"std\": 1.3817771548659665,\n        \"min\": 1.1,\n        \"max\": 10.0,\n        \"num_unique_values\": 84,\n        \"samples\": [\n          1.4,\n          7.0,\n          2.9\n        ],\n        \"semantic_type\": \"\",\n        \"description\": \"\"\n      }\n    },\n    {\n      \"column\": \"Votes\",\n      \"properties\": {\n        \"dtype\": \"category\",\n        \"num_unique_values\": 2034,\n        \"samples\": [\n          \"837\",\n          \"101\",\n          \"2,566\"\n        ],\n        \"semantic_type\": \"\",\n        \"description\": \"\"\n      }\n    },\n    {\n      \"column\": \"Director\",\n      \"properties\": {\n        \"dtype\": \"category\",\n        \"num_unique_values\": 5938,\n        \"samples\": [\n          \"Param Hans Chitra\",\n          \"Vickram\",\n          \"Zaigham Ali Syed\"\n        ],\n        \"semantic_type\": \"\",\n        \"description\": \"\"\n      }\n    },\n    {\n      \"column\": \"Actor 1\",\n      \"properties\": {\n        \"dtype\": \"category\",\n        \"num_unique_values\": 4718,\n        \"samples\": [\n          \"Abhishek Bachchan\",\n          \"Giri Babu\",\n          \"Ajay Bafna\"\n        ],\n        \"semantic_type\": \"\",\n        \"description\": \"\"\n      }\n    },\n    {\n      \"column\": \"Actor 2\",\n      \"properties\": {\n        \"dtype\": \"category\",\n        \"num_unique_values\": 4891,\n        \"samples\": [\n          \"Bipasha Basu\",\n          \"Mukul Dev\",\n          \"Arjun Kapoor\"\n        ],\n        \"semantic_type\": \"\",\n        \"description\": \"\"\n      }\n    },\n    {\n      \"column\": \"Actor 3\",\n      \"properties\": {\n        \"dtype\": \"category\",\n        \"num_unique_values\": 4820,\n        \"samples\": [\n          \"Damandeep Singh\",\n          \"Kamini Kaushal\",\n          \"Babu\"\n        ],\n        \"semantic_type\": \"\",\n        \"description\": \"\"\n      }\n    }\n  ]\n}"
            }
          },
          "metadata": {},
          "execution_count": 33
        }
      ]
    },
    {
      "cell_type": "code",
      "source": [
        "imdb_df.shape"
      ],
      "metadata": {
        "colab": {
          "base_uri": "https://localhost:8080/"
        },
        "id": "w4yHGRpHW_7_",
        "outputId": "9d6579e5-6ad6-4ac7-c5a9-71f0130f0ca1"
      },
      "execution_count": 34,
      "outputs": [
        {
          "output_type": "execute_result",
          "data": {
            "text/plain": [
              "(15509, 10)"
            ]
          },
          "metadata": {},
          "execution_count": 34
        }
      ]
    },
    {
      "cell_type": "code",
      "source": [],
      "metadata": {
        "id": "STisZ8urXG20"
      },
      "execution_count": null,
      "outputs": []
    },
    {
      "cell_type": "markdown",
      "source": [
        "**Data Cleaning**\n",
        "\n"
      ],
      "metadata": {
        "id": "UO84IvnpXLbx"
      }
    },
    {
      "cell_type": "code",
      "source": [
        "imdb_df.isnull().sum()"
      ],
      "metadata": {
        "colab": {
          "base_uri": "https://localhost:8080/"
        },
        "id": "a5aDynEKXSTY",
        "outputId": "f7509e27-1e50-4e5e-d34b-272301b3f5b2"
      },
      "execution_count": 35,
      "outputs": [
        {
          "output_type": "execute_result",
          "data": {
            "text/plain": [
              "Name           0\n",
              "Year         528\n",
              "Duration    8269\n",
              "Genre       1877\n",
              "Rating      7590\n",
              "Votes       7589\n",
              "Director     525\n",
              "Actor 1     1617\n",
              "Actor 2     2384\n",
              "Actor 3     3144\n",
              "dtype: int64"
            ]
          },
          "metadata": {},
          "execution_count": 35
        }
      ]
    },
    {
      "cell_type": "code",
      "source": [
        "imdb_df.info()"
      ],
      "metadata": {
        "colab": {
          "base_uri": "https://localhost:8080/"
        },
        "id": "ExWtilLKXgOb",
        "outputId": "69e368d9-cd80-4ecf-fe29-afe74f38e063"
      },
      "execution_count": 36,
      "outputs": [
        {
          "output_type": "stream",
          "name": "stdout",
          "text": [
            "<class 'pandas.core.frame.DataFrame'>\n",
            "RangeIndex: 15509 entries, 0 to 15508\n",
            "Data columns (total 10 columns):\n",
            " #   Column    Non-Null Count  Dtype  \n",
            "---  ------    --------------  -----  \n",
            " 0   Name      15509 non-null  object \n",
            " 1   Year      14981 non-null  object \n",
            " 2   Duration  7240 non-null   object \n",
            " 3   Genre     13632 non-null  object \n",
            " 4   Rating    7919 non-null   float64\n",
            " 5   Votes     7920 non-null   object \n",
            " 6   Director  14984 non-null  object \n",
            " 7   Actor 1   13892 non-null  object \n",
            " 8   Actor 2   13125 non-null  object \n",
            " 9   Actor 3   12365 non-null  object \n",
            "dtypes: float64(1), object(9)\n",
            "memory usage: 1.2+ MB\n"
          ]
        }
      ]
    },
    {
      "cell_type": "code",
      "source": [
        "imdb_df.duplicated().sum()"
      ],
      "metadata": {
        "colab": {
          "base_uri": "https://localhost:8080/"
        },
        "id": "65ZDm1cOXoyj",
        "outputId": "bebd4268-6092-4709-cbf4-0d782b59bb97"
      },
      "execution_count": 38,
      "outputs": [
        {
          "output_type": "execute_result",
          "data": {
            "text/plain": [
              "6"
            ]
          },
          "metadata": {},
          "execution_count": 38
        }
      ]
    },
    {
      "cell_type": "code",
      "source": [
        "imdb_df.dropna(inplace =True)"
      ],
      "metadata": {
        "id": "QP5Clmy2X0Tz"
      },
      "execution_count": 39,
      "outputs": []
    },
    {
      "cell_type": "code",
      "source": [
        "imdb_df.isnull().sum()"
      ],
      "metadata": {
        "colab": {
          "base_uri": "https://localhost:8080/"
        },
        "id": "dXdlxd0HYBow",
        "outputId": "ac552dd5-6dde-4d5d-c688-d5c7ab38e876"
      },
      "execution_count": 40,
      "outputs": [
        {
          "output_type": "execute_result",
          "data": {
            "text/plain": [
              "Name        0\n",
              "Year        0\n",
              "Duration    0\n",
              "Genre       0\n",
              "Rating      0\n",
              "Votes       0\n",
              "Director    0\n",
              "Actor 1     0\n",
              "Actor 2     0\n",
              "Actor 3     0\n",
              "dtype: int64"
            ]
          },
          "metadata": {},
          "execution_count": 40
        }
      ]
    },
    {
      "cell_type": "code",
      "source": [
        "imdb_df.shape"
      ],
      "metadata": {
        "colab": {
          "base_uri": "https://localhost:8080/"
        },
        "id": "gIRRp39xYfVA",
        "outputId": "04c989eb-9d8a-45d5-9c28-7884e397c911"
      },
      "execution_count": 42,
      "outputs": [
        {
          "output_type": "execute_result",
          "data": {
            "text/plain": [
              "(5659, 10)"
            ]
          },
          "metadata": {},
          "execution_count": 42
        }
      ]
    },
    {
      "cell_type": "code",
      "source": [
        "imdb_df.columns"
      ],
      "metadata": {
        "colab": {
          "base_uri": "https://localhost:8080/"
        },
        "id": "cOaj_QxgYn8X",
        "outputId": "abfdcb3e-d5ed-4d00-d497-f60562b00951"
      },
      "execution_count": 44,
      "outputs": [
        {
          "output_type": "execute_result",
          "data": {
            "text/plain": [
              "Index(['Name', 'Year', 'Duration', 'Genre', 'Rating', 'Votes', 'Director',\n",
              "       'Actor 1', 'Actor 2', 'Actor 3'],\n",
              "      dtype='object')"
            ]
          },
          "metadata": {},
          "execution_count": 44
        }
      ]
    },
    {
      "cell_type": "code",
      "source": [],
      "metadata": {
        "id": "RL_HxCqcYv6-"
      },
      "execution_count": null,
      "outputs": []
    },
    {
      "cell_type": "markdown",
      "source": [
        "# Data Preprocsessing:\n",
        "\n",
        "\n",
        "```\n",
        "Data have to be processed to make more easier to derive insights from it and pre-processed will be more suitable while fitting the data into an algorithm\n",
        "\n",
        "\n",
        "*   In this task we have processed the data by coloum wise based on the requirment\n",
        "\n",
        "```\n",
        "\n"
      ],
      "metadata": {
        "id": "wUT3B1LJY2D7"
      }
    },
    {
      "cell_type": "code",
      "source": [
        "# Replacing the brackets from year coloumn\n",
        "imdb_df['Year'] = imdb_df['Year'].str.replace(r'[()]','', regex =True).astype(int)\n"
      ],
      "metadata": {
        "id": "BxyaETpYZtWf"
      },
      "execution_count": 57,
      "outputs": []
    },
    {
      "cell_type": "code",
      "source": [
        "#Remving the min word from 'Duration' column all values to numeric\n",
        "imdb_df['Duration'] =pd.to_numeric(imdb_df['Duration'].str.replace('min',''))\n"
      ],
      "metadata": {
        "id": "9jszEotJfYD9"
      },
      "execution_count": 58,
      "outputs": []
    },
    {
      "cell_type": "code",
      "source": [
        "imdb_df['Genere'] = imdb_df['Genre'].str.split(',')\n",
        "imdb_df = imdb_df.explode('Genere')\n",
        "imdb_df['Genere'].fillna(imdb_df['Genre'], inplace =True)"
      ],
      "metadata": {
        "id": "sIwAkc0OiuLa"
      },
      "execution_count": 60,
      "outputs": []
    },
    {
      "cell_type": "code",
      "source": [
        "#Convert 'votes' to numeric and replace the ,to keep only numeric part\n",
        "imdb_df['Votes'] = pd.to_numeric(imdb_df['Votes'].str.replace(',',''))"
      ],
      "metadata": {
        "id": "HMQv8l2rj66J"
      },
      "execution_count": 61,
      "outputs": []
    },
    {
      "cell_type": "code",
      "source": [
        "imdb_df.info()"
      ],
      "metadata": {
        "colab": {
          "base_uri": "https://localhost:8080/"
        },
        "id": "Q9Kz7WLmkMbW",
        "outputId": "9aef4626-696d-455a-d885-5ebc4d6fdf19"
      },
      "execution_count": 62,
      "outputs": [
        {
          "output_type": "stream",
          "name": "stdout",
          "text": [
            "<class 'pandas.core.frame.DataFrame'>\n",
            "Index: 11979 entries, 1 to 15508\n",
            "Data columns (total 11 columns):\n",
            " #   Column    Non-Null Count  Dtype  \n",
            "---  ------    --------------  -----  \n",
            " 0   Name      11979 non-null  object \n",
            " 1   Year      11979 non-null  int64  \n",
            " 2   Duration  11979 non-null  int64  \n",
            " 3   Genre     11979 non-null  object \n",
            " 4   Rating    11979 non-null  float64\n",
            " 5   Votes     11979 non-null  int64  \n",
            " 6   Director  11979 non-null  object \n",
            " 7   Actor 1   11979 non-null  object \n",
            " 8   Actor 2   11979 non-null  object \n",
            " 9   Actor 3   11979 non-null  object \n",
            " 10  Genere    11979 non-null  object \n",
            "dtypes: float64(1), int64(3), object(7)\n",
            "memory usage: 1.1+ MB\n"
          ]
        }
      ]
    },
    {
      "cell_type": "markdown",
      "source": [
        "# Data Vizulizing\n",
        "\n",
        "\n",
        "```\n",
        "# vizulizing is the part is done to show the relationship between the features present in the dataset\n",
        "\n",
        "In this project, we have used multiple charts the relationship within the components of data which involves in the result:\n",
        "```\n",
        "\n",
        "\n"
      ],
      "metadata": {
        "id": "5vDzoQuzkZo3"
      }
    },
    {
      "cell_type": "code",
      "source": [
        "# Here created a histogram\n",
        "year = px.histogram(imdb_df, x='Year', histnorm='probability density', nbins =30)\n",
        "year.show()"
      ],
      "metadata": {
        "colab": {
          "base_uri": "https://localhost:8080/",
          "height": 542
        },
        "id": "dp-Agj00kePq",
        "outputId": "fe6373dc-38ae-4c7f-931d-ae9ec5d9ca78"
      },
      "execution_count": 63,
      "outputs": [
        {
          "output_type": "display_data",
          "data": {
            "text/html": [
              "<html>\n",
              "<head><meta charset=\"utf-8\" /></head>\n",
              "<body>\n",
              "    <div>            <script src=\"https://cdnjs.cloudflare.com/ajax/libs/mathjax/2.7.5/MathJax.js?config=TeX-AMS-MML_SVG\"></script><script type=\"text/javascript\">if (window.MathJax && window.MathJax.Hub && window.MathJax.Hub.Config) {window.MathJax.Hub.Config({SVG: {font: \"STIX-Web\"}});}</script>                <script type=\"text/javascript\">window.PlotlyConfig = {MathJaxConfig: 'local'};</script>\n",
              "        <script charset=\"utf-8\" src=\"https://cdn.plot.ly/plotly-2.24.1.min.js\"></script>                <div id=\"0b7d0715-570c-4c14-990a-7fac16ff665d\" class=\"plotly-graph-div\" style=\"height:525px; width:100%;\"></div>            <script type=\"text/javascript\">                                    window.PLOTLYENV=window.PLOTLYENV || {};                                    if (document.getElementById(\"0b7d0715-570c-4c14-990a-7fac16ff665d\")) {                    Plotly.newPlot(                        \"0b7d0715-570c-4c14-990a-7fac16ff665d\",                        [{\"alignmentgroup\":\"True\",\"bingroup\":\"x\",\"histnorm\":\"probability density\",\"hovertemplate\":\"Year=%{x}\\u003cbr\\u003eprobability density=%{y}\\u003cextra\\u003e\\u003c\\u002fextra\\u003e\",\"legendgroup\":\"\",\"marker\":{\"color\":\"#636efa\",\"pattern\":{\"shape\":\"\"}},\"name\":\"\",\"nbinsx\":30,\"offsetgroup\":\"\",\"orientation\":\"v\",\"showlegend\":false,\"x\":[2019,2019,2019,1997,1997,1997,2005,2005,2005,2012,2012,2012,2014,2014,2014,2004,2016,1991,1991,1991,2012,2012,2012,2018,2018,2010,2010,2010,1958,1958,1958,2021,2021,2017,2017,2009,2009,2009,2005,1993,2002,2002,2014,2004,2008,2008,2008,2016,2016,2012,2012,2012,2018,2018,2018,1994,1994,1994,2007,2007,2007,2019,2017,2012,2012,2012,2003,2003,2003,2014,2014,2014,2018,2018,1998,1998,1998,2017,2018,1979,1979,2019,2002,2002,2002,1974,2014,2014,2012,2012,2003,2003,2019,2009,2009,2018,2015,2015,2015,2015,2015,2006,2006,2006,1981,1981,2020,2020,2019,1985,2013,2013,2013,2019,2011,2011,2011,2016,2012,2012,2012,2012,1974,1974,2011,2011,2011,2014,2007,2005,2005,1988,2016,2016,2006,2011,2011,2011,1987,1987,1987,2019,2019,2019,2019,2009,2009,2009,2021,2021,2021,2003,2003,2017,2009,2009,2009,2019,2019,2005,2005,2016,2017,2016,2016,2005,2005,2010,2010,2010,2016,2016,2016,2020,2020,2017,2017,2019,2019,2013,2013,2016,2005,2005,2019,2008,2008,2008,1999,1999,1999,2018,2009,2009,2009,1973,1973,1973,1994,1994,2017,2016,2004,1968,1968,1968,2018,1982,1982,1982,1977,2019,1982,2013,2013,2013,1950,1950,1968,1968,1993,1993,1993,1991,1969,1969,1969,1993,1993,2009,1977,1977,2016,1977,1977,1948,1948,1994,1994,1994,1994,1987,1990,1990,1993,1988,1988,1989,2001,2009,2009,2009,2000,2000,2000,1953,1953,1953,1978,1978,1993,1993,1977,1987,1963,1963,2003,1990,1990,1990,1985,1985,1992,1992,1976,1976,2000,2000,1991,1991,1984,1984,1988,1988,1990,1984,1984,1984,1993,2007,2007,2007,1968,1968,1986,1986,1986,1988,1988,1989,1989,1989,1989,1989,1989,1989,1989,1989,1979,1979,1966,1990,1990,1997,1975,1975,1975,1980,1980,1980,2010,2010,2010,2012,2001,2001,2007,2018,2018,2001,2001,2001,2008,2008,2008,1967,1967,1967,1982,1982,1982,1984,1970,1970,1970,2004,2004,2004,2003,1980,1980,1980,1975,1975,1985,1952,1990,2019,1993,1993,1993,2002,2002,2002,1972,1972,1970,1970,1970,1994,2009,2009,2009,1971,1971,1971,1976,1976,1974,1974,1977,1977,1977,2006,2006,1964,1964,1964,2002,2002,2002,1980,1980,1980,1981,1981,2003,2003,2003,1985,1997,2011,2011,1974,1954,1954,1954,1962,1962,1962,2007,2007,2007,1999,1999,1957,1957,1980,1980,1980,2010,1962,2001,2001,2001,2005,2005,2005,1977,1990,1990,1990,2013,2013,2013,2011,2011,1968,2014,2018,2018,2018,2009,1984,1984,1965,1992,1992,1992,1993,1966,1966,1997,1996,1996,1995,1995,1995,2006,2006,2006,1979,1994,1994,1994,2006,2006,2006,2013,2013,2013,1998,1998,1974,1974,1956,1964,1964,1964,1999,1966,1966,2011,2011,2011,1995,1995,1995,1984,1957,2012,1995,1995,2004,2004,2004,2015,2015,2015,1994,1994,2004,2004,2004,2004,2004,2013,2013,1980,1980,1980,1955,1955,1955,1995,1977,1977,1977,1968,1968,1973,1973,1991,1991,1991,1989,1989,1989,1970,1970,1984,2010,2010,2010,1973,1973,1998,1998,1998,1936,1936,1936,2009,2009,2009,2019,2019,2019,2014,2014,2014,2010,2010,2010,2010,2010,2010,1958,1958,1958,1976,1976,1976,1965,1965,1965,1954,1954,1954,2001,2001,2007,2010,2010,2010,1983,1983,1955,1990,1990,1990,2017,2017,2017,1983,2019,1978,1980,1980,1980,1985,1985,1985,2016,2016,2016,2004,2004,2004,1997,1997,1997,1986,1986,1966,1966,1951,1951,2001,2001,1991,1991,1950,1950,2014,2014,1983,1983,1972,1972,1972,1977,1977,1977,2012,2012,2012,1985,1985,1988,1988,1988,1997,1990,1990,1990,1990,1990,1990,2012,2012,2012,1997,1981,1981,1996,1996,1996,1997,2000,2002,2002,2002,1980,1980,1980,2009,2009,2009,2019,2019,1995,1979,1979,1981,1981,2006,2006,1979,1979,2016,2016,2015,2010,2010,2010,1996,1996,2009,2009,2009,1985,1985,2004,2004,2004,2018,2018,2018,2012,2012,2012,2012,2009,2009,2009,2017,1974,1974,1996,1996,1996,2021,2021,2017,2001,2001,2001,1991,1991,1991,2004,2004,2020,2020,2020,2013,2013,1965,1991,1991,1991,1979,1979,1979,2014,1995,1999,2002,2002,1989,1989,2001,2001,2001,2006,2006,2006,2017,2017,2017,1977,1977,1952,1952,2009,2009,2009,1985,1985,1985,2006,2006,2006,2019,1973,1979,1979,1979,2001,2001,2001,1951,1951,1951,1980,1980,1980,2019,2019,1966,1966,1966,1954,1954,1954,1977,1977,2017,1953,2015,2015,2015,2015,2015,2020,1984,1984,2009,2009,2009,2010,2010,2010,1997,1986,1986,2015,2011,2011,2011,1994,1994,1967,1967,1967,2016,1975,1975,1954,1954,1954,1958,1958,1936,1972,1972,1972,2020,1961,1978,1978,1978,1977,1977,1977,2019,2019,1990,1952,1952,1952,2013,2001,2001,2001,1974,1974,1990,2014,2014,1986,2001,2001,2001,2021,2021,1966,1966,1986,1986,2005,1967,1967,1967,2016,2016,2017,1973,1973,1973,1971,1971,1952,1952,1952,1977,1977,1959,1959,1959,1993,1993,1993,1975,1975,1999,1953,1953,1953,2016,2016,2003,2003,2003,1949,1949,1949,1971,1971,1994,1994,1994,1994,1994,1994,1990,1990,1985,1985,1985,1983,1983,2018,2018,2018,1975,1975,1975,1986,1986,1984,1984,1995,1995,1995,1992,1992,1992,1996,1996,1998,1998,1998,2011,2011,1982,2005,1995,1995,2020,2020,2015,2015,1960,1960,1960,1952,1952,1952,1973,1973,1973,1967,1967,1967,1987,1994,1994,1969,2010,2010,2010,2005,1969,1969,1969,2003,2003,2003,2009,2009,2009,1985,2006,2006,2006,1968,1968,1968,2013,2013,1997,2013,2013,1974,1986,1986,1993,1993,1993,1946,1946,1946,1982,1978,1978,2016,1971,1992,1992,1975,1975,1975,1989,1982,1972,2000,2000,2006,1948,1948,1948,1973,1973,1968,1968,1968,1962,1962,1962,2002,2002,2002,1969,1969,2008,2008,1991,2021,1994,2006,2006,1971,2003,1966,1966,1972,1960,1960,2006,2006,1977,1977,2007,2007,2007,2015,2015,2015,1993,2005,2005,2005,2010,2010,2010,2007,2007,1960,2006,2006,2006,1977,1977,2007,2007,1996,1996,1975,1975,1975,1980,1980,1980,1975,1975,1972,1972,1972,1974,1957,1964,1964,1964,1969,1969,1969,1994,1983,1983,1985,1985,1985,2001,2001,2001,1999,1999,1999,2019,2019,2012,2012,2012,1953,1953,2003,2003,2003,1996,1996,2010,2010,2010,1967,1967,1983,1983,1982,1982,2019,2019,2019,1978,1988,1988,2006,2006,2006,1950,1950,1965,1965,1965,2004,2004,2004,2012,2012,2018,2018,1984,1984,1984,1993,1993,1952,1952,2017,2010,2018,2001,2001,2001,1986,1962,1962,1962,2000,2020,2012,2012,2018,2020,2005,2005,2005,2007,1990,1990,1978,1978,2020,2010,2020,2020,2013,2013,2013,1968,1968,1993,1998,1998,1998,1979,1979,1979,2007,2013,2013,2013,1940,1967,1967,1988,1998,2016,2016,2010,1997,1997,1997,1978,1987,1987,1987,1986,1986,1986,2017,2017,1983,1951,1951,1951,1990,1984,1984,1984,1964,1964,1964,2002,2002,2002,2007,2007,2007,2020,2016,2019,2019,1969,1969,1982,1964,1964,1991,2000,2000,2000,2001,1955,1955,1955,1978,1978,1978,1990,1990,1940,2016,2016,2016,2017,2012,2012,2012,2017,2021,2021,2018,2018,2018,2009,2009,2009,2006,2006,2006,1999,1999,1999,2017,2017,2017,2000,2000,2000,2016,2016,2016,2018,2018,2020,2020,2020,1990,1990,1990,2001,2017,2019,2015,1990,1990,1990,1955,1955,1955,2016,2016,2016,2017,2017,1957,1957,1957,2018,2012,2012,2012,1986,2013,2013,1962,1962,1962,1953,1953,1953,2003,2003,2018,2018,2018,1951,1951,1951,1968,1968,1968,1984,1995,1995,1995,1993,1993,1993,1972,1972,1972,2014,2014,2014,1985,1985,1950,1986,1985,1985,2017,2017,2017,2015,2015,2008,2008,2008,2005,2005,2005,2008,2008,2008,1970,1970,1970,2017,1984,1984,2003,2009,2009,2009,1973,1973,1973,1951,1951,1966,1966,1966,2000,2000,2000,1978,1978,1983,1983,1983,1999,1999,1999,1989,1998,1998,1998,2018,2018,2002,2002,2002,1987,1993,1993,1969,1969,1969,1945,1945,1986,1974,2019,2019,2019,1980,1980,2015,2015,2015,2014,1982,1982,2010,2010,2010,1998,2016,2016,2015,2015,2019,1971,2017,2017,2017,2013,1989,1982,1982,1938,2003,2003,2019,1990,1951,1966,1966,1967,1967,1968,2019,1941,1967,1967,1967,1965,1965,1985,1964,1954,1954,1954,2020,2020,2020,1952,1952,1952,2021,2013,2013,2013,2015,2015,2015,1976,2015,2015,2015,1996,1996,2015,2017,2019,1985,1985,1971,1976,1976,1976,2012,2017,1968,1992,1992,2014,1968,1968,1968,2020,2006,2006,2009,1997,1973,1973,1962,2010,2010,2010,1990,1990,1990,1998,1998,1998,1969,1969,1969,1983,1983,1973,1973,1992,1957,1957,1963,1963,1963,1955,1955,1955,1980,1980,1980,1994,1994,1994,2013,2013,2014,2014,2014,2015,2015,1991,1991,2016,2016,2016,2017,2017,2017,2021,1950,1955,1955,2009,2009,2009,2005,2005,2004,2004,2004,2015,2015,2015,2012,2012,2012,1959,2015,2015,1976,1976,1976,1998,1998,1998,2019,2019,1949,1949,1949,1995,1995,1981,1981,1960,1960,1960,1998,2006,2006,2006,2001,2001,2001,1942,1942,1960,1960,1960,1956,1956,1956,1981,1981,2019,2019,2019,1979,1979,2019,2018,1989,1989,2000,1972,1972,1972,1950,1950,1949,1949,1982,1982,2014,2011,2011,2011,1993,1993,1993,1993,1993,2013,1962,1962,1962,1989,1989,2016,2016,2016,2017,2017,2017,2017,2005,2016,2016,2016,1972,1972,1983,1983,1992,1992,1992,1982,1982,1974,1974,1974,1999,1999,1999,1964,1964,2001,2001,2010,2010,1985,1985,1980,1980,1980,1981,1981,1981,1978,1978,2013,2013,2013,1992,1992,1983,1983,1997,1997,1994,1994,1969,1964,1964,1964,1952,1952,1995,1995,2005,2005,1985,1985,1992,2017,2014,2014,2014,1960,2015,2015,2015,2013,2013,2013,2017,2017,1982,1982,2015,2015,2015,2015,2015,2013,2013,2013,2018,1991,1991,1991,1957,1961,1961,2018,2018,2013,1956,1956,1956,2006,2006,2006,2001,2005,2005,2005,2005,2005,1986,1986,1970,1985,1985,1985,1994,1997,1997,1969,1969,1997,1972,1972,1972,2000,2000,1959,1959,1956,2001,1994,1994,1994,1996,1996,1996,1980,1980,1980,1979,1979,1979,1976,1976,2001,2001,2017,2017,2017,2020,2020,2020,1976,1976,2017,2019,2019,2019,2002,2002,2002,1942,1942,1942,2017,1985,1985,1985,2018,2018,2018,2010,2010,2010,1981,1981,1998,1988,2003,1982,1965,1965,1965,2007,2007,2011,2011,1935,2011,2011,2011,2016,2012,2012,2012,2018,1984,2001,1958,1958,2007,2007,2007,2017,2017,2017,2003,2003,2003,2010,2010,2010,1965,1965,1965,1999,2012,2012,2012,2020,2020,2020,2014,2014,2014,2008,2008,2008,1963,1999,2014,2011,2011,2011,2018,2016,1989,1989,1989,2011,2011,2011,1977,1969,1969,2000,2000,2000,1974,1974,1974,1937,2007,2007,2007,2012,2000,1982,1982,1982,1989,1989,1989,2009,2009,2018,1963,1963,1963,2011,2011,2011,1980,2013,1984,1984,2001,2017,1966,1954,2017,2017,2017,2019,2012,1966,1988,1988,1999,1999,1999,1981,1981,2005,2008,2008,2008,1959,1959,1959,2004,2004,2004,2015,2015,1971,1971,1971,2020,2019,2019,1973,1973,1973,2005,2005,2005,2018,2018,2019,2019,2012,2012,2012,2009,2009,2009,2017,2017,2017,2009,2013,2013,2013,1963,2005,2005,2005,1973,1973,1973,2014,2014,2014,2005,2011,2011,2011,2017,2017,2012,2012,1992,1992,1992,2016,2016,2014,2011,2009,2009,2009,1993,1993,1960,1960,1960,2019,2019,2019,1980,1980,1998,1998,1998,2019,2019,2019,2013,2008,2008,2008,1972,1972,1972,2015,2015,2015,2001,2001,2003,2003,2001,2001,2001,1954,1954,1954,1997,1997,1997,2002,2013,2013,2013,2021,1965,1961,1961,2018,1968,1968,1968,2010,2010,2010,2011,2011,2011,2015,2015,2015,2004,2004,2004,2018,2018,2018,2015,2015,2015,2001,2011,2017,2017,2017,2016,2016,2007,1971,1971,1971,2016,2016,2016,1966,1966,1966,2000,2000,2020,2020,2020,2018,2014,1976,1976,1976,2005,2005,2013,2013,2013,2012,2010,2010,2010,2015,2020,2020,2005,2005,2005,2005,2005,2019,2019,2019,2008,2008,2008,2005,2005,2005,1956,1956,1956,1967,1967,1967,2019,2019,2019,2013,2003,2003,2003,2015,2000,2000,2000,2017,2007,2007,2007,1986,1986,1991,1991,2020,2020,2020,1986,1971,1971,1971,2009,2009,2019,2019,2019,2007,2007,2007,2009,2009,2009,2015,2012,2001,1996,1996,2005,2005,2005,1989,1989,1989,2003,2012,2012,1994,1994,1994,1977,2012,2012,1985,2016,2014,2014,1977,1977,1977,1997,1997,1997,2019,2019,2004,2007,2007,2007,2007,2007,2007,1977,1977,1977,1981,2012,2012,2012,2012,1978,1978,1978,2014,2009,2009,2009,2015,2000,2000,2012,2012,1977,1977,1977,2011,2011,2003,2016,2012,2011,2011,2002,2002,2002,1977,1977,2003,2003,1976,1976,1958,1958,1958,2020,2020,1992,1992,1992,2003,1986,1986,1986,2008,2008,2008,2000,2000,2000,2019,2019,2019,2010,2010,2010,1959,1965,1965,1965,2005,2005,2006,1967,1967,1967,2005,1969,1999,1967,1989,1989,1989,2001,2001,1948,1993,1993,1993,2007,2007,2007,1935,1984,2002,1957,1957,1957,1980,1961,1961,1955,1955,1955,1975,1976,1976,1976,2004,2004,2004,1974,1974,2015,2010,2010,2010,2013,2013,1981,1981,1981,1983,2011,2011,2011,2017,1994,1994,1994,2014,2018,2007,2007,2007,2017,2017,2017,2015,2005,1981,1981,1981,1992,1965,1965,2013,2013,2013,1970,2005,1981,1981,1981,1977,1977,1977,2020,2020,1960,1960,2020,2020,2019,1952,1952,1961,1961,2019,2019,2007,2007,2012,2012,2012,2013,2016,2013,2013,2013,2019,2019,2019,1998,1998,1998,1996,1961,1961,1961,1996,1996,1996,1959,1971,1971,1976,1976,1967,1967,2001,2001,2001,2016,2016,2016,2019,2005,2005,2005,2018,2018,2018,2016,2014,2014,2014,2011,2011,2011,1998,1998,1998,1962,1962,1962,2015,2006,2006,2006,2006,2009,2009,2020,2020,2016,2019,1976,1976,2011,2011,2011,2012,2012,2012,2005,2005,2005,2020,2000,2019,2019,1993,1993,1993,2015,1954,1954,2013,2013,2013,2002,2002,2002,1974,1974,1974,1990,1990,1977,1977,1977,1956,1956,1956,2003,2003,2003,1972,1972,2001,2001,2001,1975,1975,1975,1982,1982,1980,1975,1975,2003,2020,2019,2019,1974,1997,2016,2016,2006,2006,2006,1975,1975,1975,2003,2003,2003,2003,2003,2003,2015,2014,2014,2010,2010,2020,2020,2020,1989,1989,1989,2010,2010,2010,2013,2016,2016,2016,2012,2012,2012,2015,2008,2008,2008,2006,2020,2020,1988,1988,1988,2013,2013,2013,2017,2017,2017,2019,2019,2019,2002,2002,2002,1974,1974,1974,1986,2021,2021,2008,2008,2008,2020,2009,2009,1983,1983,1983,1995,1995,1995,1991,1991,1991,2020,2020,2020,2006,1992,1992,1992,2014,2020,2000,2011,2011,2011,2016,2016,2014,2014,2014,1994,1994,1994,2010,2010,2010,2016,2016,2016,1992,2011,2011,2019,2019,2005,2005,2005,2021,2021,2021,1997,1997,1997,1966,1966,1966,1953,1952,1952,1973,1973,1973,1999,1999,1999,1964,1964,2012,2005,2005,2018,2018,1997,1997,1997,2019,2014,2014,2014,2010,2010,2010,2010,2010,2010,2012,2012,2012,2019,2019,2019,1987,1987,1979,1979,1979,1999,1980,1980,2017,2017,2017,2009,2009,2017,1975,1975,2015,2015,2015,1998,1950,1999,1999,1999,1986,1986,1977,1977,2000,2000,2000,2000,2000,2000,2000,1993,1993,2011,2011,2011,1978,2011,2011,2011,1993,1993,1985,1987,1987,1987,1997,1997,1995,1995,1995,1991,1991,1991,1998,2016,2016,2016,2012,2012,2012,2019,2019,2005,2018,1996,1996,1996,2020,2020,2020,1982,2005,1988,2019,2019,2007,2007,2007,1997,2003,2006,1949,1949,1949,1970,1970,1993,1993,1993,2014,2014,1978,2002,2006,2006,2006,2008,2008,2018,2018,1972,1972,1972,1996,1996,1970,1950,1950,1950,2008,2008,2001,1997,1997,1997,1982,1982,1982,1992,1992,1992,2013,2013,2013,1975,1988,1988,1988,2017,2016,2013,2013,2009,2009,2009,2019,2019,2019,2008,2008,2008,2016,2016,2006,2006,2016,2016,2017,2017,2018,2014,2014,2016,2016,1987,2014,2014,2014,1992,1992,1951,1951,2001,2001,1976,1976,1976,1975,1975,1975,1992,1992,1992,2013,2013,2013,1997,1997,1990,1990,1990,1987,1987,2000,2000,2005,2005,2005,2002,2002,2002,2007,2009,2009,2009,1957,1957,2014,1985,1985,2018,2011,2011,2011,2011,2011,2012,2012,2012,2009,2012,2012,2012,2012,2007,2007,2007,2002,1980,2008,2008,1982,1982,1982,1991,1991,1991,2011,2011,2014,1958,2015,2015,2015,2009,2009,2009,2004,2009,2009,2005,1966,1966,1966,1978,1978,2002,2002,2002,1936,1936,1955,1955,1955,2002,2002,2002,2019,2004,2004,2004,2019,2019,2019,2019,1956,1956,1998,2018,2000,2000,1997,1997,2018,2018,2000,2000,2006,2006,2006,2007,2007,2007,1973,1973,1973,1980,2007,2007,1993,1993,1993,1981,1981,1981,2008,2008,2016,1975,1975,1991,1991,2015,1977,1977,1977,1992,1992,1986,1986,1986,1997,1997,1975,1975,1975,1961,2011,2011,2011,1950,1950,2017,2017,2001,2001,2020,2010,2007,2007,2007,2007,2007,2007,1951,1951,1979,1979,1979,1959,2004,2004,2004,2006,2006,2006,2013,2013,2013,2008,2008,2008,2009,2009,2003,1975,1989,1989,1981,2002,2002,2002,1973,1973,1973,2003,2003,2003,2019,2019,2019,1982,1982,1982,1940,1940,2012,1989,1989,1991,1990,1990,1990,1992,1992,1978,1978,1978,1968,2020,2020,2020,2009,2009,2009,2001,2001,2001,1959,1959,2015,2015,2015,1974,1974,1966,1966,1966,2006,2006,2006,2007,2007,2007,1963,1963,1963,1993,1993,1993,1991,1991,1991,2002,2002,1963,1963,1963,1992,1992,2005,2005,2017,2018,2018,1992,1992,2003,2003,2003,2014,2014,2014,2008,2008,2005,2005,1993,1993,1999,1999,1999,2004,2004,2004,2004,1967,1967,2003,2003,2000,2016,1998,1998,1993,1993,1993,1962,1962,1996,1996,1997,1997,1997,2011,2011,2011,2016,2016,1987,2002,2002,2002,1982,1994,1994,1977,1977,1977,1953,1987,1987,1996,1996,1996,1947,1947,1999,1999,1999,1966,1966,1966,2015,2015,1950,1950,1950,1986,1986,1986,1994,1994,1994,2015,2015,2015,1995,1995,1980,2016,2016,2016,2015,1982,1982,1982,1990,1990,1990,2014,2014,2016,2016,2016,1984,1984,1993,1993,1967,1967,1976,1957,1957,1957,1980,1980,1980,1969,1969,1969,1953,1971,1971,2015,1982,1982,2010,2010,1968,1968,1972,1975,1975,1968,1968,1968,2009,2009,2016,2016,2016,1978,1978,1978,1974,1974,1998,1958,1958,1974,1974,1974,1980,1980,1989,1989,1969,1969,1971,1977,1959,1959,1959,1988,2014,2017,2017,2004,2004,1940,1969,1969,1998,1998,2015,2015,2019,2019,2019,2019,2006,2006,2006,1978,1978,1978,2011,2011,2011,2008,2008,2016,2016,2016,2006,2006,2006,1990,1990,1990,2017,1964,1964,1971,1964,2020,2020,1977,1977,1977,1983,1983,2006,2007,2007,2007,1974,1989,1964,1964,1964,1986,1986,2019,2005,2005,2005,2011,2011,2011,2018,2015,2014,1947,1947,1947,1999,2013,1931,2014,2014,2019,2019,2009,2009,2009,2013,1990,2015,2015,2015,2019,2019,2019,1994,1994,1992,1992,1992,2003,1994,1994,2015,1949,1949,1964,1964,1964,2010,2010,2010,2016,2016,2016,1967,1967,1967,2000,2000,2000,1977,1977,1977,1998,2003,2003,2003,2015,2015,2015,2011,2011,2011,1984,1984,1979,1979,1937,2015,2015,2010,2010,1998,1998,1998,2002,1983,1983,1983,2002,2020,2020,2007,1966,1966,1966,1976,1976,1976,2010,2010,1998,1998,1998,1990,1990,1957,1996,1992,1992,1995,1995,1995,1971,1973,1973,1973,2009,2009,2009,1998,1998,1998,2014,2012,2012,2001,2001,2019,2019,1994,1994,1994,1989,1989,1989,2001,2001,2019,2019,2019,1946,1946,2018,1972,2005,2005,2005,2000,2003,1981,1981,1986,1986,1978,1978,1983,1980,1980,1980,1980,2020,1972,1972,1986,2007,2007,2007,2002,1985,1985,1963,1963,1963,2003,1989,1990,1990,1981,1981,1981,1957,1991,2017,1972,1972,1972,2004,2004,2004,1981,1981,1981,1993,1992,1992,1983,1983,1968,1968,1968,2005,2005,2005,2007,2007,1992,1992,2019,2019,2019,1986,2012,2012,2012,1970,1990,1990,1990,1971,1971,1971,2015,2015,2015,1986,1960,1960,1960,1969,1969,1969,1968,1968,1968,1963,1957,1957,1957,2020,2020,1965,1965,1965,1976,1976,1976,2004,2004,2009,2009,2009,1969,1969,2000,2015,2018,2018,1996,1996,2012,2012,2012,2013,2013,2013,1949,2009,2008,2008,2009,2009,2009,1956,2012,2012,2018,2014,2007,2007,2007,2019,2019,2019,2019,1994,1994,1994,1971,1971,1971,2005,2005,1947,2008,2008,2008,1984,1984,2005,2005,2005,2002,2002,2020,2020,2012,2012,2012,2003,2003,2003,2007,2007,2007,2018,2001,2001,2001,2020,2020,2020,2015,2015,2015,2011,2011,1985,1985,2019,2019,2013,2013,2013,1976,1976,1976,1988,1988,1988,2019,2019,2019,2019,2019,2006,2006,2006,2017,2016,2016,2016,2006,2006,2006,1975,1975,1975,1965,1965,1983,1983,1996,1996,1996,2005,2005,1977,1977,1967,1967,1967,1989,1957,1957,2008,2008,2009,2009,2009,2019,2019,1933,1933,1943,2012,2012,2012,2021,1963,1963,1963,2016,2016,2016,2012,2012,2012,1954,1954,2016,2016,2004,2004,2004,1981,1981,1981,2006,2006,2002,2002,1983,1983,1983,2005,2012,2019,2014,2014,2014,2008,2008,2008,2017,2017,1996,1996,2013,2013,2021,2010,2013,2013,2015,2015,1991,1990,1990,1990,2016,2016,2000,2000,2000,2014,2017,2017,2017,2021,2021,2016,2007,2007,2007,2007,1953,1953,1953,2020,2020,2003,2003,2003,2011,2011,2011,2016,2016,2016,2007,1959,2015,2015,2015,2012,2009,2009,2009,2019,2019,2016,2016,2016,2016,2018,1980,1980,1980,2008,2008,2008,2007,2009,2009,2009,2018,2018,2016,2016,2014,2014,2013,2013,2013,2020,2020,2020,2017,1960,1960,1960,2005,2012,2017,1973,1973,1966,1966,1966,2015,2015,2015,2007,2001,2001,2001,1995,1995,1995,2006,1999,1999,1989,1989,1989,2000,2000,2004,2012,2012,2012,2009,1978,2004,2004,2004,1971,1971,1971,1995,1995,1995,1993,1993,1993,2011,2011,2011,2007,2007,2007,2017,2017,2017,2018,1982,1982,1982,2011,2011,2011,2007,2007,2007,2016,2016,2016,1986,1986,1986,2000,2000,2000,2014,2014,2016,2006,2006,2006,1980,1978,1978,1983,1988,1988,1988,2003,2003,2003,2013,2013,2012,2012,2012,2006,2006,2006,1984,1984,2018,1972,1972,1972,2005,1955,1972,1972,1972,2005,2018,2018,1993,1993,1993,1974,2011,2014,1968,1968,2007,2007,2007,2016,1979,1979,1979,2002,1989,2004,2004,2004,1992,1975,1975,1975,1993,1980,1980,1973,1973,1973,2002,2002,2002,1986,2018,2018,1989,1989,1989,1985,1985,2008,2008,2008,2013,2013,2013,1978,1978,1963,1963,1998,1998,1998,1985,1984,1988,1988,1970,1970,2004,2004,1990,1992,1992,1989,1967,1987,1987,1948,1948,1988,1988,1988,1961,1961,1961,1977,1977,1998,1976,1976,1996,1996,2008,2008,1990,1990,1990,2016,2016,2016,1982,1982,1982,1992,1992,2019,2019,2020,1997,1997,1997,2012,2019,2019,2020,2020,1998,1998,1998,1973,1973,1956,1956,1997,1997,1997,1985,1985,1981,1981,2007,1984,2020,2020,2020,2013,2013,2004,2000,2016,2007,2007,2007,2013,2013,2013,1968,1968,2019,2008,2008,2008,1963,1983,1999,1999,1999,2018,2018,2018,1968,1968,1968,2010,2010,2010,2010,2010,2017,2017,2017,2008,2008,2008,2006,2006,2006,2019,2019,2007,2007,2019,2008,2008,2008,1989,1989,1989,1959,1959,2013,2013,2013,1979,1970,1970,1970,1994,1994,1994,1982,1982,1948,1972,1972,1972,2013,2013,2013,2015,2015,1993,1993,1993,2017,2001,2001,1963,1963,2013,2013,2013,2016,2016,2016,2012,1979,1979,1971,1971,1971,1995,1995,2015,2015,2015,1997,1997,1997,2017,1965,1965,1965,2020,2020,2020,2020,2020,2014,2014,2009,2009,2009,2012,2020,2020,2019,2019,2019,1965,1965,1965,2008,2008,2019,2019,2019,1963,1963,1993,1993,1993,1993,1993,2002,2002,2002,1970,1967,1990,1988,1969,1969,1969,1998,1998,1998,1995,2014,2014,2014,1995,1961,1961,1961,2020,2020,2020,2020,2019,2019,1997,1997,1997,2016,2016,1989,1980,1980,1980,2003,2007,1988,1988,2010,1981,1981,1993,1993,1993,1969,2015,2015,2015,2010,2010,1962,2008,2008,2002,2002,2002,2003,2003,2003,2011,1974,1974,2002,1971,1971,1971,1982,1982,1982,1995,1995,1995,1986,1986,1986,1990,1990,1990,2020,2000,2000,1998,2014,2016,2015,2014,2014,2014,2011,2011,1984,1984,1984,1977,1977,1977,2020,2020,2020,1956,1956,1956,2017,2017,2021,2021,1962,1962,1962,2018,2018,2008,2008,1996,1996,1956,1978,2000,2000,2000,1985,2018,2018,2018,2015,2015,1997,1997,1997,2018,1967,1967,1967,1963,1963,1944,1944,2004,2004,2004,1979,1979,2012,2019,1984,2005,2017,2017,1974,2019,2019,2016,2016,2014,2014,2020,2020,2011,2011,2014,2014,2014,2018,1964,1964,1964,1985,1985,1995,1995,1995,1991,2000,2000,2000,1979,1979,1979,1950,2018,2015,2015,2020,2020,2020,1967,1967,1967,1971,1971,1976,1976,1976,1982,2004,2004,2008,2008,2008,2000,2000,1962,1962,1962,2014,2014,2018,1999,1999,1999,1968,1968,1968,1971,1971,1971,1993,2012,2012,2014,2014,2015,2015,2018,2018,2018,1967,1989,1989,2002,2002,2002,2007,2007,2007,1988,1988,1988,2004,2004,2004,1998,1991,2011,2011,2011,2020,2004,2003,2003,2003,2014,2014,2014,2015,2015,2004,2004,2004,2003,2003,1968,1998,2003,2014,2014,2014,1970,1970,1970,1992,1992,1999,1999,1999,1982,2018,2008,2008,1999,1999,1999,2021,2010,2010,2010,2010,2016,2016,2016,2010,2010,2010,2010,1991,1991,1991,1976,1976,1976,2000,2000,2000,1964,1983,1983,1983,2015,2015,2015,1998,1998,1998,1988,1988,1988,1997,1997,1997,2008,2008,2008,2012,2014,2014,2015,2015,2015,2000,2000,2000,2018,2007,2007,2018,2018,2010,2010,2010,1987,1987,2018,2014,2014,2014,2008,2008,1965,1965,1965,1970,1970,1970,1996,1996,1996,1987,1987,1987,1996,1996,1983,1983,1983,1998,2013,2013,2013,2017,2017,2017,2017,1973,1973,1973,2002,1977,1987,1987,1987,2010,2010,2010,1988,1988,1988,2004,2004,2004,2015,2015,1999,1999,1999,1985,1985,1970,1970,2014,2014,2003,2003,2005,2005,2020,1973,1973,1973,1992,1992,2007,2007,2007,2018,2018,2018,2017,2013,1985,1985,1985,2011,2011,2011,2006,1999,1999,1999,1981,1981,2017,2018,2018,2018,2018,2018,2016,2016,2019,1991,2000,2000,2009,2010,2010,2012,2012,2012,2016,2016,2016,2019,2019,2019,1958,1958,1999,1987,1987,1995,1995,1995,1971,1971,1971,2004,2004,2004,2008,2008,1991,1991,1991,1999,1999,1994,1994,1994,1989,1989,1989,2019,1999,1999,1999,1985,1985,1985,1961,1961,1961,1995,1995,1995,1946,2014,1994,1994,1994,1993,1993,1993,1993,1993,1993,2001,2001,2001,2004,2004,2004,2002,2002,2002,1977,1977,1977,1951,1980,1980,1980,1985,1985,1980,1980,2002,2002,1999,1999,1995,1995,1995,1983,1990,1990,1990,1988,2000,2000,2000,2004,2004,2004,2010,2010,2010,2005,1971,2015,2015,1999,1999,1999,2011,2011,2011,2002,2002,1945,1945,2019,2019,2019,2003,1980,1980,1980,2006,2006,2006,2006,2007,2014,2014,2014,2002,2002,2002,1983,1974,1974,1974,2014,2014,2014,2003,2003,2003,2015,2015,2018,2018,2018,1998,1998,1998,2006,2019,2004,2004,2004,2010,2010,2010,2019,2010,2010,2010,2015,2015,2020,2020,2015,2018,2018,2018,2005,2013,2010,2010,2010,2020,2015,2015,2006,2006,2006,2013,2013,2013,2012,2018,2018,2014,2014,2014,2010,2010,2017,1994,1994,1989,1989,1986,1986,1954,1954,1954,2007,1974,1987,1987,1987,1977,1977,1994,1994,1994,1974,1974,1994,1994,2012,2017,2017,2003,2003,2003,2001,2001,2001,2015,2015,2015,2015,2015,2015,2019,2019,2019,1996,2020,2020,1958,1932,1932,1989,1989,2017,2017,1977,1977,2013,2013,2013,1984,1984,1984,1935,1966,1966,1966,1994,1994,1986,1986,1997,1997,1997,2004,2004,1982,1982,1982,1959,1959,1959,1974,1974,1980,1980,2005,2005,2005,1994,1994,1994,1955,1955,1955,1987,2012,1991,1991,1991,1991,1991,2018,1969,1969,2003,2003,2003,1992,1992,1992,2001,2001,2004,2004,1974,1974,1999,1999,1999,1973,2005,2005,2006,2006,2017,2017,2017,1996,1996,2019,1964,2008,2012,2012,2012,2013,1974,1974,2013,2013,1997,1997,1997,2016,2004,2017,2017,2015,2015,1994,2018,2018,2018,2003,2003,2015,2018,2018,2010,2010,2010,1992,1992,1992,2010,2010,2010,2017,2017,1998,1998,1998,2015,2013,2013,1962,1962,2003,2003,2003,2010,1987,1987,1997,1997,1997,1981,1981,2014,2014,2014,2012,1969,1969,1969,2001,2001,2001,2017,2017,2017,1968,1968,1991,1991,1990,1990,1990,2017,1989,1989,2004,2004,2004,1993,1993,1952,1952,1967,1967,1967,1969,2003,2003,2003,1960,1960,1960,1996,1996,1996,1987,1975,1985,1990,1992,1992,1992,1992,1992,1992,1999,1999,1983,1983,1983,2006,2006,2006,1998,1998,1998,2010,2010,2010,2018,2008,2008,2008,1971,1976,1976,1976,2006,2006,2006,1983,1983,1983,1979,1979,1979,2002,2002,2002,2015,2015,1999,1999,1999,1972,1972,1972,1989,1989,2017,2017,2017,1965,1965,1961,1961,1961,1963,1963,2012,2012,2016,2007,2007,2007,1967,1967,2019,2019,2019,2018,2018,2013,2013,2019,1977,1977,1978,2017,2017,2017,1984,1984,1984,2001,2001,2001,1955,1955,1955,2007,2007,2007,1969,1969,1999,2019,2016,2016,2014,2014,2015,2015,2007,2007,2007,2015,2015,2015,1994,1994,1951,2020,2020,2020,1975,1975,1990,2009,2009,2009,1995,2009,1973,1973,1989,1989,1977,1977,1977,2003,2003,2003,2013,1980,2018,2018,1995,1995,1977,2012,2012,2012,1987,1987,2021,2021,1950,1950,1995,1995,1994,1994,2006,2006,2003,2003,2003,1986,1986,1972,1972,2016,2012,2012,2012,1936,2012,2012,2012,2018,2008,2008,2008,1979,1979,1979,1965,1965,1985,1985,1985,2009,2009,2009,2017,1984,1984,1984,2020,2020,1970,1970,1970,1942,1968,1987,2006,2006,2006,1989,1959,1990,1990,2013,2013,2013,2015,2015,2015,1980,2012,2012,2012,2017,1992,1992,2002,2002,1991,1979,1990,1990,1981,1969,1969,1984,1996,1996,1983,1986,1986,1986,1991,1982,1982,1990,1990,1976,1976,1970,1970,1970,1936,1997,1997,1997,1967,1967,1967,2018,2018,2019,1955,1955,1955,2003,2003,2003,1953,1953,1953,2012,1973,1973,2019,2019,1941,1962,1962,2007,2007,2007,1998,1998,2010,2010,2010,2019,1985,1991,1991,1961,1961,1961,1964,1964,2017,1938,1938,2014,1991,1991,1969,2006,2017,2000,2000,2000,1960,1960,1960,2003,2003,2003,2012,2012,2012,2005,2005,2005,2011,2011,2011,1992,1992,1992,2008,2008,2008,1999,2012,2012,2012,2001,2001,1950,1950,1950,2003,2003,2005,2005,1967,1967,1967,1966,1966,1966,1971,1965,1965,1965,2013,2013,2013,1980,1980,1980,2007,2007,2007,1957,1957,1982,1982,1970,1970,1970,2012,2012,2012,2013,2013,2017,2017,2000,2000,2000,2019,2000,2000,2000,1973,1973,1989,1989,1989,2007,2007,2007,2007,2007,2007,1994,1994,1968,1997,1997,1997,1980,1980,1997,1997,2019,2019,2019,1997,1997,1997,2017,2017,2016,1973,1973,1973,1975,1975,1975,2004,2004,2017,2017,2017,2019,2021,1996,1996,1996,2000,2000,2000,1989,1989,2000,2000,2000,1998,1961,1961,1961,2019,2019,2019,2017,1979,1992,1992,1992,2016,2016,1990,1990,1990,2005,2005,2005,1979,1979,1996,1989,1989,2019,2007,2007,2007,1983,1983,1983,1980,1980,1980,2000,2000,1944,1944,2019,1981,1980,1980,1980,2017,2017,2017,2002,2021,2021,2021,1987,1987,2013,2013,2021,2021,2021,2015,1959,2017,1965,1965,1965,2005,2005,2005,2018,2018,1979,1979,1979,1999,1999,1999,1975,1975,2018,2018,2020,2020,2020,2000,1981,1981,2010,2010,2010,2004,1975,1987,1987,1982,1982,2014,2014,2014,2020,1989,1989,2002,2002,2002,1990,1987,2015,2003,2018,1970,1970,1970,2021,2016,2016,2016,2006,2006,1994,1994,1994,2001,2001,2001,1998,1998,1998,1999,1999,1976,1976,2019,2019,2019,1963,1963,1988,2000,2006,2006,2006,1961,1988,1988,1988,2011,2011,1999,1999,1999,2006,2006,2019,2019,2019,1981,2017,2017,2017,1996,1996,1996,1998,1998,2019,2017,1990,2003,2003,2012,2012,2016,2016,2008,2008,1989,1981,1981,1973,1973,1968,1968,1968,2014,2014,2014,1963,2000,2000,2000,1984,1984,2013,2013,1999,2007,2007,2013,2010,2010,2010,2012,2012,2012,1971,1971,1971,1959,2003,2003,2003,1992,2009,2009,2009,2005,2005,2005,1960,1960,1960,1989,1989,1960,1960,1960,1986,1986,1958,1958,1958,1980,1977,1977,1977,1993,1993,1993,2019,2019,1951,1951,1980,1980,1980,2002,1959,1959,2018,1976,1976,1976,1996,1996,1948,1997,1981,2005,2005,2005,2001,2012,2012,2013,2013,2009,2009,2009,2009,2009,2009,1984,1989,1997,1963,1963,1963,1999,1999,2019,1949,1949,1959,1971,1959,1959,1959,1994,1994,2000,1960,1960,1960,1994,1994,1989,1989,1989,2019,1988,1988,1968,1968,2017,2013,2013,2013,2016,2016,2016,2005,2005,2005,1993,1993,1993,1994,1995,1995,1995,2014,1983,1983,1983,1998,1998,2018,1985,1985,1984,1984,2014,2014,1977,1977,1986,1986,1986,2009,2008,2008,2008,1985,2000,2000,1979,1979,2010,2010,2010,1999,1999,2014,2014,1978,1978,1978,2018,2018,2018,1980,1980,1980,2002,2002,2002,2008,2008,2008,2019,1992,1992,2005,1988,1988,1988,1984,1984,1993,1993,1974,1974,1991,1973,1973,1973,2018,2018,1964,1964,1964,2001,2001,2001,1957,1957,1983,1983,2018,1971,1971,1970,1970,1970,1981,1981,1981,2013,2013,2006,2015,2015,2015,2004,1987,1987,1991,1991,1991,2015,2015,2015,1997,1997,1997,1997,1997,1999,1999,1983,1959,1959,1983,1983,1993,1993,1993,2018,2018,1973,1998,1998,1998,2020,2020,2002,2002,2002,2016,2019,2019,2019,2012,2012,2020,2020,2020,1976,1976,1976,1984,2018,2004,2004,2004,1993,1993,1993,1976,1976,1976,2007,2007,2007,1993,1993,1993,2004,2019,2019,1986,1986,2017,2005,2005,1970,1970,2019,2019,1996,1996,1996,2015,2015,2015,2006,2006,2006,1942,1942,1979,1979,2019,2019,1965,1965,1984,1980,2007,2011,2011,1990,1990,1990,1988,1988,1978,1978,2010,2010,2010,2000,2000,2000,1989,1989,1958,1941,2018,1992,1992,1992,2003,2003,2003,1975,1975,1975,1977,1977,2016,2016,2008,2008,2010,2010,2010,2010,2010,1992,1992,1992,2000,2000,2000,2012,2012,1996,1996,1996,1968,1968,1970,1970,1970,1989,1989,2017,2017,2017,2012,2012,1999,1999,1999,2014,2014,1981,1981,1988,1988,1988,1991,1991,1991,1981,1974,1974,1996,1977,1977,1999,1989,1991,1999,2006,2006,2006,1958,1974,1974,1974,2015,2007,2007,1980,1980,1980,1992,1992,1992,2020,2020,2020,1983,2010,2010,2010,1982,1982,1994,1994,1994,1987,1964,1964,1964,1992,2005,1975,1975,2003,2003,2003,1997,2014,2014,2014,1980,1980,1980,2020,2003,2003,2003,2016,2016,2014,2014,2014,2008,2008,2008,2014,2014,2014,1992,1992,1992,1977,1977,1963,1963,1962,1962,1962,1993,1993,1993,1986,1986,2019,2019,2004,2004,2004,2015,2015,2017,2009,2009,2009,1974,1974,1974,1937,1990,1990,1990,1995,1995,1995,2004,2004,2008,2008,2008,1943,1956,1956,1956,2012,2012,2012,1986,1986,2005,2005,2005,2004,1978,2009,2009,2009,2019,2019,2019,1983,1983,1977,2010,2010,2010,2002,2002,2010,2010,2010,1960,1960,1960,1993,1993,1964,1964,1964,1991,1999,1999,1999,2005,2005,2005,2003,2003,2021,1976,1976,2005,2005,2002,2002,2002,2003,2003,2003,1986,1986,1978,1974,1974,1974,2020,1972,2001,2020,2020,2020,2014,2014,1997,1997,1997,1981,1981,1981,2002,2002,1997,1997,1997,1994,1994,1994,2010,2010,2010,2008,2008,2008,2018,2017,1993,1996,1996,1996,1997,2012,2012,2012,2004,2004,2020,2020,2020,1990,1990,1990,2000,2000,2000,1981,1981,1981,2006,2006,2006,2013,2013,2013,1993,1993,1993,2011,2011,2003,2003,2018,2007,2001,2001,2001,1998,1998,1998,2015,2015,2003,2003,2003,2018,2002,2002,2002,2018,2005,2005,2006,1981,1981,1981,1998,1998,1998,1987,1985,2014,2014,2017,2017,2017,1955,1955,1993,1993,2000,2000,2000,1974,1974,2007,1991,1991,1991,2009,2009,2009,2000,2000,2000,2008,2008,2008,2010,2018,2014,2014,2014,2000,2000,2007,2007,2007,2011,2011,2011,2002,2002,2005,2005,2016,2012,2001,2001,2001,2005,2005,2004,2004,2004,1994,1994,2011,2007,2007,2007,2019,2019,2019,2016,2016,2016,2017,2017,2017,1992,1992,1992,1981,1981,1981,1999,1999,1999,1966,2014,1981,2006,2011,2011,2011,1953,1975,1975,2010,2010,2010,2001,2001,2001,2006,2006,2006,2013,2017,2017,2017,1997,1997,2010,2010,2010,2021,2021,2021,1979,1979,2005,2005,1953,2018,2018,2001,2001,2001,1958,1958,2014,2014,2004,2004,2013,1984,1984,1984,1971,1971,1991,1982,2014,2004,2004,2004,1999,1999,1966,1978,1971,1960,2002,2002,2002,2012,1992,1992,1992,2010,2010,2010,1991,1991,1991,2016,2011,2011,2011,1989,1989,1989,2018,2019,2019,2013,2013,2013,2018,1967,1967,1967,1997,1997,1997,2010,1993,2020,2020,2020,2012,2012,2012,2012,1964,1964,1964,1939,1939,2008,2008,2014,2014,1990,1990,1990,2016,2016,2016,2002,2002,2002,2004,2004,2004,2009,2009,2009,2004,2017,2017,2013,2013,2013,1988,2017,2017,2017,2010,2007,2007,2007,2014,2014,2017,2012,2012,2007,2007,2019,2019,2018,2012,2012,2012,1939,1939,2012,2012,2019,2007,2007,2014,2014,2014,2016,2016,2016,2016,2013,2019,2001,2001,2001,2020,2020,2014,1996,1996,1996,1973,1973,2003,2003,2003,2015,2015,2012,2012,1987,1987,1987,1997,2019,2007,2007,2005,2005,2005,2009,2009,2009,2020,2020,2020,2009,2009,2012,2014,2014,2014,2017,2017,2017,2011,2011,2011,2020,2020,2013,2013,1993,1993,1993,2019,2019,1991,1991,1991,1986,1986,2020,2020,2009,2009,2009,2016,2017,2017,2017,2003,2003,1997,2011,2011,2011,2015,2011,2011,2009,2016,2016,2009,2009,2006,2006,2006,2004,2004,2004,1966,1966,1966,2006,2016,2001,2001,2001,2009,2009,2009,1989,1989,1959,2018,2018,2020,2020,2016,2016,2018,2021,2021,2021,1981,1981,1981,2008,2008,2008,2018,2011,2011,2018,2018,2018,2012,2012,2018,2018,2016,2016,2008,2010,2010,2010,2019,2019,2019,2009,2009,2009,2009,2015,2017,2017,2017,2014,2005,2005,2005,2020,2020,2020,2019,2019,2018,2018,2018,2018,2011,2011,2017,2012,2015,2015,2012,2012,2019,2014,2014,2014,2014,2014,2014,2014,2016,2016,2016,1962,1962,1962,1992,1992,1957,1957,1976,1976,1970,1960,1960,1986,1985,1999,2002,2002,1996,1996,1996,1964,2018,1980,1980,2008,2008,2008,1984,1995,1995,1995,2018,1984,1984,2017,2013,2013,2013,2021,2021,2014,2017,2017,2017,2016,2016,2016,2021,1994,1994,1994,1959,1959,2019,2019,2009,2009,1974,1974,1974,2004,2004,2004,2006,1958,1958,1958,2016,2016,2009,2009,2009,2015,2015,2013,2013,2013,2004,1996,1979,1985,1985,1985,1989,1989,1983,1983,1983,1981,1981,1981,1965,1965,1965,2013,2013,2013,2013,2013,2013,1985,1985,1985,1949,1949,1949,1970,1970,1970,1987,1998,1998,1998,2012,2012,2008,2008,2008,1990,1990,1990,2016,2007,2015,1969,1969,2013,2013,1957,1957,1995,1995,2005,2005,2005,2015,2015,2015,1981,1981,2014,2014,1983,1983,1989,1986,1962,1962,2004,2004,2004,2015,1994,1994,2013,2013,2013,2021,2003,2003,2003,1998,1998,1971,1971,1971,2014,2014,2014,1999,1978,1978,2017,2019,2019,1988,2005,2005,2005,2002,2002,2005,2005,2005,1987,2017,1991,1967,2021,1998,1998,1998,2001,2001,2001,2019,2019,2019,2006,2020,2020,2020,2010,2010,2010,1994,1966,1966,1969,1969,1971,1971,2004,1972,1972,1999,1973,1973,1973,1983,1983,1983,1983,1983,2005,2005,2005,2013,2013,1981,1981,2007,2007,2007,2019,2019,2019,2015,2015,2015,2014,2014,1976,1976,1976,1962,1962,1980,1980,2007,2007,2007,1974,1974,1974,2018,2018,2017,2017,1960,1960,1979,1979,1979,1974,2003,2003,2003,1984,1984,1985,1985,1985,1998,2018,2018,2014,2014,2014,2019,2019,2019,2014,2007,2007,2007,1955,1955,1955,2019,2019,2019,2003,2003,2019,2017,2002,1987,1987,2019,2019,2014,2014,2014,1971,1971,2015,2017,2014,2014,2002,2002,2002,1950,1984,1984,1984,2005,2005,2005,2020,2020,2020,2009,2009,2009,1983,1996,1996,1996,1986,1999,1999,1999,1991,1991,1991,1970,1970,1970,2001,1985,1985,1985,2004,2004,2004,2011,2011,2011,2017,2016,2013,2013,1985,1985,2013,2013,2003,1975,1975,2011,2011,2011,2018,1998,2003,1983,1983,2002,2012,2012,2012,2001,1993,1993,1993,1958,1958,1972,1954,1954,1954,2005,1975,1934,1983,1983,1976,2009,2009,2009,2018,2020,2010,2010,1942,1981,1981,1981,1979,1979,1992,2015,2015,1991,1991,2018,1982,1971,1971,1971,1976,1976,2008,2008,1998,1962,1962,1962,1967,2018,1948,1948,1948,1971,1971,2000,2000,2000,1997,1997,1956,1956,1956,1961,1961,1964,1964,2010,1971,2006,2006,1995,1995,1973,1992,1971,1971,1986,1968,1968,1970,1970,1989,1990,1990,1978,1978,1978,2020,1985,1966,1966,1966,1988,1984,1985,1985,2000,1971,1988,2008,2008,2008,1972,1972,2011,2011,2011,2013,2013,2013,1998,2012,2013,2013,1970,1970,1968,1968,1972,1972,1972,2006,2006,2006,2009,2009,2009,1963,1963,1963,2018,1992,1992,1965,1965,2002,2002,2002,1981,1981,1981,1984,1984,1969,1969,2004,2004,2004,1979,1979,2003,1985,1985,2006,2006,2006,2018,2001,2017,2017,2017,1989,1989,1989,2011,2011,2013,2013,2012,1967,1967,1967,2019,2019,1972,1972,1972,2010,2010,2020,2011,2011,2011,1975,1975,1975,2011,1999,1999,2010,2010,2010,1986,1986,2004,2017,2017,2017,1954,1954,1954,2017,1957,2016,2016,2016,1949,1949,1998,1998,1998,1936,1957,2012,2012,2012,1935,1989,2015,2015,2015,2016,2005,2005,2018,2018,2018,2016,2008,2008,2008,2000,2000,2000,2019,2019,2004,2008,2008,2008,2002,2018,2001,2001,1989,1989,2006,2006,2016,2011,2011,2011,2016,2016,2016,1985,1997,1997,1998,1965,1965,1997,1997,1994,1994,1994,2000,2000,2000,2015,2015,1984,2014,2009,2016,2016,2016,1994,1994,1994,1987,1987,2019,2001,2001,2001,2013,2013,2017,2017,2017,1972,1972,1972,2008,2008,2011,2011,2011,2015,2015,2015,2013,2013,2013,2001,2001,2001,2015,1970,1970,1970,2021,2004,2004,2009,2021,1999,1999,1957,1957,1957,1975,1975,2007,2007,2007,2014,2014,2014,2004,2005,2005,1955,1955,1955,1997,1997,1997,1994,1994,1994,1996,1992,1992,1992,2007,2007,2007,1987,1987,1987,1961,1961,1961,2017,1979,1979,1979,1996,1996,1996,1974,1974,1952,2010,2008,2008,2008,1957,1957,1957,1987,2015,2015,2015,1964,1964,1964,2017,1977,1997,1997,1997,1997,1997,2015,2015,2020,2020,2020,2015,2015,2015,2016,2016,2016,2015,2015,2015,2017,2017,2017,2017,2019,2019,2018,2003,1986,1986,1986,1983,1983,1963,1963,1963,2001,2001,1992,2011,2011,2011,2004,2004,2008,2008,2008,1988,1977,1977,1977,2018,1988,2016,2016,2016,2014,2014,2014,2015,2016,2008,2014,2014,2003,2003,2008,2013,2013,2013,2021,2021,2003,2003,2003,2005,2012,2011,2011,2011,2011,2011,1955,1955,1955,1972,2003,2003,2014,2017,2017,2017,1999,1999,1999,1979,1979,1979,1993,1993,1993,1978,1978,1987,1987,1987,1978,1978,2004,2004,2004,2011,2011,2011,2013,2013,2013,1957,2004,2004,2004,2019,2019,2019,2004,2004,1992,1992,2017,1993,1993,1995,1995,1995,2017,2015,2018,2005,2005,2020,2020,2013,2013,2013,1984,1984,1984,2006,2006,2006,2016,2007,2008,2008,2011,2011,2011,2017,2010,1970,2010,2005,2005,2005,2012,2018,2018,2015,2015,2015,2011,2002,2002,2002,2004,2004,2004,1992,1976,1972,1972,1972,1991,1995,1995,1979,1979,1986,1986,1986,2005,2005,2016,2016,1987,1987,2017,2017,1991,1991,1977,1994,1994,1994,2013,2013,1989,1971,1968,1982,1982,1948,2000,2000,1954,1954,1954,1976,1976,1976,1986,1986,1967,1967,2021,1973,1973,2005,2005,2005,1979,1979,1943,1981,1981,1981,1962,1962,2006,2006,2006,2010,2010,2010,2009,2009,2009,1996,1996,1996,1982,1982,1982,1973,2018,2018,2018,2007,2007,2007,2018,1982,1982,2010,2010,2010,2014,2007,2007,2007,1969,1969,1969,2018,2018,2018,2007,2007,2007,1955,1981,1981,1991,1991,2017,1963,1940,1978,1978,1981,1981,1981,1997,1997,1997,1986,1986,1992,2013,2013,1986,1986,1954,1954,1954,1969,1969,2015,1957,1957,1957,2011,2011,1962,1951,1999,1955,1955,1979,1979,1953,1953,1957,1957,1957,2013,2013,2013,2005,1959,1959,1959,2018,2018,1956,1957,1957,1957,1978,1978,1978,1974,1974,1990,1971,1971,2001,2001,2001,2003,1990,2005,1995,1995,1995,1961,1961,1961,2021,2005,2005,2005,1946,1947,1947,1947,1968,1968,1968,1957,2003,1966,1966,2016,2016,2016,1980,1980,2007,2007,2007,1990,2014,2005,2005,2005,1966,1966,1956,1956,1956,1986,1986,2009,2009,2009,2017,2017,2015,2000,2000,1989,1989,1989,2017,2017,1958,1958,2015,2015,1996,1996,1996,1996,1996,1973,1973,2018,2018,2018,1974,2019,1938,2019,2011,1983,1983,1983,2007,1965,1980,1980,1989,1989,1989,1975,1975,1992,1992,1992,2005,2005,2005,2020,2020,2020,2011,2011,2011,2010,2010,2010,2007,2007,2007,2018,2021,2021,2017,2017,2017,1979,1979,1979,1967,1967,1967,2011,2011,2011,2019,2019,2011,2011,2019,2019,2018,2018,2018,1991,1991,1991,1990,1999,2020,2020,2020,2014,2014,2012,2008,2002,2018,2018,2019,2017,2019,2019,2006,1995,2008,2008,2017,2017,1988,2002,2002,2007,2007,2007,2017,2017,2017,2012,2012,2012,2006,2006,2006,2020,2020,2018,2018,2015,2010,2010,2010,2013,2013,2013,2001,2001,2001,2014,2014,2014,1971,1971,2019,2019,2019,2004,2018,2016,2016,2008,2008,1999,1999,1989,1989,1965,1965,1965,2013,2013,2013,2003,2003,1961,1961,1961,1968,1968,2020,2020,2020,2014,2014,2014,1977,1985,1985,1985,2015,2003,2003,2003,2012,2008,2008,2008,2015,2015,2019,2019,2019,2009,2009,2001,2012,2012,2012,2003,2003,1981,1981,1995,1995,2003,2003,2003,1988,1988,1988,1990,1988,2013,1984,2010,2010,1992,1992,1992,1985,2018,2018,1973,1985,2018,2018,2018,2005,1968,1968,1968,1941,2019,2019,2014,2014,2018,2018,2005,2021,2021,2020,2019,2019,2019,1977,1977,2005,2005,2005,1959,1959,2019,2019,2019,2018,1956,2004,2004,2004,1969,1969,1969,1984,2018,2019,2019,2019,1986,1986,1967,1967,1967,1977,1977,2018,2018,2018,1992,1992,1974,1974,1974,2018,2010,2010,2010,2008,2008,1958,1958,1992,1992,2020,2020,2019,2019,2019,2010,1996,2000,1953,1953,1996,1996,2010,2010,2010,2015,1987,1987,1987,1995,1994,1994,1994,1993,1993,1993,2014,2014,1971,1971,1963,1963,1963,2003,2003,1989,1989,2015,1972,1992,1992,1992,1997,1997,1997,1957,1957,1957,1970,2020,2018,2018,2018,2018,2018,1972,1972,1972,1989,1989,1989,1989,2005,2005,2005,1968,1968,2018,2018,2018,1985,2007,2007,2007,1984,1958,1958,1977,1977,1977,1971,1971,2003,2003,2003,2005,2005,1961,1961,2018,2018,2018,1985,1985,1993,2011,1971,1971,1971,1949,1949,2017,1985,1966,1966,1966,1978,1978,2019,2019,2014,2011,2011,1953,1980,2004,2013,2003,1974,1974,1991,1991,1991,1967,1967,1967,1970,1961,1980,1968,1968,1968,2010,2010,2010,1957,1957,1957,2009,2009,2008,2008,1995,1995,2012,2012,1986,1986,2010,2010,1993,1993,1993,2005,1993,1993,1993,1955,1955,1955,2008,2019,2017,2017,2017,1999,1999,1999,1987,1987,1987,1988,1988,1984,1984,1978,1978,1985,1973,1973,1973,2018,2018,2018,1978,1978,2015,2015,2015,2010,2010,2010,2013,2013,2011,2011,2011,2017,2017,2017,2017,2000,2000,2000,2006,2006,1974,2004,2018,1958,1958,2008,1993,1993,1980,1980,1980,2016,2016,2016,1945,1993,1993,1991,1991,1991,1966,1966,1966,1978,1978,1993,1964,1964,2008,2008,2008,2010,2010,2010,2013,2019,2019,2017,2017,2019,1984,1984,1966,2013,2013,1985,1985,1985,2016,2016,2015,2015,2003,1972,2016,2016,2016,2016,2017,2017,2002,2002,2021,2021,1972,1972,1972,1958,1958,1958,1985,1934,1934,2014,2014,2014,2014,2018,2018,2004,2004,2004,1993,1993,1993,2018,2012,2012,2012,2019,2019,2015,2015,1992,1992,1992,2004,2004,2004,1992,1990,1990,1993,2013,2013,2013,1995,1995,2004,2004,1964,1964,1964,1981,1965,1965,1965,2017,2017,2017,2004,2004,2004,1958,1958,2017,1973,2013,2013,2013,1991,1991,1991,2017,2003,2003,2019,2019,2019,2004,2019,2019,2006,1990,1990,2020,2020,2020,1987,1987,1987,1991,1991,1991,1991,2010,2010,1981,1994,1971,1971,1995,1995,1995,1998,1998,1992,1992,1992,1981,1937,1937,1937,1975,1975,1975,1974,1974,1974,1962,1962,1989,1989,1970,1970,1970,1991,1991,2015,2015,2015,1982,1982,1982,1974,1974,1983,1983,1994,1994,1996,1996,1996,1997,2004,2004,2004,2010,2010,2010,1997,1997,1997,1943,1997,2005,2005,2005,1978,1978,1978,1973,1973,1973,1962,1962,1962,1994,1981,1981,1981,2016,2018,2016,2016,2016,2003,2003,2003,1983,1983,1983,1983,1983,1983,1986,1986,1986,1970,1970,1984,1984,1984,1978,1978,1978,1989,2014,2014,1965,1965,1972,2002,2002,2002,2010,2010,2011,2011,2011,2015,2015,2015,1973,1993,1993,1987,1987,2019,2006,2006,2006,2003,2003,1998,1998,1998,1999,1999,1999,2005,2005,2005,1998,1998,1998,2001,2001,2001,2014,2001,2001,2001,1957,1957,1957,2002,2002,2003,1981,1981,1991,1991,1969,1992,1985,1985,1990,1990,1990,1990,1988,1988,1969,1969,1969,1969,1969,1969,1991,1986,1986,1987,1987,1987,1990,1990,1990,1987,1987,1987,1971,1971,1986,1986,1966,1966,2006,2006,2006,1985,1985,1985,1984,1975,1975,1975,1984,1984,2017,2017,2012,1988,1988,1988,2001,2001,1986,1986,1983,1983,1983,1988,1988,1988,2003,2003,2003,1998,1998,1998,2013,2013,2013,2009,2009,2009,1980,1980,1980,2013,2013,2013,2011,2011,2011,2017,2017,2017,1979,1979,2017,2017,2017,1958,1958,2019,1975,1975,1989,1989,1989,2007,2007,2007,1976,1972,1972,2013,2013,1995,1995,1972,1972,1992,2020,2020,2020,1967,1967,2021,2021,2009,2009,1987,1987,2010,2010,2010,1967,1967,1981,1981,1981,2002,2002,2002,2012,2012,2012,2016,2016,2016,2009,2009,2009,2018,2018,2018,2008,2008,2008,2013,2013,2008,2008,2008,2013,2013,2013,2018,2018,2018,1983,2018,1954,2021,2021,2021,2009,2009,2009,2017,2017,2017,1990,2008,2008,2008,2003,2003,1995,1995,2011,2011,2011,2014,2015,2015,2017,1969,1953,1978,2001,2018,2018,2018,2016,2016,1955,1955,1955,2019,2019,2015,2015,2004,2004,1956,1956,1956,1982,1982,1959,1995,1995,1995,2018,1968,1968,1968,1994,1994,1994,2003,2003,1952,1996,1996,1996,1997,1997,2000,2000,2000,2014,2014,1969,1999,1999,2013,2013,2013,2013,2013,1996,1996,1996,1964,1964,1964,2018,2018,2018,2010,2010,2010,1974,1974,1992,1951,1951,1936,1992,1992,1992,2000,2000,2000,1962,1962,1972,1972,1972,2004,2004,2010,2010,2010,2010,2010,2010,2012,1994,2019,1981,1981,1977,1996,1996,1984,1984,1984,2017,1967,1967,1967,1980,1980,1980,1977,2007,2007,2007,1995,1995,1995,2019,1989,1989,1989,1943,1943,1943,2017,2020,1984,1985,1985,1985,1985,2008,2008,2008,2010,2010,2010,2017,2017,2013,2013,2013,1988,1988,1988,2010,2010,2010,1991,1991,1991,2005,2005,2005,1985,2013,2013,2013,2019,2019,1944,2015,1996,1996,1996,2015,2017,1993,1993,1983,2006,2006,2006,1982,1982,1995,1995,1995,2019,2013,2013,2013,2017,2017,2017,2013,2013,1975,1975,1975,1959,1959,2019,2010,2010,2010,2015,2015,2015,2015,2015,2015,1986,1986,2007,2007,2007,2013,2013,2013,2011,2011,2011,2018,2018,2018,1944,1944,2004,1995,1995,1995,2011,2011,2011,2016,2016,2009,2009,2009,1980,1980,1980,2007,2007,2007,2007,2007,2007,2017,2018,2021,2000,2000,2000,2020,2006,2001,2001,2005,2007,2007,2019,1962,1962,1962,2019,1974,1974,1971,1971,1971,2002,1996,1996,1988,2018,2005,2001,2014,2014,2014,2017,2017,2010,2010,2010,1988,1979,2013,2013,2013,1965,1965,2002,2002,2007,2007,2007,2019,2014,2014,1972,2012,2012,2012,2014,2021,2002,2003,2009,2009,2009,2009,2009,2008,2008,2008,2019,2014,2014,2014,1995,1995,1995,2016,2016,2008,2008,2009,2009,1999,1999,2011,2011,2011,1981,1981,2006,2006,2006,2016,2016,2016,2005,2005,2005,2010,2010,2010,1988,2019,2019,2019,1991,2021,2021,1981,1981,1981,2015,1993,1993,1993,1970,1970,1970,2018,2018,1974,1974,1974,1942,1974,1974,1974,1990,1990,1990,2016,1992,1992,2012,2012,2012,2015,2015,2015,2008,2008,2008,1993,2004,2004,2004,1989,1989,1989,1997,2017,2017,2004,2004,2004,2015,2020,2020,2020,1962,1962,1962,2017,2017,2009,2009,2009,1991,1991,1991,2012,2012,1982,2016,2016,2016,1966,1966,1967,1967,1967,1964,1964,1964,1994,1994,2019,1985,1985,1985,1991,1991,1991,1978,1978,1978,1996,1996,1994,2016,2016,2016,1979,1979,2019,2019,2017,2017,2008,2016,2016,1984,2013,2013,2015,1969,1969,1969,1998,1998,2016,1982,1968,1968,1991,1991,1991,2002,2002,2002,1992,2015,2006,2006,2006,2007,2007,2007,1989,2003,2003,2003,1966,1966,1966,1975,1975,1975,1998,2020,2015,2015,1980,1980,1994,1994,2017,1995,1995,1995,1976,2003,1979,1979,1979,1970,1970,1970,1969,1969,1969,1989,1989,2017,2017,2006,1991,1991,1991,2020,2020,2012,2012,2012,1958,1968,1968,2010,2010,1983,1983,1970,1970,1951,1988,1958,1958,1996,1996,1996,2013,2013,2011,2011,2011,2018,2018,2018,2013,2013,2013,1981,2011,2011,2011,1962,1962,1993,1993,2021,2021,2021,1993,1993,1993,2002,2002,1969,1969,1969,1986,1982,1982,1982,1998,1998,1975,1975,2007,2007,1988,1988,2005,2005,2005,2017,2007,2007,2007,1989,1989,2017,1997,1980,1950,1972,1972,1972,1970,1998,1999,1999,1959,1959,1959,2003,2003,2003,2017,1979,1983,1983,1983,1961,1961,1961,1982,1982,1982,2014,2014,1958,1958,1958,1964,1964,1986,1986,1986,1997,1997,1997,1991,1991,2016,2016,2009,2009,2009,2016,2016,2016,2005,2021,2021,2021,2006,2006,1964,1964,1964,1952,1952,1952,1994,1994,1992,1992,1999,1999,1999,1950,1993,1993,1964,1964,1943,1943,1972,1972,1972,1985,2018,2018,2018,2009,2009,2009,2009,2009,1976,1976,1981,1981,1996,1940,1940,1982,1982,1937,2016,2016,2016,1993,1993,1989,1989,2002,2002,1975,1992,1992,1968,1996,1996,1996,1969,2018,1961,1961,1961,1966,1966,1966,1968,1968,2016,2016,2016,2016,2016,1993,1993,1993,2021,2021,2021,1996,1985,1999,1999,1979,1979,1950,1950,2017,1960,2006,2006,2005,2005,2005,2005,2017,2017,2017,2008,2008,2008,1979,1979,1986,1984,1984,1980,2019,2019,2008,2008,2011,2011,2011,2003,2003,1982,1982,1982,1998,1998,1998,2013,2013,2013,2013,1982,1982,1969,1978,1978,2000,2000,2018,2018,2018,1991,1991,2004,2004,1995,1973,1973,1991,1991,1991,1991,1991,1991,2001,1999,1996,1986,1982,1982,1982,1970,1970,1970,1966,1966,1979,1979,1979,2007,2007,2012,2020,2020,2020,1951,1951,2020,2019,2006,2006,2021,2021,2021,2019,2015,2015,2012,2017,2017,2021,2021,2019,2019,2019,2018,2018,2017,2017,1955,1972,1972,1972,2010,2010,2010,1994,1994,2005,2005,2005,1996,2020,2020,2019,2017,2006,2006,2006,1972,2019,2014,2014,2017,2017,2005,2006,2006,2006,2018,2021,2021,1980,1980,1980,2015,2015,2015,2010,2010,2010,2005,2005,1949,1949,1949,2005,2005,2005,2011,2011,2011,2015,2011,2011,2011,1948,1948,1965,1965,1965,2002,2002,2002,1988,1988,1953,2012,2012,1946,1946,1946,2006,2010,2010,1949,1974,1974,1974,2011,2011,2011,2006,1990,2011,2011,2011,2007,2007,2007,2020,2020,1965,1965,2002,2002,1982,1982,1982,1993,1993,1993,1947,2020,2020,1978,1978,1978,1998,1998,1961,1961,1961,1954,1954,2015,1974,1974,1990,1990,1990,2012,2012,2012,1976,1966,1966,1966,1976,1976,1976,1991,1991,1991,1984,1997,1984,1984,1984,1957,1957,1957,1970,1970,1976,2015,2015,2015,1984,2002,2002,2002,1981,1981,2019,1971,1971,1971,1969,1969,1986,1986,1986,2004,2004,1996,1996,1969,1969,1986,1986,1986,1982,2016,2016,2008,2008,2008,1950,1986,2011,1964,1947,2020,2020,1956,1956,1956,2017,1999,1990,1990,1990,2000,2000,1968,1968,2020,2020,2020,2000,2000,2000,1963,1963,1963,1991,1991,1953,2005,1979,1979,2020,2020,2012,1977,1977,2001,2001,2012,1989,1989,1989,2006,2006,2006,1985,1985,1985,1988,1988,1988,2016,2016,2016,2004,2004,2012,2012,2018,1961,1961,1992,1992,1992,1975,1975,1975,1999,1999,1999,2006,1988,2007,2007,2007,2013,2013,2013,1972,2010,2010,2016,2016,2013,2013,2013,2016,2016,2016,2009,2009,2013,2007,2007,2007,1981,1981,2013,2013,1955,1955,1955,1962,1962,1962,1971,1971,1971,2017,1993,1993,1985,1985,1960,1960,1960,1982,1982,1982,1968,1968,2013,2013,1983,1983,2017,2017,2020,2020,2020,2013,2013,2013,2017,2017,2017,2020,2004,2004,2004,2014,2019,2011,2011,1990,2013,2009,2009,2009,1999,1999,1989,1989,2004,2015,2021,2021,2005,1981,1981,1981,1999,1999,1999,2018,2018,2002,2002,2018,2018,2018,2017,2017,2017,2019,2019,2019,1987,1987,1960,1960,2015,2015,2008,2008,2008,2013,2013,2011,2011,2011,2019,2019,2014,2014,2014,1986,1986,1986,2005,2005,2005,2018,2018,1993,1993,1993,2007,2008,2005,2005,1980,1980,2007,2007,2007,2006,2016,2013,2013,2013,2012,2021,2021,2021,1973,1973,2000,2000,2000,1999,1999,2013,2013,2013,2002,2002,2002,2005,2005,2005,1948,1948,1985,1985,1985,1958,1958,2014,1998,1998,1998,1958,1958,1958,1979,1956,1956,1956,2009,2009,1964,2012,2012,2013,2013,2013,2014,2014,2019,2019,2019,1958,1958,1988,1988,2018,2018,2012,2012,2012,2018,2018,2020,2018,2018,2018,1988,1999,1999,2008,2008,2008,2013,2010,2010,2010,2011,2011,2008,2008,1983,1983,1983,1989,1989,2006,1982,2014,2013,2013,2013,2007,2007,2007,1999,1999,1968,1968,1968,1975,1975,2004,2004,1960,1960,2003,2003,2011,2011,2011,1989,1989,1989,2014,2014,2014,1956,1956,2007,2007,2012,1991,1991,2009,2009,2007,2007,2007,1961,2018,2018,2020,2020,1995,2009,2009,2009,1938,2010,2010,2010,2014,2012,2012,2012,2019,2019,2019,2003,2003,2003,2001,2001,2001,1954,1971,1971,1971,1966,1966,1966,2005,2005,2005,2005,2000,2000,2000,1979,1979,1979,1994,1994,1994,1968,1968,1986,1970,1970,2018,2018,1960,1960,2014,2014,2004,2004,2004,2000,2000,2016,2016,2016,2008,2008,2008,2018,2018,1983,1982,1982,1982,2006,2006,1979,1979,1979,2008,2008,2008,1949,1968,1968,1968,2013,2013,2013,2017,2017,1984,1984,2009,2004,2004,2004,2005,2016,1976,2003,2003,2003,2014,2019,2019,2013,2013,2013,2014,2014,2014,1994,1994,1987,1987,1987,2008,2008,2008,2002,2002,2002,1985,1985,1985,1966,1966,1966,1973,1973,2020,1979,1979,1979,1995,1995,1995,2014,2014,2014,1985,1985,1985,1992,1992,1987,2004,1977,2007,1982,1982,1990,1978,1978,1978,1986,1980,1980,1980,1983,1983,2017,2017,2017,2021,2021,2018,2007,2007,2007,1999,1999,1999,2020,2020,1995,1995,2004,2004,2004,1999,2013,2013,2013,2003,1990,1993,1993,1992,1992,1992,1986,1986,1986,1993,1993,2020,2020,1956,1956,2003,2003,2003,2005,2005,2005,1981,1981,2019,1995,1995,1995,1980,1958,2012,2012,2012,2003,2003,2003,1996,1996,1969,1969,2009,2009,2009,2020,2020,2020,2015,2015,2015,1988,1988,2014,2014,1998,1952,2015,2015,2015,1986,1972,1972,1972,1955,1955,2005,2005,2005,2020,2020,2020,2021,1943,1943,1943,2011,2011,2011,2015,2015,2015,1976,1976,2000,1967,1967,1990,1990,1990,1995,1995,1995,2019,2013,1979,1979,1984,1997,1997,1997,1995,1984,1984,1984,2000,2000,1995,1995,2019,1970,1965,1965,1965,1966,2002,2002,2002,2008,2008,2008,2008,2008,2006,2006,2006,2004,2004,2017,1985,1985,1985,1980,1980,1954,1954,1973,2006,2006,2006,1977,1977,1977,2016,2016,2016,2009,2009,1968,1973,1973,1973,1965,1965,2010,2010,2010,1965,1965,1965,1938,2016,2010,2010,1965,1965,1965,1994,1994,1982,1982,2006,2006,2006,1966,1966,1966,1966,1966,1966,2003,1994,1994,1985,2011,2011,2011,2005,2005,2005,2019,2017,2017,2000,2000,2009,2009,2009,2001,2015,2016,2016,2016,2010,2010,2016,1989,1963,1963,1963,2010,2001,2001,2001,2011,2011,2011,1971,1971,1996,1996,1996,2012,2012,2012,1978,2009,2009,1984,2018,2018,2014,2020,2020,2020,1982,1982,1985,1985,1985,2012,2012,2012,1993,1993,2016,2016,2016,2018,2015,2015,2015,1988,1988,1988,2012,2012,2012,2019,2019,1999,1999,1999,2002,2002,1990,1990,1990,1983,1983,2011,2009,2009,2020,2010,2010,2010,2016,2001,2001,2001,1979,1979,2019,2019,2005,2015,2015,1989,2014,2014,2014,2013,2013,2013,2016,2016,2016,2021,2021,2021,2005,2005,2005,2016,2016,2019,2019,2017,2017,2017,2013,1980,1980,1977,1977,1977,1976,1941,2007,2007,2007,2018,1988,1988,1988,2014,2011,2011,2011,2013,1995,1995,2017,2019,2019,2019,2009,1953,1953,2005,2005,2005,2010,2010,2010,2010,2010,2010,2017,2008,2015,2009,2009,2009,1994,1994,2017,2017,2017,2021,2021,2021,2014,2014,2014,2013,1979,1979,1979,2007,2019,2019,2019,2020,2020,2014,2014,2014,2003,2003,2003,2020,2019,2019,2017,2017,2020,2014,2014,2017,2011,2011,2010,2017,2018,2020,2006,2006,2006,2019,2016,2014,2014,2014,2002,2002,2002,2008,2008,2008,2019,2019,1931,1931,2013,2013,2014,2014,2014,2015,2015,2015,2013,2013,1994,1994,1995,2011,2011,2001,2001,1980,2007,2007,2007,2016,2018,2018,2015,2019,2019,2019,2021,2021,2021,2009,2000,2000,2000,1935,1935,2020,2017,2017,2017,2020,2000,2014,1952,1952,1952,2015,2015,2015,1992,1992,2014,2020,2019,2019,2019,2015,2015,2015,2015,1968,1968,2019,2019,2017,2015,2015,2015,1996,1996,1996,2009,2009,2009,2017,2019,2019,2019,2015,1980,1980,1970,1970,1970,2011,2007,2007,2007,2017,2017,2013,2010,2010,2010,2014,2014,2014,2015,2015,2010,2010,2010,2001,2001,2002,2002,2002,2009,2021,2021,2021,2021,2021,2018,2018,2013,2013,2015,2015,2014,2014,1967,1967,1967,2019,2019,2019,1981,1981,1981,1987,1987,2016,2016,1992,2008,2008,2008,1990,1990,1990,2017,2017,1980,1953,1953,1983,2018,2015,2009,2009,2009,1978,1978,1978,2018,2018,2016,2017,2017,2017,2014,2017,2015,2015,2015,2005,2021,2021,2019,1977,1992,1992,1992,1998,1998,1998,2018,2018,2014,2014,2014,2014,2014,2016,2016,2016,2000,2000,2000,2018,2018,2010,2010,1984,1984,1988,1988,2017,2017,2006,2006,2006,2018,1989,1989,1975,1975,1937,2010,2010,2010,1978,2016,2005,2005,2020,2020,2020,2019,2019,2019,2014,2014,2014,2019,1989,1989,2016,2016,2016,2007,2015,2015,2015,1998,1998,2016,2016,2011,2011,2011,2021,2021,1989,1989,1989,1985,1995,1995,1991,2014,2014,1988,1978,2011,1978,1978,1978,1985,1985,1985,1994,2020,1996,1996,1996,2017,2017,2021,2021,2021,2003,2015,2015,1971,1971,2008,2016,2016,2001,2001,1970,1970,2011,1990,1990,1990,2009,2009,2010,2010,2002,2002,2002,2004,2004,2004,2018,2018,2018,1982,1982,1978,2017,2017,2002,2002,2002,1957,1957,2004,2004,1969,1969,1969,1996,1996,2011,2011,2011,2017,2016,2016,2012,2013,1992,2017,2008,2008,2011,2017,1997,1997,1997,2010,2018,1976,1976,2016,2016,2016,2013,2013,2013,2008,2008,1959,1959,1959,1974,1974,2019,1975,2019,2019,2019,1970,1970,2006,2006,2006,1992,1992,1992,1982,2014,2014,2006,2006,2015,2015,2015,2007,2007,1980,2014,2014,2014,2014,2014,2014,1996,1996,2017,2019,2019,2019,2006,2006,2006,2020,2020,2019,1971,1967,1967,1967,2019,1955,1955,1955,2018,2018,2018,2019,2019,1970,1960,1960,1960,1989,1982,1982,1982,1963,1963,1963,1998,1998,2015,1984,1984,1984,2011,2011,1987,1987,2006,2006,2006,2004,2004,2015,2015,2020,2020,2020,2005,2005,2005,2009,2005,2005,2005,1968,1968,1968,1999,1999,1999,2004,2004,1955,1974,1974,2018,2018,2018,1988,1988,1988,1982,1982,1962,1962,1962,2006,2006,2006,1946,2000,2021,1992,1992,1992,1975,1989,1989,1989,2001,2011,2011,2010,2010,2010,1970,1970,1970,2001,2001,2008,2008,2008,1994,1994,2009,2017,2017,2017,1988,1988,1988,2016,2016,2016,2018,2018,2018,1995,1995,2019,1993,1975,2004,2004,2004,2011,2011,2011,1989,1989,1989,2008,2008,2008,2017,2017,2017,1989,1989,2012,2012,1972,1972,1972,2017,2017,2017,2009,2009,1982,1982,2006,1990,1986,2005,2009,1988,1988,1988,1994,1994,1994,1982,2011,2011,2011,1986,1986,1986,2009,2009,2020,1998,1998,1998,2017,2021,1997,1997,1997,2020,2020,1992,2005,2005,2008,2008,2008,1991,1991,1991,2011,2011,2011,2013,2013,2018,2018,1996,1992,1992,1992,2006,2006,2006,1998,1998,2018,2018,2010,2010,2010,2014,2014,2014,2002,2002,2002,1988,1972,1972,1972,2008,2008,2008,1985,1985,2016,1967,1967,1967,2015,2015,2016,2016,2016,1998,1998,1998,2013,2009,2009,2009,2017,2009,2009,2009,1984,1984,1984,2020,2020,1965,1965,1993,1993,1993,1988,1988,1988,1981,1981,1981,2005,2005,2005,2019,2019,2019,2013,2013,1981,1981,1954,1954,2013,2013,1975,1975,2016,2016,1987,1987,1987,2005,2016,2016,2016,2010,2010,2010,2006,2017,2015,2015,2007,2007,2015,2015,2015,2015,2015,2015,2020,2020,2020,2018,2018,2018,2020,2012,2012,2012,2018,2018,2008,2008,2009,2019,2006,2013,2013,2013,2009,2009,2009,2008,2008,1989,1989,1989,2018,1998,1998,1998,2017,2004,2018,2018,2011,2011,2019,2019,2012,2018,2018,2003,2003,2003,2020,2006,2006,1983,1983,1983,1964,1964,1964,2006,2006,2006,1974,2004,1989,2013,2013,2021,2003,2003,2020,2015,2015,2015,2003,2008,2008,2008,2014,2014,2014,1992,1992,2001,2001,2001,1984,2014,2014,1994,1994,1972,1972,1972,2020,2020,2020,2015,1981,1981,1981,2014,2014,1977,1985,2015,2020,1958,1958,1958,1969,1969,1969,2005,2005,2012,2012,2012,1992,1992,1992,2014,2001,2001,2013,2013,2018,2018,2018,1995,1995,1995,1996,2015,1975,1975,1975,1988,1988,2006,2011,2016,2016,2016,2020,1984,1984,2003,2003,2002,2002,1963,1963,2014,2014,2014,1994,1994,1994,2011,2011,1972,1972,2014,2014,2003,2017,2017,2017,2002,2002,2002,1999,1999,1999,2001,2013,2013,2013,2012,1980,2018,2002,2002,2002,2004,2004,2004,1996,1996,2001,2001,2001,1992,1963,1963,1963,2019,2019,2019,2011,2011,2011,2019,1982,1982,1982,1982,1982,1982,2001,2001,1966,1966,1966,2005,1977,1977,1997,1997,1997,1997,1997,1997,1991,1991,2016,2016,2014,2014,2001,2001,2018,2016,1985,1985,1985,2021,2021,2021,2004,2004,2004,1979,1979,1979,2008,2008,2008,1994,1994,1985,1985,1990,1990,1998,1988,1988,1994,1994,1994,1993,1993,1993,1993,1980,1980,1988,1988,1995,1995,1995,1977,1977,1977,1981,1981,1985,1985,1985,1994,1994,1994,2003,2003,2003,1972,1972,1972,1984,1984,1975,1975,2005,2005,1943,1973,1973,1973,2013,2013,2013,1993,1993,1993,2013,1983,1983,1983,1972,2014,2005,2005,2005,1974,1974,2018,2018,2018,1994,1994,2014,2014,2014,1964,1964,1997,1997,2013,2013,2013,1958,1958,1958,1960,2006,2006,2006,1975,1975,1986,1986,1964,1964,1964,1940,1976,1976,2000,2013,2013,1965,1988,1988,1988,2013,2002,2002,2011,2011,2012,2019,2000,2011,2011,2011,2018,1998,1998,1998,1975,1975,1975,2015,2001,2001,2001,1989,1989,1989,1999,1999,1998,1998],\"xaxis\":\"x\",\"yaxis\":\"y\",\"type\":\"histogram\"}],                        {\"template\":{\"data\":{\"histogram2dcontour\":[{\"type\":\"histogram2dcontour\",\"colorbar\":{\"outlinewidth\":0,\"ticks\":\"\"},\"colorscale\":[[0.0,\"#0d0887\"],[0.1111111111111111,\"#46039f\"],[0.2222222222222222,\"#7201a8\"],[0.3333333333333333,\"#9c179e\"],[0.4444444444444444,\"#bd3786\"],[0.5555555555555556,\"#d8576b\"],[0.6666666666666666,\"#ed7953\"],[0.7777777777777778,\"#fb9f3a\"],[0.8888888888888888,\"#fdca26\"],[1.0,\"#f0f921\"]]}],\"choropleth\":[{\"type\":\"choropleth\",\"colorbar\":{\"outlinewidth\":0,\"ticks\":\"\"}}],\"histogram2d\":[{\"type\":\"histogram2d\",\"colorbar\":{\"outlinewidth\":0,\"ticks\":\"\"},\"colorscale\":[[0.0,\"#0d0887\"],[0.1111111111111111,\"#46039f\"],[0.2222222222222222,\"#7201a8\"],[0.3333333333333333,\"#9c179e\"],[0.4444444444444444,\"#bd3786\"],[0.5555555555555556,\"#d8576b\"],[0.6666666666666666,\"#ed7953\"],[0.7777777777777778,\"#fb9f3a\"],[0.8888888888888888,\"#fdca26\"],[1.0,\"#f0f921\"]]}],\"heatmap\":[{\"type\":\"heatmap\",\"colorbar\":{\"outlinewidth\":0,\"ticks\":\"\"},\"colorscale\":[[0.0,\"#0d0887\"],[0.1111111111111111,\"#46039f\"],[0.2222222222222222,\"#7201a8\"],[0.3333333333333333,\"#9c179e\"],[0.4444444444444444,\"#bd3786\"],[0.5555555555555556,\"#d8576b\"],[0.6666666666666666,\"#ed7953\"],[0.7777777777777778,\"#fb9f3a\"],[0.8888888888888888,\"#fdca26\"],[1.0,\"#f0f921\"]]}],\"heatmapgl\":[{\"type\":\"heatmapgl\",\"colorbar\":{\"outlinewidth\":0,\"ticks\":\"\"},\"colorscale\":[[0.0,\"#0d0887\"],[0.1111111111111111,\"#46039f\"],[0.2222222222222222,\"#7201a8\"],[0.3333333333333333,\"#9c179e\"],[0.4444444444444444,\"#bd3786\"],[0.5555555555555556,\"#d8576b\"],[0.6666666666666666,\"#ed7953\"],[0.7777777777777778,\"#fb9f3a\"],[0.8888888888888888,\"#fdca26\"],[1.0,\"#f0f921\"]]}],\"contourcarpet\":[{\"type\":\"contourcarpet\",\"colorbar\":{\"outlinewidth\":0,\"ticks\":\"\"}}],\"contour\":[{\"type\":\"contour\",\"colorbar\":{\"outlinewidth\":0,\"ticks\":\"\"},\"colorscale\":[[0.0,\"#0d0887\"],[0.1111111111111111,\"#46039f\"],[0.2222222222222222,\"#7201a8\"],[0.3333333333333333,\"#9c179e\"],[0.4444444444444444,\"#bd3786\"],[0.5555555555555556,\"#d8576b\"],[0.6666666666666666,\"#ed7953\"],[0.7777777777777778,\"#fb9f3a\"],[0.8888888888888888,\"#fdca26\"],[1.0,\"#f0f921\"]]}],\"surface\":[{\"type\":\"surface\",\"colorbar\":{\"outlinewidth\":0,\"ticks\":\"\"},\"colorscale\":[[0.0,\"#0d0887\"],[0.1111111111111111,\"#46039f\"],[0.2222222222222222,\"#7201a8\"],[0.3333333333333333,\"#9c179e\"],[0.4444444444444444,\"#bd3786\"],[0.5555555555555556,\"#d8576b\"],[0.6666666666666666,\"#ed7953\"],[0.7777777777777778,\"#fb9f3a\"],[0.8888888888888888,\"#fdca26\"],[1.0,\"#f0f921\"]]}],\"mesh3d\":[{\"type\":\"mesh3d\",\"colorbar\":{\"outlinewidth\":0,\"ticks\":\"\"}}],\"scatter\":[{\"fillpattern\":{\"fillmode\":\"overlay\",\"size\":10,\"solidity\":0.2},\"type\":\"scatter\"}],\"parcoords\":[{\"type\":\"parcoords\",\"line\":{\"colorbar\":{\"outlinewidth\":0,\"ticks\":\"\"}}}],\"scatterpolargl\":[{\"type\":\"scatterpolargl\",\"marker\":{\"colorbar\":{\"outlinewidth\":0,\"ticks\":\"\"}}}],\"bar\":[{\"error_x\":{\"color\":\"#2a3f5f\"},\"error_y\":{\"color\":\"#2a3f5f\"},\"marker\":{\"line\":{\"color\":\"#E5ECF6\",\"width\":0.5},\"pattern\":{\"fillmode\":\"overlay\",\"size\":10,\"solidity\":0.2}},\"type\":\"bar\"}],\"scattergeo\":[{\"type\":\"scattergeo\",\"marker\":{\"colorbar\":{\"outlinewidth\":0,\"ticks\":\"\"}}}],\"scatterpolar\":[{\"type\":\"scatterpolar\",\"marker\":{\"colorbar\":{\"outlinewidth\":0,\"ticks\":\"\"}}}],\"histogram\":[{\"marker\":{\"pattern\":{\"fillmode\":\"overlay\",\"size\":10,\"solidity\":0.2}},\"type\":\"histogram\"}],\"scattergl\":[{\"type\":\"scattergl\",\"marker\":{\"colorbar\":{\"outlinewidth\":0,\"ticks\":\"\"}}}],\"scatter3d\":[{\"type\":\"scatter3d\",\"line\":{\"colorbar\":{\"outlinewidth\":0,\"ticks\":\"\"}},\"marker\":{\"colorbar\":{\"outlinewidth\":0,\"ticks\":\"\"}}}],\"scattermapbox\":[{\"type\":\"scattermapbox\",\"marker\":{\"colorbar\":{\"outlinewidth\":0,\"ticks\":\"\"}}}],\"scatterternary\":[{\"type\":\"scatterternary\",\"marker\":{\"colorbar\":{\"outlinewidth\":0,\"ticks\":\"\"}}}],\"scattercarpet\":[{\"type\":\"scattercarpet\",\"marker\":{\"colorbar\":{\"outlinewidth\":0,\"ticks\":\"\"}}}],\"carpet\":[{\"aaxis\":{\"endlinecolor\":\"#2a3f5f\",\"gridcolor\":\"white\",\"linecolor\":\"white\",\"minorgridcolor\":\"white\",\"startlinecolor\":\"#2a3f5f\"},\"baxis\":{\"endlinecolor\":\"#2a3f5f\",\"gridcolor\":\"white\",\"linecolor\":\"white\",\"minorgridcolor\":\"white\",\"startlinecolor\":\"#2a3f5f\"},\"type\":\"carpet\"}],\"table\":[{\"cells\":{\"fill\":{\"color\":\"#EBF0F8\"},\"line\":{\"color\":\"white\"}},\"header\":{\"fill\":{\"color\":\"#C8D4E3\"},\"line\":{\"color\":\"white\"}},\"type\":\"table\"}],\"barpolar\":[{\"marker\":{\"line\":{\"color\":\"#E5ECF6\",\"width\":0.5},\"pattern\":{\"fillmode\":\"overlay\",\"size\":10,\"solidity\":0.2}},\"type\":\"barpolar\"}],\"pie\":[{\"automargin\":true,\"type\":\"pie\"}]},\"layout\":{\"autotypenumbers\":\"strict\",\"colorway\":[\"#636efa\",\"#EF553B\",\"#00cc96\",\"#ab63fa\",\"#FFA15A\",\"#19d3f3\",\"#FF6692\",\"#B6E880\",\"#FF97FF\",\"#FECB52\"],\"font\":{\"color\":\"#2a3f5f\"},\"hovermode\":\"closest\",\"hoverlabel\":{\"align\":\"left\"},\"paper_bgcolor\":\"white\",\"plot_bgcolor\":\"#E5ECF6\",\"polar\":{\"bgcolor\":\"#E5ECF6\",\"angularaxis\":{\"gridcolor\":\"white\",\"linecolor\":\"white\",\"ticks\":\"\"},\"radialaxis\":{\"gridcolor\":\"white\",\"linecolor\":\"white\",\"ticks\":\"\"}},\"ternary\":{\"bgcolor\":\"#E5ECF6\",\"aaxis\":{\"gridcolor\":\"white\",\"linecolor\":\"white\",\"ticks\":\"\"},\"baxis\":{\"gridcolor\":\"white\",\"linecolor\":\"white\",\"ticks\":\"\"},\"caxis\":{\"gridcolor\":\"white\",\"linecolor\":\"white\",\"ticks\":\"\"}},\"coloraxis\":{\"colorbar\":{\"outlinewidth\":0,\"ticks\":\"\"}},\"colorscale\":{\"sequential\":[[0.0,\"#0d0887\"],[0.1111111111111111,\"#46039f\"],[0.2222222222222222,\"#7201a8\"],[0.3333333333333333,\"#9c179e\"],[0.4444444444444444,\"#bd3786\"],[0.5555555555555556,\"#d8576b\"],[0.6666666666666666,\"#ed7953\"],[0.7777777777777778,\"#fb9f3a\"],[0.8888888888888888,\"#fdca26\"],[1.0,\"#f0f921\"]],\"sequentialminus\":[[0.0,\"#0d0887\"],[0.1111111111111111,\"#46039f\"],[0.2222222222222222,\"#7201a8\"],[0.3333333333333333,\"#9c179e\"],[0.4444444444444444,\"#bd3786\"],[0.5555555555555556,\"#d8576b\"],[0.6666666666666666,\"#ed7953\"],[0.7777777777777778,\"#fb9f3a\"],[0.8888888888888888,\"#fdca26\"],[1.0,\"#f0f921\"]],\"diverging\":[[0,\"#8e0152\"],[0.1,\"#c51b7d\"],[0.2,\"#de77ae\"],[0.3,\"#f1b6da\"],[0.4,\"#fde0ef\"],[0.5,\"#f7f7f7\"],[0.6,\"#e6f5d0\"],[0.7,\"#b8e186\"],[0.8,\"#7fbc41\"],[0.9,\"#4d9221\"],[1,\"#276419\"]]},\"xaxis\":{\"gridcolor\":\"white\",\"linecolor\":\"white\",\"ticks\":\"\",\"title\":{\"standoff\":15},\"zerolinecolor\":\"white\",\"automargin\":true,\"zerolinewidth\":2},\"yaxis\":{\"gridcolor\":\"white\",\"linecolor\":\"white\",\"ticks\":\"\",\"title\":{\"standoff\":15},\"zerolinecolor\":\"white\",\"automargin\":true,\"zerolinewidth\":2},\"scene\":{\"xaxis\":{\"backgroundcolor\":\"#E5ECF6\",\"gridcolor\":\"white\",\"linecolor\":\"white\",\"showbackground\":true,\"ticks\":\"\",\"zerolinecolor\":\"white\",\"gridwidth\":2},\"yaxis\":{\"backgroundcolor\":\"#E5ECF6\",\"gridcolor\":\"white\",\"linecolor\":\"white\",\"showbackground\":true,\"ticks\":\"\",\"zerolinecolor\":\"white\",\"gridwidth\":2},\"zaxis\":{\"backgroundcolor\":\"#E5ECF6\",\"gridcolor\":\"white\",\"linecolor\":\"white\",\"showbackground\":true,\"ticks\":\"\",\"zerolinecolor\":\"white\",\"gridwidth\":2}},\"shapedefaults\":{\"line\":{\"color\":\"#2a3f5f\"}},\"annotationdefaults\":{\"arrowcolor\":\"#2a3f5f\",\"arrowhead\":0,\"arrowwidth\":1},\"geo\":{\"bgcolor\":\"white\",\"landcolor\":\"#E5ECF6\",\"subunitcolor\":\"white\",\"showland\":true,\"showlakes\":true,\"lakecolor\":\"white\"},\"title\":{\"x\":0.05},\"mapbox\":{\"style\":\"light\"}}},\"xaxis\":{\"anchor\":\"y\",\"domain\":[0.0,1.0],\"title\":{\"text\":\"Year\"}},\"yaxis\":{\"anchor\":\"x\",\"domain\":[0.0,1.0],\"title\":{\"text\":\"probability density\"}},\"legend\":{\"tracegroupgap\":0},\"margin\":{\"t\":60},\"barmode\":\"relative\"},                        {\"responsive\": true}                    ).then(function(){\n",
              "                            \n",
              "var gd = document.getElementById('0b7d0715-570c-4c14-990a-7fac16ff665d');\n",
              "var x = new MutationObserver(function (mutations, observer) {{\n",
              "        var display = window.getComputedStyle(gd).display;\n",
              "        if (!display || display === 'none') {{\n",
              "            console.log([gd, 'removed!']);\n",
              "            Plotly.purge(gd);\n",
              "            observer.disconnect();\n",
              "        }}\n",
              "}});\n",
              "\n",
              "// Listen for the removal of the full notebook cells\n",
              "var notebookContainer = gd.closest('#notebook-container');\n",
              "if (notebookContainer) {{\n",
              "    x.observe(notebookContainer, {childList: true});\n",
              "}}\n",
              "\n",
              "// Listen for the clearing of the current output cell\n",
              "var outputEl = gd.closest('.output');\n",
              "if (outputEl) {{\n",
              "    x.observe(outputEl, {childList: true});\n",
              "}}\n",
              "\n",
              "                        })                };                            </script>        </div>\n",
              "</body>\n",
              "</html>"
            ]
          },
          "metadata": {}
        }
      ]
    },
    {
      "cell_type": "code",
      "source": [
        "#Group data by year and calculate  the average rating\n",
        "avg_rating_by_year =imdb_df.groupby('Year')['Rating'].mean().reset_index()"
      ],
      "metadata": {
        "id": "UvKvHfiYl_21"
      },
      "execution_count": 64,
      "outputs": []
    },
    {
      "cell_type": "code",
      "source": [
        "#Get the top 10 generes\n",
        "top_generes = imdb_df['Genere'].value_counts().head(10).index"
      ],
      "metadata": {
        "id": "xsKiMDDImWXY"
      },
      "execution_count": 65,
      "outputs": []
    },
    {
      "cell_type": "code",
      "source": [
        "#Filter  the data to include only the top 3 generes\n",
        "average_rating_by_generes = imdb_df[imdb_df['Genere'].isin(top_generes)]"
      ],
      "metadata": {
        "id": "YaaoM-L6mqgt"
      },
      "execution_count": 66,
      "outputs": []
    },
    {
      "cell_type": "code",
      "source": [
        "#Creating the line plot with Plotly Express\n",
        "fig = px.line(average_rating_by_generes, x='Year', y='Rating', color='Genere')\n"
      ],
      "metadata": {
        "id": "qrd8IW5CnH-Q"
      },
      "execution_count": 68,
      "outputs": []
    },
    {
      "cell_type": "code",
      "source": [
        "#Updating the details into the chart like title and hue\n",
        "fig.update_layout(title='Average Rating by Year and Generes', xaxis_title='Year', yaxis_title='Average Rating')"
      ],
      "metadata": {
        "colab": {
          "base_uri": "https://localhost:8080/",
          "height": 542
        },
        "id": "4aTYaZ09njBX",
        "outputId": "dd249295-217a-4952-8999-5bbf41ff53d5"
      },
      "execution_count": 74,
      "outputs": [
        {
          "output_type": "display_data",
          "data": {
            "text/html": [
              "<html>\n",
              "<head><meta charset=\"utf-8\" /></head>\n",
              "<body>\n",
              "    <div>            <script src=\"https://cdnjs.cloudflare.com/ajax/libs/mathjax/2.7.5/MathJax.js?config=TeX-AMS-MML_SVG\"></script><script type=\"text/javascript\">if (window.MathJax && window.MathJax.Hub && window.MathJax.Hub.Config) {window.MathJax.Hub.Config({SVG: {font: \"STIX-Web\"}});}</script>                <script type=\"text/javascript\">window.PlotlyConfig = {MathJaxConfig: 'local'};</script>\n",
              "        <script charset=\"utf-8\" src=\"https://cdn.plot.ly/plotly-2.24.1.min.js\"></script>                <div id=\"7e570075-1cc6-4356-a638-3e8292e5115e\" class=\"plotly-graph-div\" style=\"height:525px; width:100%;\"></div>            <script type=\"text/javascript\">                                    window.PLOTLYENV=window.PLOTLYENV || {};                                    if (document.getElementById(\"7e570075-1cc6-4356-a638-3e8292e5115e\")) {                    Plotly.newPlot(                        \"7e570075-1cc6-4356-a638-3e8292e5115e\",                        [{\"hovertemplate\":\"Genere=Drama\\u003cbr\\u003eYear=%{x}\\u003cbr\\u003eRating=%{y}\\u003cextra\\u003e\\u003c\\u002fextra\\u003e\",\"legendgroup\":\"Drama\",\"line\":{\"color\":\"#636efa\",\"dash\":\"solid\"},\"marker\":{\"symbol\":\"circle\"},\"mode\":\"lines\",\"name\":\"Drama\",\"showlegend\":true,\"x\":[2019,2005,2004,2009,2005,1993,2004,2012,1979,1974,2018,1981,2019,2011,2016,2012,2007,2011,1987,2016,2017,2016,2010,2019,2013,2005,2019,2018,2016,2019,1982,1950,1968,1969,1993,2009,1977,1953,1993,1977,1987,1963,2007,1968,1966,1975,2018,1984,1970,2003,1975,1985,1952,1990,2019,1972,1976,1964,2011,1974,1999,1980,2010,2005,2013,2011,1968,2014,2009,1984,1965,1966,1997,2013,1974,1957,1994,2013,1968,1973,1970,1984,1936,1958,2007,1955,2017,1983,2016,1966,1951,2001,1991,1983,1985,1996,2002,2009,1995,2006,1979,2016,2015,2004,2017,1974,2021,2017,2013,1965,1979,1995,2006,1977,1973,2019,2019,2017,1975,1954,1936,1972,2020,1961,1986,2001,1986,2005,2017,1971,1977,1975,2003,1971,1984,2005,1952,1973,1994,1985,2013,1974,1993,1946,1982,1978,1971,1982,1972,2000,1948,1973,1962,1969,1991,2021,1971,1966,1972,1960,2006,1977,2007,2010,2007,1977,2007,1980,1975,1974,1969,1994,1953,2003,2010,1983,1982,1978,1965,2018,1984,1952,2018,1986,1962,2000,2018,1978,2020,1993,1940,1988,2010,1978,2017,1983,1951,1990,2020,1969,1964,1940,2017,2017,2021,2006,2017,2018,1985,1950,1986,1985,2017,1978,1983,1989,1987,1993,1945,1986,2014,1971,2013,1989,1938,2003,2019,1951,1966,1967,1941,1965,1985,1964,1952,1971,2012,2009,1973,1962,1969,1983,1957,1963,1991,2021,1950,2005,2015,1949,1960,2006,2001,1942,1956,1981,2018,2000,1950,1949,1982,2014,2013,2005,2016,1972,1983,1982,1974,1999,1964,1985,1992,1997,1969,1952,1995,2005,1985,2017,1982,1957,1961,1986,1970,1994,1969,1959,1956,1996,1976,2017,1976,2017,1935,2012,2018,1958,1999,2014,2018,2016,1977,1974,1937,2012,2018,1963,1980,2017,1966,1954,2019,2005,2015,1971,1973,2017,2017,2016,1960,2013,2001,1965,1961,2001,2011,2020,2018,2010,2020,2019,2005,2019,2013,2015,2007,1986,2009,2019,2001,1996,2005,1977,2014,2019,2007,2016,2003,2003,1959,2005,1969,1967,1989,1948,1984,1980,1961,1975,1974,2017,2014,2018,1981,1992,1965,1970,2019,1952,1961,1996,1959,1971,1967,2001,2019,2016,2014,2006,2020,2016,2019,1976,2011,2020,2020,1974,2014,2010,2013,2015,2006,1974,1986,2021,2006,2014,2020,2016,1992,2011,1997,1953,1952,1973,2018,2019,2017,1975,1998,1950,1999,1985,1997,2005,2018,2020,1982,1988,2019,2007,1997,1970,1996,1970,1950,2001,1975,2017,2016,2017,2018,2016,1987,1992,1987,2018,2009,2002,2004,2009,2005,1978,2002,1936,1955,2019,2019,2000,2018,2000,1980,2007,2008,2016,1961,1950,2017,2010,1959,2003,1981,1973,2012,1989,1991,1992,1966,2006,1963,2002,1992,2005,2003,2005,1999,2004,1967,2000,1998,1996,2016,2002,1982,1994,1999,1995,2015,1982,1967,1976,1953,1982,1968,1978,1958,1969,1971,1940,1969,1998,2019,2017,1964,1971,1977,1983,2006,1974,1964,2019,2005,2015,1931,2009,2013,1990,1994,2015,1937,2015,2010,2002,2007,1957,1996,1971,1973,1998,1989,2001,2018,1972,2003,1983,1980,1980,2020,1986,2002,1985,1989,1981,1957,1991,2017,1981,1968,1970,1971,1986,1969,1957,1969,2000,2015,2018,1949,2009,2008,1956,2012,2018,2019,1947,2018,2001,2015,1985,2019,2017,2005,1989,1957,2008,2019,1933,1943,2021,1954,2002,2005,2019,2008,1996,2021,2013,2016,2014,2016,2007,1959,2007,2014,1960,2012,2017,1973,2006,2000,1978,2018,2011,2016,2016,2016,1980,1983,2013,2018,1972,2005,1955,2018,1974,2011,1968,2007,2004,1992,1993,1980,1986,1978,1985,1984,1970,2004,1990,1989,1967,1987,1948,1988,1977,1973,1956,1984,2004,1963,1983,2018,1948,2017,1963,1979,1971,1995,1997,1965,2020,2019,1965,1963,1967,1995,2007,2010,1962,2008,2002,2011,1971,1990,2014,2017,2018,1996,1978,2015,2018,1963,1944,2012,2019,1991,2018,2015,1967,1971,2000,2012,2014,2015,1967,2004,2003,2014,2004,2003,1968,1998,2003,2014,1992,1999,2018,2008,2010,1991,2012,2018,2010,1987,1970,2000,2009,1999,1999,2019,1961,1946,2001,1951,1985,1999,1988,2005,1971,2015,2002,1945,2003,2006,2006,2007,2010,2015,2020,2018,2005,2012,2017,1986,1954,2012,2017,1996,1958,2017,2013,1935,1959,1974,1969,1992,1973,2005,2017,1964,1974,2018,2015,2013,1962,2010,1987,1968,2017,1975,1992,1999,2018,1971,2015,1963,2012,2016,2019,1969,2007,1975,1990,2009,1973,2013,2018,2012,2021,1950,2006,1936,2009,1942,1989,1959,1990,1980,2017,1979,1981,1969,1990,1976,1970,1936,2019,1955,1973,1941,1962,1964,2017,1938,2014,1969,2006,2017,1960,2003,2012,1950,2019,1973,2007,2016,2004,2017,2019,2021,1979,1992,2016,1979,2019,1983,1944,2019,1981,1980,1987,2013,1965,2020,2004,1987,1982,2014,2020,1990,1987,2015,2021,2006,2001,1976,1961,1981,1998,2017,2014,2013,1999,2007,2013,2012,1959,2005,1986,2019,1951,2002,2018,1997,1981,2013,1984,1989,1997,2019,1949,1971,1994,1960,2019,1968,2017,1998,2018,1977,2009,2000,2010,2019,1992,2005,1993,1974,1991,2018,2001,1957,2018,1971,1970,1997,1959,2018,2016,2017,1970,1996,2015,1942,1979,1965,1984,2011,1989,2018,1970,1988,1958,2015,2007,1983,1987,1975,1997,2014,2020,2003,1977,1963,2019,2017,1937,1943,2005,1978,1977,1964,2003,1976,2005,1978,1974,2020,1972,2001,1997,2020,2011,2011,2018,2018,1981,2007,2014,2000,2002,2005,1994,2007,1981,1975,2001,2017,2018,1958,2014,1991,1982,2014,1971,1991,2016,2018,1993,1990,2016,1988,2010,2007,2018,1939,2012,2019,2007,2013,2014,2003,2015,2012,2019,2009,2013,1991,1986,2020,2003,2004,1989,2020,2018,1981,2011,2018,2008,2009,2015,2018,2014,2014,1992,1957,1976,1970,1986,1964,1980,2018,2021,2021,1974,2016,2009,2013,1949,2015,2013,2005,1983,1989,1986,1962,1978,1988,1987,1967,2021,1994,1966,1971,2004,1972,2013,1980,2017,1960,1979,1974,2014,2003,2019,2015,1950,2005,1983,1986,1970,2003,2011,2018,2001,1993,1972,1934,1983,1976,2018,2020,1942,1979,1982,1971,1976,2008,1998,1967,2018,1971,1997,1964,2010,2006,1973,1989,1990,2020,1985,1966,1985,1971,1988,1972,1998,1970,1968,1972,2006,2009,1992,1969,2018,2011,2012,1967,2019,1972,2010,2020,1975,1999,1986,2017,1949,1936,1957,1935,1989,2018,2019,2002,2016,2011,1997,1965,1997,1984,2014,1987,2013,2021,2004,2009,2021,1957,1974,2010,2017,1977,2015,2018,2003,1983,2001,1992,1988,2018,1988,2016,2014,2015,2008,2008,2012,1972,1978,1978,2004,2013,1957,2019,2017,2005,2016,2010,2010,2005,2012,2018,2004,1979,2013,1971,1982,1948,2000,1954,1967,2021,1973,2005,1979,1943,1981,1962,1973,1982,2014,1963,1940,1992,2013,1951,1999,1955,1953,2005,1959,1957,1974,1990,1971,1990,1946,1947,1968,1957,2003,1986,2000,1989,2017,2015,1973,2018,1974,2019,1938,2011,2007,1965,2007,2018,2021,1979,1967,2019,2011,1990,2020,2012,2008,2002,2018,2019,2006,2017,1988,2002,2018,2016,1989,1965,2014,1977,2012,1984,2010,1973,1985,2018,1941,2014,2005,1977,2018,1984,1967,1977,2010,1958,2020,2010,2015,2014,1971,1989,2015,1972,1997,2020,1972,1989,2005,1985,1984,1958,2005,1993,2011,2014,2011,1953,1980,2004,2003,1970,2012,2005,2017,1987,1984,1985,1973,2011,2004,1958,2016,1945,1978,1964,2008,2010,2013,2019,2019,1984,1966,2016,2003,1972,2016,2017,2021,1972,1985,2018,1981,1973,1991,2004,1991,1981,1998,1937,1975,1974,1962,1989,1982,1974,1983,1994,1943,2005,2016,2018,1970,2014,1973,1987,2019,2003,1999,2001,2014,2001,1957,2002,1991,1990,1988,1969,1987,1971,1986,1975,1988,1998,1979,1958,2019,1975,1972,2013,1972,2021,2002,2018,2009,1990,2011,2017,1953,2001,2004,1968,1997,2013,1996,1974,1962,1977,2017,2019,1943,2020,1984,1985,1985,2017,2013,1944,1993,1975,2019,2010,2007,2000,2006,2007,2019,1974,1971,1988,2018,2005,2017,1988,2013,1965,2014,1972,2021,2003,2009,2019,2016,2008,2011,2010,1970,1974,1942,2016,2008,1993,1997,2017,1982,2019,1985,1985,1991,1994,1979,2017,2008,1984,2015,1998,1982,1968,2002,1992,2015,2006,2007,2003,1966,1998,2017,1969,2006,1958,2010,1983,1970,1951,1988,1958,1962,1986,2007,2017,1997,1980,1950,1970,1998,2017,1979,1961,1991,2016,2016,1964,1952,1994,1992,1950,1993,1964,1985,1976,1996,1993,1989,2002,1975,1992,1969,1968,1996,1985,1950,2017,1960,2005,1979,1986,1984,1980,2013,1969,1978,2004,1973,1996,1986,1982,2007,1951,2019,2012,2017,2018,1955,2017,2019,2017,2021,2005,1949,2015,1948,1946,2007,1965,1947,1961,1954,2015,1974,1976,1957,1970,1976,1981,1986,2004,1950,1986,1964,2020,1953,2005,1979,2012,2001,2012,1961,2006,1988,1972,2016,2016,2013,1981,2017,1968,2013,2020,2014,2019,2013,2015,2005,1981,2018,2005,2018,2008,2005,1980,2016,2013,2021,2000,2002,1948,2014,1979,2013,1958,2020,2013,2010,2011,1983,1989,1982,1975,1960,2012,2007,2020,1938,2014,2005,1968,1960,1982,2006,1949,2017,1984,2009,1976,2013,2008,2002,1987,2004,1977,2007,1990,1986,2018,1999,1990,1956,2003,2005,2019,1980,1958,1998,1952,1986,1955,1943,1976,2000,1967,2019,2013,1984,1995,1995,2019,2016,2016,2003,2019,2001,2001,1971,2009,2014,1993,2020,2013,1976,1941,2018,2014,2017,2009,1953,2008,2009,2013,2007,2020,2017,2020,2017,2018,2019,1931,2013,1995,1980,2018,2020,2020,1992,2020,2015,2019,2017,1996,2019,2015,1980,2011,2017,2010,2015,2018,2013,1992,2017,1980,1953,1983,2018,2009,1978,2014,2017,2015,1977,2016,2018,1984,1988,1978,2016,2005,2019,1989,2007,1998,2016,2021,1985,1988,1978,2011,1994,2020,2017,2015,2008,2016,2001,2011,2009,2002,2004,2018,1982,2017,1992,2008,2010,1976,1974,1970,1982,2014,2006,2015,1980,1996,2017,2006,2020,1967,2019,2019,1970,1960,1989,2015,1984,2006,2009,1955,1974,1982,1946,2021,1975,1975,2004,2011,2008,2009,2005,2009,1982,2020,2017,1997,1992,2005,2006,1988,2008,2016,2016,2013,2017,1965,1954,2005,2006,2017,2020,2012,2019,2006,2008,1989,2017,2004,2018,2020,2006,1983,1964,2013,2015,1992,1984,2014,2005,2014,1975,2006,2020,2003,1963,2011,2013,2012,1980,2018,2004,1996,2019,2001,1966,2014,2018,2016,1998,1988,1972,2005,2013,1983,1972,1974,1994,1960,1986,1986,1940,1976,1965,2002,2000,2018,2015],\"xaxis\":\"x\",\"y\":[7.0,7.4,6.2,7.3,7.1,5.6,4.5,4.8,7.7,6.9,6.9,7.5,5.6,7.3,4.8,7.8,6.2,6.1,4.1,8.1,6.3,7.5,4.5,8.0,7.3,3.8,7.9,8.0,6.8,7.6,6.4,6.7,6.8,6.2,5.0,7.6,5.4,7.2,6.0,6.8,5.5,5.6,6.2,6.7,6.9,6.3,7.7,6.4,6.4,5.6,8.1,6.1,7.4,4.8,6.6,6.4,5.7,6.3,6.2,6.7,5.4,5.3,7.1,4.3,7.0,3.7,7.3,6.1,3.8,4.8,5.5,7.2,6.4,3.8,7.0,7.6,4.0,6.3,6.8,7.9,6.7,5.8,6.5,6.9,4.7,5.0,3.3,5.5,5.8,6.5,7.8,3.6,5.9,6.4,7.1,6.1,4.6,2.9,5.9,7.0,5.7,8.0,6.6,6.6,5.8,6.5,6.7,6.9,6.3,6.6,7.7,7.0,4.8,6.7,6.8,5.5,5.9,6.5,7.0,6.8,6.1,8.2,4.4,6.5,6.2,5.6,7.0,7.3,5.9,8.3,7.1,6.2,5.3,6.7,5.5,6.1,7.2,7.1,6.9,7.1,6.5,8.0,5.6,7.3,7.0,7.9,7.1,7.4,6.3,6.9,6.4,4.5,6.6,7.2,5.5,7.1,6.7,7.4,6.6,6.6,6.7,6.8,6.6,3.5,6.2,6.5,6.0,6.8,6.1,7.3,7.6,6.5,6.8,5.2,5.3,6.2,7.9,6.9,7.1,4.9,6.3,7.6,9.3,4.3,7.5,7.3,8.8,6.0,8.2,3.8,7.2,4.2,6.4,6.5,6.0,7.2,7.9,5.9,8.7,6.2,6.4,7.1,8.8,2.1,8.3,5.4,7.3,6.1,7.1,7.3,4.8,5.9,8.2,6.7,6.3,6.0,6.9,5.4,5.4,6.7,4.7,6.6,5.9,7.7,7.2,7.4,5.5,5.7,7.1,7.6,6.0,6.5,6.3,6.8,7.4,6.8,8.1,3.2,6.7,6.1,7.2,7.1,6.2,7.7,5.1,3.7,6.0,5.6,5.1,7.7,6.9,5.9,3.7,6.8,7.1,6.8,6.0,7.0,6.9,6.8,7.3,4.8,5.6,5.9,2.8,6.9,3.7,7.0,6.8,4.4,7.3,6.2,6.3,4.4,5.8,7.6,5.1,4.4,5.6,7.0,7.3,6.7,5.4,4.3,8.7,4.4,4.9,6.0,5.8,5.3,4.6,6.2,6.2,6.8,6.2,4.9,7.0,7.1,7.1,7.2,7.8,6.7,7.4,6.5,7.0,6.4,6.9,5.7,6.0,7.6,5.9,6.2,7.1,8.2,7.4,6.6,6.7,5.7,6.3,6.0,7.0,6.7,5.1,7.5,7.6,7.6,7.3,6.6,6.8,6.1,6.8,5.4,4.1,3.4,4.5,4.2,4.2,6.5,7.2,5.7,3.5,5.5,3.9,7.7,5.9,7.9,8.2,6.5,6.6,7.0,6.8,6.8,4.8,6.7,6.8,6.9,8.3,8.1,6.7,8.0,7.1,6.8,6.5,6.4,6.1,7.5,7.7,6.2,6.3,8.3,7.1,3.7,6.6,6.1,6.7,4.6,5.3,7.2,6.7,4.6,7.8,6.8,6.5,7.5,3.9,5.8,6.1,5.3,7.4,3.5,7.3,5.9,5.6,7.1,6.5,9.0,6.5,7.7,6.8,6.2,6.9,6.1,4.6,6.5,7.0,7.0,5.1,7.1,7.7,4.9,7.4,6.3,5.5,6.7,6.6,7.0,8.3,7.5,7.0,5.1,6.5,3.8,7.2,7.1,4.7,7.1,6.8,7.4,7.2,8.1,6.3,5.8,7.8,7.5,7.5,4.3,5.0,5.9,6.1,4.9,6.9,8.0,4.2,7.1,7.6,6.2,7.9,7.8,5.2,3.7,4.5,6.5,6.5,5.0,4.3,4.4,7.3,6.4,7.8,7.0,6.7,7.2,7.2,7.2,3.6,7.6,7.0,5.0,6.4,3.5,6.7,5.3,5.1,4.6,4.8,4.9,5.1,4.4,7.0,5.0,7.6,5.0,6.5,5.3,5.5,3.8,5.3,8.1,2.5,6.4,6.9,6.9,8.4,6.0,6.5,7.1,6.0,7.0,6.3,6.5,7.2,6.4,4.9,4.0,8.2,7.7,7.0,6.9,7.9,7.0,8.4,3.3,5.5,7.0,5.3,6.2,5.2,7.1,7.6,5.2,6.9,6.3,3.7,4.6,5.7,7.1,4.0,7.1,7.0,7.7,7.2,5.6,7.8,7.7,6.7,6.7,7.0,6.3,8.5,7.1,2.9,6.6,7.1,7.5,6.4,7.2,2.5,5.8,6.3,6.1,6.8,6.9,6.6,7.3,6.6,5.7,6.9,4.0,6.9,4.4,5.2,6.9,5.9,5.7,5.8,6.2,7.1,5.9,3.4,4.5,5.3,4.9,4.1,4.3,8.0,6.9,4.6,6.2,6.6,5.4,5.8,5.5,5.1,6.9,7.4,7.2,6.8,6.2,5.4,6.0,6.0,6.3,7.5,7.1,4.7,7.2,6.2,8.3,6.0,7.2,5.0,7.1,5.8,2.5,4.6,7.6,5.2,6.4,5.7,7.3,5.3,6.8,4.5,7.3,3.4,8.1,7.3,6.5,3.5,4.2,5.9,6.0,6.8,6.7,7.0,7.1,5.5,7.6,4.0,6.0,5.9,6.6,6.6,5.7,4.7,6.9,6.2,6.6,6.8,3.2,7.0,7.1,7.3,7.4,6.1,6.8,6.9,7.2,4.2,6.7,8.4,5.4,8.0,7.0,6.9,5.8,4.1,7.7,7.5,5.8,3.4,3.7,5.7,6.9,5.8,8.4,4.4,7.2,7.9,6.7,6.7,7.8,6.4,6.7,7.7,7.6,4.4,7.9,6.4,6.5,7.2,5.7,5.3,4.4,4.5,7.9,6.2,3.3,7.4,2.7,6.2,6.5,7.1,7.9,5.1,5.1,4.0,5.6,3.3,6.0,6.4,5.1,6.3,4.2,5.4,5.9,7.3,6.4,6.4,5.7,5.7,7.5,7.1,4.2,6.5,5.3,6.3,5.8,4.6,5.9,6.4,5.4,7.5,1.7,5.2,4.8,6.9,6.8,5.7,7.2,5.4,7.3,6.9,6.5,6.0,6.1,5.9,7.1,7.0,7.3,6.0,6.0,7.4,6.8,6.5,6.8,3.8,5.8,8.1,6.3,5.4,7.3,5.5,6.7,4.5,6.7,6.8,5.0,7.0,5.3,5.9,5.9,4.8,4.8,6.5,5.0,6.2,6.7,5.6,8.1,6.4,7.9,6.2,5.3,6.2,5.3,6.7,6.0,7.1,7.5,7.1,4.4,5.9,3.9,7.6,4.6,5.0,5.6,4.2,5.4,6.7,5.9,6.9,4.9,6.3,7.1,7.3,7.2,6.5,7.2,6.3,5.9,5.9,4.4,5.2,4.9,6.4,3.4,8.6,7.4,5.2,3.0,7.4,9.0,6.2,2.1,6.2,4.0,2.3,3.7,9.4,7.6,5.6,4.2,6.8,7.9,5.6,7.6,8.0,5.9,5.0,6.1,7.1,6.2,3.4,2.7,4.6,6.6,4.2,7.3,4.8,6.3,5.0,6.6,6.1,7.4,7.4,7.8,6.6,7.1,8.1,5.7,7.8,5.4,6.2,6.6,7.9,6.7,6.3,5.7,3.6,6.3,6.2,8.0,7.2,7.8,6.5,7.1,7.2,5.1,8.2,6.2,6.6,3.7,7.9,6.3,7.3,6.9,6.5,4.8,6.7,2.9,4.4,7.1,6.6,5.1,4.5,4.3,5.9,7.0,6.7,6.0,6.9,5.6,6.9,7.2,5.5,7.1,6.9,5.7,7.7,7.7,7.5,4.0,6.2,6.5,6.9,7.2,5.0,6.6,8.1,7.2,6.6,4.7,7.5,6.3,8.1,5.8,7.1,4.6,5.5,7.8,4.1,6.7,7.1,7.5,5.6,6.3,7.4,4.5,7.1,7.4,6.7,2.4,7.9,4.7,7.4,7.4,7.3,8.6,3.8,6.6,6.5,6.7,4.3,8.5,4.3,6.9,5.7,7.4,5.9,3.9,5.6,5.8,5.4,7.1,6.2,8.1,7.2,7.8,7.3,6.9,4.7,5.0,7.9,6.5,7.4,7.3,6.0,5.2,7.5,6.7,8.2,4.4,5.8,6.6,6.4,5.9,7.1,8.4,6.6,5.8,5.2,5.8,6.1,7.8,5.3,7.3,5.9,5.7,4.7,3.8,3.6,5.5,10.0,7.4,6.5,5.3,6.0,5.1,7.1,7.1,6.4,3.9,5.1,5.9,7.2,6.5,7.5,5.1,7.0,5.4,8.6,8.6,4.6,6.3,5.4,7.0,6.8,7.1,6.3,6.7,4.8,5.2,7.2,5.8,7.4,6.7,7.8,5.1,7.7,8.1,7.7,6.8,5.2,6.9,7.3,6.2,7.1,6.0,6.0,6.9,4.2,7.2,3.5,6.1,8.2,6.2,5.3,8.4,7.2,6.8,7.7,4.7,2.8,7.0,5.4,6.9,8.5,6.5,5.7,7.9,6.7,7.2,6.6,6.1,6.7,6.5,3.5,3.4,7.2,6.6,6.8,6.4,7.6,7.2,3.6,5.6,4.1,3.8,8.8,4.9,7.6,4.7,7.4,6.6,5.6,5.0,7.0,6.4,6.9,3.5,5.6,6.3,5.1,7.1,5.3,6.2,6.8,5.0,6.0,4.1,6.6,7.5,6.2,7.7,4.1,7.1,6.1,7.5,6.3,4.5,5.8,6.5,6.8,8.0,6.5,5.3,6.7,3.5,7.1,7.1,5.3,4.8,9.0,6.7,4.7,7.9,8.0,6.7,4.2,5.8,6.6,6.5,7.2,3.9,6.5,5.0,6.1,7.0,6.9,4.8,6.8,2.7,1.6,5.9,7.7,6.4,5.3,5.5,7.5,5.4,4.9,7.4,6.3,5.5,7.2,6.2,3.1,8.0,6.1,6.5,5.7,4.2,6.0,6.7,6.7,7.9,6.8,5.6,6.7,6.3,7.4,6.3,4.3,6.8,7.5,6.4,5.9,7.3,7.6,8.2,7.0,6.5,3.8,3.2,5.6,6.6,7.4,6.2,7.1,6.5,8.0,7.0,4.4,6.9,6.3,6.8,7.7,6.8,6.1,7.4,7.7,6.1,5.2,4.3,8.3,4.0,3.9,7.7,9.1,5.5,9.1,5.4,4.9,7.3,5.8,7.2,6.0,6.0,6.9,7.6,5.7,5.3,6.2,6.6,5.1,7.5,8.2,6.3,5.2,7.1,5.5,7.0,3.1,6.4,7.4,7.0,6.6,4.8,7.6,4.9,7.1,7.1,7.0,7.2,5.8,7.3,7.6,6.3,6.5,5.5,7.6,3.9,6.8,6.8,3.7,6.0,5.0,6.2,6.2,7.6,6.4,7.0,8.1,7.5,7.2,7.2,6.6,7.2,6.8,7.6,7.1,6.2,4.0,5.6,7.8,5.8,4.3,4.6,8.0,7.0,5.7,6.2,8.3,6.3,6.0,7.3,5.0,6.1,7.5,6.9,6.5,6.2,5.7,3.9,3.2,7.6,6.9,5.4,5.8,6.2,6.7,8.0,7.9,8.4,8.7,5.0,6.7,8.3,5.4,5.2,6.9,8.0,6.8,5.5,6.5,1.7,5.9,6.6,6.3,7.6,5.9,7.2,6.5,6.1,6.1,7.7,4.6,6.4,6.6,7.4,6.3,6.1,6.4,3.6,6.1,3.3,5.7,5.9,6.5,8.4,3.3,6.3,6.1,6.5,6.8,5.6,6.1,3.6,5.7,7.5,5.1,5.4,6.5,7.4,6.2,6.3,7.6,5.7,5.2,6.5,7.3,2.9,3.6,4.9,5.6,7.0,5.4,7.6,6.9,3.7,2.3,4.5,7.3,6.5,7.6,6.5,6.6,7.2,8.0,5.8,6.0,6.7,7.5,6.4,6.8,4.8,6.7,7.2,6.9,3.3,5.4,5.9,8.0,4.5,7.0,6.8,7.0,8.4,5.1,6.9,6.7,3.5,6.5,6.8,6.7,8.7,6.1,7.4,7.8,5.0,7.7,7.7,4.2,6.1,6.8,6.3,6.8,5.5,7.2,7.7,6.4,6.3,5.4,7.1,7.2,7.2,4.9,6.3,8.2,5.8,8.2,5.6,5.9,7.1,7.2,6.8,5.1,6.7,2.8,5.2,5.8,5.1,4.8,6.9,7.3,5.8,7.2,4.5,8.4,7.2,6.1,6.4,5.6,8.3,4.1,5.8,6.4,5.6,7.3,6.9,6.2,7.5,5.4,6.7,7.4,5.4,3.2,7.4,7.5,7.3,4.2,5.6,6.7,3.2,7.0,7.0,6.4,7.3,5.8,6.7,7.1,6.8,3.3,7.2,6.4,6.6,5.2,6.9,6.2,7.5,7.0,4.8,5.3,5.4,6.7,5.9,8.2,7.1,7.2,7.2,6.0,6.2,6.1,6.3,6.2,6.5,7.5,7.8,6.8,6.8,5.2,6.9,7.6,6.0,5.1,6.6,7.4,7.2,6.9,2.3,6.8,6.7,6.5,6.6,6.8,6.8,6.5,6.6,7.1,5.8,5.5,6.4,3.5,7.4,7.2,6.5,3.8,7.0,4.9,5.6,8.1,4.8,6.2,7.3,6.8,5.0,7.2,6.6,5.7,6.5,7.3,7.2,6.6,5.0,6.4,7.2,6.6,7.3,6.2,4.0,7.3,7.1,4.2,7.7,5.8,5.1,6.5,6.9,6.3,6.6,6.5,4.3,7.2,6.9,6.0,3.5,6.0,9.1,5.8,5.6,7.1,5.7,5.3,6.1,7.8,8.5,5.6,4.9,3.6,6.3,6.5,7.2,4.8,7.3,6.3,5.4,6.6,6.1,5.6,4.5,6.8,1.9,6.0,6.4,7.3,8.2,6.5,6.8,6.7,6.7,8.7,6.7,5.6,6.6,6.7,5.0,6.1,5.4,6.7,6.8,7.6,5.1,8.4,7.5,7.2,6.0,6.3,7.3,5.5,6.9,7.6,7.2,8.1,7.3,7.5,5.9,5.4,4.9,5.3,7.2,6.2,7.0,5.3,6.8,5.9,7.7,6.4,5.9,2.4,6.0,5.1,6.9,5.4,5.0,6.1,6.2,6.5,7.2,6.8,7.2,6.6,7.9,6.2,7.8,7.0,6.4,3.5,8.6,9.4,8.0,6.7,7.3,7.6,5.9,7.2,7.8,7.3,8.1,4.4,5.7,5.7,6.9,7.0,6.8,4.4,5.9,5.9,7.3,6.4,6.6,5.8,7.1,7.3,7.9,5.9,6.3,6.7,6.9,5.2,5.5,5.7,5.4,2.6,7.6,6.3,6.5,6.7,7.6,6.1,7.0,7.3,7.2,6.0,7.3,8.0,3.8,6.2,6.0,4.8,7.5,3.9,5.0,4.6,2.4,8.3,5.6,8.1,4.8,5.9,8.1,5.0,6.2,4.4,6.6,5.5,5.5,8.2,5.8,4.2,7.3,3.3,7.0,7.5,6.7,7.1,6.9,6.8,5.2,5.6,6.9,4.1,4.8,5.3,6.8,7.3,7.0,8.2,7.4,5.0,7.8,6.7,5.4,3.8,7.1,7.2,7.3,6.2,5.6,7.5,4.3,7.1,6.6,6.7,3.7,5.4,4.4,6.7,6.6,7.8,6.4,7.7,4.8,4.9,7.9,5.2,5.4,6.5,4.9,7.3,5.5,6.8,9.0,4.8,6.2,7.6,7.6,7.6,5.2,6.5,5.4,2.7,5.1,6.7,4.4,6.4,7.6,3.9,5.4,4.7,7.1,5.2,4.4,6.1,3.7,4.9,8.0,3.0,5.2,5.1,5.9,7.0,7.9,6.2,6.0,3.0,6.3,7.7,6.4,7.1,4.7,5.3,3.9,7.1,7.0,6.8,6.0,5.5,5.7,5.7,6.1],\"yaxis\":\"y\",\"type\":\"scattergl\"},{\"hovertemplate\":\"Genere=Comedy\\u003cbr\\u003eYear=%{x}\\u003cbr\\u003eRating=%{y}\\u003cextra\\u003e\\u003c\\u002fextra\\u003e\",\"legendgroup\":\"Comedy\",\"line\":{\"color\":\"#EF553B\",\"dash\":\"solid\"},\"marker\":{\"symbol\":\"circle\"},\"mode\":\"lines\",\"name\":\"Comedy\",\"showlegend\":true,\"x\":[2019,1997,2012,2018,2010,2017,2017,2014,2017,2012,2019,2009,2006,2005,2009,2020,1968,2009,2001,1970,2009,1971,2006,1957,1998,1984,2012,2010,1954,1950,2019,2010,1996,2012,2012,2002,2019,2001,1951,1980,2015,1997,2011,2001,2014,2021,1959,1993,1999,1986,1982,2020,2015,2010,2013,1989,1960,2006,1964,1967,2012,2020,2010,1968,1998,2007,1967,2019,2019,2015,1955,2017,1986,2013,2014,2008,2005,2008,2009,1999,2018,2002,1969,2010,2016,2015,2019,2017,2019,1967,2020,2013,2019,1976,2017,2014,1997,2010,1955,2015,2009,2012,1960,1979,1972,2011,2016,2017,2010,1964,2014,2018,1991,2018,2006,2017,2020,2017,1981,1965,2007,2011,2016,2007,1965,2014,2008,1969,2009,2013,1984,1966,1988,1999,1981,2018,2005,1973,2014,2019,1980,1998,2008,1954,1968,2010,2011,2004,2007,1966,2014,2012,2015,2005,2005,2008,2017,2012,2012,1997,2004,2007,2014,2015,2000,2012,1977,2011,2012,2011,1958,2020,1992,1986,2010,1993,2013,1981,1983,2007,2017,2020,2019,1961,1996,1976,2005,2018,2011,1962,2009,2019,2015,2013,1990,1956,2003,2001,1975,1982,2019,2006,1975,2003,2012,2020,2009,1964,2012,2014,2010,1980,2009,1978,2011,2006,1972,2008,2016,2019,2008,2016,2014,2013,1997,2009,1957,2014,1985,2011,2011,2019,1993,2015,2007,1951,2008,2009,1975,1990,2020,2009,2001,2015,1974,2007,1963,2018,2008,1993,1962,1997,2011,1947,1966,2015,1990,1957,2010,1968,1975,2009,2015,2019,2008,2020,2005,2011,2014,2019,2003,1964,2010,2000,1998,2015,2002,1966,2010,2001,2019,1946,1978,1963,1972,1992,2005,1992,2019,2012,1960,1963,2004,2014,2008,2020,2012,2011,2012,2012,1983,2012,2017,1953,2007,2012,2019,2016,2018,2008,2009,2018,2016,2013,2017,2012,2009,1986,2014,1972,2005,1975,1989,2013,1963,1988,1992,1961,1998,1992,2020,2020,2013,2008,2008,2019,2007,2019,1982,2013,2013,2016,2012,2015,2015,2017,2020,2019,1969,2000,2016,2015,2011,1956,1979,2019,2016,2014,2020,2011,2018,2000,2008,2014,2018,2007,2021,2010,2010,2016,1997,2007,2018,2018,2017,2010,2015,1985,2003,2005,2020,1973,1992,2007,2018,2017,2018,2016,2019,2010,2008,1994,1999,1985,2014,1993,1980,2004,2010,1999,2011,2014,1983,2014,2003,2015,2018,1998,2006,2019,2010,2010,2010,2015,2006,2013,2014,2010,1994,2020,1989,2001,2006,2019,2013,2017,2003,2018,2010,2010,2003,1981,2012,1989,1983,1998,2010,2008,2006,2017,1961,2007,2018,2013,1955,2015,2020,1989,1979,2017,2020,2006,2002,2018,2003,2019,2007,1998,2010,2019,1985,1961,2000,2011,1992,2012,2001,2003,1967,1971,1957,2012,2013,2017,2000,1997,2019,1961,2007,2015,2018,2003,1994,1999,2011,2019,1996,2019,1963,2003,1996,2012,2016,1993,1964,1983,2015,1987,2015,1983,2020,2002,2012,2018,2019,2007,1978,2010,1992,1975,2008,2010,2012,2014,2006,1980,2005,2016,1993,1986,2004,2015,2008,1983,2002,2005,2008,2007,2001,1998,2015,2003,2005,2006,1985,2014,2000,1974,2008,2010,2018,2007,2005,2016,2012,2004,2011,2016,2017,1981,2006,2011,1953,2006,1984,1971,2019,2018,1967,2012,2012,1964,2014,2002,2004,2007,2014,2017,2019,2016,2007,2017,2020,2009,2017,2011,2011,2006,2016,2001,2009,2018,2016,2021,2018,2018,2012,2016,2010,2014,2019,2011,2012,2012,1962,2018,2008,2019,2009,1957,2014,2015,2003,1971,1999,2005,2005,2006,1973,1983,1976,1962,1974,2007,2019,2014,2020,1999,1985,2004,2017,2016,2013,1975,2009,1981,2015,1962,1956,1961,1995,1968,1970,2008,2011,2013,2012,2013,1963,2018,2002,1979,2017,2013,2011,2011,2010,2015,2005,2008,2018,2006,2015,2008,2015,2001,1999,2007,2004,2005,1955,1997,1996,2007,1961,2017,1952,2017,2017,2011,2004,2014,2005,2011,2011,1955,2003,2014,1992,2013,2006,2011,2002,2018,2007,2007,2018,1981,1978,1997,1986,1954,1957,2011,1962,1979,2013,2018,2003,1961,2005,1956,2017,2005,2014,1995,2008,2012,2020,2014,2004,2008,2003,2003,2015,2009,1992,2018,2005,1968,2021,2020,2005,1959,1956,1969,2008,1996,2010,1968,2007,1949,2017,1966,1978,2019,1961,1957,2009,1986,2010,1988,2018,2010,2017,2000,2006,2017,2013,1985,2015,2014,2018,2004,2017,2017,2003,1971,1978,1962,1994,1986,1984,1972,2002,2010,2011,2015,2006,2005,1998,1969,1987,1966,2017,1995,2009,2008,2013,2008,2003,1955,2015,2003,2000,1999,2018,1967,1977,2008,2005,2019,1983,2006,1995,2019,1986,2019,2009,1999,1988,2021,2017,1996,2013,2016,2015,1976,2012,1968,1969,2005,2007,2021,2006,1943,1972,2009,2016,1966,2021,2011,2015,2017,2020,2006,1972,2014,2005,2006,2018,2015,2006,2010,2011,1984,2015,2002,2019,1982,2016,2011,2020,2020,2004,2009,1955,1993,1982,1983,2017,2020,2013,2011,1999,1987,2005,1958,1956,2014,2018,1988,2008,2011,1956,2009,2018,2012,2003,2001,1970,2018,2014,2018,1979,2013,2016,2014,1985,2020,1978,1980,1983,2017,2007,2015,2011,2015,2004,1985,2006,1968,2010,1994,1966,1966,2015,2010,2016,2011,2012,2012,2011,2005,2005,1977,2010,2019,2014,2011,2019,1994,2001,2007,2009,2015,2014,1968,2015,2002,2019,2008,1990,2015,1998,2014,2000,2010,2017,2014,2021,1970,2010,2017,1969,1996,2011,2016,2013,2017,2018,2008,2019,1992,2015,1955,2011,2004,2015,2005,1994,2018,2018,2012,2017,2020,1985,2015,2009,2005,2013,2010,2015,2007,2018,2008,2009,2009,2018,1998,2012,2003,2020,2015,1994,2014,2002,2019,1977,1997,2016,2001,2008,1993,2014,2018,2013,2013,2011],\"xaxis\":\"x\",\"y\":[4.4,4.7,5.7,7.4,6.3,6.6,5.5,6.9,6.1,3.3,6.9,8.4,5.7,5.3,7.3,6.3,5.5,5.0,4.8,6.5,5.1,6.6,3.6,6.5,6.4,6.6,4.0,4.2,6.7,7.1,7.2,5.0,6.6,4.4,4.2,5.1,6.9,3.7,7.0,7.5,3.8,4.3,4.0,6.6,5.4,8.1,7.9,4.8,5.0,6.8,8.3,7.3,7.0,5.8,8.0,6.3,6.8,5.3,6.1,6.3,5.4,5.9,6.4,5.3,4.3,4.2,7.4,7.0,7.0,6.2,6.4,6.2,6.4,5.1,6.7,2.7,2.7,6.1,3.5,3.6,8.0,4.5,4.4,6.0,4.3,4.6,7.1,6.1,8.8,6.5,7.3,5.3,7.3,6.9,7.5,3.6,4.2,7.2,7.1,4.5,6.8,8.1,6.5,7.5,8.0,3.1,3.9,5.6,6.1,6.8,5.5,3.6,4.1,8.3,6.5,5.1,6.0,6.8,6.6,6.2,7.6,4.7,5.9,7.3,6.5,6.6,6.3,7.5,6.2,4.5,5.1,6.9,5.8,5.7,7.0,7.1,6.6,7.1,5.5,4.5,6.9,6.5,4.6,8.0,6.9,5.2,5.7,6.2,2.6,7.4,7.8,6.0,4.8,6.2,6.1,5.4,5.6,6.1,4.1,7.4,4.7,5.6,3.8,4.9,4.7,6.1,7.0,6.1,5.9,6.8,8.0,7.0,6.6,7.5,4.7,4.0,5.4,8.0,5.9,6.8,5.7,6.8,8.3,5.5,4.7,8.3,5.6,6.4,7.5,7.1,6.0,6.5,4.7,6.5,4.5,7.7,4.8,5.4,7.0,5.3,6.8,6.8,8.3,5.4,6.3,7.7,5.4,6.0,3.9,6.1,6.3,7.2,3.8,7.0,4.0,5.3,6.9,7.8,7.3,6.6,4.1,6.4,7.1,2.4,6.7,4.5,7.4,6.1,5.6,6.2,5.7,2.6,3.4,6.3,6.3,6.3,3.4,5.6,4.5,6.7,6.6,4.6,8.1,6.9,6.2,7.0,7.1,3.7,5.7,5.1,7.0,7.0,5.8,7.4,6.3,3.7,7.0,8.4,7.5,7.2,6.1,3.6,4.5,5.4,4.7,6.2,4.2,3.8,6.0,7.0,4.6,7.1,4.2,5.1,6.6,7.5,6.5,6.6,6.9,4.5,7.4,6.5,5.5,6.4,5.4,7.0,5.7,5.7,5.5,5.7,6.8,6.8,4.4,6.0,4.2,6.1,7.8,4.6,5.7,6.4,5.8,7.3,4.4,7.5,6.4,4.7,4.3,4.9,6.8,6.5,2.8,5.2,5.4,6.9,6.5,5.1,7.3,7.6,3.6,5.8,6.7,6.9,4.9,5.8,5.8,4.9,5.8,7.1,4.6,5.4,5.5,5.7,5.6,3.6,5.1,7.0,3.8,6.9,5.9,4.9,4.4,3.6,5.7,4.7,5.3,5.4,6.3,3.5,6.6,5.3,6.1,2.5,5.3,6.4,8.5,7.4,6.5,5.4,5.9,3.2,4.5,5.2,1.9,6.8,4.4,4.2,5.6,2.7,6.3,3.8,6.2,6.0,7.5,5.4,7.9,2.9,3.8,7.4,7.0,3.1,6.6,6.5,5.6,6.1,6.3,5.8,3.8,7.1,5.5,5.5,6.4,7.5,7.5,6.6,6.2,7.4,5.6,7.0,4.7,5.3,3.6,6.0,5.3,1.8,7.5,7.0,6.9,7.2,6.8,5.2,6.0,8.0,5.6,3.4,4.1,4.6,5.9,4.5,7.1,3.0,7.2,2.6,4.7,5.0,3.8,5.8,6.0,4.1,7.3,5.4,7.3,6.9,4.3,4.1,8.4,3.3,3.8,7.5,6.1,5.3,6.8,7.9,7.5,2.0,6.8,5.2,3.6,5.6,6.5,5.8,6.6,2.9,4.4,6.1,7.2,8.2,3.7,5.7,6.1,4.7,6.6,7.0,4.9,5.7,8.2,3.5,5.8,6.2,6.4,6.8,6.0,2.4,7.5,7.2,5.1,6.1,5.9,7.3,5.3,3.9,6.3,3.6,7.8,6.2,6.4,7.0,6.8,6.8,7.5,7.9,5.1,4.1,7.7,7.1,7.1,7.8,4.9,5.9,6.1,6.7,3.3,4.7,8.1,5.6,4.0,5.1,7.5,5.7,6.4,7.5,7.2,7.2,5.1,6.4,8.3,7.6,4.1,5.8,5.1,6.3,2.5,5.7,5.2,7.4,4.5,5.2,4.2,3.8,4.6,7.6,2.5,5.4,3.4,3.7,8.5,5.3,5.1,7.2,4.7,4.3,8.9,3.6,6.1,1.9,4.9,4.2,5.8,8.0,3.4,5.8,3.6,6.0,5.9,8.0,6.8,7.0,8.8,6.6,6.5,6.2,5.3,7.3,4.9,5.1,6.3,7.4,5.4,5.5,7.1,6.8,7.0,6.8,7.6,6.8,7.4,5.8,5.3,4.2,6.6,6.0,5.7,7.2,4.4,9.3,5.8,3.0,5.3,4.5,7.1,5.1,6.3,4.8,6.6,5.5,5.0,5.7,3.1,6.2,6.2,6.8,5.2,7.3,4.0,6.5,4.7,7.2,5.5,7.0,6.5,7.5,6.7,7.1,6.8,4.8,4.9,5.2,5.8,5.4,6.5,6.2,3.3,2.4,5.6,6.7,3.6,6.2,7.2,5.9,7.2,7.4,4.4,5.8,8.0,5.4,5.8,6.4,3.5,6.7,6.9,6.1,5.3,6.5,6.0,6.0,2.5,6.2,6.5,5.4,7.6,7.1,6.9,6.4,6.8,2.7,3.3,7.4,4.3,7.0,5.3,3.6,7.2,6.4,5.4,4.0,6.8,4.8,7.4,2.5,5.5,6.9,6.7,5.7,6.6,5.2,4.9,7.4,8.1,3.2,7.0,7.4,4.7,5.3,5.0,2.2,7.1,6.0,5.9,7.4,6.5,5.3,5.6,6.2,6.8,2.5,5.4,6.4,5.8,4.4,5.4,6.9,3.2,7.4,7.7,6.6,3.3,4.2,5.4,8.1,4.9,4.2,5.6,5.3,3.5,3.3,3.9,7.2,3.3,7.9,2.4,8.1,6.9,6.7,6.5,7.0,6.5,4.9,7.3,4.6,6.5,6.3,5.8,6.4,4.1,6.2,7.1,5.7,7.0,7.1,4.2,6.4,7.4,7.1,3.8,7.5,6.1,6.2,7.0,6.0,6.3,6.1,7.6,8.1,5.5,4.0,5.4,4.9,6.2,6.2,6.7,7.0,6.2,7.8,6.4,5.9,3.9,4.6,7.6,7.2,6.7,6.1,6.7,6.2,7.4,7.1,7.1,4.9,6.3,7.2,4.3,3.4,6.9,7.2,7.9,3.7,3.4,4.6,5.8,7.4,6.7,3.9,6.7,7.6,7.1,8.1,7.5,2.3,5.7,7.7,7.5,7.4,6.9,4.3,6.6,6.0,7.1,5.7,3.5,6.8,7.1,6.6,7.1,6.2,5.1,6.3,5.4,6.9,6.2,6.2,2.8,7.3,4.1,5.3,3.8,7.5,6.8,4.1,5.1,5.6,3.5,4.1,4.9,3.5,7.4,5.0,4.9,7.4,4.9,4.6,4.9,7.2,6.1,3.9,8.5,4.6,4.2,3.4,8.0,4.8,6.4,6.3,6.9,5.8,6.0,6.2,2.5,5.1,7.4,7.0,5.1,5.3,7.1,5.6,6.1,7.8,8.2,5.8,7.6,5.3,2.6,6.7,6.4,6.8,7.1,7.1,5.9,5.4,6.5,4.6,6.8,5.9,5.5,7.4,6.1,3.4,5.6,7.3,6.8,7.6,2.6,7.1,7.3,6.8,2.6,5.2,7.9,7.7,4.0,7.2,4.3,5.3,5.8,4.7,4.7,7.3,7.4,7.6,6.0,8.0,7.3,6.4,7.2,4.4,5.8,6.2,6.8,6.6,4.9,6.8,5.7,7.4,4.2,4.9,7.0,5.9,5.0,4.3,4.4,5.1,7.2,5.0,4.5,7.0,5.6,7.0,6.5,5.9,5.1,5.5,6.9,6.8,3.5,3.7,6.9,4.2,6.6,7.4,6.0,4.8,4.9,4.5,6.6,3.2,2.8,7.8,5.3,2.9,4.5,7.2,7.6,6.8,5.4,5.6,3.8,6.9,1.6,6.9,7.3,4.6,4.9,5.8,4.5,5.7,5.1,6.1,6.0,3.6,4.7,8.6,6.4,6.8,7.8,5.7,4.1,7.6,6.4,5.4,2.7,3.7,8.2],\"yaxis\":\"y\",\"type\":\"scattergl\"},{\"hovertemplate\":\"Genere= Romance\\u003cbr\\u003eYear=%{x}\\u003cbr\\u003eRating=%{y}\\u003cextra\\u003e\\u003c\\u002fextra\\u003e\",\"legendgroup\":\" Romance\",\"line\":{\"color\":\"#00cc96\",\"dash\":\"solid\"},\"marker\":{\"symbol\":\"circle\"},\"mode\":\"lines\",\"name\":\" Romance\",\"showlegend\":true,\"x\":[2019,2005,1991,2012,2010,2008,2012,2018,2014,2014,2012,1981,2019,2010,2020,2019,2005,1999,1973,1994,1950,1968,1969,1993,1948,1953,1993,1963,1976,1991,1968,1990,1975,1967,1970,1975,1972,1971,2006,1964,2002,1981,1954,1962,2007,1999,1957,1980,2001,2005,1990,2011,1992,1998,1974,1966,1995,1994,1980,1968,1970,1936,2010,1958,1954,1966,2001,1991,1950,1988,1996,2002,1981,2006,1979,2010,1996,2004,2012,2012,2009,1974,1996,2021,2013,2002,2006,1985,2001,1980,1966,2015,1967,1954,1958,1972,2001,2014,1967,1973,1993,1975,1953,2003,1971,1994,1995,1952,1973,2006,1993,1946,1948,1973,1962,1966,1960,2006,2007,2006,1977,1975,1972,1964,1969,1999,2003,1967,1983,1982,1950,1965,2018,1984,1952,1962,1978,1998,2017,1951,1984,1969,1964,2021,2006,2016,1990,2017,1957,2013,1962,2014,2005,2008,1951,1978,1999,1969,2015,2017,1982,2003,1966,1967,1967,1952,1976,1968,2010,1998,1963,1991,1955,2005,2012,2015,1949,1995,1960,2006,2001,1960,1956,1979,1950,1993,2016,2016,1983,1964,2013,1992,1983,1997,1952,1995,2005,1985,2014,1982,2015,2018,1996,1976,1976,1965,2012,1974,1999,1981,1973,2013,1973,1960,2019,2008,1961,2010,1966,2000,1986,1996,2005,2012,2019,2000,1977,2002,2003,1958,1986,1989,1993,1961,1976,1981,2007,1981,1965,1977,1960,1961,1961,1996,1976,1967,2001,2005,1962,1976,1974,1956,2003,1975,2006,1975,2003,2012,2008,2020,1988,1995,1991,2020,1992,2016,1994,1952,1973,2005,1997,2014,1999,2011,1995,2012,1996,2007,1949,1993,1996,1950,1992,2019,2008,2017,2016,2014,1992,1951,2001,2013,1997,1987,2000,1957,2007,2009,1966,2002,1936,1955,2000,2018,2000,1993,2008,1975,2007,1951,1990,1992,2020,2009,2001,1959,2015,1974,1966,2006,1963,1993,2002,1963,1992,2005,2018,1992,2003,1999,2004,2004,1967,1998,1993,1962,2011,2016,2002,1994,1996,1947,1999,1966,1994,1995,2016,1982,1967,1982,2016,1978,1969,1969,1998,2015,1977,2005,2019,1992,1994,1949,2010,2000,2015,2015,2010,1992,1995,1973,1998,2001,1980,1963,1981,1972,1981,1983,1968,1992,2019,2012,2015,1960,1957,1969,2012,2013,2008,2012,2020,2001,1985,2019,2006,2008,2019,1933,2012,2002,1996,2016,2008,2013,1960,1966,2001,1995,1971,1986,1988,1972,1978,1977,1992,2019,2020,2007,2008,1959,2013,1979,1995,1997,1965,2019,1963,2019,1993,2015,2010,2008,2002,2003,1990,2000,1984,2017,2021,1962,2000,2015,1997,1944,1979,2016,2014,2020,1995,2015,2020,1967,1962,2014,1999,2007,2004,2003,2014,1970,1992,2008,2016,1991,1983,2014,2014,2005,2007,2010,2016,1995,1999,1961,1993,2001,2002,1995,2000,2004,1999,2002,2019,2006,2006,2014,2002,2014,2003,2015,2018,1998,2010,2015,2018,2010,2015,1954,1994,2003,1932,2013,1955,2006,2012,1974,2013,2015,2018,2003,2018,2010,2010,2013,1997,1968,2003,1996,1992,1999,2008,1976,2015,2017,1965,1963,2012,2007,1967,1977,2020,2018,1950,2006,1972,2012,2008,1965,1985,2009,1970,2006,1990,2013,1992,2002,1969,1996,1970,1955,2003,1973,1998,2010,1938,1960,2003,2012,1992,2012,2001,1950,2003,1957,1982,2000,2007,1997,1975,2004,2017,2000,2016,1990,1979,2007,1980,1944,1987,1965,1999,2014,1970,2006,2001,1998,1976,2019,1996,1998,2014,2000,2007,2010,1971,2009,1958,2019,1951,1959,1996,2013,2009,1994,1968,1998,2014,2000,2010,1980,1992,1988,1993,1974,1964,1971,2015,2018,2002,2020,2007,1970,1996,2015,1979,1992,1975,1992,2000,1970,2012,1999,2014,2007,1975,2014,1980,2003,2016,1977,1963,2004,2015,2008,2005,1983,2010,2002,2005,1976,2005,2002,2003,2020,1996,2001,2003,2002,2005,1981,1998,2014,2000,1991,2000,2007,2002,2005,2004,2007,2010,2006,2018,2014,2004,1984,2004,1991,2012,1964,2014,2007,2014,1939,1996,2015,2013,1993,1991,1986,2020,2009,2017,2003,2011,2004,2001,2009,1989,2018,2020,2016,2021,1981,2011,2018,2016,2005,2019,2018,2015,2012,2014,1957,1960,2021,2017,1974,2016,1970,1990,1969,2014,1998,1971,2014,2005,2002,2005,1998,2001,2019,1966,1972,1973,2013,1976,1980,1974,1960,1979,1985,2007,2019,2019,1971,2005,2020,1999,1985,1975,2011,1993,1983,2009,1981,1971,1976,2008,1962,1948,1956,2006,2008,2013,1970,1968,2006,1963,1965,2002,2004,2017,1967,2019,2010,2011,1975,1999,1998,2012,2011,1997,1965,1997,1994,2000,1972,2015,2001,1955,1997,2007,1979,1996,1974,2015,2017,1983,2001,2011,2004,1977,2014,1955,1978,2004,2019,2004,2013,2006,2018,2004,1982,1954,1986,1973,1981,1962,2018,2007,2010,2007,1981,1997,1957,2013,1959,2018,1957,1971,1961,2005,1947,1966,2000,2017,1992,2021,1979,1967,2019,2011,2020,2018,2017,2018,2014,2016,1965,2003,2019,2003,1988,1992,2018,1968,1969,2019,1977,2010,1993,2014,1992,1997,2018,2005,2007,2003,1949,1978,2019,1991,1993,1999,1987,1973,2011,1958,1991,1966,1964,2019,1985,2021,2018,1992,2004,2013,1971,1995,1998,1937,1975,1974,1962,1989,1991,1982,1974,1983,2005,1978,2003,1986,1970,2014,1965,2002,2010,2011,2015,2006,2003,1999,1998,2001,2001,1957,2002,1981,1991,1985,1969,1987,1990,1971,1986,1966,1975,2017,1988,2003,2013,2013,1972,2012,2016,2009,2013,2009,1955,2004,1956,1995,1997,2000,1999,2013,1974,1992,1985,2008,2013,1988,2013,1993,1944,2011,1980,2007,2000,2001,1971,2014,2011,1981,2006,2005,1981,1974,2008,2017,1985,1991,2016,1998,1968,2002,2006,2007,1966,1991,2012,2010,1983,1970,1993,1969,1982,2005,1972,1997,1991,2016,2009,2016,1964,1952,1994,1992,1993,1976,2002,1992,1961,1968,2021,1979,1978,1991,1991,1982,1970,1966,1979,2020,2015,2018,2017,2006,2014,2017,2006,2015,2010,1949,1948,1946,2007,1965,1993,1961,1954,1991,1984,1957,1970,2002,1971,2004,2020,2020,2012,1993,2017,2020,2013,1981,1999,2018,1986,2005,2018,1993,2013,2005,1948,1985,1958,1958,1956,1958,2018,2008,1983,1968,2007,1968,1960,2014,1982,2006,1979,2017,1984,2013,2008,2002,1995,1978,1980,2017,1999,1995,2003,2020,1988,2014,2015,1943,2011,2015,1979,1965,2008,1985,1954,1965,1966,2000,2016,2011,1971,2012,2009,2020,2012,1993,2015,1988,1953,2014,1979,2019,2015,2013,2017,2015,1992,1968,2019,1996,1980,2021,2019,2017,1978,2021,2014,1984,1988,2006,2005,2014,2021,2015,2016,2001,1970,1990,2009,2002,2004,2002,1957,2004,1969,2011,2008,1976,1959,1992,2006,2014,2006,2020,1967,1960,1984,2006,2004,1974,1988,1994,2018,2012,1988,1994,2006,2008,2016,2009,1965,1993,2015,2007,2012,2009,2008,1989,1998,2006,1983,1964,2006,2015,1992,2001,1972,2014,1958,1969,2012,2003,2002,1963,2011,2002,1999,2013,2002,2004,1996,2001,1963,2019,2001,1966,2014,1994,1994,2005,1983,1974,2018,1994,2014,1964,1975,1976],\"xaxis\":\"x\",\"y\":[4.4,7.4,6.5,5.7,6.3,6.4,4.8,4.5,6.9,5.0,3.3,7.5,7.4,4.5,6.3,8.0,3.8,5.5,7.2,4.4,6.7,6.8,6.2,5.0,7.4,7.2,6.0,5.6,3.5,3.1,6.7,7.3,6.3,6.5,6.4,8.1,6.4,6.6,3.6,6.3,3.1,5.2,6.6,6.6,4.6,5.4,6.5,5.3,3.8,4.3,6.3,3.7,6.8,6.4,7.0,6.6,5.0,4.0,6.4,6.8,6.7,6.5,4.2,6.9,6.7,6.5,3.6,5.9,7.1,5.1,6.1,4.6,7.0,7.0,5.7,5.0,6.6,6.6,4.4,4.2,6.4,6.5,3.7,6.7,6.3,5.1,4.8,6.4,3.7,7.5,6.4,3.8,6.5,6.8,6.6,8.2,6.6,5.4,6.9,7.1,4.8,6.2,7.2,5.3,6.7,8.1,4.4,7.2,7.1,4.1,5.6,7.3,6.4,4.5,6.6,7.4,6.6,6.7,6.6,5.3,6.5,6.1,6.8,6.1,7.6,5.2,5.2,6.3,6.2,7.9,7.0,7.1,4.9,6.3,7.6,7.5,6.0,4.3,6.0,7.9,6.2,6.2,6.4,8.3,5.4,5.2,5.7,6.2,7.2,5.1,6.8,6.7,2.7,6.1,6.7,6.7,3.6,4.4,4.6,6.1,6.4,7.4,7.1,7.6,6.5,7.4,6.9,6.0,7.2,4.8,7.7,5.1,6.2,5.6,8.1,5.1,7.7,5.4,6.9,5.9,3.7,6.5,7.1,7.5,6.9,4.8,3.9,2.8,3.7,7.3,3.6,6.3,6.6,4.4,7.6,5.1,4.4,5.6,5.5,7.3,4.0,8.3,5.3,4.6,6.2,6.2,4.9,6.5,5.7,7.0,6.7,7.7,7.1,7.0,6.0,4.6,7.6,5.2,7.4,6.8,6.5,5.5,3.9,4.1,7.9,4.7,7.0,4.4,6.6,8.0,7.5,6.8,4.0,6.7,6.5,8.0,6.8,6.1,7.7,6.8,7.4,7.1,5.5,4.7,8.3,6.7,4.6,5.6,7.1,7.5,6.5,7.7,4.8,7.0,6.8,8.3,5.4,6.3,7.0,7.7,4.2,6.6,6.7,2.9,4.8,6.2,5.7,7.0,7.0,3.1,4.5,6.1,5.5,4.0,2.6,3.9,5.4,3.8,7.7,7.8,4.7,6.8,5.7,6.6,4.1,5.8,7.5,7.1,4.3,7.6,4.6,2.4,6.7,5.0,4.7,7.4,6.2,8.0,7.2,7.6,6.2,7.9,3.7,4.5,6.5,3.4,4.3,6.7,6.2,6.3,6.7,5.0,6.6,4.6,8.1,7.0,6.9,6.2,6.4,3.5,6.7,3.1,5.3,7.1,5.1,4.6,3.7,5.7,4.8,5.1,5.2,4.4,7.0,7.6,5.1,7.0,5.8,6.5,5.3,3.8,5.8,7.4,5.3,6.3,5.7,8.1,4.0,6.4,6.9,6.0,6.5,7.1,7.0,7.2,6.4,4.5,7.0,5.5,7.0,5.9,6.5,6.5,4.2,5.1,7.5,6.3,3.7,5.0,4.9,7.0,7.7,5.6,7.0,6.4,7.5,5.4,5.8,6.5,6.3,5.7,5.5,5.7,3.7,6.8,7.3,6.6,5.5,5.7,5.2,5.9,6.1,5.9,4.5,5.3,7.2,6.9,4.6,6.2,5.7,5.5,7.2,5.4,6.5,6.9,7.2,5.8,7.2,4.6,6.5,7.6,4.6,6.8,7.0,6.9,5.4,9.4,5.7,2.7,6.4,7.6,4.9,6.9,4.2,4.2,8.4,8.0,6.9,3.5,4.9,6.7,7.5,3.4,3.7,7.6,5.8,5.3,4.9,4.4,9.7,7.4,5.6,6.7,5.3,6.7,8.5,6.5,5.4,5.9,4.6,6.4,7.7,6.5,6.9,6.8,6.2,4.2,2.7,6.2,5.1,7.0,5.1,3.3,3.8,6.4,6.7,5.3,7.6,3.1,6.1,5.5,5.0,4.6,5.7,7.5,7.4,4.2,5.7,3.5,2.7,7.0,5.3,5.4,4.9,5.2,4.8,6.0,6.4,1.8,7.5,7.0,6.9,7.2,6.0,5.7,5.4,5.6,3.4,6.1,5.3,7.1,6.0,6.0,7.4,4.7,6.5,7.3,3.8,6.8,5.5,6.0,4.1,7.3,5.4,4.5,3.5,7.0,4.1,4.1,5.9,4.8,7.5,6.8,5.0,5.3,6.9,6.2,6.7,7.9,6.5,6.1,3.6,6.0,7.1,4.4,6.7,4.2,6.9,7.0,6.0,3.9,5.2,2.9,5.6,5.3,4.8,4.4,6.9,5.7,7.1,6.5,7.2,7.2,5.7,6.1,5.2,7.4,5.2,3.0,8.2,3.5,5.8,7.4,6.2,6.0,4.9,5.1,2.1,6.1,6.1,4.0,2.3,6.1,4.2,5.6,6.8,5.3,5.8,7.6,6.1,6.2,4.2,4.2,6.8,6.1,7.4,4.3,7.4,7.1,6.8,7.1,5.7,6.9,6.2,2.8,6.9,3.6,7.1,3.6,6.3,5.7,5.1,6.5,3.9,3.7,7.3,6.5,2.7,4.4,7.1,7.5,5.1,5.1,4.3,5.9,7.1,6.9,4.9,6.9,4.7,2.3,4.0,7.7,7.5,4.0,6.5,6.4,7.5,7.2,5.2,7.2,5.1,5.3,6.4,6.3,7.1,5.5,5.9,4.1,5.8,6.7,7.1,2.5,5.7,5.2,4.5,7.4,6.1,4.5,5.2,7.9,4.7,3.5,7.1,6.9,4.7,4.6,5.4,5.6,3.4,6.9,4.5,5.3,5.1,4.2,5.9,3.6,3.9,5.6,4.2,5.4,5.2,8.0,7.8,6.9,4.4,6.8,7.9,7.4,5.3,7.3,4.9,7.4,5.4,6.4,5.1,5.8,7.3,5.1,5.9,5.7,4.7,6.8,7.4,3.8,5.8,3.6,6.0,5.7,5.5,7.2,10.0,4.4,9.3,6.5,5.3,6.0,4.5,4.7,6.3,6.4,5.3,5.5,3.9,7.2,6.6,8.6,2.7,6.3,5.4,6.6,5.6,6.2,5.2,4.5,6.5,5.1,7.2,3.7,5.5,5.3,5.2,6.0,6.8,7.3,6.5,6.2,6.7,7.1,6.8,6.0,6.9,6.2,4.8,3.6,6.1,7.1,5.3,5.8,5.4,6.5,8.1,4.7,5.4,6.5,3.6,6.2,6.7,6.5,3.5,5.9,7.5,7.2,3.6,5.4,6.4,7.0,6.4,3.5,6.9,7.3,5.3,3.9,6.0,6.8,5.0,4.1,2.5,7.5,6.2,4.3,6.4,6.5,5.3,6.7,3.5,5.3,7.1,5.9,3.3,7.4,7.2,6.4,4.0,6.6,5.5,6.7,6.5,5.5,6.5,5.0,6.9,6.7,7.2,5.7,7.4,7.5,5.4,6.3,4.4,7.4,4.7,5.7,4.2,7.9,6.7,6.5,6.3,6.4,5.9,2.2,7.1,5.4,5.4,7.1,5.3,6.8,5.8,6.5,4.4,8.0,6.9,6.9,3.2,7.7,6.5,6.1,4.3,4.2,7.2,6.0,6.0,6.9,7.6,5.3,7.5,5.2,7.0,4.2,3.1,7.4,3.3,6.8,5.1,5.0,3.3,7.0,8.1,4.9,4.6,7.6,6.5,5.7,5.0,7.1,7.0,4.8,7.2,5.8,2.2,6.4,7.1,5.7,5.6,4.9,4.8,8.3,7.3,5.0,7.5,5.8,6.3,5.7,6.9,6.1,5.0,5.5,5.2,4.0,5.6,6.2,4.1,1.7,5.9,6.6,6.3,7.6,5.9,2.1,7.2,6.5,6.1,4.6,6.7,4.7,7.8,7.4,6.3,6.5,3.9,4.6,7.6,7.2,6.7,6.1,3.3,6.7,5.7,6.5,8.4,3.3,7.4,6.3,6.3,6.8,5.6,5.6,6.1,3.6,7.1,5.7,7.1,7.5,4.7,5.2,7.6,5.7,4.0,4.4,5.6,4.3,2.9,7.2,7.6,6.2,5.3,3.7,3.4,4.6,2.3,7.3,6.8,6.7,3.9,5.7,4.5,6.4,4.8,7.2,4.8,6.3,3.3,5.4,7.6,6.8,6.8,7.7,6.9,3.9,5.2,2.6,6.8,5.5,6.6,7.1,7.2,3.1,5.9,7.2,6.8,2.8,5.2,5.1,6.5,7.1,4.5,8.4,7.2,6.1,7.1,6.6,6.2,6.6,4.8,5.4,3.2,4.8,7.4,7.5,7.3,4.2,5.6,3.2,6.4,7.1,3.3,4.5,6.4,4.1,6.8,7.1,6.8,5.8,6.1,6.5,6.3,7.6,7.6,3.8,6.8,7.5,4.1,5.6,7.6,4.1,3.5,5.4,6.6,7.2,6.9,2.3,6.8,2.6,6.5,6.6,6.0,7.4,6.6,7.1,4.6,7.0,3.5,3.8,4.6,6.2,4.8,6.9,5.8,6.0,7.3,2.5,7.1,5.1,4.2,7.7,6.2,6.3,7.4,7.2,6.1,5.9,7.0,5.1,6.0,7.1,6.1,5.7,4.9,4.9,4.8,7.3,7.1,6.3,5.4,5.9,6.1,5.6,1.9,6.0,6.4,4.1,5.5,7.4,3.4,6.7,4.8,6.7,5.4,4.0,4.4,7.3,7.5,6.8,7.6,6.9,5.6,3.9,7.1,6.9,6.9,7.9,3.0,2.6,5.3,7.2,5.8,6.2,5.7,4.7,5.3,4.0,7.0,6.9,7.1,6.5,8.0,4.6,7.8,7.3,6.6,8.0,6.8,7.6,7.2,8.1,4.5,4.2,5.9,7.1,1.8,4.3,5.2,5.5,3.2,2.6,5.0,4.5,6.2,4.8,7.5,7.0,4.7,5.0,4.6,2.4,5.6,7.0,4.5,6.5,5.1,5.9,5.0,6.8,4.2,5.5,5.1,3.3,7.0,7.5,6.8,6.9,4.1,4.8,6.8,7.7,6.6,2.8,7.8,5.6,5.0,6.6,3.7,4.4,7.6,7.8,6.0,3.8,6.9,5.2,4.6,4.9,7.3,5.8,6.2,7.6,7.6,6.4,5.2,6.5,4.4,4.2,2.7,7.2,7.0,3.3,3.9,4.3,5.4,4.7,4.7,4.4,7.1,3.8,3.7,4.9,4.1,6.0,8.0,3.0,5.2,5.1,4.0,5.5,3.0,7.7,7.1,5.4,4.7,4.4,6.9,7.1,6.8],\"yaxis\":\"y\",\"type\":\"scattergl\"},{\"hovertemplate\":\"Genere= Drama\\u003cbr\\u003eYear=%{x}\\u003cbr\\u003eRating=%{y}\\u003cextra\\u003e\\u003c\\u002fextra\\u003e\",\"legendgroup\":\" Drama\",\"line\":{\"color\":\"#ab63fa\",\"dash\":\"solid\"},\"marker\":{\"symbol\":\"circle\"},\"mode\":\"lines\",\"name\":\" Drama\",\"showlegend\":true,\"x\":[1997,2012,2018,2010,1958,1994,2007,2014,2002,2003,2009,2015,2015,2005,2019,2021,2009,2005,2008,1999,1973,1968,1982,1993,1977,1994,1990,2009,2000,1978,1990,1985,1984,1988,1984,1986,1989,1989,1989,1980,2001,2008,1982,2004,1980,2002,1970,1971,1974,1977,2002,1980,2003,2007,2001,1990,2018,1995,2006,1994,2006,1995,1995,2004,2004,1980,1977,1991,1989,2010,1973,2010,1976,1965,1954,2001,1983,2004,1972,1977,1988,1990,1990,2012,1981,1980,2019,1979,2010,2009,2018,1996,2001,1991,1989,2017,2006,1979,2001,1951,1980,1954,2015,2015,1984,2009,2010,1986,2011,1994,1967,1977,1952,2001,2021,1952,1959,1993,2016,1949,1994,1990,1985,1983,2018,1975,1986,1995,1992,1998,2011,2020,2015,1960,2010,2003,2006,1968,2013,1986,1992,1968,2002,2008,2015,2005,1996,1975,1983,1985,1996,2019,1988,2006,2004,2001,1990,1968,1998,2013,1967,2016,1997,1986,1984,1964,2007,2019,2000,1978,1990,2016,2012,2009,2000,1990,1955,2016,1957,2012,2018,1951,1993,2014,2005,2008,2009,2000,1999,2018,2002,1969,2019,1980,2015,1982,2010,2016,2017,1967,1954,2020,2013,2015,1996,1976,1968,2006,2010,1990,1998,1955,1980,1994,2015,2016,2009,2004,2015,2012,1976,1998,1960,2019,1989,1972,2011,1993,2016,2017,1992,2010,1981,1978,1994,1964,2014,2013,2013,1991,2006,2005,2005,1997,1972,2000,1980,1979,2020,2019,1942,2018,2010,1981,1965,2007,2011,2011,2017,2014,2008,1989,1969,2000,2007,1989,2009,2017,1988,1999,2008,2004,2005,2012,2013,2005,2014,2011,2009,2019,1998,2019,2015,2001,1954,1997,1968,2010,2011,2004,2018,2015,2017,1971,2016,1966,2000,2005,2013,2005,2005,2008,1967,2003,2000,1989,1977,1997,2007,2012,2012,2011,2011,2020,1992,1986,2000,2010,1965,1967,2001,2007,1955,1976,2010,2013,1994,2007,2017,1981,2020,2020,2019,1961,2016,2005,2018,2011,1998,2006,2009,2012,2005,2019,1993,1954,2013,1977,1972,2001,1982,1975,2019,2006,1975,2003,2010,2020,1989,2012,2008,1988,2002,2008,2009,1983,1991,1992,2011,2010,2005,1966,1999,1964,1997,2014,2010,1987,1979,1980,2009,2015,1986,1977,2000,1993,2011,2011,1993,1987,1991,2016,1996,1949,1993,2006,1972,2008,1982,2013,1988,2019,2008,2014,1976,1975,2013,1990,2005,2002,2009,1985,2011,2007,1982,1991,2011,2015,2009,1966,2002,2004,2019,1956,1997,2006,1973,1993,1981,1975,1991,1992,1986,1997,2011,2001,2007,1979,2004,2008,2009,1989,2002,2019,1982,1990,1978,2020,2009,2001,2015,2007,1993,1991,1963,2014,2008,1993,2003,1993,1997,2011,1977,1987,1996,1966,2015,1950,1986,1994,2015,1990,1984,1993,1957,1980,1969,1971,2010,1968,2009,2016,1974,1974,1959,2004,2019,2008,2016,2006,1990,2020,2007,1986,2011,1947,2015,1964,2010,2016,1967,2000,1977,2003,2015,2011,1984,1983,1966,1976,2010,1998,1990,1995,2009,2012,2001,2019,1946,2005,1986,1978,1972,1963,1990,1972,2004,1992,2019,2012,1990,1960,1968,2020,2009,2007,1971,2008,1984,2005,2002,2012,2003,2007,2011,2013,1976,1988,2019,2019,2006,2016,2006,1975,1996,1977,2009,1963,2016,2012,2004,1983,2014,2017,2015,1990,2000,1953,2003,2011,2009,2019,1980,2008,2009,2018,2016,2013,1966,2001,1995,1999,1989,2012,1993,2011,2007,2017,1982,2007,2000,2006,1978,1988,2003,2006,1984,1993,1979,1975,1985,2008,1963,1998,1988,1961,1996,1990,2016,1982,1997,1998,1997,1985,2020,2013,2007,2008,1999,2006,2019,2008,1989,2013,1970,1994,1972,2013,2015,1993,2001,2013,2016,2015,2020,2014,2009,2020,2019,1993,2002,1969,2014,1961,2020,1980,1993,2003,1974,1982,1995,1986,2014,2011,1984,2020,1956,2008,2000,2018,1997,2004,2019,2011,1985,1995,2000,1979,2020,1976,2008,1962,1968,1971,2018,2002,2007,1988,2004,2015,1970,2010,2010,2016,1983,2015,1998,1988,1997,2015,2000,2007,2018,2014,1965,1970,1996,1987,1996,1983,2013,2017,1973,1987,2010,1988,2015,1999,1985,1973,1992,2007,2018,1985,2011,2018,2018,2016,2019,1987,2004,2008,1991,1994,1989,1999,1994,1993,2004,2002,1977,1980,1980,1995,1990,2004,2010,1999,2011,2019,1980,2014,2014,2003,2018,1998,2004,2010,2010,2006,2013,2014,2010,1989,1987,1977,1994,1974,1994,2003,2001,2015,2020,1989,1984,1966,1994,1986,1997,2004,1982,1980,2005,1994,1955,1991,1991,2003,1999,2012,1997,2017,2010,1992,2010,1998,2003,1997,2014,2001,1991,1990,2004,1993,1967,2003,1960,1996,1992,1983,1998,2010,2008,1976,2006,1983,1999,1989,2017,1961,2007,2019,1984,2001,1955,2016,2014,2015,1994,2020,1989,1977,1995,1995,2003,1986,2012,2008,1979,1984,2020,1970,2006,2015,2012,1990,1986,1982,1997,1967,2018,1953,2019,2007,2010,1991,1961,1991,2000,2011,1992,2008,2005,1967,1966,2013,1980,2007,1970,2013,2017,2000,2000,1989,1994,1997,1980,1997,2019,1997,1973,1996,2000,1961,2005,2007,1980,2000,2017,2021,2021,2018,1979,1981,2010,2002,2016,1994,1998,2019,2006,1988,1999,2006,2019,2017,1996,2003,2008,1973,1984,2010,2003,1960,1989,1960,1977,1993,2005,2012,2009,1963,1999,1959,1994,1989,1988,2013,2016,2005,1995,1983,1985,1986,2008,1979,1978,2018,2002,2008,1988,1984,1983,1981,2013,2015,1987,1991,2015,1993,1998,2020,2002,2019,1976,2004,1976,2007,1993,2019,2019,1990,1988,1978,2010,2000,1992,2003,2008,2010,1996,1981,1991,1977,2006,1974,1980,1992,2020,2010,1982,1994,1964,2003,1980,2008,2014,1992,1993,1986,2004,2009,1974,1990,1995,2004,2008,1956,1986,2010,2010,1999,2005,2003,1986,2020,2014,1997,1981,2002,1997,1994,2010,2008,1996,1990,2000,1993,2001,1998,2015,2003,2002,1998,2017,1955,1993,2000,1974,1991,2009,2000,2008,2007,2011,2001,2004,2019,2016,2017,1992,1999,2011,2010,2006,1997,2010,2021,1979,2001,1971,2004,1999,2002,1992,2010,2011,1989,2019,2013,1967,1997,2012,2002,2004,2009,2013,2007,2019,2012,2014,2016,2016,1987,2005,2009,2020,2014,2017,2009,2017,2011,2011,2009,1966,2009,2021,2008,2018,2010,2019,2009,2017,2005,2011,2014,2016,1962,2002,1996,2008,1995,2013,2016,1994,2019,2009,2004,2013,1989,1983,2008,1990,1957,1995,1981,2004,2003,1971,2005,2005,1998,2001,2019,2020,2010,1983,1983,2005,2007,2019,2015,2014,1976,2007,2018,2003,1985,2014,2019,1955,2019,1987,2014,2002,1984,2020,2009,1991,1985,2011,2013,1985,2013,1983,2012,1954,2009,2010,1981,1991,1962,1948,1956,1961,1995,1971,1968,1970,1978,2008,2011,2013,2013,1963,2002,1981,1979,1985,2006,2017,1989,2011,2010,1954,2016,2012,2005,2008,2000,2001,1989,2006,2016,1994,2000,2015,2016,1994,2001,2017,1972,2008,2011,2015,2013,2001,1999,2007,1997,1994,2007,1987,1961,1957,2015,1997,1997,2020,2015,2015,2017,2019,1963,2011,2008,1977,2003,2011,2003,2017,1999,1979,1993,1987,2011,2004,1992,1993,1995,2013,2006,2011,2015,2002,1972,1995,1986,1991,1994,2010,2009,1996,1982,2018,2007,2007,1969,2018,2007,1981,1991,1978,1997,1986,1986,1954,1969,2011,1979,1957,2013,1978,2001,1995,1961,2016,1980,2005,1966,1956,2009,2017,1958,1996,1983,1980,1975,1992,2005,2020,2011,2017,2011,2019,1991,2014,2019,2008,2007,2012,2006,2020,2010,2013,2014,1971,1999,2013,2003,1961,2020,1985,2003,2015,2019,2009,1995,2003,1988,1992,2018,2021,2019,2005,1959,2019,1969,2019,2018,1992,1974,2019,1953,2010,1987,1994,1993,1963,2003,1989,1968,2018,2007,1977,2003,1961,2018,1985,1971,1966,1974,1991,1967,2010,1957,2009,2008,1995,2010,1993,1999,1988,1978,2018,2015,2010,2017,2000,1993,1993,1991,1966,2017,2013,1985,2015,2016,2002,1958,2014,1993,2019,2004,1995,2004,1964,2004,2003,2019,2019,1990,2020,1987,1991,2010,1995,1992,1970,2015,1996,2004,1978,1973,1962,2016,2003,1983,1983,1986,1984,2002,2011,2015,1993,2006,1998,2005,1998,1990,1969,1986,1990,1987,1985,1984,1988,1983,2003,2013,2009,1980,2017,2017,1989,2007,1995,2020,2009,2010,2018,2008,2008,2017,2008,1995,2018,2016,1955,2015,1956,1982,1995,1994,2003,1996,2013,1964,2018,2010,1951,2000,1972,1981,1967,1980,1995,1989,2008,2010,2013,1988,2005,2019,1996,2006,1982,1995,2013,2017,2013,2015,2015,1986,2007,2018,2016,2009,2007,1962,2010,2002,2007,2012,1995,2009,1999,2006,2016,2019,1981,1993,1974,1990,1992,2015,2004,1962,2009,1991,2016,1967,1964,1994,1978,1996,2016,2019,2013,1969,1991,2015,1994,1979,1989,1991,2020,2012,2011,2018,2013,2011,1993,2021,1993,2002,1998,1988,2005,2007,1989,1972,1999,1983,1958,1986,1997,2009,2021,1999,1943,1972,2018,2009,2016,1996,1961,1966,2016,1993,2021,1999,2006,2005,2017,2008,2019,2008,2011,2003,1982,1998,2013,2018,1991,1991,1979,2006,2019,1972,2010,2005,2020,2006,2015,2005,2011,2011,1965,2002,2012,2010,1974,2011,2011,2020,2002,1982,1993,2020,1998,1990,2012,1966,1976,1984,2015,2002,1996,2016,2008,2000,1977,1989,2006,1988,2016,2004,1992,1999,2010,2013,2016,2009,2007,1955,1962,1971,1985,1960,1982,1983,2013,2017,2004,2011,2009,1999,1989,1999,2002,2017,1987,2013,2011,2019,2014,1993,2007,1973,1999,2013,2005,1985,1998,1956,2014,2019,2018,2012,2018,1999,2008,2008,2013,1999,2011,1989,2014,1956,2007,1991,2009,2010,2012,2019,2003,1971,1966,2005,2000,1979,1994,1970,2018,2004,2000,2016,2008,2018,1979,1968,2013,2003,2019,2014,1985,2014,1985,1982,1978,1980,1983,2017,2007,2020,2013,1993,1986,1995,2012,2003,1996,2020,2015,2015,1972,2005,2020,2011,2015,1990,1997,1984,2008,2008,2006,2004,1985,2006,1977,1973,2010,1965,1965,1966,1994,2011,2005,2009,2016,2010,2011,1996,2012,1985,2012,2015,1988,2012,2019,1999,2002,1990,1983,2009,2010,2001,1979,2019,2014,2013,2021,2005,2017,1977,2007,1988,2011,1995,2019,2005,2010,2010,1994,2021,2019,2003,2014,2011,2006,2014,2002,2019,2014,2001,2007,2021,2000,2017,1952,2015,2019,2015,2015,2009,2007,2014,2010,2001,2021,1967,2019,1981,1987,2008,1990,1992,1998,2014,2000,2010,2017,2020,2014,2016,2015,2011,1989,1995,1978,1985,1996,2010,2017,1969,1996,2011,1997,2016,2013,2008,1959,2019,2006,1992,2015,2007,2014,2014,2018,1982,1963,1998,2011,1987,2015,2005,2005,1968,1999,2018,1988,1962,2006,1992,1989,2010,1970,2001,2008,2017,1988,1995,1989,2017,2017,1982,1988,1994,2011,1998,2020,2008,1991,1992,1998,1972,1985,1967,2015,1998,2009,1984,1988,1981,2005,1987,2016,2010,2020,2018,2008,2013,2009,1998,2019,2003,2006,2008,2014,2001,1994,1972,2020,1981,1958,1992,2001,2018,1995,1988,2016,1984,2014,1994,1972,2014,2017,2002,2002,2001,1963,2011,1982,1982,1977,1997,1997,1991,2016,2001,1985,2021,2004,1979,2008,1994,1985,1990,1994,1993,1995,1977,1985,1994,1984,1975,1973,2013,1993,2005,2018,1997,1958,2006,1964,2013,2011,1998,2001,1989,1999,1998],\"xaxis\":\"x\",\"y\":[4.7,5.7,7.4,6.3,7.2,7.2,8.1,6.9,5.1,7.8,8.4,4.3,5.8,5.3,5.3,6.6,7.3,4.8,8.1,5.5,7.2,5.5,5.5,6.5,5.3,4.6,4.8,5.0,4.2,6.0,4.7,5.1,5.8,5.0,5.6,7.1,4.1,5.0,4.9,7.9,4.8,7.7,6.4,5.7,6.4,7.4,6.5,6.6,7.0,6.3,3.1,5.6,4.5,4.6,3.8,6.3,5.2,5.2,4.4,5.8,4.2,5.0,4.8,7.8,4.6,6.4,5.4,7.0,4.6,4.0,6.8,3.6,6.4,6.6,6.7,5.4,7.3,4.6,6.6,5.7,5.1,5.6,7.7,6.9,6.0,6.2,7.2,4.1,5.0,4.1,5.3,3.7,6.4,5.0,5.3,3.6,3.8,6.6,3.7,7.0,7.5,6.2,7.8,3.8,4.8,6.2,6.1,5.4,4.0,4.7,6.5,7.5,6.9,6.6,8.1,7.6,7.9,4.8,5.4,7.2,4.4,6.8,6.8,6.1,8.2,5.1,6.8,5.0,6.4,5.3,6.3,7.3,7.0,6.1,5.8,3.4,4.1,7.2,8.0,7.5,7.7,7.3,6.3,7.3,5.4,7.4,5.6,6.2,8.2,7.2,4.3,8.2,7.0,4.4,3.4,6.5,2.9,5.3,4.3,6.5,7.4,5.9,4.5,6.0,6.2,5.1,7.3,7.0,5.5,7.2,5.0,5.7,6.4,5.1,4.2,5.7,6.4,5.3,7.2,3.2,6.6,7.3,7.7,6.7,2.7,6.1,3.5,4.9,3.6,8.0,4.5,4.4,7.8,7.6,7.4,4.8,6.0,4.3,6.1,6.5,6.7,7.3,5.3,7.2,2.7,6.9,6.0,6.1,7.2,5.1,4.8,7.1,6.1,7.6,4.5,4.9,6.8,5.9,5.6,8.1,6.0,4.7,6.5,7.2,6.3,8.0,3.1,4.8,3.9,5.6,4.6,6.1,6.3,5.4,4.8,6.8,5.5,6.1,8.2,4.1,6.5,5.6,6.1,5.1,5.7,3.2,7.1,7.5,6.0,4.9,6.6,7.6,4.3,6.6,6.2,7.6,4.7,6.1,5.3,6.6,6.3,4.6,7.5,5.0,3.8,4.5,6.2,5.5,5.8,5.7,6.2,8.5,4.1,5.0,7.7,6.6,5.5,4.7,5.2,4.5,6.5,6.0,5.6,4.2,8.0,7.9,6.9,5.2,5.7,6.2,3.9,6.5,7.2,7.0,7.6,7.4,5.4,3.6,5.0,6.2,6.1,5.4,5.8,5.7,6.8,6.8,5.8,7.4,5.6,6.8,6.1,6.1,6.8,7.0,6.6,7.5,4.3,4.7,6.4,5.0,7.6,4.3,5.6,6.5,4.9,5.4,3.9,6.8,5.7,7.6,6.8,5.1,8.3,5.5,8.4,5.6,6.4,7.5,6.6,4.0,6.0,7.3,4.8,6.5,6.9,6.1,6.5,5.8,5.0,5.4,5.3,7.4,6.8,6.8,8.3,3.7,6.8,5.8,2.3,6.3,7.0,4.2,7.9,4.0,5.4,6.6,6.7,4.8,5.6,5.1,6.8,6.2,4.8,6.0,4.5,6.1,6.3,6.5,5.0,7.2,3.8,6.2,5.3,4.7,5.0,4.9,3.3,4.0,7.8,6.1,3.9,8.4,5.4,7.7,7.8,5.3,6.9,7.8,6.1,6.2,6.5,6.6,4.1,7.1,6.5,8.1,2.4,5.7,5.3,6.6,4.5,5.6,6.2,6.2,6.0,3.6,5.7,7.7,6.2,7.2,6.6,5.8,2.6,5.7,5.1,4.4,5.4,3.4,7.3,6.0,3.5,7.0,5.8,5.8,7.0,7.0,6.2,4.5,6.7,3.4,5.6,8.1,6.9,8.9,6.1,6.7,5.5,6.6,4.6,8.1,6.9,7.0,3.1,7.3,7.1,5.3,5.7,5.3,4.8,5.1,7.0,5.8,4.5,5.1,5.8,6.3,3.7,7.1,3.7,5.7,5.1,7.0,5.7,3.8,8.4,7.0,6.2,6.3,7.5,7.2,3.6,6.5,7.2,6.7,7.1,3.2,5.4,4.7,3.9,6.7,4.6,6.2,5.3,5.7,3.8,6.8,8.2,7.1,4.2,5.1,6.7,5.1,7.9,5.6,7.5,6.2,7.0,6.2,6.6,5.6,6.9,6.9,5.4,4.9,6.1,7.4,4.5,7.4,6.5,5.2,6.6,5.5,4.7,6.4,8.3,5.4,7.5,7.0,5.5,5.7,4.0,6.8,5.8,8.2,4.7,6.1,6.0,4.2,6.5,5.7,6.1,7.8,4.3,6.2,4.6,7.3,6.5,6.0,7.1,8.4,5.6,7.0,7.2,6.9,4.7,5.1,5.6,6.2,5.5,6.4,5.5,5.8,5.7,4.4,7.0,5.3,6.1,7.5,5.3,6.5,5.2,4.3,6.6,6.5,2.8,5.2,5.4,6.9,5.8,7.2,4.6,3.7,5.3,5.1,5.1,5.2,5.3,6.5,8.0,7.3,6.1,4.7,5.4,4.6,7.8,7.1,5.3,7.4,6.0,6.9,6.1,7.3,5.8,4.4,4.9,7.1,7.4,7.6,6.3,6.8,5.4,7.3,6.6,7.2,5.7,5.6,2.7,3.6,6.7,7.4,7.0,6.4,5.8,7.0,7.0,5.5,5.0,4.9,7.4,6.7,5.1,4.4,3.6,5.3,2.4,6.1,8.1,6.3,7.8,6.2,3.3,6.7,2.4,7.6,5.3,6.7,4.9,7.6,6.3,5.4,4.2,7.3,8.1,5.3,4.9,7.1,6.8,6.1,5.6,7.5,5.3,6.0,7.4,3.2,4.6,4.6,5.2,6.6,7.7,5.5,1.9,6.9,6.7,5.4,3.3,5.6,4.2,6.9,4.1,5.5,7.0,2.7,6.3,3.8,6.7,3.5,4.8,6.2,6.2,2.9,7.9,6.0,7.5,7.6,6.8,6.4,4.5,5.0,5.1,4.5,1.7,7.9,6.2,5.4,2.9,5.4,3.8,4.3,7.4,6.5,5.6,6.1,6.3,4.7,5.2,3.8,7.6,7.1,3.5,6.1,7.0,6.4,6.8,7.5,5.8,7.5,4.8,7.4,3.6,4.4,7.2,5.6,6.5,3.5,4.5,7.0,4.7,5.3,3.6,4.9,6.7,6.0,1.8,7.5,6.9,7.2,6.1,8.0,5.6,4.1,4.6,5.9,4.5,4.7,5.4,5.7,5.3,7.4,7.1,7.1,5.4,6.9,3.0,7.2,5.8,5.7,4.7,4.8,4.2,3.9,5.4,6.4,4.6,3.0,7.4,6.9,6.2,5.1,4.8,6.5,6.9,5.8,7.3,5.7,5.4,4.4,7.3,3.5,4.5,4.5,5.8,5.0,6.5,4.2,5.8,4.1,7.3,4.1,5.3,8.4,3.3,3.8,7.5,6.8,6.1,5.8,6.0,4.2,5.3,6.8,7.9,4.4,6.4,5.1,6.8,5.6,5.1,5.2,5.1,3.6,5.6,5.2,5.7,4.0,2.9,6.2,6.2,6.9,6.5,5.6,6.6,5.2,2.9,5.8,5.5,4.6,4.1,6.6,5.1,8.0,6.1,6.9,8.2,3.7,6.1,4.6,7.0,2.5,4.9,5.7,8.2,7.6,7.3,6.4,6.8,5.6,7.5,7.8,7.3,7.5,7.2,5.1,6.2,5.7,3.1,6.1,5.9,3.9,5.9,6.1,6.5,4.0,4.2,7.3,5.4,5.3,5.8,4.2,7.1,9.1,7.6,6.7,7.7,6.8,3.3,6.5,6.2,7.8,4.3,7.1,6.8,5.9,6.0,6.1,7.0,5.3,6.8,5.7,5.8,6.0,6.3,2.8,7.9,6.0,5.5,7.4,6.4,6.3,6.5,4.1,7.4,5.8,6.0,6.7,3.1,5.6,4.6,8.2,7.7,5.5,6.8,6.2,6.1,7.4,5.0,7.0,7.7,7.6,3.9,2.1,5.1,5.7,7.8,6.4,7.8,4.9,5.9,3.2,6.1,5.0,5.7,3.3,4.7,7.4,5.6,7.4,5.7,4.0,3.7,4.6,4.0,5.2,4.8,7.5,5.7,4.4,6.4,4.0,7.2,5.8,6.0,5.7,4.8,6.2,8.3,6.2,7.6,6.5,7.4,3.2,6.9,5.1,5.8,4.4,5.9,4.6,4.3,6.3,5.1,6.3,2.5,5.3,6.1,5.9,5.1,3.7,5.2,6.1,4.2,6.1,6.0,5.4,5.2,7.1,6.3,6.9,5.4,6.2,7.2,3.8,6.3,7.4,4.6,4.2,4.7,5.1,4.4,5.9,4.6,7.6,2.5,5.4,5.6,4.5,6.6,6.5,5.8,5.1,7.2,4.2,5.7,6.0,4.7,3.6,6.1,5.4,4.2,7.3,8.0,3.4,3.2,4.4,6.0,5.2,8.0,4.5,6.3,2.8,6.1,6.7,7.0,7.9,3.2,6.7,4.6,5.0,5.8,5.8,8.8,3.4,6.5,6.0,5.3,5.1,6.1,5.7,6.8,7.4,7.1,7.9,5.6,8.0,6.8,6.0,4.4,3.8,6.4,7.7,6.8,6.8,7.4,5.8,5.3,6.5,6.8,5.7,9.3,2.6,3.0,7.1,7.5,4.8,6.2,4.7,4.8,5.6,7.9,5.0,3.5,7.8,3.1,6.3,5.8,7.6,3.7,6.2,6.2,4.6,7.7,5.7,6.1,7.1,5.6,6.8,4.3,6.6,7.0,4.0,6.5,7.2,5.5,5.3,5.2,6.0,6.5,6.6,7.5,5.9,6.6,3.6,6.4,8.0,7.2,6.7,7.6,7.4,8.1,6.2,7.3,7.4,6.4,3.6,4.9,6.8,4.1,7.3,5.8,5.2,5.2,6.5,5.1,4.8,7.7,5.6,5.4,4.7,5.9,3.6,6.9,6.2,5.3,5.9,7.5,7.2,7.4,4.4,7.0,5.8,8.0,4.6,5.4,5.8,6.4,6.7,6.9,5.3,6.6,6.5,7.3,3.2,6.0,5.7,2.5,6.5,7.0,4.6,6.4,7.6,3.4,6.7,5.3,4.7,6.4,5.6,5.3,7.1,6.8,5.7,7.0,6.2,7.3,5.9,2.7,5.5,3.3,6.6,7.4,4.3,7.0,6.4,4.2,4.0,7.8,6.8,5.5,3.8,2.5,7.3,4.8,6.6,5.8,2.5,8.6,6.6,6.9,6.9,7.2,3.3,4.9,8.1,3.3,4.0,6.5,4.2,4.8,6.2,5.5,7.0,7.1,7.6,7.4,4.7,5.3,7.2,5.0,5.6,5.5,7.5,4.5,4.5,5.0,6.1,4.1,7.3,2.2,7.1,6.0,6.2,5.9,5.4,7.4,5.5,6.5,5.3,5.6,5.1,6.2,4.9,2.5,6.4,6.5,5.8,5.5,7.8,4.7,6.9,7.6,5.5,7.6,7.7,7.4,6.8,7.7,6.2,7.5,6.3,5.9,7.6,4.2,6.6,6.3,7.2,3.9,5.0,5.6,4.3,3.3,8.0,5.4,6.7,8.1,8.1,4.9,7.4,4.6,4.2,7.5,6.1,6.9,3.5,5.5,4.7,7.0,3.3,3.9,6.8,7.2,4.1,5.1,5.0,3.3,7.9,6.9,4.5,6.5,7.0,6.4,4.9,4.6,5.3,6.5,6.4,5.3,7.6,6.5,5.9,6.5,5.7,6.4,4.3,7.8,6.3,7.6,5.8,6.9,2.2,6.9,7.2,5.7,5.5,6.2,6.6,5.6,6.6,5.5,7.1,4.2,2.8,7.2,7.4,4.4,4.8,7.1,6.6,3.8,5.9,7.5,6.1,6.2,5.8,5.4,5.8,6.3,6.0,6.3,6.1,7.6,8.1,6.3,4.5,8.1,3.7,3.1,4.5,5.0,4.6,7.0,4.0,6.2,4.3,5.9,6.0,7.8,7.0,4.9,7.4,4.1,5.2,6.9,4.4,5.7,5.5,6.7,7.4,7.0,7.4,4.7,6.0,6.3,7.8,6.4,3.9,7.6,7.2,4.3,6.7,6.7,6.1,6.7,3.8,6.2,6.2,5.6,7.4,6.8,6.1,6.0,6.0,4.7,8.2,5.8,7.0,5.1,8.1,7.5,3.6,4.9,7.3,6.3,5.4,7.8,7.2,6.7,6.8,3.4,4.3,7.4,8.0,7.2,7.9,6.2,6.1,5.3,6.3,3.7,6.2,2.9,7.0,5.8,7.1,6.4,5.1,6.6,5.8,7.4,6.3,5.4,6.8,3.9,3.4,5.7,4.5,6.7,7.6,6.1,8.1,6.2,7.5,5.0,5.6,5.1,6.2,7.7,5.7,4.2,5.7,6.8,6.4,2.8,5.2,6.4,4.6,6.6,4.6,4.2,7.5,7.4,3.9,6.8,6.6,2.6,4.9,6.9,5.8,6.0,3.3,4.8,6.5,4.0,5.4,7.1,6.2,6.4,5.7,6.4,6.0,7.6,7.7,7.1,6.5,6.2,3.5,3.4,7.5,4.5,6.5,1.1,7.1,7.2,4.4,6.8,4.8,5.7,4.2,6.1,6.7,5.4,8.0,6.2,5.1,7.6,6.6,7.1,7.8,6.1,5.5,4.8,4.8,6.3,6.8,6.9,6.2,7.7,6.2,2.8,5.2,4.5,7.3,7.3,7.9,4.1,8.1,3.9,7.6,4.9,6.7,6.3,5.0,5.3,6.8,7.2,8.2,5.9,5.7,6.8,5.8,7.6,6.0,8.1,6.8,4.4,7.7,6.8,4.1,3.5,6.2,5.6,7.1,7.9,6.8,8.2,5.0,5.4,7.2,4.9,3.2,6.0,7.7,2.6,6.1,3.5,5.2,7.2,5.6,5.5,7.4,4.9,4.6,4.6,6.1,7.3,4.6,7.0,8.1,3.9,4.7,6.2,4.2,6.5,7.7,7.2,2.3,6.4,3.4,3.6,8.0,7.5,7.0,8.2,7.0,6.4,6.3,6.0,7.9,5.1,6.2,6.4,3.9,4.5,2.5,8.5,5.1,5.1,5.6,6.8,5.5,5.7,6.2,7.5,7.1,6.5,5.9,7.4,6.1,6.2,5.1,5.3,8.1,7.2,6.7,7.4,6.3,6.1,5.8,8.0,6.5,7.8,6.3,7.5,8.2,6.2,6.2,5.8,6.9,5.3,2.2,2.6,6.5,8.2,3.7,4.0,6.7,5.7,6.4,6.8,3.2,5.6,7.0,6.2,7.1,5.9,6.8,5.4,4.3,8.0,4.6,6.8,6.3,5.4,6.3,5.5,7.4,6.1,3.4,5.6,7.3,7.2,4.7,5.4,4.6,7.2,4.7,4.3,5.4,8.2,7.3,5.6,6.0,7.6,6.8,7.6,4.2,4.5,4.6,3.9,6.9,4.4,2.6,7.1,7.3,6.4,5.8,4.1,6.3,6.3,7.9,6.3,2.5,5.5,6.0,2.6,7.2,5.3,6.2,5.8,5.4,4.7,4.0,7.0,3.9,5.2,5.9,5.7,5.6,6.1,7.9,6.7,4.8,6.3,6.0,6.8,6.9,6.1,7.4,8.0,7.6,7.2,6.1,6.6,6.0,7.5,6.4,6.0,3.4,5.2,4.4,7.1,5.3,7.3,6.4,4.7,7.3,8.1,7.2,7.9,5.8,6.2,5.7,6.8,7.3,7.0,6.6,7.7,6.4,5.7,7.4,4.3,6.5,6.0,6.7,7.1,7.3,4.2,6.6,5.5,4.9,7.0,6.9,5.0,7.6,4.4,5.1,7.2,6.8,5.0,6.7,5.6,5.3,6.3,4.8,7.7,5.2,5.2,5.6,7.0,6.5,5.9,5.1,4.5,7.8,8.0,3.7,6.8,7.0,5.5,4.2,6.6,6.6,5.1,5.7,8.2,3.8,7.4,4.4,6.0,4.2,4.9,5.6,4.5,5.8,8.0,8.5,7.7,5.5,7.0,6.0,4.5,4.5,7.0,6.8,7.2,6.4,6.6,5.7,6.7,6.7,5.3,7.2,5.6,5.0,6.1,5.3,2.9,4.9,5.1,6.5,6.6,3.8,4.5,5.5,7.2,6.9,7.6,6.5,6.3,5.9,6.8,5.7,7.1,5.6,7.5,1.6,6.9,5.0,4.6,5.8,6.0,6.4,6.4,7.7,5.9,4.4,3.7,4.2,6.3,7.1,7.2,5.4,3.2,4.5,4.7,6.3,3.4,5.8,6.4,6.0,6.8,3.6,5.2,4.7,3.8,4.1,6.0,7.5,6.5,7.2,6.4,6.8,7.2,4.6,7.8,5.7,6.2,7.7,7.4,4.8,4.1,4.9,5.3,4.6,4.0,4.7,4.9,3.8,6.3,5.5,5.5,6.2,7.6,3.2,7.6,5.4,5.4,5.8,4.8,4.9,6.5,2.7,8.2,4.3,6.2,5.8,4.5,6.2],\"yaxis\":\"y\",\"type\":\"scattergl\"},{\"hovertemplate\":\"Genere= Musical\\u003cbr\\u003eYear=%{x}\\u003cbr\\u003eRating=%{y}\\u003cextra\\u003e\\u003c\\u002fextra\\u003e\",\"legendgroup\":\" Musical\",\"line\":{\"color\":\"#FFA15A\",\"dash\":\"solid\"},\"marker\":{\"symbol\":\"circle\"},\"mode\":\"lines\",\"name\":\" Musical\",\"showlegend\":true,\"x\":[1997,2012,1987,1953,1970,1962,1980,2013,2011,1973,1991,1936,1958,2016,2004,1996,1979,1977,1985,1951,1954,1972,1973,1971,1959,1953,2003,2010,1946,1948,1962,2006,1969,2001,1965,1962,2012,2020,1997,1951,2020,1953,1951,1968,1993,2008,1966,1998,2002,1952,1969,1963,1955,1949,1960,1942,1956,1972,1962,1996,1980,1958,1974,1963,1973,2017,1973,1960,1968,2004,1956,2019,1971,1977,1958,1989,2001,1974,1956,2003,2001,1975,2003,2016,2000,1987,1991,2002,1955,1966,1963,2003,1999,1997,2002,1999,1982,1990,1968,2016,1964,1964,2009,1966,1989,1981,1969,1965,1971,2009,1981,1960,1972,1989,2007,1989,1965,2014,1961,2002,1971,1956,1964,2000,1971,1968,1991,2015,1997,2012,1994,1999,1985,1961,2001,1999,2002,2013,1959,1992,2006,1961,2009,1967,1955,2007,1961,1960,2012,1950,1970,2000,1975,1961,1992,1965,2014,2001,1963,2014,2000,1971,2003,1960,1958,1983,1980,2008,1964,1970,1959,1996,1965,1970,2003,2005,1964,1974,1997,1998,2017,1981,2001,1984,1991,1967,1990,2009,2001,1991,1981,2014,1974,1958,2009,2005,2013,2003,1973,1962,1974,2003,2005,1999,1954,1971,1997,1966,2009,1992,1967,1954,2013,1970,1957,2007,1955,1997,1955,2002,2004,1954,1981,1959,1957,2005,1947,1968,1956,2005,2002,1968,1967,1997,1972,2005,1967,1987,2000,1972,2014,1992,1975,1974,1970,2015,1982,1996,1973,1962,1983,2005,1957,1969,1987,1988,2002,2009,1968,2000,1985,2013,1995,2000,1971,1995,1993,1974,1991,2007,1962,2007,2016,1964,2020,2006,2021,2007,1961,1991,1957,1971,2000,1998,2012,2011,1983,1960,2001,1979,2004,2002,1985,1966,1999,2005,1943,2002,1966,1963,2001,1990,1998,2000,1978,2021,2002,2006,2006,1955,2004,1997,2006,2014,1989,1995,1994,2013,1982,1997,2008,1988],\"xaxis\":\"x\",\"y\":[4.7,7.8,4.1,7.2,6.4,6.6,5.3,7.0,4.4,7.9,7.0,6.5,6.9,5.8,4.6,6.1,7.7,6.7,6.4,7.0,6.8,8.2,7.1,8.3,7.9,7.2,5.3,5.8,7.3,6.4,6.6,5.3,7.6,3.6,7.1,7.5,5.4,8.2,4.5,7.9,2.1,7.3,7.3,6.4,7.7,2.7,7.0,5.8,4.5,7.4,7.2,7.7,7.1,7.7,6.9,6.8,7.1,8.0,7.1,5.3,7.1,7.1,6.5,5.7,6.7,5.7,7.1,7.0,6.9,6.2,7.3,3.4,6.8,7.0,8.0,6.8,4.6,6.5,7.7,4.8,5.4,7.0,5.4,6.9,5.0,6.1,3.9,7.6,7.9,6.4,6.7,4.8,5.1,7.0,5.3,5.3,6.4,7.0,6.5,3.9,8.2,8.4,6.2,6.6,7.2,7.5,6.6,4.9,6.0,5.6,6.1,7.2,5.8,4.9,3.8,5.8,8.4,2.4,7.6,3.7,6.9,6.8,7.8,5.2,7.2,6.7,6.4,3.5,6.2,5.3,7.5,7.5,6.6,7.5,4.2,6.3,6.4,4.6,6.8,3.8,6.1,6.8,3.9,8.0,6.5,3.7,7.0,7.4,3.5,7.4,7.3,6.2,6.1,7.3,5.6,6.2,4.2,7.4,4.8,5.7,6.9,6.9,7.9,7.4,7.1,6.2,7.5,2.1,7.1,7.2,7.1,7.5,6.9,7.2,4.1,4.5,6.7,7.4,6.2,7.6,3.4,7.1,8.1,6.8,7.4,6.5,7.5,5.7,5.1,5.9,6.5,5.1,6.3,8.0,7.0,4.8,5.3,4.0,6.5,7.1,6.8,3.5,5.3,5.4,5.9,6.7,6.4,7.6,5.6,6.3,6.8,7.0,4.8,4.4,8.0,7.0,7.2,2.5,7.4,5.0,4.2,6.7,7.1,6.5,8.0,3.2,7.7,6.8,7.4,6.6,5.5,8.1,5.5,7.0,7.5,7.2,6.6,8.3,6.2,6.7,8.1,5.2,6.6,6.3,6.9,4.4,7.2,5.7,7.4,7.0,6.0,6.1,8.4,6.8,7.4,7.5,6.5,2.9,6.9,3.4,6.7,6.4,7.5,5.4,6.8,4.2,4.9,6.9,7.2,5.2,8.3,5.1,7.4,7.5,7.6,4.1,6.0,2.3,6.5,6.0,6.6,7.0,6.5,6.2,6.7,7.1,5.7,8.5,6.7,6.7,2.5,6.4,6.8,6.7,6.7,5.0,7.5,4.5,7.7,7.4,5.3,7.0,5.0,4.4,7.7,4.5,4.6,5.5,3.3,7.4,7.8,7.5,6.6,6.6,7.3,4.7,6.0,7.1,7.2,6.8,4.1,8.2],\"yaxis\":\"y\",\"type\":\"scattergl\"},{\"hovertemplate\":\"Genere= Thriller\\u003cbr\\u003eYear=%{x}\\u003cbr\\u003eRating=%{y}\\u003cextra\\u003e\\u003c\\u002fextra\\u003e\",\"legendgroup\":\" Thriller\",\"line\":{\"color\":\"#19d3f3\",\"dash\":\"solid\"},\"marker\":{\"symbol\":\"circle\"},\"mode\":\"lines\",\"name\":\" Thriller\",\"showlegend\":true,\"x\":[2012,2014,1991,2021,2002,2003,1998,2006,2020,2013,2011,2016,2011,2003,2016,2009,2013,1969,1988,1992,1988,1979,2010,2001,2002,2011,1954,2005,1996,2006,2013,2011,2015,2004,1977,2010,1998,2019,2014,2010,1986,2012,1985,2004,2018,2004,1991,2006,2019,1974,2001,1967,2016,1975,1984,1952,1973,1967,1994,2013,2002,2006,2007,2010,1972,1964,1993,2013,1979,2013,1987,2012,2017,2016,2018,1962,2003,2018,1995,2017,2015,1984,2013,1985,1973,1973,2013,2004,2019,1981,2006,2001,2016,1974,1980,2015,2006,1986,2002,1985,2011,2003,2012,2020,2008,1959,2015,2005,2018,2019,2014,2017,1993,2003,2016,1976,2010,2019,2008,2019,2007,1991,2007,2005,2014,2012,1978,1977,1976,2008,2019,2005,2004,2007,1996,2011,2013,2016,2014,2016,2013,2017,2019,1974,2021,1994,2010,2016,2005,2021,1999,2018,1999,2019,2020,2014,2018,1972,2013,2016,2006,2014,2012,2008,1975,2011,2006,2013,1973,2006,2005,2014,1980,1989,2019,2006,1978,2011,2019,1994,1979,2020,1998,1981,2005,2015,2004,1996,2012,2013,2009,2019,1994,2005,2003,2020,1976,2019,2016,1965,1983,2005,1967,2016,2008,2017,2021,2020,2016,2015,2016,2014,1971,2018,2007,2004,1973,2018,2013,2019,2020,1981,1968,1999,2010,1982,2013,2020,2009,1965,1993,2002,2016,2015,1982,1977,1967,2012,2014,2015,2018,2003,2004,2010,2010,2008,1970,1996,2017,2004,2014,1958,1995,1985,2018,2017,2019,2017,1977,2013,1984,1991,1969,2003,2004,2017,1996,2018,1969,2017,2004,1952,2002,1972,2013,1987,1994,2012,2012,1970,2003,2012,2005,1966,1973,2007,1973,2017,2019,2013,1975,2018,1999,2019,2012,2016,1968,2005,1993,1980,1984,1999,2018,2001,1997,1997,1999,1993,1986,2005,2019,2011,1977,2016,2000,1989,2017,1988,1974,1994,1993,2002,1981,2011,2017,2021,2005,2010,1964,2016,2004,2017,2007,1973,2012,1987,2020,2014,1993,2016,2012,2018,1984,2013,2016,2015,2013,2019,1969,1981,2003,2014,1996,1991,1984,2011,2013,1972,1986,2017,1998,2018,2000,2008,2011,2016,1994,2001,2017,2011,1992,1964,2020,2013,2011,2004,2013,2020,2005,1986,2005,2016,2017,2013,1976,2013,1957,2001,2016,2009,1996,1973,2018,2011,2018,2020,2019,1965,2020,1985,2003,1986,2010,1996,1992,1971,2012,1986,1993,1993,2017,2015,2016,2016,2016,2012,2015,1990,1965,1991,2010,1997,1981,2016,1999,2001,2001,1975,1986,1967,2021,1981,2012,2018,2013,2018,2021,2015,2019,2014,2013,2010,2004,1996,2017,2010,2015,2013,1995,2009,1980,2007,2007,1996,2013,2009,2005,2019,1974,2008,1989,2020,1991,2012,2016,1975,1980,1995,1970,1968,1975,1959,2003,2014,2006,2000,1991,2004,1970,1994,2005,1969,1986,2008,1990,1968,2000,2013,2017,2021,2017,1960,2005,2005,2007,2013,2002,1958,2013,2010,2013,2007,2014,2007,2008,2013,1994,1995,2014,2021,2004,2013,1992,2020,1969,2000,2006,1980,2006,2016,2010,1994,1982,2006,2017,2009,2016,2016,2019,1980,2009,2017,2019,2019,2007,2013,2014,2009,2017,1992,2018,2016,2016,2016,2011,2014,2004,2002,2014,2019,2006,2020,2011,2008,2017,2009,2011,2013,2018,1992,2018,2014,2009,2020,2019,1981,2013,1975,2016,1987,2018,2012,2011,2003,2008,2014,2005,1992,2019,2011,1966,2004,1988,1977,1981,2003,2014,2013,1958,1998],\"xaxis\":\"x\",\"y\":[5.6,4.0,6.5,4.4,6.9,5.0,3.5,5.7,5.7,3.6,7.3,5.7,6.1,4.7,7.5,5.0,5.4,6.2,3.4,5.3,5.2,6.3,7.0,7.2,7.4,6.2,6.6,4.3,3.9,4.4,3.8,4.4,5.8,3.2,5.4,4.0,4.0,4.5,3.3,6.8,6.6,5.2,6.9,6.6,5.3,5.0,5.0,4.8,2.8,6.6,5.6,6.9,8.7,5.1,5.5,7.2,7.1,6.4,6.9,6.5,6.3,5.2,6.6,3.5,6.8,6.1,5.2,6.9,6.0,6.5,5.7,6.4,4.9,5.2,4.8,6.8,3.2,6.6,6.5,6.9,8.0,6.2,5.3,5.6,6.7,5.8,5.9,5.9,7.3,6.3,5.9,3.7,2.8,6.8,6.8,5.2,6.5,4.3,5.7,5.8,6.1,6.5,2.5,5.4,6.2,6.7,7.4,4.1,7.1,6.2,5.5,6.3,6.4,2.3,6.7,6.9,6.1,5.4,5.4,3.4,4.2,7.0,3.4,3.9,5.9,6.8,6.4,6.0,5.7,4.0,5.5,6.8,5.3,4.6,4.7,3.9,6.5,2.4,7.4,6.9,6.2,5.3,5.7,7.1,9.0,5.7,5.1,7.3,6.8,4.4,4.8,5.1,5.5,5.7,6.1,4.9,3.8,6.9,7.2,6.4,6.3,6.6,3.1,1.4,6.7,7.0,6.5,5.4,7.2,3.5,4.9,5.2,5.7,4.4,4.9,7.2,7.8,7.1,3.5,7.6,7.0,3.8,6.9,6.3,5.7,3.7,4.4,3.9,5.5,5.7,4.7,8.0,5.3,4.4,4.3,4.7,6.5,7.1,7.0,6.1,4.5,4.1,6.2,5.5,7.4,5.1,8.3,5.0,6.2,4.6,4.9,4.7,6.5,3.4,3.5,4.2,5.4,5.3,5.8,5.0,4.3,6.3,8.1,6.7,5.9,5.9,4.4,5.4,8.1,7.0,4.7,3.3,6.5,6.7,5.4,6.1,7.1,5.3,4.4,4.5,3.3,3.3,2.7,4.3,4.2,3.7,6.4,4.5,6.6,6.1,7.2,6.9,6.3,5.3,5.4,7.1,4.5,6.0,6.9,6.0,5.8,6.9,6.8,5.1,5.0,6.3,6.7,5.5,7.4,7.2,6.5,7.2,2.8,6.3,2.0,6.6,4.0,4.2,6.2,7.1,5.2,3.0,3.6,6.8,6.2,2.1,6.5,2.3,5.6,7.1,6.4,6.3,6.0,7.0,8.1,6.6,5.6,6.3,6.3,5.8,6.5,5.1,6.7,6.0,3.8,5.5,7.8,3.7,7.5,3.3,3.5,5.0,6.2,5.2,5.2,7.1,6.8,6.6,6.1,5.1,4.5,3.5,6.5,6.1,7.2,2.8,3.4,5.0,7.3,6.7,6.1,5.9,5.8,6.5,6.1,6.0,6.4,7.7,5.1,4.3,5.3,5.6,5.4,5.8,7.6,3.6,7.7,4.1,5.7,6.5,8.1,5.2,5.8,5.2,5.1,5.3,6.0,6.0,7.7,6.1,4.3,5.8,6.7,7.1,6.5,5.6,7.0,6.2,7.3,5.5,4.3,6.3,4.8,4.9,5.2,5.4,4.9,6.2,6.1,7.5,5.9,5.9,6.3,6.7,6.3,3.2,6.8,7.8,7.6,6.8,4.9,4.0,3.9,5.0,6.3,5.3,5.0,7.4,4.7,7.0,7.7,6.5,3.9,2.2,7.1,6.8,7.0,6.4,4.4,4.9,6.2,5.9,6.9,6.7,8.1,4.1,6.5,6.6,6.8,8.0,4.2,4.4,6.6,7.4,3.3,5.7,6.5,5.7,7.0,7.6,5.2,5.2,4.0,7.8,5.4,1.9,1.8,7.6,7.5,6.1,2.9,7.1,3.7,4.7,7.5,6.9,7.7,4.3,5.9,6.4,6.3,2.8,3.3,4.6,3.5,7.4,5.2,6.6,6.8,5.5,6.5,7.5,5.4,3.7,7.1,5.7,6.5,6.0,6.7,6.6,5.8,6.7,6.9,6.2,5.4,5.2,4.0,7.2,6.5,6.8,5.1,6.7,6.4,7.3,4.5,6.6,4.6,6.3,7.9,6.6,5.1,6.5,4.2,5.1,7.5,6.3,4.3,7.0,3.5,5.6,8.0,2.9,7.5,4.9,6.2,5.4,5.5,4.1,6.3,4.2,4.5,7.2,5.7,7.5,6.6,5.0,4.4,5.2,7.3,7.3,4.1,5.2,6.4,2.6,1.8,6.0,6.8,5.6,5.4,6.8,5.0,7.6,8.7,7.8,4.3,6.8,3.3,5.8,5.9,6.9,4.1,6.7,6.7,7.6,5.3,2.4,2.4,5.6,5.7,7.1,4.1,6.9,3.7,5.4,5.3,3.7,7.2,8.1,5.9,6.5,5.6,6.6,6.6,4.5,6.5,6.8,4.6,7.1,4.1,5.7,6.0,5.2,3.9,3.9,7.7,3.5,5.1,5.4,8.0,7.5,5.2,7.4,6.2,3.8,6.8,5.3,4.4,3.6,4.8,4.3],\"yaxis\":\"y\",\"type\":\"scattergl\"},{\"hovertemplate\":\"Genere=Action\\u003cbr\\u003eYear=%{x}\\u003cbr\\u003eRating=%{y}\\u003cextra\\u003e\\u003c\\u002fextra\\u003e\",\"legendgroup\":\"Action\",\"line\":{\"color\":\"#FF6692\",\"dash\":\"solid\"},\"marker\":{\"symbol\":\"circle\"},\"mode\":\"lines\",\"name\":\"Action\",\"showlegend\":true,\"x\":[2014,2002,2014,1994,2007,2003,2018,2015,1974,2011,1988,2019,2009,2017,2016,2017,2008,2009,1973,2017,1982,1977,2013,1993,1994,1994,1987,1990,1993,1988,1989,2000,1978,2003,1990,1985,1992,1976,2000,1991,1984,1988,1990,1984,1986,1988,1989,1989,1989,1979,1990,1997,2010,2001,2007,2008,1982,2004,1980,1993,1977,2002,1981,2003,1985,2007,2001,2018,1993,1996,1995,2006,1979,1994,1964,1999,2011,1995,1995,2004,2015,2004,1980,1955,1977,1989,1998,2009,2019,2014,2010,1976,1965,2001,2010,1990,1980,1985,2004,1997,1977,2012,1988,1997,1990,1990,2012,1997,1997,2000,1979,2009,2018,2009,1996,2001,1991,2004,2020,1991,1989,2001,2009,2006,1954,1977,1984,2009,2010,1986,1994,2016,1978,1977,1952,1974,1994,1994,1990,1985,1983,1995,1992,1996,1998,2011,1995,1960,1969,2003,2009,1968,1986,1992,1975,1994,1993,2005,1996,1972,1985,2001,1999,2019,1996,1988,2006,2004,1993,2010,2001,2005,2007,2013,1997,1986,1984,1964,2002,2007,2000,1955,1978,1990,2018,2009,1999,2017,2000,2016,2018,2020,1990,1990,2016,2012,1953,1984,1995,2017,2015,1970,1973,1951,1966,2000,1998,1980,2015,1982,1998,1982,2015,2015,1996,1985,1992,1990,1998,1973,1980,2014,2016,2017,2004,1976,1998,1995,2019,1989,1993,1993,2017,1992,2001,1980,1978,2013,1994,2015,1956,2001,2005,1985,1997,1997,1972,2000,2001,1994,2019,2002,1985,2018,2010,1984,2001,2017,1989,2011,2000,2007,2000,1982,1989,2011,2001,1959,2004,2019,2005,2019,2012,2009,2011,2012,1992,2009,1993,1972,2015,2001,1997,2002,2013,2018,2015,2000,1976,2005,2013,1956,1967,2003,2000,1991,1986,1971,2007,2009,1989,2003,1994,1985,1977,1977,1981,2012,2012,1978,2009,2002,1977,2008,2000,2019,2007,1957,1955,1976,2004,2010,2011,1994,2013,1981,1977,1998,2006,2012,1993,1954,2002,1974,1977,1972,1980,2003,2020,1989,2016,1988,2013,2017,2019,2002,2008,1983,1995,1991,2020,1992,2011,2014,1994,2010,2021,1966,1999,2005,1997,2010,2012,2019,1987,1979,1999,2017,2015,1986,1977,2000,2000,1993,1987,1991,1998,2016,1996,2020,1993,2018,1997,1982,1992,2013,1988,2013,2009,2001,1976,1975,1992,2000,2005,2011,2012,2007,1980,2008,1982,1991,2014,2015,2004,1998,2018,1997,2006,2007,1973,1991,1977,1986,1997,1975,2001,2007,1979,2004,2006,2013,1989,2002,1982,1940,1978,1968,1993,2014,1993,1977,1987,1996,1986,1994,2015,2016,2014,2016,1993,1980,1969,1971,2015,2016,1998,1974,1980,1989,1977,1959,1988,2006,1978,2011,2016,1990,1989,1986,2019,1992,2016,2003,2011,1984,1979,1998,1983,1976,1990,1992,1995,1994,2005,1981,1986,1972,1985,1993,2007,1990,1968,2020,1965,1976,2009,1996,2012,2009,2007,1994,1971,2005,1984,2005,2007,1976,1988,2019,2019,2006,2016,2006,1975,1983,1996,1977,1967,2009,1963,2004,1981,2006,1990,2000,2021,2007,2003,2011,2016,2015,2016,1980,2015,2007,2001,1995,1999,1989,2004,2004,1995,1993,2011,2007,2000,2006,1978,1988,2003,2012,2006,1984,1993,1979,2002,1973,2002,2018,1985,2008,1998,1996,1990,2016,1982,1997,1998,1997,1985,2013,1968,2010,2010,2017,2006,2008,1989,1970,1994,1972,1993,2014,2008,2019,1993,1993,1990,1988,1969,1998,1995,2014,1961,2020,2020,1997,1980,2003,1988,1981,1993,1974,1995,1998,2014,1984,2000,1997,2014,1964,1995,1976,1999,1968,1971,1993,1989,2002,1988,2004,1998,2011,1982,1999,1976,2000,1983,2015,1998,1988,2008,2014,2015,2008,1970,1996,1987,1996,1983,1998,2013,2017,1973,2002,1987,1988,1999,2014,1985,2011,2018,2012,2016,2019,1987,1995,2004,1991,1989,1995,1994,1993,2002,1977,1980,1995,1983,1990,2000,2019,2002,2004,2018,1994,1989,2007,1987,1977,1994,2003,2001,2015,2019,1984,1966,1994,1986,1997,2004,1982,2005,1994,1955,1987,1991,1991,2018,2003,2004,1974,1999,2012,1997,1992,2017,2017,1998,1997,2014,2001,1991,1990,1993,1967,1969,2003,1960,1996,1987,1985,1990,1992,2006,1983,1979,2002,1999,1972,2019,2017,1984,2001,2007,2014,1994,2009,1995,1977,2003,1995,1987,1995,1986,1985,1970,1987,2013,2015,2012,1992,1990,1984,1996,1983,1986,1991,1997,1991,1991,2005,2008,2005,1966,1965,2013,1980,1982,1970,2000,1989,2007,1994,1997,1997,2017,1973,1996,2000,1989,2000,2019,1990,1996,1989,1980,2000,2017,2002,2021,2018,1979,1999,1975,2000,1981,2010,1989,2002,1970,2016,1998,2019,1963,1988,1999,2006,2017,1989,1981,1973,1968,2000,1984,1992,2009,1960,1989,1980,1977,1993,1976,2005,2009,2009,1999,1994,1989,1988,2013,2005,1994,1995,1983,1985,2014,1986,1985,1979,1999,2014,1980,2002,2008,1988,1984,1973,1981,1991,1997,1993,1973,1998,2019,2020,1976,2004,1993,1976,2004,2019,1990,1988,2000,2003,1977,2016,2010,1992,2000,2012,1996,1968,1999,1981,1991,1981,1974,1977,1974,1992,2020,2010,1982,1994,1992,2003,2014,2008,2014,1992,1962,2009,1974,1990,2004,1956,1986,2009,2019,2010,2010,1960,1991,1999,2003,1986,2014,1997,1981,2002,1997,1994,2010,1993,1996,1990,2000,1981,2006,2013,1993,2002,1998,1993,1991,2009,2000,2001,2019,1992,1999,2010,1997,2010,1979,2001,2004,2004,1999,1992,2010,2011,1989,2013,2020,1939,2004,2017,2012,2014,2001,1996,1987,1997,2005,2009,2011,1993,2006,2008,2019,2009,2017,2020,1985,1999,2002,1996,1984,1995,1984,2017,1994,1959,2013,2004,1996,1979,1985,1989,1983,1965,1985,1998,2012,1990,1995,2015,1981,2004,1994,2014,2002,1998,2001,2019,2020,1969,1983,2007,2019,1984,1985,1998,2018,2014,2019,1955,2019,2002,1987,2014,2002,1984,2009,1996,1991,2001,1983,2002,2012,1991,2000,1971,1986,1978,1988,1984,1981,1984,2004,2003,1985,2006,1989,2016,1998,2008,2000,2004,2001,1989,1998,1994,2016,1994,2013,1970,1975,2014,1994,1992,1987,1979,1996,2008,2015,1997,1997,2015,2016,2015,2019,1986,1963,2013,2021,2003,2017,1999,1979,1993,1987,2011,2004,1993,1995,1984,2015,1992,1995,2016,2017,1977,1994,2006,2009,1996,1982,2010,1969,1991,2017,1981,1986,1969,2015,1957,1978,2001,1995,2007,1996,1983,1980,1989,1992,2010,1991,1999,2019,2007,2017,2006,2010,2013,2001,2019,1961,1968,2020,2008,2012,1981,1995,2003,1988,1990,1985,2019,2019,2004,2019,1986,2018,1992,1974,2018,1992,2019,1987,1994,1993,2003,2018,1989,2018,1977,2003,2018,1971,2013,1974,1991,1967,1968,2010,2008,1995,1993,1955,1999,1978,1978,2015,2013,1993,1991,1966,1993,2002,1958,2004,1993,2012,1992,2004,1992,2013,1995,2004,2017,1958,2019,2019,1990,1987,1991,1995,1992,1970,1991,2015,1996,2004,2010,1997,1973,1981,2003,1983,1983,1978,1998,1990,1986,1990,2006,1985,1984,1983,2003,2009,1980,2013,2011,2017,2017,1989,2007,1976,2010,2018,2008,2013,2018,2021,2017,1995,1978,2018,1982,1995,1994,1996,2013,1992,1951,2000,1972,2010,2010,1994,1981,1996,1984,1980,2007,1995,1989,2010,2013,1988,1991,1985,1996,2015,1982,2013,2017,2013,1959,2015,2015,2011,2018,1995,2011,2009,1962,2002,2001,2014,2002,2007,2014,1981,2006,2016,2019,1981,1993,1974,1990,1992,2012,2015,2004,1989,2004,2020,2009,1991,1966,1967,1964,1994,2016,1969,1991,1975,1994,1995,2003,1970,1989,1991,2020,1996,2013,2011,2018,2013,1981,2011,1993,2002,1982,1998,1975,1972,1999,1983,1982,1964,1986,1997,2009,2005,1999,2009,1996,1961,2016,1999,2006,2005,2017,2008,2019,2008,1982,1998,2013,2018,1991,1991,2001,1999,1970,2020,2010,1994,2005,1996,1980,2005,2011,2011,1988,1953,1974,2011,2002,1982,1993,1978,1998,1990,1966,1976,1991,1984,1997,1984,1996,1986,1956,1999,1990,2000,1963,1991,1989,2006,1985,1988,2016,1992,1975,1999,2007,2013,2013,2007,1960,1999,1989,2002,2018,2015,2008,2013,2011,2019,2014,1986,2007,2006,1973,1999,1985,1998,1964,2012,2019,1988,1999,2008,2014,2007,1968,2004,1989,1991,1995,2009,2010,2019,1971,2005,2000,1979,1994,2004,2000,2016,2008,1968,2004,2003,1994,1987,1973,1979,1995,1985,1982,2021,2020,2004,1999,2003,1993,1992,1986,2020,1981,1995,2003,1988,1972,2005,2020,1990,1995,1997,1984,1970,1965,2002,2008,2009,1973,1965,1965,1982,2006,1994,2011,2005,2016,1996,2018,1985,2016,2018,2015,1988,2012,1999,2002,1990,1983,2001,1979,2015,1989,2013,2016,2017,1980,2019,2010,1994,2017,2014,1979,2003,2006,2002,2008,2015,2011,2021,1935,2017,2000,1952,2019,1970,2014,1981,2016,2018,2016,2017,1992,2014,2006,1989,1975,2020,2019,1989,1995,1991,1978,1996,2002,1997,2016,2019,2018,1982,1963,1998,1987,2020,1968,1999,2018,1962,2000,1992,1989,2011,2010,1970,2009,2017,1988,2016,1995,2019,1993,2011,1989,1989,1972,1982,2006,1990,1986,1988,1994,1986,2009,1998,2008,1991,2011,2013,2018,1996,1992,2010,2002,1972,1967,1998,2009,1984,1993,1988,1981,2019,1981,1975,2016,1987,2016,2015,2015,2003,2014,2014,1994,1972,2020,1981,1977,1985,1958,1969,1992,2013,2018,1995,1988,2016,1984,2002,2014,1972,2017,1999,2001,1982,1997,1991,1985,2021,2004,1979,1994,1985,1990,1994,1993,1980,1988,1995,1977,1985,1994,2003,1975,1973,2013,1997,2013,2006,1975,2011,1998,1975,1989,1999,1998],\"xaxis\":\"x\",\"y\":[4.0,6.9,3.5,7.2,8.1,5.0,6.2,5.8,6.5,4.6,5.0,5.3,5.4,5.3,3.0,6.2,8.1,5.0,7.2,2.7,5.5,5.1,5.4,6.5,4.6,4.1,5.3,4.8,4.8,3.4,5.0,4.2,6.0,3.1,4.7,5.1,5.3,3.5,4.3,3.1,5.8,5.0,3.3,5.6,7.1,5.2,4.1,5.0,4.9,6.3,7.3,2.8,7.0,7.2,3.0,7.7,6.4,5.7,6.4,6.7,6.3,3.1,5.2,4.5,6.1,4.6,3.8,5.2,4.5,3.9,5.2,4.4,4.5,5.8,6.1,5.4,4.4,5.0,4.8,7.8,5.8,4.6,6.4,4.8,5.4,4.6,4.0,5.0,4.5,3.3,3.6,6.4,6.6,5.4,6.8,6.9,6.2,4.6,4.6,4.5,5.7,5.2,5.1,3.1,5.6,7.7,6.9,7.8,3.6,4.6,4.1,4.1,5.3,6.4,3.7,6.4,5.3,5.0,6.9,5.0,5.3,5.8,4.6,3.8,6.2,6.7,4.8,6.2,6.1,5.4,4.7,6.6,4.9,7.5,6.9,6.6,4.4,8.1,6.8,6.8,6.1,5.0,6.4,4.3,5.3,6.3,4.4,6.1,5.8,3.4,4.8,7.2,7.5,7.7,4.9,4.4,5.7,7.4,5.6,6.8,7.2,3.6,5.2,4.3,4.3,7.0,4.4,3.4,5.2,4.8,6.5,5.4,5.6,6.5,4.5,6.0,6.2,5.1,6.2,7.3,5.5,7.2,7.2,5.0,6.4,5.1,6.9,4.9,4.2,5.2,4.8,2.1,5.7,6.0,5.3,3.2,7.3,6.3,6.5,6.9,8.0,6.3,5.0,6.7,7.0,4.9,5.8,7.6,7.4,4.8,2.5,6.4,7.2,8.0,2.7,5.6,4.3,5.1,4.8,5.8,6.1,5.6,4.9,5.9,5.9,6.0,4.7,5.4,7.2,6.3,4.8,3.9,5.6,4.6,5.3,6.8,5.4,3.6,4.8,5.2,6.0,4.6,5.6,6.0,5.1,3.8,5.7,3.2,4.6,7.8,4.9,5.7,5.8,7.6,4.3,4.8,5.0,5.3,4.6,5.6,5.0,3.8,4.4,7.5,4.5,3.8,3.9,6.7,8.5,5.4,4.1,6.2,5.0,3.7,4.7,5.5,6.1,5.2,6.4,6.8,5.6,4.2,7.9,2.9,5.1,3.9,6.5,5.4,6.9,3.6,5.0,7.3,5.8,5.7,6.8,7.0,7.0,6.8,3.4,4.1,6.8,5.8,4.0,4.5,5.8,5.6,6.8,4.2,6.8,6.4,4.6,4.4,6.0,4.0,4.3,5.5,4.3,7.1,5.6,6.5,5.3,4.9,1.7,3.9,6.0,7.6,6.8,6.6,4.0,7.3,6.9,6.1,4.2,6.5,5.8,5.0,7.1,3.7,5.8,2.3,6.9,4.2,6.2,5.3,5.7,7.9,4.0,6.6,6.6,6.7,2.9,4.8,5.6,3.1,5.7,5.1,4.4,6.2,4.8,3.1,4.5,6.2,4.8,3.0,6.5,5.0,4.8,6.4,6.2,5.3,4.7,3.9,3.8,4.9,6.1,3.9,3.7,8.4,5.4,6.1,7.8,3.8,5.9,6.1,5.7,6.2,6.5,7.2,5.5,4.6,6.5,8.1,6.9,4.7,5.3,7.6,3.1,6.2,5.5,1.4,6.0,3.6,4.0,7.7,5.8,3.5,5.5,5.1,4.4,7.3,5.4,3.5,6.7,5.8,5.8,6.7,7.0,6.2,4.5,6.7,6.5,5.4,8.1,6.9,6.1,6.1,5.5,6.1,3.1,5.3,5.3,4.5,5.1,5.8,3.7,5.7,5.1,4.0,5.2,5.1,3.8,7.0,6.2,6.3,5.3,6.5,3.8,6.7,5.7,4.4,3.3,7.1,6.4,7.2,7.8,7.1,3.9,4.6,5.2,5.7,3.5,5.9,5.1,5.6,6.2,7.0,7.0,5.6,6.2,5.6,5.4,5.0,4.9,4.7,5.2,6.3,6.6,4.7,3.8,3.4,6.5,4.0,5.8,8.2,4.9,7.0,4.3,3.9,5.5,4.7,6.1,5.3,6.0,4.4,6.5,5.7,6.2,6.5,6.0,7.1,8.4,5.6,7.0,7.2,6.9,4.5,4.7,5.1,6.2,5.6,6.2,5.5,6.1,3.3,5.3,6.1,8.3,3.4,5.3,6.5,6.2,4.6,4.9,6.6,7.1,4.8,7.2,4.6,3.7,5.3,3.5,4.5,5.0,5.1,5.2,5.3,6.1,4.7,5.4,4.6,7.8,8.2,7.1,5.3,7.4,6.0,2.7,5.4,6.1,5.3,6.1,7.3,4.4,7.4,7.6,6.3,6.8,5.4,7.3,6.6,7.2,6.7,6.3,5.9,5.5,5.0,7.4,6.4,5.8,7.0,5.5,5.0,6.7,6.1,3.7,7.8,6.2,4.7,5.1,4.9,6.7,7.3,4.2,2.4,7.6,5.3,6.8,7.3,6.7,5.6,7.1,6.0,4.9,6.3,4.2,4.9,8.1,4.9,5.6,5.3,5.0,7.8,4.6,5.5,6.2,6.7,5.4,4.7,6.0,5.6,6.9,4.1,5.6,6.3,3.4,4.7,6.8,8.2,6.7,3.5,4.8,6.2,5.5,5.3,2.9,3.7,6.4,4.5,5.0,5.1,4.5,4.3,1.7,6.6,6.2,5.3,5.4,5.4,4.3,7.2,4.7,5.2,7.6,5.3,5.0,3.5,6.1,4.6,7.0,6.8,5.8,6.3,4.8,5.5,4.4,7.2,6.5,3.5,6.0,4.5,2.7,4.9,6.4,6.1,5.4,3.6,4.7,9.2,5.4,5.7,5.3,7.1,5.4,6.9,4.5,5.8,5.7,4.7,4.8,4.2,3.9,5.4,4.6,3.0,7.4,4.6,6.9,6.2,6.8,5.1,5.0,6.5,4.8,6.5,6.9,5.7,6.4,7.5,4.4,3.5,4.5,4.5,5.8,5.0,4.2,5.8,6.9,4.1,7.3,4.1,5.6,4.7,6.6,5.3,2.7,5.8,6.1,2.8,6.0,6.3,4.4,6.5,6.4,5.1,3.9,5.1,5.1,3.6,5.0,5.2,5.8,5.7,6.6,4.0,6.2,6.0,5.2,5.6,5.3,5.8,5.5,4.8,4.6,5.9,5.7,4.8,4.1,3.8,5.1,4.6,2.5,3.6,7.6,7.3,6.8,6.8,5.6,7.5,4.9,7.3,6.2,5.7,4.6,3.1,3.9,6.1,3.6,6.5,4.0,4.2,5.6,6.1,5.6,5.6,5.4,4.6,5.8,4.2,7.1,6.5,9.1,6.7,7.7,4.2,6.4,5.0,6.8,3.3,3.8,6.5,6.8,6.2,4.3,7.1,4.8,5.9,6.0,6.1,5.3,6.9,5.2,6.0,5.6,6.9,6.3,6.2,3.6,6.0,5.5,5.6,6.4,6.3,6.7,6.5,3.9,7.4,6.0,3.1,5.6,4.6,8.2,5.5,4.0,6.8,6.2,6.1,2.7,7.4,4.4,7.0,5.1,3.0,7.5,3.9,2.1,5.1,5.7,5.4,6.4,3.2,3.8,5.0,6.8,5.7,7.4,2.3,5.6,7.4,7.2,5.7,6.3,4.6,5.2,4.8,4.4,4.0,6.2,5.2,5.8,7.2,5.2,4.3,6.0,6.8,5.3,5.7,4.8,4.1,6.1,6.2,6.2,6.5,7.4,3.2,6.9,5.1,5.8,4.4,5.3,4.6,4.3,6.3,6.3,5.3,6.1,5.9,3.7,6.1,4.2,3.3,4.6,6.1,6.0,6.8,5.5,5.4,7.1,6.3,5.4,6.2,7.2,3.8,6.3,7.4,4.6,5.7,4.7,5.1,4.4,6.5,6.4,5.2,5.9,5.6,4.5,5.8,4.2,5.7,6.0,5.4,7.3,3.2,4.4,5.2,4.5,6.3,6.1,6.7,4.4,7.9,3.2,4.6,5.0,5.8,5.8,3.4,2.4,6.6,6.1,5.9,5.3,5.6,5.1,5.1,6.0,5.5,4.4,3.8,3.3,5.1,3.1,2.6,7.5,4.8,6.2,7.6,4.4,4.6,3.5,7.8,3.7,6.3,5.4,2.7,3.7,5.3,7.7,5.1,5.0,6.5,6.4,5.7,6.1,7.3,4.9,4.1,5.0,5.6,4.3,6.3,6.6,7.0,6.5,5.1,3.7,5.3,5.2,6.0,6.5,5.7,5.9,3.6,6.4,5.9,6.2,4.2,7.4,7.3,7.4,6.4,3.6,5.4,4.9,6.8,4.1,7.3,5.2,5.8,5.2,4.8,5.4,3.5,4.7,5.3,3.8,7.0,4.7,4.6,3.9,5.2,6.6,5.1,3.9,5.6,7.3,3.2,5.7,4.6,4.3,3.4,6.7,3.8,5.3,4.7,4.5,5.3,5.7,7.0,6.6,4.4,4.8,3.6,4.2,4.3,7.8,6.6,5.5,3.3,3.8,2.5,7.3,6.6,6.7,5.8,8.6,6.0,6.6,4.9,6.1,3.3,3.3,4.0,6.5,4.2,4.8,6.2,5.5,7.1,7.6,7.5,7.2,4.1,5.5,5.9,6.3,5.8,4.5,3.3,6.1,4.1,7.3,5.4,6.2,5.5,6.8,7.1,5.1,4.9,6.2,6.5,5.5,7.8,4.7,3.8,4.9,6.3,5.9,2.9,4.2,4.3,4.3,5.1,8.0,6.7,7.2,8.1,7.4,4.6,5.4,5.0,5.5,8.0,4.7,7.7,8.2,6.2,4.1,5.1,5.0,5.2,6.7,3.2,6.4,4.1,4.6,6.5,5.3,6.5,6.4,5.9,5.2,5.3,5.9,6.5,5.7,4.3,4.8,7.8,7.6,6.9,2.2,7.2,5.5,3.8,6.6,5.6,6.6,4.4,5.5,2.8,7.2,4.4,6.4,4.8,6.6,6.7,5.9,4.8,5.4,5.8,6.3,4.4,6.3,4.5,4.1,3.7,4.1,5.2,4.5,3.4,4.1,5.0,4.6,7.8,6.4,4.3,5.9,6.0,7.0,4.9,4.1,5.2,6.9,2.1,4.4,5.7,5.5,4.2,4.4,7.4,6.6,4.7,6.0,6.3,8.4,6.7,3.8,6.2,5.6,3.3,6.8,6.1,6.0,4.7,5.8,7.0,5.2,4.7,5.1,8.1,7.5,3.6,6.3,5.4,7.8,6.7,5.4,1.9,1.8,6.8,4.3,5.8,7.4,6.1,5.3,6.3,6.2,2.9,3.3,6.4,5.1,6.6,7.6,6.5,2.9,5.8,4.7,5.3,6.3,1.7,5.4,6.8,3.4,5.7,4.5,4.7,5.4,6.1,3.6,6.2,5.0,5.6,5.1,5.8,6.2,7.7,2.9,5.7,5.9,4.8,6.4,5.2,4.9,8.5,4.5,4.6,6.6,5.6,6.9,3.9,6.8,6.6,2.6,4.9,6.9,5.8,6.0,5.7,3.3,2.7,6.5,4.8,7.5,4.0,5.4,6.2,6.2,6.4,5.7,7.6,6.5,6.2,5.7,3.4,6.0,2.9,6.7,4.5,6.5,1.1,6.0,6.6,7.2,4.4,6.8,4.7,4.8,6.1,6.7,6.6,5.4,5.8,6.6,7.1,7.8,5.8,6.0,5.5,4.8,4.8,6.9,6.8,5.0,5.2,4.5,4.7,8.1,3.9,7.6,4.9,6.7,6.3,5.0,7.2,8.2,5.9,5.7,6.8,5.8,3.8,4.7,6.5,7.6,4.4,6.8,7.7,6.9,7.1,6.2,5.6,7.1,6.3,4.6,5.4,7.2,6.0,7.7,2.6,6.3,3.5,5.2,5.6,5.5,6.0,4.3,5.5,6.8,4.6,6.9,5.4,5.1,4.5,3.6,5.7,5.6,8.1,3.9,4.6,4.7,6.2,6.5,8.2,7.7,7.1,5.9,2.3,3.6,7.0,3.9,4.5,8.5,5.6,5.0,5.7,5.6,6.8,5.5,5.7,5.1,7.5,5.5,7.1,6.5,6.1,6.2,2.8,4.0,8.1,4.8,6.3,5.8,5.9,2.9,4.9,4.6,6.3,6.2,5.2,3.7,6.9,2.2,6.5,3.7,4.0,6.7,5.7,3.2,5.6,7.0,5.3,6.8,2.5,4.3,5.5,4.5,5.7,7.3,4.1,5.4,6.3,4.2,7.3,4.5,4.4,4.7,4.7,5.7,5.4,7.5,5.7,4.6,4.7,4.0,5.6,6.0,7.6,4.2,6.5,4.5,4.6,3.8,5.6,4.5,3.9,4.0,5.8,6.3,6.3,6.4,2.6,6.3,2.5,5.5,2.6,6.2,3.1,5.4,6.8,6.2,4.0,7.0,3.9,5.9,5.7,5.6,6.1,4.8,6.3,7.1,5.7,6.9,5.6,8.0,6.8,7.5,3.4,5.2,7.6,7.1,6.5,5.3,4.7,8.1,2.0,4.6,4.0,5.7,4.5,7.3,2.9,7.0,7.7,6.4,6.5,6.6,4.4,4.1,6.4,5.9,6.9,7.6,3.2,4.9,5.7,6.8,4.2,6.3,4.8,5.1,7.7,5.2,5.6,4.5,7.8,6.5,8.2,3.8,7.4,4.4,4.2,6.9,5.8,8.0,8.5,5.5,4.7,6.0,4.5,3.7,4.5,7.0,6.5,6.4,6.6,5.3,5.7,6.0,5.8,6.0,6.7,6.9,7.1,7.2,5.2,5.2,6.5,5.6,5.0,7.3,3.7,5.3,4.9,5.1,7.2,8.1,5.9,5.3,6.5,5.4,3.7,3.8,5.5,6.9,6.6,6.5,6.0,6.3,5.9,6.5,6.8,7.1,4.1,5.7,7.1,4.3,4.2,6.4,5.9,3.5,3.7,4.2,6.3,7.1,7.0,6.0,7.2,7.0,5.4,3.4,4.5,4.7,6.3,3.4,5.8,4.3,6.4,6.8,5.2,4.4,4.1,6.5,7.2,4.6,6.2,7.7,7.4,4.8,4.9,5.3,4.6,4.0,4.7,5.6,6.0,4.9,3.8,6.3,5.5,5.3,6.2,7.6,3.2,5.8,3.6,4.9,7.1,4.0,4.3,5.6,5.8,4.5,6.2],\"yaxis\":\"y\",\"type\":\"scattergl\"},{\"hovertemplate\":\"Genere= Crime\\u003cbr\\u003eYear=%{x}\\u003cbr\\u003eRating=%{y}\\u003cextra\\u003e\\u003c\\u002fextra\\u003e\",\"legendgroup\":\" Crime\",\"line\":{\"color\":\"#B6E880\",\"dash\":\"solid\"},\"marker\":{\"symbol\":\"circle\"},\"mode\":\"lines\",\"name\":\" Crime\",\"showlegend\":true,\"x\":[2014,2003,2009,2008,1968,1982,2013,1993,2009,2000,1990,2000,1984,1986,1989,1989,2010,2008,1982,2004,1993,2018,1995,1994,2004,2015,2009,2014,2010,1997,1977,1985,1990,1990,2012,2001,2020,2001,2010,2011,1949,1985,1992,1996,1998,1969,2003,2009,1975,2005,1985,2001,1999,2013,1986,2002,2007,2000,2018,2009,1999,2000,1990,2012,1995,1972,2017,1970,2009,1973,2000,1983,2015,2010,2020,1980,1994,2017,2009,1976,1998,2019,2011,1993,1992,2001,1980,1981,1956,1985,2018,2017,1989,2011,2000,2007,1982,1989,2011,2004,2012,2005,1992,2009,2019,1998,2008,2015,2001,2013,2015,1976,2013,2005,1956,1967,2007,2012,1994,1977,2009,2008,1955,2004,2010,1994,1981,1977,1962,2006,2002,1990,1977,2020,1989,2002,2008,2021,2010,2012,2019,2017,2015,2000,2006,1982,2013,1988,2009,1976,1975,1992,2009,2011,2012,1991,2015,2006,1973,2007,2004,2006,2013,2008,2019,1982,1978,2007,2014,1957,1969,1959,2006,1978,2011,2011,2019,1992,2003,2011,1998,1983,1994,2005,2007,2005,1990,1968,1976,2009,1994,2008,2005,2007,1988,2006,1975,1996,1967,2004,2006,2000,2007,1953,2003,2011,1980,2009,2015,2004,1995,1993,2011,2007,2000,2003,2012,2006,1993,1979,1973,2002,1989,2013,1998,1990,2016,1998,1997,1968,2010,2008,1993,2008,1993,1969,1998,1997,1980,2014,2014,1976,1971,1989,2002,1988,2004,1976,2000,1987,1988,2011,1999,1971,1989,1994,1993,1980,1990,2011,2004,1987,2001,2015,2015,2005,1994,2001,1974,1999,1998,2003,1990,1967,1960,1992,1983,2006,1999,2001,2007,2009,1979,2015,2012,2000,2011,2013,1980,1996,2000,1989,1990,1989,2017,1999,1989,2002,2016,1988,1981,1968,2009,1976,2005,2009,1960,1989,2005,2002,1991,1993,1976,2004,1993,1976,1990,2010,2000,2003,1996,1991,2006,1974,2010,2014,2008,1992,2009,1956,2012,2009,2019,2010,1997,1994,2010,2008,1990,1981,2009,2000,2016,1992,1999,2011,2001,1992,2011,1989,2013,2017,2011,2020,2006,2001,2010,2019,2017,2020,1962,1996,2008,1994,1985,2015,2020,1983,2007,1984,2014,2019,1955,2002,2004,2012,2015,1978,1981,2006,1989,2015,2008,2013,1970,1975,1961,2008,2015,1986,1963,2013,2021,2011,1999,1993,2011,2004,2011,2015,1994,2010,1969,1954,1978,1995,2007,1989,2011,2010,1991,2017,2006,2010,2013,2001,2019,2008,1961,2008,2012,2004,1992,1987,1989,1977,2010,1957,1955,2018,2010,2006,2004,1993,2012,2004,2013,2019,1987,1991,2004,1981,2006,1983,1980,1989,2007,2008,2013,2018,2021,2017,2008,2003,2018,2010,2010,1984,1995,1991,2006,2011,1995,1962,2014,2007,2009,2016,1990,2012,1989,2020,2009,1991,1975,1995,2011,2018,2013,1986,2021,1999,2009,2016,1996,2016,2005,2017,2008,1998,2013,2018,2021,2005,1980,2011,2011,1974,2011,2011,1982,1978,1976,1986,2020,1989,2006,1988,1999,2007,2013,2013,1955,1960,2018,2008,2011,2014,2019,2007,1989,2009,2010,2005,2000,2004,1968,2003,1979,1985,1995,1972,1990,1997,1984,1973,2010,1965,2006,2011,2005,1985,2016,2012,1999,1990,2013,2021,1988,2019,2010,2010,2014,1979,2006,2021,2015,1970,2014,1981,2014,1989,1989,1997,2016,1982,1963,2020,1968,1999,2018,1962,1992,1989,2016,1989,1972,1998,2008,1991,2010,2002,1972,1998,2009,1984,1988,1981,2016,2015,2014,2020,1969,2014,1997,1985,2021,1993,1985,1972,1973,2013,2013,1989],\"xaxis\":\"x\",\"y\":[4.0,5.0,7.3,8.1,5.5,5.5,5.4,6.5,5.0,4.2,4.7,4.3,5.6,7.1,5.0,4.9,7.0,7.7,6.4,5.7,6.7,5.2,5.2,5.8,7.8,5.8,5.0,3.3,3.6,4.5,5.7,7.1,5.6,7.7,6.9,6.4,6.9,5.8,6.1,4.0,7.2,6.8,6.4,4.3,5.3,5.8,3.4,4.8,4.9,7.4,7.2,3.6,5.2,6.9,6.0,6.2,7.3,5.5,6.4,5.1,6.9,4.2,6.0,3.2,6.5,7.5,6.9,6.3,3.5,5.0,4.9,6.3,7.4,6.0,7.3,6.1,7.6,5.9,6.8,6.0,4.7,7.2,3.1,3.9,4.6,5.3,6.8,6.3,6.0,5.8,7.6,5.3,4.6,5.6,5.0,3.8,7.5,4.5,3.8,8.5,5.0,6.6,6.1,5.2,4.5,6.5,4.6,5.6,4.2,5.1,6.3,6.9,5.0,6.2,7.3,5.8,3.4,6.1,4.0,5.6,4.6,4.0,5.6,5.3,4.9,3.9,7.6,6.8,7.1,4.0,4.2,4.5,5.8,5.8,2.3,7.9,4.0,4.4,6.2,4.8,3.0,6.4,6.2,3.9,5.3,6.1,6.2,6.5,5.5,6.5,8.1,6.9,4.5,7.6,3.1,3.6,7.7,4.4,5.4,6.3,6.7,6.5,5.4,3.4,8.9,6.1,5.5,7.0,5.3,8.4,6.2,7.1,7.2,7.8,7.1,3.8,3.5,5.9,5.6,6.2,5.6,6.2,4.7,5.2,7.3,5.7,4.0,5.8,7.0,4.3,5.3,4.2,5.7,6.2,6.0,5.6,6.9,4.7,6.2,5.5,3.3,6.1,3.4,7.5,5.3,6.5,6.6,2.8,7.1,4.5,5.0,5.1,5.2,5.3,6.1,7.8,8.2,7.1,7.4,6.0,5.4,6.1,4.9,5.8,4.4,7.6,6.3,7.3,6.6,6.3,5.9,5.1,6.7,3.7,6.2,6.7,7.3,7.3,6.7,8.1,5.0,5.5,5.4,6.0,5.6,6.9,4.1,6.8,8.2,5.4,5.4,5.2,5.0,7.1,5.8,4.8,5.5,5.6,4.5,3.6,6.1,5.4,5.4,8.2,6.9,4.6,3.0,2.6,6.5,4.8,4.4,7.3,5.0,5.8,7.3,5.3,8.4,2.7,6.0,5.1,3.9,3.6,6.5,5.8,5.5,4.9,5.7,5.6,7.5,4.0,4.2,5.6,5.6,4.6,7.1,4.2,3.8,6.5,6.2,5.9,5.2,5.6,3.6,6.7,6.5,7.4,7.9,5.6,5.5,3.9,3.2,5.0,5.6,7.4,7.2,5.7,5.2,5.7,4.4,4.0,6.0,4.8,8.3,6.2,3.2,5.3,4.6,6.3,5.3,6.1,4.2,3.3,4.6,6.0,6.3,7.4,4.6,4.2,5.1,6.5,5.7,6.0,8.0,3.2,4.4,6.0,6.7,4.6,5.8,5.8,3.4,6.8,3.3,7.6,3.1,6.0,7.1,7.5,6.2,7.6,5.0,7.8,3.1,3.7,4.9,6.3,6.5,5.9,3.6,5.9,7.3,7.4,6.4,4.1,6.2,4.7,7.2,4.6,6.6,3.2,5.7,5.4,7.1,6.6,4.4,4.8,6.8,3.3,3.8,6.0,6.6,4.9,6.1,5.2,4.0,4.2,6.2,5.5,5.3,7.2,4.5,5.4,6.2,6.2,5.5,4.7,3.8,2.9,7.2,4.3,4.3,7.2,8.1,7.4,4.6,5.4,5.0,5.3,5.5,7.7,8.2,4.1,5.2,5.9,7.8,6.9,5.5,7.1,6.4,3.8,7.5,7.0,4.1,3.7,4.1,4.5,4.1,4.3,7.0,4.9,5.5,6.6,3.3,6.0,7.0,7.5,3.6,6.7,5.4,1.9,1.8,6.8,3.4,6.9,7.4,7.6,6.5,5.3,5.4,4.7,8.1,2.9,5.9,5.2,4.5,6.6,6.8,6.8,5.8,5.7,6.5,7.5,4.0,6.2,5.7,6.0,7.2,4.4,6.8,5.5,6.3,6.8,6.2,2.8,5.2,4.7,7.6,4.9,6.7,8.2,5.9,5.7,4.1,7.7,7.1,5.6,7.1,5.4,7.2,4.9,7.7,6.3,5.5,6.9,8.5,8.1,3.9,4.7,7.7,7.1,5.9,2.3,8.0,7.0,5.6,5.7,6.8,5.7,8.1,2.9,6.3,3.7,6.9,3.7,4.0,3.2,6.8,4.3,7.3,5.4,4.6,5.6,4.2,4.5,4.6,5.8,2.6,6.3,2.6,2.5,5.5,5.4,6.8,3.9,5.9,5.6,6.9,6.1,6.1,7.5,6.0,3.4,7.1,6.5,4.7,5.7,5.7,6.4,6.5,6.6,7.6,4.9,6.3,4.5,7.8,3.8,7.4,6.9,5.8,8.0,8.5,5.5,6.0,4.5,5.3,6.9,7.1,5.3,4.9,5.1,5.4,3.7,3.8,6.9,6.6,6.5,6.3,5.9,7.1,4.2,5.9,6.3,7.0,6.4,7.2,6.2,7.7,4.7,6.3,6.0,7.6,3.2,3.6,5.8],\"yaxis\":\"y\",\"type\":\"scattergl\"},{\"hovertemplate\":\"Genere= Family\\u003cbr\\u003eYear=%{x}\\u003cbr\\u003eRating=%{y}\\u003cextra\\u003e\\u003c\\u002fextra\\u003e\",\"legendgroup\":\" Family\",\"line\":{\"color\":\"#FF97FF\",\"dash\":\"solid\"},\"marker\":{\"symbol\":\"circle\"},\"mode\":\"lines\",\"name\":\" Family\",\"showlegend\":true,\"x\":[2012,1977,2007,1989,2018,2001,1980,1970,2009,1976,1964,1980,1966,1976,2017,1980,1951,1983,1975,1986,1977,1993,1978,2000,1969,1977,1980,1953,2003,2010,1984,2006,1955,1985,1993,1965,1969,1983,1957,2015,1981,1949,1982,1972,1982,1985,1964,2017,1991,1961,1969,1959,2012,2008,1982,1984,1971,2019,2017,2001,1954,2017,2010,2009,1997,2007,2007,1974,1981,2017,1998,1971,2016,2018,2011,2019,2010,1979,1970,2008,1950,2016,2009,1978,1981,2017,2002,1989,1968,1978,1958,1977,1983,1964,1964,2016,1977,1989,1980,1981,1968,1969,1957,2018,2012,2015,1957,2012,1954,2013,2020,1973,2012,1986,2013,1972,1968,1975,1970,2004,1992,1987,1948,1988,1961,2008,1973,1963,1971,1971,1986,2018,1996,1963,2017,1967,2008,2000,2014,2014,2010,1987,1965,1970,1973,2018,2000,1985,1980,1974,2010,2020,2018,1986,1954,1982,1959,1974,1992,1987,1981,1998,2018,1955,1969,1973,2012,2021,1990,1976,1997,1962,1964,2012,1980,1982,1999,2011,2012,1986,1959,2016,1993,1977,1978,1973,1957,1970,2015,2012,2006,1942,2010,1980,1993,1995,1974,2008,1994,2007,1975,1958,2002,2013,2012,2007,1976,1980,1981,2013,2005,1983,1962,2013,1978,1971,1979,1984,1970,1971,1990,1985,1972,2011,1969,1975,1949,2015,1957,1978,2008,1979,1967,1979,1981,1996,1982,2007,1955,1974,1989,2015,1983,1979,1989,2010,2014,1977,1967,1958,1971,1989,1972,1958,1966,1984,1973,1978,1984,1972,1964,1937,1994,2005,1983,1987,1988,1969,1987,1998,1979,1958,1975,1972,1968,1996,2018,1962,1972,1967,1943,2010,2005,1975,1974,2017,1965,2012,1970,2018,1962,1978,1979,2017,2002,1979,1958,2007,1964,1972,1993,1989,1950,1979,1984,2011,1973,1982,1951,1949,1974,1981,1979,1961,1981,1982,1968,2004,1981,2019,1980,2021,1988,1989,2011,1982,2014,2007,2009,1955,1976,1967,2001,2016,2005,2014,2007,2015,2002,2008,1953,1978,2015,2016,1989,2021,1982,1974,1970,2014,2005,2004,2011,1997,2005,2005,1954,2010,2013,1975,1983,1964,2002,2011],\"xaxis\":\"x\",\"y\":[7.8,5.4,6.2,4.1,7.7,4.8,6.4,6.5,5.1,5.7,6.3,5.6,7.2,6.4,3.3,6.2,7.8,6.4,7.0,7.0,7.1,5.6,7.9,6.9,7.2,6.8,6.8,6.8,5.2,5.3,6.3,5.4,6.4,7.1,5.4,6.5,7.2,7.1,6.2,5.6,6.8,6.8,7.3,6.9,7.0,6.2,6.8,7.0,4.1,5.4,4.9,6.0,4.9,6.3,7.5,5.1,6.6,5.4,5.7,5.1,8.0,7.2,6.1,7.2,7.4,5.6,8.2,7.1,8.0,5.7,5.7,6.1,8.4,6.4,7.5,8.3,6.3,5.0,7.1,6.4,6.8,6.3,6.2,7.1,7.3,7.8,6.9,7.6,6.5,7.1,6.0,7.0,6.9,8.4,7.1,5.1,7.9,7.2,7.0,5.8,6.3,6.6,7.3,4.0,7.8,3.4,8.0,6.4,5.8,6.2,8.3,6.0,5.1,7.6,7.3,6.8,6.5,6.9,7.6,4.0,5.8,6.6,5.7,4.7,7.1,6.9,6.2,6.8,7.2,6.9,7.3,7.2,7.9,6.4,5.4,6.5,1.9,5.7,7.4,5.1,6.0,5.4,6.8,5.9,6.5,6.3,7.3,6.6,6.7,6.1,8.0,7.2,5.4,6.0,6.1,5.4,6.8,6.5,3.8,5.0,6.9,3.3,7.5,6.8,6.4,5.3,7.1,7.5,4.9,6.3,5.1,5.9,5.9,2.4,5.0,6.6,6.2,6.4,7.9,5.7,6.7,7.7,7.1,6.7,7.7,5.4,6.9,7.2,6.1,8.1,5.9,6.2,7.2,7.6,5.1,5.1,7.4,4.7,5.8,5.4,6.2,7.3,5.1,6.8,5.9,8.4,6.5,5.4,6.9,6.7,4.8,5.2,7.4,5.3,6.7,5.2,6.9,7.3,6.8,6.8,3.8,4.7,5.6,5.8,5.1,7.5,7.1,5.4,8.0,5.5,4.4,6.0,6.3,6.8,6.4,4.1,7.6,6.0,7.4,7.0,5.2,8.3,6.3,6.0,6.4,4.9,5.8,7.6,5.5,6.8,6.2,6.2,7.5,6.8,6.2,6.3,7.3,6.2,5.8,6.7,7.0,5.9,6.1,4.6,6.3,6.4,6.5,6.2,5.6,5.1,5.4,6.5,6.2,6.3,6.9,4.5,5.8,6.5,6.6,7.4,7.2,5.9,6.7,6.7,7.0,6.9,6.5,4.6,6.1,6.2,6.5,6.4,6.3,8.2,6.8,7.5,5.6,5.8,7.0,6.2,5.8,6.7,6.9,4.8,5.4,5.3,7.2,6.1,6.2,6.6,6.8,5.5,5.6,7.3,7.3,6.4,6.6,5.1,7.3,9.3,6.5,6.6,4.8,5.3,7.8,6.3,4.6,5.6,5.5,8.4,7.2,6.3,5.3,6.4,7.4,4.1,6.2,6.4,7.4,4.9,7.3,7.1,5.9,6.7,6.3,6.1,5.6,6.2,4.4,5.5,4.5,7.8,6.7,7.5,7.1,6.8,6.4,5.6,7.6,4.4,7.7,6.5,5.5,4.0],\"yaxis\":\"y\",\"type\":\"scattergl\"},{\"hovertemplate\":\"Genere= Comedy\\u003cbr\\u003eYear=%{x}\\u003cbr\\u003eRating=%{y}\\u003cextra\\u003e\\u003c\\u002fextra\\u003e\",\"legendgroup\":\" Comedy\",\"line\":{\"color\":\"#FECB52\",\"dash\":\"solid\"},\"marker\":{\"symbol\":\"circle\"},\"mode\":\"lines\",\"name\":\" Comedy\",\"showlegend\":true,\"x\":[1974,2016,2017,1994,1993,1977,2003,1992,1989,2010,1990,1985,1997,1972,1980,2009,2009,1991,2020,2009,2009,1978,1977,1994,1994,1995,1969,2009,1975,1980,2019,2005,2002,1955,1978,2018,1999,2020,1990,2016,1972,1970,1973,1998,2015,2014,2017,2013,1956,1972,1994,2001,2019,2010,2011,2011,2017,2011,2012,1992,1972,2013,2018,2020,1971,2009,1989,1994,1977,1977,2009,2002,2000,1967,2011,2013,1998,2002,1983,1995,2020,2011,1997,1966,2010,2012,2019,1997,2009,1992,1990,2005,2011,2012,1982,2007,1977,1986,1979,1991,1977,1986,2015,2016,2016,1980,1974,1998,1976,1994,2007,1965,1976,2009,1981,2014,2007,2020,2015,1989,2004,1995,2012,2002,1982,1997,2013,2010,2017,2006,2013,1970,1994,1972,1971,1998,1988,1981,1995,1962,2014,2004,1999,1999,1999,1976,2000,1998,1988,2008,2015,1987,1983,2013,1999,1985,2012,2016,2019,1995,1971,2004,1991,1995,1993,2002,1977,2000,1994,1997,1997,1992,2014,2001,1983,2019,2017,2007,2003,1985,2013,2005,1965,2007,1997,2017,1983,2021,2006,2009,2018,1981,1998,2020,2012,1999,1964,2003,2014,2014,1962,1974,1990,2012,2009,2019,1960,1999,2000,2001,2020,2012,2014,1996,2005,2011,2006,1966,2020,2014,1995,1983,1985,1998,2004,1994,2014,2018,2009,1996,1970,2011,2000,2004,2014,1994,1987,1979,1996,2008,2015,2015,1986,2003,2003,1987,1995,1984,1982,2007,1996,2010,2017,2007,2001,2008,2019,2004,2018,1971,1968,1955,1978,2013,2004,2013,1992,1978,1998,1990,2006,1985,2013,2009,2013,1994,1996,1964,1992,2000,1984,1980,2007,1989,1991,1996,2013,2015,2011,2011,2014,2009,2008,1970,2012,2004,1970,1969,2011,1982,1982,2018,2009,2016,1982,1972,2010,1990,1956,1992,1975,2018,2015,2008,2013,2012,1968,2019,1971,1994,2008,2004,1995,1977,2009,1963,1996,2018,2001,2015,2007,2011,2014,2016,2006,2019,1996,2019,1972,2011,2010,2002,1993,2015,2015,2013,2003,1981,2013,2018,2016,1999,1982,1995,1975],\"xaxis\":\"x\",\"y\":[6.5,3.0,6.2,4.6,6.7,6.3,4.5,6.8,4.6,6.8,6.9,4.6,4.5,6.6,6.2,4.1,6.4,5.3,6.9,4.6,6.2,4.9,7.5,4.4,8.1,5.0,5.8,4.8,4.9,6.8,4.3,5.4,6.2,7.2,7.2,6.4,6.9,2.1,6.0,5.3,7.5,6.3,5.0,5.8,8.0,5.6,5.9,3.6,6.0,5.7,7.8,4.6,4.9,4.3,5.6,3.8,5.5,4.7,5.5,6.1,6.8,5.1,3.9,7.7,6.8,4.1,6.8,4.0,5.8,5.6,4.6,4.4,4.3,5.0,1.7,6.0,5.7,4.2,6.6,6.6,2.9,5.6,4.6,6.2,6.2,4.8,3.0,5.9,5.5,6.9,5.7,5.3,7.6,5.6,6.0,7.3,6.7,5.8,4.5,7.3,4.5,3.7,5.1,4.0,5.1,7.0,6.7,5.6,5.6,4.7,7.3,4.9,7.0,4.3,6.1,5.7,3.4,8.3,7.1,5.3,4.5,5.0,8.2,6.1,6.8,5.4,6.7,5.5,5.0,7.4,7.0,7.0,5.5,5.0,7.2,7.3,7.1,6.0,4.2,7.4,5.0,6.2,6.2,4.0,4.7,6.8,8.2,4.8,6.2,5.5,2.9,5.0,4.5,1.7,4.3,4.7,5.3,5.0,3.5,4.6,7.1,7.0,6.8,6.3,5.5,4.4,7.2,2.7,3.6,4.2,6.9,5.7,4.5,4.5,5.8,4.4,6.5,3.9,5.8,6.0,5.3,3.6,6.8,4.6,6.1,3.6,5.6,7.6,6.8,3.9,7.6,6.4,5.7,2.3,4.3,5.3,5.8,4.4,5.3,4.3,6.3,6.1,5.9,4.2,3.3,4.6,6.8,5.4,4.4,5.4,2.4,5.3,5.6,5.1,4.4,3.3,3.1,6.8,7.6,5.6,6.3,6.1,4.9,4.1,7.0,6.5,5.1,7.4,5.2,5.8,6.8,5.1,3.8,3.9,3.6,4.2,7.8,6.6,5.5,3.3,6.6,5.8,6.0,5.2,3.3,4.8,7.6,7.5,7.3,3.8,7.5,4.3,3.9,6.7,5.4,7.7,3.2,4.1,7.2,5.5,4.4,6.4,6.7,4.8,4.1,4.1,5.2,8.4,6.7,3.8,3.3,6.8,8.2,5.8,5.2,6.3,6.2,7.0,6.8,5.1,5.3,6.3,1.7,6.8,4.7,6.1,5.0,6.2,2.9,4.8,4.5,6.8,5.2,6.1,5.7,4.8,6.7,7.3,4.8,6.6,5.8,7.7,5.0,4.7,7.2,6.8,4.4,5.2,5.4,6.5,8.2,5.6,5.0,5.7,5.9,4.0,4.9,2.2,6.5,5.7,5.3,2.5,6.5,6.4,4.0,7.4,6.2,3.1,4.8,7.1,7.2,6.6,7.3,4.4,3.2,4.2,5.2,7.0,7.1,7.2,5.4,3.7,6.0,4.3,4.2,5.0,6.4,7.1,3.4,4.5,3.4,4.4,6.5,4.9,5.6],\"yaxis\":\"y\",\"type\":\"scattergl\"}],                        {\"template\":{\"data\":{\"histogram2dcontour\":[{\"type\":\"histogram2dcontour\",\"colorbar\":{\"outlinewidth\":0,\"ticks\":\"\"},\"colorscale\":[[0.0,\"#0d0887\"],[0.1111111111111111,\"#46039f\"],[0.2222222222222222,\"#7201a8\"],[0.3333333333333333,\"#9c179e\"],[0.4444444444444444,\"#bd3786\"],[0.5555555555555556,\"#d8576b\"],[0.6666666666666666,\"#ed7953\"],[0.7777777777777778,\"#fb9f3a\"],[0.8888888888888888,\"#fdca26\"],[1.0,\"#f0f921\"]]}],\"choropleth\":[{\"type\":\"choropleth\",\"colorbar\":{\"outlinewidth\":0,\"ticks\":\"\"}}],\"histogram2d\":[{\"type\":\"histogram2d\",\"colorbar\":{\"outlinewidth\":0,\"ticks\":\"\"},\"colorscale\":[[0.0,\"#0d0887\"],[0.1111111111111111,\"#46039f\"],[0.2222222222222222,\"#7201a8\"],[0.3333333333333333,\"#9c179e\"],[0.4444444444444444,\"#bd3786\"],[0.5555555555555556,\"#d8576b\"],[0.6666666666666666,\"#ed7953\"],[0.7777777777777778,\"#fb9f3a\"],[0.8888888888888888,\"#fdca26\"],[1.0,\"#f0f921\"]]}],\"heatmap\":[{\"type\":\"heatmap\",\"colorbar\":{\"outlinewidth\":0,\"ticks\":\"\"},\"colorscale\":[[0.0,\"#0d0887\"],[0.1111111111111111,\"#46039f\"],[0.2222222222222222,\"#7201a8\"],[0.3333333333333333,\"#9c179e\"],[0.4444444444444444,\"#bd3786\"],[0.5555555555555556,\"#d8576b\"],[0.6666666666666666,\"#ed7953\"],[0.7777777777777778,\"#fb9f3a\"],[0.8888888888888888,\"#fdca26\"],[1.0,\"#f0f921\"]]}],\"heatmapgl\":[{\"type\":\"heatmapgl\",\"colorbar\":{\"outlinewidth\":0,\"ticks\":\"\"},\"colorscale\":[[0.0,\"#0d0887\"],[0.1111111111111111,\"#46039f\"],[0.2222222222222222,\"#7201a8\"],[0.3333333333333333,\"#9c179e\"],[0.4444444444444444,\"#bd3786\"],[0.5555555555555556,\"#d8576b\"],[0.6666666666666666,\"#ed7953\"],[0.7777777777777778,\"#fb9f3a\"],[0.8888888888888888,\"#fdca26\"],[1.0,\"#f0f921\"]]}],\"contourcarpet\":[{\"type\":\"contourcarpet\",\"colorbar\":{\"outlinewidth\":0,\"ticks\":\"\"}}],\"contour\":[{\"type\":\"contour\",\"colorbar\":{\"outlinewidth\":0,\"ticks\":\"\"},\"colorscale\":[[0.0,\"#0d0887\"],[0.1111111111111111,\"#46039f\"],[0.2222222222222222,\"#7201a8\"],[0.3333333333333333,\"#9c179e\"],[0.4444444444444444,\"#bd3786\"],[0.5555555555555556,\"#d8576b\"],[0.6666666666666666,\"#ed7953\"],[0.7777777777777778,\"#fb9f3a\"],[0.8888888888888888,\"#fdca26\"],[1.0,\"#f0f921\"]]}],\"surface\":[{\"type\":\"surface\",\"colorbar\":{\"outlinewidth\":0,\"ticks\":\"\"},\"colorscale\":[[0.0,\"#0d0887\"],[0.1111111111111111,\"#46039f\"],[0.2222222222222222,\"#7201a8\"],[0.3333333333333333,\"#9c179e\"],[0.4444444444444444,\"#bd3786\"],[0.5555555555555556,\"#d8576b\"],[0.6666666666666666,\"#ed7953\"],[0.7777777777777778,\"#fb9f3a\"],[0.8888888888888888,\"#fdca26\"],[1.0,\"#f0f921\"]]}],\"mesh3d\":[{\"type\":\"mesh3d\",\"colorbar\":{\"outlinewidth\":0,\"ticks\":\"\"}}],\"scatter\":[{\"fillpattern\":{\"fillmode\":\"overlay\",\"size\":10,\"solidity\":0.2},\"type\":\"scatter\"}],\"parcoords\":[{\"type\":\"parcoords\",\"line\":{\"colorbar\":{\"outlinewidth\":0,\"ticks\":\"\"}}}],\"scatterpolargl\":[{\"type\":\"scatterpolargl\",\"marker\":{\"colorbar\":{\"outlinewidth\":0,\"ticks\":\"\"}}}],\"bar\":[{\"error_x\":{\"color\":\"#2a3f5f\"},\"error_y\":{\"color\":\"#2a3f5f\"},\"marker\":{\"line\":{\"color\":\"#E5ECF6\",\"width\":0.5},\"pattern\":{\"fillmode\":\"overlay\",\"size\":10,\"solidity\":0.2}},\"type\":\"bar\"}],\"scattergeo\":[{\"type\":\"scattergeo\",\"marker\":{\"colorbar\":{\"outlinewidth\":0,\"ticks\":\"\"}}}],\"scatterpolar\":[{\"type\":\"scatterpolar\",\"marker\":{\"colorbar\":{\"outlinewidth\":0,\"ticks\":\"\"}}}],\"histogram\":[{\"marker\":{\"pattern\":{\"fillmode\":\"overlay\",\"size\":10,\"solidity\":0.2}},\"type\":\"histogram\"}],\"scattergl\":[{\"type\":\"scattergl\",\"marker\":{\"colorbar\":{\"outlinewidth\":0,\"ticks\":\"\"}}}],\"scatter3d\":[{\"type\":\"scatter3d\",\"line\":{\"colorbar\":{\"outlinewidth\":0,\"ticks\":\"\"}},\"marker\":{\"colorbar\":{\"outlinewidth\":0,\"ticks\":\"\"}}}],\"scattermapbox\":[{\"type\":\"scattermapbox\",\"marker\":{\"colorbar\":{\"outlinewidth\":0,\"ticks\":\"\"}}}],\"scatterternary\":[{\"type\":\"scatterternary\",\"marker\":{\"colorbar\":{\"outlinewidth\":0,\"ticks\":\"\"}}}],\"scattercarpet\":[{\"type\":\"scattercarpet\",\"marker\":{\"colorbar\":{\"outlinewidth\":0,\"ticks\":\"\"}}}],\"carpet\":[{\"aaxis\":{\"endlinecolor\":\"#2a3f5f\",\"gridcolor\":\"white\",\"linecolor\":\"white\",\"minorgridcolor\":\"white\",\"startlinecolor\":\"#2a3f5f\"},\"baxis\":{\"endlinecolor\":\"#2a3f5f\",\"gridcolor\":\"white\",\"linecolor\":\"white\",\"minorgridcolor\":\"white\",\"startlinecolor\":\"#2a3f5f\"},\"type\":\"carpet\"}],\"table\":[{\"cells\":{\"fill\":{\"color\":\"#EBF0F8\"},\"line\":{\"color\":\"white\"}},\"header\":{\"fill\":{\"color\":\"#C8D4E3\"},\"line\":{\"color\":\"white\"}},\"type\":\"table\"}],\"barpolar\":[{\"marker\":{\"line\":{\"color\":\"#E5ECF6\",\"width\":0.5},\"pattern\":{\"fillmode\":\"overlay\",\"size\":10,\"solidity\":0.2}},\"type\":\"barpolar\"}],\"pie\":[{\"automargin\":true,\"type\":\"pie\"}]},\"layout\":{\"autotypenumbers\":\"strict\",\"colorway\":[\"#636efa\",\"#EF553B\",\"#00cc96\",\"#ab63fa\",\"#FFA15A\",\"#19d3f3\",\"#FF6692\",\"#B6E880\",\"#FF97FF\",\"#FECB52\"],\"font\":{\"color\":\"#2a3f5f\"},\"hovermode\":\"closest\",\"hoverlabel\":{\"align\":\"left\"},\"paper_bgcolor\":\"white\",\"plot_bgcolor\":\"#E5ECF6\",\"polar\":{\"bgcolor\":\"#E5ECF6\",\"angularaxis\":{\"gridcolor\":\"white\",\"linecolor\":\"white\",\"ticks\":\"\"},\"radialaxis\":{\"gridcolor\":\"white\",\"linecolor\":\"white\",\"ticks\":\"\"}},\"ternary\":{\"bgcolor\":\"#E5ECF6\",\"aaxis\":{\"gridcolor\":\"white\",\"linecolor\":\"white\",\"ticks\":\"\"},\"baxis\":{\"gridcolor\":\"white\",\"linecolor\":\"white\",\"ticks\":\"\"},\"caxis\":{\"gridcolor\":\"white\",\"linecolor\":\"white\",\"ticks\":\"\"}},\"coloraxis\":{\"colorbar\":{\"outlinewidth\":0,\"ticks\":\"\"}},\"colorscale\":{\"sequential\":[[0.0,\"#0d0887\"],[0.1111111111111111,\"#46039f\"],[0.2222222222222222,\"#7201a8\"],[0.3333333333333333,\"#9c179e\"],[0.4444444444444444,\"#bd3786\"],[0.5555555555555556,\"#d8576b\"],[0.6666666666666666,\"#ed7953\"],[0.7777777777777778,\"#fb9f3a\"],[0.8888888888888888,\"#fdca26\"],[1.0,\"#f0f921\"]],\"sequentialminus\":[[0.0,\"#0d0887\"],[0.1111111111111111,\"#46039f\"],[0.2222222222222222,\"#7201a8\"],[0.3333333333333333,\"#9c179e\"],[0.4444444444444444,\"#bd3786\"],[0.5555555555555556,\"#d8576b\"],[0.6666666666666666,\"#ed7953\"],[0.7777777777777778,\"#fb9f3a\"],[0.8888888888888888,\"#fdca26\"],[1.0,\"#f0f921\"]],\"diverging\":[[0,\"#8e0152\"],[0.1,\"#c51b7d\"],[0.2,\"#de77ae\"],[0.3,\"#f1b6da\"],[0.4,\"#fde0ef\"],[0.5,\"#f7f7f7\"],[0.6,\"#e6f5d0\"],[0.7,\"#b8e186\"],[0.8,\"#7fbc41\"],[0.9,\"#4d9221\"],[1,\"#276419\"]]},\"xaxis\":{\"gridcolor\":\"white\",\"linecolor\":\"white\",\"ticks\":\"\",\"title\":{\"standoff\":15},\"zerolinecolor\":\"white\",\"automargin\":true,\"zerolinewidth\":2},\"yaxis\":{\"gridcolor\":\"white\",\"linecolor\":\"white\",\"ticks\":\"\",\"title\":{\"standoff\":15},\"zerolinecolor\":\"white\",\"automargin\":true,\"zerolinewidth\":2},\"scene\":{\"xaxis\":{\"backgroundcolor\":\"#E5ECF6\",\"gridcolor\":\"white\",\"linecolor\":\"white\",\"showbackground\":true,\"ticks\":\"\",\"zerolinecolor\":\"white\",\"gridwidth\":2},\"yaxis\":{\"backgroundcolor\":\"#E5ECF6\",\"gridcolor\":\"white\",\"linecolor\":\"white\",\"showbackground\":true,\"ticks\":\"\",\"zerolinecolor\":\"white\",\"gridwidth\":2},\"zaxis\":{\"backgroundcolor\":\"#E5ECF6\",\"gridcolor\":\"white\",\"linecolor\":\"white\",\"showbackground\":true,\"ticks\":\"\",\"zerolinecolor\":\"white\",\"gridwidth\":2}},\"shapedefaults\":{\"line\":{\"color\":\"#2a3f5f\"}},\"annotationdefaults\":{\"arrowcolor\":\"#2a3f5f\",\"arrowhead\":0,\"arrowwidth\":1},\"geo\":{\"bgcolor\":\"white\",\"landcolor\":\"#E5ECF6\",\"subunitcolor\":\"white\",\"showland\":true,\"showlakes\":true,\"lakecolor\":\"white\"},\"title\":{\"x\":0.05},\"mapbox\":{\"style\":\"light\"}}},\"xaxis\":{\"anchor\":\"y\",\"domain\":[0.0,1.0],\"title\":{\"text\":\"Year\"}},\"yaxis\":{\"anchor\":\"x\",\"domain\":[0.0,1.0],\"title\":{\"text\":\"Average Rating\"}},\"legend\":{\"title\":{\"text\":\"Genere\"},\"tracegroupgap\":0},\"margin\":{\"t\":60},\"title\":{\"text\":\"Average Rating by Year and Generes\"}},                        {\"responsive\": true}                    ).then(function(){\n",
              "                            \n",
              "var gd = document.getElementById('7e570075-1cc6-4356-a638-3e8292e5115e');\n",
              "var x = new MutationObserver(function (mutations, observer) {{\n",
              "        var display = window.getComputedStyle(gd).display;\n",
              "        if (!display || display === 'none') {{\n",
              "            console.log([gd, 'removed!']);\n",
              "            Plotly.purge(gd);\n",
              "            observer.disconnect();\n",
              "        }}\n",
              "}});\n",
              "\n",
              "// Listen for the removal of the full notebook cells\n",
              "var notebookContainer = gd.closest('#notebook-container');\n",
              "if (notebookContainer) {{\n",
              "    x.observe(notebookContainer, {childList: true});\n",
              "}}\n",
              "\n",
              "// Listen for the clearing of the current output cell\n",
              "var outputEl = gd.closest('.output');\n",
              "if (outputEl) {{\n",
              "    x.observe(outputEl, {childList: true});\n",
              "}}\n",
              "\n",
              "                        })                };                            </script>        </div>\n",
              "</body>\n",
              "</html>"
            ]
          },
          "metadata": {}
        }
      ]
    },
    {
      "cell_type": "code",
      "source": [
        "#The histogram shows the distribution of ratings and its probable density\n",
        "rating_fig = px.histogram(imdb_df, x='Rating', histnorm='probability density')\n",
        "rating_fig.update_layout(title='Distribution of Rating', title_x=0.5, title_pad=dict(t=20), title_font=dict(size=20), xaxis_title='Rating', yaxis_title='Probability Density', xaxis=dict(showgrid=False), yaxis=dict(showgrid=False), bargap=0.02, plot_bgcolor = 'white')\n",
        "rating_fig.show()"
      ],
      "metadata": {
        "colab": {
          "base_uri": "https://localhost:8080/",
          "height": 542
        },
        "id": "8zfZ1d7Fn-Va",
        "outputId": "d3bcaa38-fc80-4e6d-c364-083ea3f59b54"
      },
      "execution_count": 78,
      "outputs": [
        {
          "output_type": "display_data",
          "data": {
            "text/html": [
              "<html>\n",
              "<head><meta charset=\"utf-8\" /></head>\n",
              "<body>\n",
              "    <div>            <script src=\"https://cdnjs.cloudflare.com/ajax/libs/mathjax/2.7.5/MathJax.js?config=TeX-AMS-MML_SVG\"></script><script type=\"text/javascript\">if (window.MathJax && window.MathJax.Hub && window.MathJax.Hub.Config) {window.MathJax.Hub.Config({SVG: {font: \"STIX-Web\"}});}</script>                <script type=\"text/javascript\">window.PlotlyConfig = {MathJaxConfig: 'local'};</script>\n",
              "        <script charset=\"utf-8\" src=\"https://cdn.plot.ly/plotly-2.24.1.min.js\"></script>                <div id=\"386851c8-8cc0-4706-b0a9-9db1e5004ad5\" class=\"plotly-graph-div\" style=\"height:525px; width:100%;\"></div>            <script type=\"text/javascript\">                                    window.PLOTLYENV=window.PLOTLYENV || {};                                    if (document.getElementById(\"386851c8-8cc0-4706-b0a9-9db1e5004ad5\")) {                    Plotly.newPlot(                        \"386851c8-8cc0-4706-b0a9-9db1e5004ad5\",                        [{\"alignmentgroup\":\"True\",\"bingroup\":\"x\",\"histnorm\":\"probability density\",\"hovertemplate\":\"Rating=%{x}\\u003cbr\\u003eprobability density=%{y}\\u003cextra\\u003e\\u003c\\u002fextra\\u003e\",\"legendgroup\":\"\",\"marker\":{\"color\":\"#636efa\",\"pattern\":{\"shape\":\"\"}},\"name\":\"\",\"offsetgroup\":\"\",\"orientation\":\"v\",\"showlegend\":false,\"x\":[7.0,4.4,4.4,4.7,4.7,4.7,7.4,7.4,7.4,5.6,5.6,5.6,4.0,4.0,4.0,6.2,5.9,6.5,6.5,6.5,5.7,5.7,5.7,7.4,7.4,6.3,6.3,6.3,7.2,7.2,7.2,4.4,4.4,6.6,6.6,7.3,7.3,7.3,7.1,5.6,6.9,6.9,3.5,4.5,6.4,6.4,6.4,4.1,4.1,4.8,4.8,4.8,4.5,4.5,4.5,7.2,7.2,7.2,8.1,8.1,8.1,4.0,5.5,6.8,6.8,6.8,5.0,5.0,5.0,6.9,6.9,6.9,6.2,6.2,3.5,3.5,3.5,6.1,6.1,7.7,7.7,6.1,5.1,5.1,5.1,6.9,5.0,5.0,3.3,3.3,7.8,7.8,6.9,8.4,8.4,6.9,4.3,4.3,5.8,5.8,5.8,5.7,5.7,5.7,7.5,7.5,5.7,5.7,5.6,5.6,3.6,3.6,3.6,6.3,7.3,7.3,7.3,4.8,7.8,7.8,7.8,5.7,6.5,6.5,4.6,4.6,4.6,4.2,6.2,5.3,5.3,5.0,5.7,5.7,6.2,6.1,6.1,6.1,4.1,4.1,4.1,5.3,5.3,5.3,5.3,5.4,5.4,5.4,6.6,6.6,6.6,4.7,4.7,5.3,7.3,7.3,7.3,7.4,7.4,4.8,4.8,8.1,6.3,7.5,7.5,6.8,6.8,4.5,4.5,4.5,3.0,3.0,3.0,6.3,6.3,6.2,6.2,8.0,8.0,7.3,6.0,3.1,3.8,3.8,7.9,8.1,8.1,8.1,5.5,5.5,5.5,8.0,5.0,5.0,5.0,7.2,7.2,7.2,4.4,4.4,2.7,6.8,2.4,5.5,5.5,5.5,7.4,5.5,5.5,5.5,5.1,7.6,6.4,5.4,5.4,5.4,6.7,6.7,6.8,6.8,6.5,6.5,6.5,6.7,6.2,6.2,6.2,5.0,5.0,7.6,5.4,5.4,4.2,5.3,5.3,7.4,7.4,4.6,4.6,4.6,4.1,5.3,4.8,4.8,4.8,3.4,3.4,5.0,3.1,5.0,5.0,5.0,4.2,4.2,4.2,7.2,7.2,7.2,6.0,6.0,6.0,6.0,6.8,5.5,5.6,5.6,3.1,4.7,4.7,4.7,5.1,5.1,5.3,5.3,3.5,3.5,4.3,4.3,3.1,3.1,5.8,5.8,5.0,5.0,3.3,5.6,5.6,5.6,4.4,6.2,6.2,6.2,6.7,6.7,7.1,7.1,7.1,5.2,5.2,4.1,4.1,4.1,5.0,5.0,5.0,4.9,4.9,4.9,6.3,6.3,6.9,7.3,7.3,2.8,6.3,6.3,6.3,7.9,7.9,7.9,7.0,7.0,7.0,5.4,7.2,7.2,3.0,7.7,7.7,4.8,4.8,4.8,7.7,7.7,7.7,6.5,6.5,6.5,6.4,6.4,6.4,6.4,6.4,6.4,6.4,5.7,5.7,5.7,5.6,6.4,6.4,6.4,8.1,8.1,6.1,7.4,4.8,6.6,6.7,6.7,6.7,7.4,7.4,7.4,6.4,6.4,6.5,6.5,6.5,4.2,5.1,5.1,5.1,6.6,6.6,6.6,5.7,5.7,7.0,7.0,6.3,6.3,6.3,3.6,3.6,6.3,6.3,6.3,3.1,3.1,3.1,5.6,5.6,5.6,5.2,5.2,4.5,4.5,4.5,6.1,6.1,6.2,6.2,6.7,6.6,6.6,6.6,6.6,6.6,6.6,4.6,4.6,4.6,5.4,5.4,6.5,6.5,5.3,5.3,5.3,7.1,6.7,3.8,3.8,3.8,4.3,4.3,4.3,5.5,6.3,6.3,6.3,7.0,7.0,7.0,3.7,3.7,7.3,6.1,5.2,5.2,5.2,3.8,4.8,4.8,5.5,6.8,6.8,6.8,4.5,7.2,7.2,6.4,3.9,3.9,5.2,5.2,5.2,4.4,4.4,4.4,4.5,5.8,5.8,5.8,4.2,4.2,4.2,3.8,3.8,3.8,6.4,6.4,7.0,7.0,5.1,6.1,6.1,6.1,5.4,6.6,6.6,4.4,4.4,4.4,5.0,5.0,5.0,6.6,7.6,4.0,4.8,4.8,7.8,7.8,7.8,5.8,5.8,5.8,4.0,4.0,4.6,4.6,4.6,3.2,3.2,6.3,6.3,6.4,6.4,6.4,4.8,4.8,4.8,7.0,5.4,5.4,5.4,6.8,6.8,7.9,7.9,7.0,7.0,7.0,4.6,4.6,4.6,6.7,6.7,5.8,4.0,4.0,4.0,6.8,6.8,4.0,4.0,4.0,6.5,6.5,6.5,5.0,5.0,5.0,4.5,4.5,4.5,3.3,3.3,3.3,4.2,4.2,4.2,3.6,3.6,3.6,6.9,6.9,6.9,6.4,6.4,6.4,6.6,6.6,6.6,6.7,6.7,6.7,5.4,5.4,4.7,6.8,6.8,6.8,7.3,7.3,5.0,6.9,6.9,6.9,3.3,3.3,3.3,5.5,6.6,4.7,6.2,6.2,6.2,4.6,4.6,4.6,5.8,5.8,5.8,4.6,4.6,4.6,4.5,4.5,4.5,6.6,6.6,6.5,6.5,7.8,7.8,3.6,3.6,5.9,5.9,7.1,7.1,6.3,6.3,6.4,6.4,6.6,6.6,6.6,5.7,5.7,5.7,5.2,5.2,5.2,7.1,7.1,5.1,5.1,5.1,3.1,5.6,5.6,5.6,7.7,7.7,7.7,6.9,6.9,6.9,7.8,6.0,6.0,6.1,6.1,6.1,3.6,4.6,4.6,4.6,4.6,6.2,6.2,6.2,2.9,2.9,2.9,7.2,7.2,5.9,4.1,4.1,7.0,7.0,7.0,7.0,5.7,5.7,8.0,8.0,6.6,5.0,5.0,5.0,6.6,6.6,4.1,4.1,4.1,6.9,6.9,6.6,6.6,6.6,5.3,5.3,5.3,4.4,4.4,4.2,4.2,6.4,6.4,6.4,5.8,6.5,6.5,3.7,3.7,3.7,6.7,6.7,6.9,6.4,6.4,6.4,5.3,5.3,5.3,5.0,5.0,6.9,6.9,6.9,6.3,6.3,6.6,5.0,5.0,5.0,7.7,7.7,7.7,5.5,7.0,5.6,5.1,5.1,5.3,5.3,5.8,5.8,5.8,4.8,4.8,4.8,3.6,3.6,3.6,6.7,6.7,5.9,5.9,4.6,4.6,4.6,6.4,6.4,6.4,3.8,3.8,3.8,6.9,6.8,6.6,6.6,6.6,3.7,3.7,3.7,7.0,7.0,7.0,7.5,7.5,7.5,5.5,5.9,6.4,6.4,6.4,6.2,6.2,6.2,6.7,6.7,6.5,6.3,7.8,7.8,3.8,3.8,3.8,7.9,4.8,4.8,6.2,6.2,6.2,6.1,6.1,6.1,4.3,5.4,5.4,3.7,4.0,4.0,4.0,4.7,4.7,6.5,6.5,6.5,6.6,7.0,7.0,6.8,6.8,6.8,6.6,6.6,6.1,8.2,8.2,8.2,4.4,6.5,4.9,4.9,4.9,7.5,7.5,7.5,2.8,2.8,4.2,6.9,6.9,6.9,4.4,6.6,6.6,6.6,6.6,6.6,4.9,5.4,5.4,6.2,5.6,5.6,5.6,8.1,8.1,6.6,6.6,7.0,7.0,7.3,6.9,6.9,6.9,8.7,8.7,5.9,7.1,7.1,7.1,8.3,8.3,7.6,7.6,7.6,7.1,7.1,7.9,7.9,7.9,4.8,4.8,4.8,6.2,6.2,5.0,7.2,7.2,7.2,5.4,5.4,5.3,5.3,5.3,7.2,7.2,7.2,6.7,6.7,4.4,4.4,4.4,8.1,8.1,8.1,6.8,6.8,6.8,6.8,6.8,6.1,6.1,8.2,8.2,8.2,5.1,5.1,5.1,6.8,6.8,5.5,5.5,5.0,5.0,5.0,6.4,6.4,6.4,4.3,4.3,5.3,5.3,5.3,6.3,6.3,8.3,6.1,4.4,4.4,7.3,7.3,7.0,7.0,6.1,6.1,6.1,7.2,7.2,7.2,7.1,7.1,7.1,6.4,6.4,6.4,5.3,6.9,6.9,5.6,5.8,5.8,5.8,3.9,5.8,5.8,5.8,3.4,3.4,3.4,4.8,4.8,4.8,7.1,4.1,4.1,4.1,7.2,7.2,7.2,8.0,8.0,5.5,6.5,6.5,8.0,7.5,7.5,5.6,5.6,5.6,7.3,7.3,7.3,7.0,7.9,7.9,4.9,7.1,7.7,7.7,4.9,4.9,4.9,6.3,7.4,6.3,6.9,6.9,6.6,6.4,6.4,6.4,4.5,4.5,7.3,7.3,7.3,6.6,6.6,6.6,6.3,6.3,6.3,7.2,7.2,7.3,7.3,5.5,7.1,4.4,5.2,5.2,6.7,3.4,7.4,7.4,6.6,6.6,6.6,6.7,6.7,6.8,6.8,6.6,6.6,6.6,5.4,5.4,5.4,5.7,7.4,7.4,7.4,3.5,3.5,3.5,6.2,6.2,6.8,5.3,5.3,5.3,6.5,6.5,6.0,6.0,5.6,5.6,6.2,6.2,6.2,6.8,6.8,6.8,6.1,6.1,6.8,6.8,6.8,7.3,7.5,6.1,6.1,6.1,7.6,7.6,7.6,6.5,8.2,8.2,7.2,7.2,7.2,3.6,3.6,3.6,5.2,5.2,5.2,4.3,4.3,6.8,6.8,6.8,6.8,6.8,5.2,5.2,5.2,4.3,4.3,5.3,5.3,5.3,6.3,6.3,6.2,6.2,7.9,7.9,8.2,8.2,8.2,6.9,7.0,7.0,4.4,4.4,4.4,7.0,7.0,7.1,7.1,7.1,3.4,3.4,3.4,6.7,6.7,4.9,4.9,6.3,6.3,6.3,5.2,5.2,7.6,7.6,3.7,4.8,9.3,6.5,6.5,6.5,4.3,7.5,7.5,7.5,7.3,7.3,5.4,5.4,8.8,4.3,5.4,5.4,5.4,5.6,2.9,2.9,6.0,6.0,5.9,6.4,8.2,8.2,6.9,6.9,6.9,5.3,5.3,3.8,4.3,4.3,4.3,6.0,6.0,6.0,4.2,6.5,6.5,6.5,7.2,7.4,7.4,4.2,4.8,5.9,5.9,6.4,4.5,4.5,4.5,6.5,5.7,5.7,5.7,6.0,6.0,6.0,6.0,6.0,7.2,7.9,7.9,7.9,5.9,6.2,6.2,6.2,5.1,5.1,5.1,6.2,6.2,6.2,7.3,7.3,7.3,8.7,3.6,7.0,7.0,6.2,6.2,5.1,6.4,6.4,6.2,5.5,5.5,5.5,7.6,7.2,7.2,7.2,7.2,7.2,7.2,5.0,5.0,7.1,5.7,5.7,5.7,8.8,6.4,6.4,6.4,2.1,8.3,8.3,6.4,6.4,6.4,5.1,5.1,5.1,5.4,5.4,5.4,6.9,6.9,6.9,4.9,4.9,4.9,4.2,4.2,4.2,5.2,5.2,5.2,4.8,4.8,2.1,2.1,2.1,5.7,5.7,5.7,6.1,7.3,7.0,6.2,6.0,6.0,6.0,6.4,6.4,6.4,5.3,5.3,5.3,6.2,6.2,7.2,7.2,7.2,6.1,3.2,3.2,3.2,6.4,5.1,5.1,6.8,6.8,6.8,7.3,7.3,7.3,3.2,3.2,6.6,6.6,6.6,7.3,7.3,7.3,6.4,6.4,6.4,6.3,6.5,6.5,6.5,7.7,7.7,7.7,7.5,7.5,7.5,6.7,6.7,6.7,7.1,7.1,7.3,4.8,5.9,5.9,6.9,6.9,6.9,8.0,8.0,2.7,2.7,2.7,2.7,2.7,2.7,6.1,6.1,6.1,6.3,6.3,6.3,8.2,6.2,6.2,3.3,3.5,3.5,3.5,5.0,5.0,5.0,6.7,6.7,7.0,7.0,7.0,4.9,4.9,4.9,6.7,6.7,6.3,6.3,6.3,3.6,3.6,3.6,6.0,5.8,5.8,5.8,8.0,8.0,4.5,4.5,4.5,6.9,5.4,5.4,4.4,4.4,4.4,5.4,5.4,6.7,6.2,7.8,7.8,7.8,7.6,7.6,7.4,7.4,7.4,4.7,4.8,4.8,6.0,6.0,6.0,2.5,4.3,4.3,4.6,4.6,7.1,6.6,6.1,6.1,6.1,5.9,7.7,6.4,6.4,7.2,7.4,7.4,5.5,4.7,5.7,7.1,7.1,7.6,7.6,7.1,8.8,6.0,6.5,6.5,6.5,6.5,6.5,6.3,6.8,6.7,6.7,6.7,7.3,7.3,7.3,7.4,7.4,7.4,9.3,5.3,5.3,5.3,7.2,7.2,7.2,7.7,8.0,8.0,8.0,2.7,2.7,4.2,2.3,7.3,5.6,5.6,6.8,6.9,6.9,6.9,8.1,7.5,5.6,4.3,4.3,3.6,6.0,6.0,6.0,7.2,6.1,6.1,3.2,4.2,6.7,6.7,6.1,7.2,7.2,7.2,5.1,5.1,5.1,4.8,4.8,4.8,7.2,7.2,7.2,7.1,7.1,5.8,5.8,7.9,6.2,6.2,7.7,7.7,7.7,7.1,7.1,7.1,6.1,6.1,6.1,7.6,7.6,7.6,5.9,5.9,5.6,5.6,5.6,4.5,4.5,5.1,5.1,4.9,4.9,4.9,5.9,5.9,5.9,3.7,6.0,6.2,6.2,6.8,6.8,6.8,5.6,5.6,5.9,5.9,5.9,5.6,5.6,5.6,8.1,8.1,8.1,4.9,5.1,5.1,6.0,6.0,6.0,4.7,4.7,4.7,7.3,7.3,7.7,7.7,7.7,5.4,5.4,6.3,6.3,6.9,6.9,6.9,3.7,5.9,5.9,5.9,3.7,3.7,3.7,6.8,6.8,6.5,6.5,6.5,7.1,7.1,7.1,6.8,6.8,7.2,7.2,7.2,7.5,7.5,2.8,6.0,6.3,6.3,7.0,8.0,8.0,8.0,6.9,6.9,6.8,6.8,7.3,7.3,4.8,3.1,3.1,3.1,4.8,4.8,4.8,3.9,3.9,5.6,7.1,7.1,7.1,5.1,5.1,3.9,3.9,3.9,5.6,5.6,5.6,5.6,5.9,2.8,2.8,2.8,6.9,6.9,3.7,3.7,4.6,4.6,4.6,7.0,7.0,6.8,6.8,6.8,4.4,4.4,4.4,7.3,7.3,5.3,5.3,6.1,6.1,6.2,6.2,6.8,6.8,6.8,6.3,6.3,6.3,5.4,5.4,3.6,3.6,3.6,6.3,6.3,6.6,6.6,4.4,4.4,4.8,4.8,5.8,6.8,6.8,6.8,7.6,7.6,5.1,5.1,4.4,4.4,5.6,5.6,4.9,6.3,5.5,5.5,5.5,5.2,6.7,6.7,6.7,6.1,6.1,6.1,7.0,7.0,7.3,7.3,4.0,4.0,5.2,5.2,5.2,8.2,8.2,8.2,3.6,4.1,4.1,4.1,6.7,5.4,5.4,8.3,8.3,2.5,6.0,6.0,6.0,6.5,6.5,6.5,4.6,5.6,5.6,6.1,6.1,6.1,4.3,4.3,8.7,6.0,6.0,6.0,4.4,5.1,5.1,4.9,4.9,3.8,5.7,5.7,5.7,3.2,3.2,6.0,6.0,5.8,4.6,7.8,7.8,7.8,5.3,5.3,5.3,7.1,7.1,7.1,7.5,7.5,7.5,4.6,4.6,4.6,4.6,6.2,5.5,5.1,6.0,6.0,6.0,6.2,6.2,6.8,4.9,4.9,4.9,5.7,5.7,5.7,6.6,6.6,6.6,6.8,5.8,5.8,5.8,7.6,7.6,7.6,4.3,4.3,4.3,6.6,6.6,4.3,3.4,4.9,6.4,6.2,6.2,6.2,7.6,7.6,4.7,4.7,6.2,6.1,6.1,6.1,5.9,4.9,4.9,4.9,7.0,4.8,5.0,7.1,7.1,7.3,7.3,7.3,5.3,5.3,5.3,6.5,6.5,6.5,5.8,5.8,5.8,6.5,6.5,6.5,4.0,2.5,2.5,2.5,5.4,5.4,5.4,6.6,6.6,6.6,6.3,6.3,6.3,6.5,7.1,7.2,8.0,8.0,8.0,7.8,6.7,4.6,4.6,4.6,5.6,5.6,5.6,7.4,7.5,7.5,5.0,5.0,5.0,6.5,6.5,6.5,7.0,3.8,3.8,3.8,6.4,4.4,7.5,7.5,7.5,4.5,4.5,4.5,6.2,6.2,6.9,5.7,5.7,5.7,3.8,3.8,3.8,6.0,4.5,5.1,5.1,3.9,7.6,5.9,6.2,5.5,5.5,5.5,7.1,4.1,6.9,5.8,5.8,5.7,5.7,5.7,7.0,7.0,8.2,6.2,6.2,6.2,6.7,6.7,6.7,8.5,8.5,8.5,7.4,7.4,6.6,6.6,6.6,8.6,5.4,5.4,6.7,6.7,6.7,4.1,4.1,4.1,7.1,7.1,6.2,6.2,5.0,5.0,5.0,3.7,3.7,3.7,5.7,5.7,5.7,6.5,7.7,7.7,7.7,6.5,6.6,6.6,6.6,7.1,7.1,7.1,5.5,5.5,5.5,4.8,4.7,4.7,4.7,6.3,6.3,5.5,5.5,6.1,6.1,6.1,7.9,6.0,4.8,6.1,5.2,5.2,5.2,6.4,6.4,7.0,7.0,7.0,4.5,4.5,4.5,6.9,6.9,6.5,6.5,6.5,6.0,6.0,6.0,6.7,4.6,4.6,4.6,6.8,6.8,6.8,5.6,5.6,5.6,5.1,5.1,2.3,2.3,4.2,4.2,4.2,8.0,8.0,8.0,7.9,7.9,7.9,2.9,5.1,5.1,5.1,6.4,7.5,7.6,7.6,6.9,6.9,6.9,6.9,5.2,5.2,5.2,5.7,5.7,5.7,6.3,6.3,6.3,6.2,6.2,6.2,3.9,3.9,3.9,6.5,6.5,6.5,7.6,7.3,7.2,7.2,7.2,6.7,6.7,2.6,7.0,7.0,7.0,7.6,7.6,7.6,7.4,7.4,7.4,5.4,5.4,6.6,6.6,6.6,6.8,7.8,6.9,6.9,6.9,3.6,3.6,5.0,5.0,5.0,6.0,6.1,6.1,6.1,4.8,6.8,6.8,6.2,6.2,6.2,6.1,6.1,5.4,5.4,5.4,5.4,5.4,5.4,4.1,4.1,4.1,7.3,7.3,7.3,5.8,5.8,5.8,3.4,3.4,3.4,4.5,5.7,5.7,5.7,4.2,6.8,6.8,6.8,5.6,4.2,4.2,4.2,6.5,6.5,7.0,7.0,7.7,7.7,7.7,7.0,6.8,6.8,6.8,7.2,7.2,5.7,5.7,5.7,3.4,3.4,3.4,4.1,4.1,4.1,7.9,7.8,3.5,5.5,5.5,3.9,3.9,3.9,6.8,6.8,6.8,5.8,6.1,6.1,4.0,4.0,4.0,7.7,4.1,4.1,4.5,8.6,5.9,5.9,5.8,5.8,5.8,7.4,7.4,7.4,7.9,7.9,4.7,5.6,5.6,5.6,8.2,8.2,8.2,5.6,5.6,5.6,6.8,4.2,6.8,6.8,6.8,6.4,6.4,6.4,3.8,4.6,4.6,4.6,4.9,4.7,4.7,6.1,6.1,7.0,7.0,7.0,6.1,6.1,8.6,6.5,5.9,6.8,6.8,4.4,4.4,4.4,6.0,6.0,6.6,6.6,5.7,5.7,8.0,8.0,8.0,7.0,7.0,6.6,6.6,6.6,7.0,7.5,7.5,7.5,4.0,4.0,4.0,4.3,4.3,4.3,5.5,5.5,5.5,4.7,4.7,4.7,6.8,6.4,6.4,6.4,6.8,6.8,6.7,5.0,5.0,5.0,4.7,4.8,4.6,6.7,6.8,6.8,6.8,7.6,7.6,6.9,4.0,4.0,4.0,4.3,4.3,4.3,4.1,8.3,6.9,7.1,7.1,7.1,8.1,6.7,6.7,5.6,5.6,5.6,8.0,6.5,6.5,6.5,5.3,5.3,5.3,7.1,7.1,4.5,4.9,4.9,4.9,5.4,5.4,8.0,8.0,8.0,5.9,1.7,1.7,1.7,6.8,3.9,3.9,3.9,6.5,6.4,6.8,6.8,6.8,5.7,5.7,5.7,5.8,3.8,6.1,6.1,6.1,7.5,7.7,7.7,6.0,6.0,6.0,6.2,3.1,7.6,7.6,7.6,6.8,6.8,6.8,6.8,6.8,7.4,7.4,5.1,5.1,6.3,8.3,8.3,7.1,7.1,8.3,8.3,4.6,4.6,5.7,5.7,5.7,6.2,5.5,6.5,6.5,6.5,5.2,5.2,5.2,5.7,5.7,5.7,3.7,5.5,5.5,5.5,4.7,4.7,4.7,6.6,6.1,6.1,8.3,8.3,6.7,6.7,4.6,4.6,4.6,8.4,8.4,8.4,5.3,5.6,5.6,5.6,6.4,6.4,6.4,7.2,6.7,6.7,6.7,7.5,7.5,7.5,6.6,6.6,6.6,7.1,7.1,7.1,6.8,4.6,4.0,4.0,4.0,6.0,6.0,7.8,7.8,6.8,6.5,7.5,7.5,3.9,3.9,3.9,7.3,7.3,7.3,4.8,4.8,4.8,5.8,7.4,6.5,6.5,6.9,6.9,6.9,4.7,6.1,6.1,6.5,6.5,6.5,4.2,4.2,4.2,6.5,6.5,6.5,4.5,4.5,5.8,5.8,5.8,7.7,7.7,7.7,4.8,4.8,4.8,5.0,5.0,5.4,5.4,5.4,7.0,7.0,7.0,5.3,5.3,7.1,7.4,7.4,3.1,6.1,6.8,6.8,5.3,4.9,2.4,2.4,6.8,6.8,6.8,8.3,8.3,8.3,5.4,5.4,5.4,3.7,3.7,3.7,6.7,7.4,7.4,6.8,6.8,5.8,5.8,5.8,2.3,2.3,2.3,3.5,3.5,3.5,7.3,6.9,6.9,6.9,6.3,6.3,6.3,5.9,7.0,7.0,7.0,5.6,7.7,7.7,4.2,4.2,4.2,6.2,6.2,6.2,5.3,5.3,5.3,5.7,5.7,5.7,7.9,7.9,7.9,7.1,7.1,7.1,6.5,9.0,9.0,4.0,4.0,4.0,6.2,5.4,5.4,6.6,6.6,6.6,6.6,6.6,6.6,6.7,6.7,6.7,2.9,2.9,2.9,6.5,4.8,4.8,4.8,7.7,6.8,5.3,5.6,5.6,5.6,6.2,6.2,3.1,3.1,3.1,5.7,5.7,5.7,5.1,5.1,5.1,7.3,7.3,7.3,6.9,6.1,6.1,8.3,8.3,6.8,6.8,6.8,4.4,4.4,4.4,4.6,4.6,4.6,6.2,6.2,6.2,6.5,7.0,7.0,7.0,7.0,7.0,4.8,4.8,4.8,6.0,6.0,3.9,3.1,3.1,5.1,5.1,4.5,4.5,4.5,7.1,6.1,6.1,6.1,6.3,6.3,6.3,6.2,6.2,6.2,4.8,4.8,4.8,3.0,3.0,3.0,6.5,6.5,5.0,5.0,5.0,4.8,7.2,7.2,6.4,6.4,6.4,3.8,3.8,7.7,4.9,4.9,6.2,6.2,6.2,7.4,6.3,5.5,5.5,5.5,5.3,5.3,4.7,4.7,3.9,3.9,3.9,3.8,5.0,5.0,5.0,4.9,4.9,3.3,3.3,3.3,7.0,4.0,4.0,4.0,7.8,7.8,6.7,6.1,6.1,6.1,6.6,6.6,2.6,2.6,2.6,3.9,3.9,3.9,3.7,8.4,8.4,8.4,3.9,3.9,3.9,5.7,5.7,7.0,8.3,5.4,5.4,5.4,7.5,6.1,6.1,7.0,5.2,5.1,6.5,5.6,3.8,3.8,3.8,7.2,6.3,5.4,7.7,7.7,7.7,7.1,7.1,7.8,7.8,7.8,4.9,4.9,6.0,4.3,5.3,5.3,5.3,6.4,6.4,3.8,3.8,6.9,6.9,6.9,4.7,4.7,7.1,6.8,6.8,6.8,7.8,7.8,7.4,5.9,5.9,5.9,6.1,6.1,6.1,5.7,5.7,5.7,6.2,6.2,6.2,7.2,6.5,6.5,6.5,8.1,7.3,7.2,7.2,5.5,5.5,5.5,6.6,6.6,6.6,4.1,4.1,4.1,6.4,6.4,6.3,6.3,6.3,6.3,5.8,5.8,7.8,6.6,6.6,7.5,7.5,7.5,7.1,7.1,7.1,4.3,4.3,7.6,7.6,4.6,4.6,6.5,6.5,6.5,8.1,8.1,8.1,6.9,6.9,6.9,2.4,2.4,2.4,6.7,6.7,5.7,5.7,5.7,5.0,5.0,4.7,4.7,5.3,5.3,5.3,6.6,6.6,6.6,6.4,4.5,4.5,4.5,7.4,7.4,6.1,5.6,5.6,5.9,7.6,7.6,7.6,6.2,6.2,5.6,5.6,5.6,6.1,5.9,3.1,3.1,3.1,6.2,6.2,6.2,4.9,5.5,1.4,1.4,6.0,6.0,6.0,3.6,3.6,3.6,5.7,5.7,4.0,6.4,7.7,7.7,7.7,6.2,6.2,6.2,6.9,8.0,8.0,4.2,7.2,7.2,7.2,7.1,7.1,7.6,7.6,7.6,6.2,6.2,7.9,7.9,7.9,6.6,6.6,6.6,7.8,5.8,5.8,5.8,5.2,2.6,2.6,2.6,5.7,5.7,3.5,5.5,3.7,3.7,5.1,5.1,4.5,4.5,6.5,6.5,4.4,4.4,4.4,7.3,7.3,7.3,5.4,5.4,5.4,6.5,5.0,5.0,3.4,3.4,3.4,7.3,7.3,7.3,4.3,4.3,4.4,6.0,6.0,3.5,3.5,6.3,6.7,6.7,6.7,7.0,7.0,5.8,5.8,5.8,5.8,5.8,6.7,6.7,6.7,7.3,7.0,7.0,7.0,6.4,6.4,7.8,7.8,7.0,7.0,6.5,7.0,6.2,6.2,6.2,6.3,6.3,6.3,6.3,6.3,4.5,4.5,4.5,6.7,6.7,6.7,6.7,6.5,6.5,6.5,5.4,5.4,5.4,3.4,3.4,3.4,5.6,5.6,7.2,4.5,8.1,8.1,7.2,6.9,6.9,6.9,7.2,7.2,7.2,2.4,2.4,2.4,8.9,8.9,8.9,6.1,6.1,6.1,6.1,6.1,3.6,7.6,7.6,7.0,6.7,6.7,6.7,5.0,5.0,5.5,5.5,5.5,6.1,6.6,6.6,6.6,4.6,4.6,4.6,8.1,8.1,8.1,7.0,7.0,6.9,6.9,6.9,6.2,6.2,6.4,6.4,6.4,3.5,3.5,3.5,7.0,7.0,7.0,6.7,6.7,6.7,3.1,3.1,3.1,7.3,7.3,7.3,5.3,5.3,7.1,7.1,7.1,5.1,5.1,4.6,4.6,5.3,3.7,3.7,5.7,5.7,4.8,4.8,4.8,5.3,5.3,5.3,5.7,5.7,4.9,4.9,5.3,5.3,5.1,5.1,5.1,5.2,5.2,4.4,4.4,7.0,7.0,4.8,4.8,5.0,5.0,7.6,7.6,5.1,5.1,5.1,7.0,7.0,5.0,5.0,7.0,7.0,7.0,5.8,5.8,5.8,6.5,6.5,5.0,5.3,5.3,5.3,5.5,3.8,3.8,4.5,4.5,4.5,6.7,5.1,5.1,5.8,5.8,5.8,7.4,7.4,5.3,5.3,5.3,6.3,6.3,6.3,3.7,3.7,7.1,7.1,7.1,3.7,3.7,3.7,5.7,5.7,5.7,5.1,5.1,5.1,8.1,8.1,7.2,4.0,4.0,4.0,2.5,6.4,6.4,6.4,7.0,7.0,7.0,5.2,5.2,5.1,5.1,5.1,5.7,5.7,3.8,3.8,6.9,6.9,6.9,8.4,8.4,8.4,7.0,7.0,7.0,6.2,6.2,6.2,8.4,6.3,6.3,5.3,6.0,6.0,7.5,7.5,7.2,7.2,6.1,6.1,6.1,6.5,6.5,6.5,3.6,3.6,6.5,6.5,6.5,7.1,7.1,7.1,7.2,7.2,3.8,6.0,6.0,6.7,6.7,6.7,5.7,5.7,4.4,4.4,7.0,7.0,6.3,3.3,7.1,7.1,7.1,6.4,7.1,3.7,3.7,3.2,3.2,6.5,7.2,7.2,6.4,6.4,4.5,4.5,5.4,5.4,4.9,4.9,7.2,7.2,7.2,7.8,7.8,7.8,7.1,7.1,7.1,4.7,4.7,3.9,3.9,3.9,6.7,6.7,6.7,4.6,4.6,4.6,4.0,8.2,8.2,7.7,6.0,6.2,6.2,7.0,7.0,7.0,6.9,6.9,7.9,5.3,5.3,5.3,7.0,5.2,8.4,8.4,8.4,5.7,5.7,3.3,5.5,5.5,4.2,3.8,3.8,3.8,8.2,7.0,6.0,6.8,6.8,6.8,3.8,1.9,5.3,8.1,8.1,7.0,7.0,6.2,6.2,6.2,5.2,7.1,8.2,8.2,8.2,3.5,3.5,3.5,7.6,7.6,5.9,5.9,5.9,4.6,6.5,6.5,5.2,6.5,6.5,7.1,7.1,7.1,4.2,4.2,4.2,5.1,5.1,5.1,6.7,6.7,6.7,5.1,5.1,5.1,7.9,7.9,7.9,6.6,5.6,5.6,5.6,7.5,7.5,7.5,6.2,6.2,6.2,7.0,7.0,7.0,7.0,6.9,6.3,6.3,3.7,3.7,5.6,5.6,5.6,6.5,6.2,6.2,6.2,4.6,3.8,3.8,5.7,6.6,6.6,6.6,5.6,5.6,5.6,6.9,6.9,6.9,6.9,6.9,5.4,5.4,7.1,4.0,5.0,5.0,4.9,4.9,4.9,7.1,7.0,7.0,7.0,6.1,6.1,6.1,7.7,7.7,7.7,4.3,7.4,7.4,4.5,4.5,7.4,7.4,4.7,4.7,4.7,7.2,7.2,7.2,5.6,5.6,6.8,6.8,6.8,6.5,6.5,7.8,7.7,5.2,5.2,5.2,5.7,6.7,6.3,6.3,6.6,6.6,5.5,5.5,6.7,7.0,7.0,7.0,6.3,8.5,4.7,4.7,7.1,7.3,7.3,7.3,2.9,6.6,3.8,6.4,6.4,6.4,3.9,7.1,8.3,8.3,7.5,7.5,7.5,6.4,7.2,2.5,5.4,5.4,5.4,7.5,7.5,7.5,5.8,5.8,5.8,3.4,7.0,7.0,6.5,6.5,6.3,6.3,6.3,5.7,5.7,5.7,6.5,6.5,5.7,5.7,5.5,5.5,5.5,6.9,5.7,5.7,5.7,6.1,4.0,4.0,4.0,6.8,6.8,6.8,3.7,3.7,3.7,6.9,6.8,6.8,6.8,6.6,6.6,6.6,5.8,5.8,5.8,6.8,7.3,7.3,7.3,8.2,8.2,4.9,4.9,4.9,7.0,7.0,7.0,4.4,4.4,4.3,4.3,4.3,6.6,6.6,5.7,6.9,4.0,4.0,3.9,3.9,5.5,5.5,5.5,5.7,5.7,5.7,6.9,4.4,5.2,5.2,4.7,4.7,4.7,6.9,5.9,5.9,5.7,6.0,6.1,6.1,6.1,5.8,8.0,8.0,8.0,5.3,5.3,5.3,6.0,6.0,6.0,4.4,4.4,6.2,4.2,4.2,4.2,6.5,6.5,5.7,5.7,5.7,6.1,6.1,6.1,6.1,7.8,7.8,7.8,4.3,4.3,4.3,6.2,6.2,6.2,7.1,5.9,5.9,5.9,4.7,4.7,4.7,3.4,3.4,3.4,4.6,4.6,4.5,4.5,5.3,5.3,7.3,7.3,7.3,6.5,6.5,6.5,6.0,6.0,6.0,7.1,7.1,7.1,8.4,8.4,5.6,5.6,5.6,4.9,7.0,7.0,7.0,7.2,7.2,7.2,6.9,6.9,6.9,6.1,6.1,4.5,4.5,4.7,4.7,4.7,4.1,4.1,5.1,5.1,6.2,6.2,6.2,4.3,8.0,8.0,6.9,6.9,5.6,5.6,5.6,4.6,4.6,6.2,6.2,6.6,5.7,5.7,5.7,5.4,6.2,6.2,6.2,5.5,5.5,5.5,6.4,6.4,6.4,5.8,5.8,4.7,4.7,5.5,5.5,5.5,6.1,6.1,6.1,3.3,3.3,5.5,5.5,5.8,5.8,5.8,5.1,7.3,6.9,5.7,5.7,5.7,7.4,7.4,7.4,4.4,4.4,7.2,7.2,7.7,7.7,6.8,4.4,6.2,6.2,7.0,7.0,4.8,5.3,5.3,5.3,5.4,5.4,6.1,6.1,6.1,6.0,5.1,5.1,5.1,8.3,8.3,6.0,6.3,3.4,3.4,3.4,7.5,7.5,7.5,5.0,5.0,5.3,5.3,5.3,6.5,6.5,6.5,6.2,6.2,6.2,6.4,7.5,4.6,4.6,4.6,4.7,5.2,5.2,5.2,4.3,4.3,4.9,4.9,4.9,4.9,6.8,6.6,6.6,6.6,6.5,6.5,6.5,7.1,2.8,2.8,2.8,5.2,5.2,5.4,5.4,4.7,4.7,6.9,6.9,6.9,8.3,8.3,8.3,6.5,7.2,7.2,7.2,3.1,6.2,8.3,6.0,6.0,5.8,5.8,5.8,7.1,7.1,7.1,4.8,7.2,7.2,7.2,4.6,4.6,4.6,7.2,3.7,3.7,5.3,5.3,5.3,5.0,5.0,3.5,5.1,5.1,5.1,7.3,7.1,4.5,4.5,4.5,6.5,6.5,6.5,5.0,5.0,5.0,5.1,5.1,5.1,5.2,5.2,5.2,5.3,5.3,5.3,6.5,6.5,7.1,5.8,8.0,8.0,8.0,2.5,2.5,2.5,7.3,7.3,7.3,4.6,7.6,7.6,7.6,7.6,7.6,6.1,6.1,6.1,3.6,3.6,5.2,4.7,4.7,4.7,6.4,5.4,5.4,5.7,4.6,4.6,4.6,7.8,7.8,7.8,7.3,7.3,8.2,8.2,8.2,7.1,7.1,7.1,5.3,5.3,5.3,6.8,6.8,6.8,4.5,7.3,5.8,5.8,5.8,6.7,3.4,3.4,7.4,7.4,7.4,8.1,7.3,7.0,6.5,6.5,3.5,3.5,3.5,8.8,6.0,6.0,6.0,2.7,5.6,4.2,4.2,4.2,5.9,6.9,6.9,6.9,6.0,6.8,6.8,5.4,5.4,5.4,6.1,6.1,6.1,6.7,5.3,5.3,4.9,4.9,4.9,6.1,6.1,7.3,7.3,7.3,5.8,5.8,5.8,7.0,7.0,5.8,5.8,4.4,4.4,4.4,7.1,5.5,4.9,4.9,7.6,7.6,4.0,4.0,6.0,5.8,5.8,5.9,6.6,6.6,6.6,5.7,5.7,4.7,4.7,4.7,7.1,7.1,7.1,6.9,6.9,4.6,6.7,6.7,7.4,7.4,6.9,6.9,7.6,7.6,7.6,6.3,6.3,6.3,6.8,6.8,6.8,5.4,5.4,9.4,9.4,5.5,5.4,5.4,5.4,2.3,5.0,5.0,4.3,4.3,7.3,7.3,7.3,6.2,6.2,6.6,6.6,6.6,6.6,6.6,7.2,7.2,6.3,6.3,4.9,6.8,5.7,5.7,5.7,5.6,5.6,3.2,2.1,5.6,2.7,2.7,2.7,6.7,6.7,6.7,8.1,8.1,9.3,3.6,3.6,3.6,7.0,7.1,6.7,6.7,6.7,7.3,7.3,7.3,6.3,6.3,6.3,5.9,5.9,5.9,5.5,5.5,5.0,5.0,5.0,5.1,5.1,5.1,7.4,7.4,7.4,7.0,7.0,3.8,3.8,6.9,6.4,6.4,6.4,5.8,5.8,5.8,7.6,7.6,7.0,7.0,7.0,6.9,7.0,7.0,7.0,5.5,5.5,5.5,5.9,5.9,7.4,5.0,5.0,5.0,4.9,4.9,4.9,7.4,7.4,6.7,6.7,6.7,6.1,5.1,5.1,6.8,6.8,4.4,4.4,4.4,3.6,3.6,3.6,5.7,6.9,6.9,7.2,7.2,7.2,4.2,4.2,4.7,5.3,5.3,4.2,4.2,6.7,5.4,8.4,8.4,8.4,5.4,5.4,2.4,2.4,2.4,6.1,6.1,8.1,8.1,8.1,7.5,6.3,6.3,8.0,8.0,8.0,7.0,7.0,7.0,3.7,3.7,7.8,7.8,7.8,6.9,6.9,6.2,6.2,6.2,4.7,4.7,3.3,3.3,3.3,5.6,5.8,5.1,4.9,6.7,6.7,6.7,7.3,7.3,7.3,4.2,2.4,2.4,2.4,4.1,7.6,7.6,7.6,5.3,5.3,5.3,6.8,3.5,3.5,7.3,7.3,7.3,6.5,6.5,5.5,6.7,6.7,6.7,5.6,7.7,7.1,7.1,2.7,6.0,6.0,4.9,4.9,4.9,6.6,6.7,6.7,6.7,7.5,7.5,5.8,3.4,3.4,3.7,3.7,3.7,7.6,7.6,7.6,5.7,6.3,6.3,6.2,6.9,6.9,6.9,5.4,5.4,5.4,4.2,4.2,4.2,7.3,7.3,7.3,5.8,5.8,5.8,4.3,5.3,5.3,4.9,8.4,6.1,2.5,8.1,8.1,8.1,5.3,5.3,4.9,4.9,4.9,6.1,6.1,6.1,7.1,7.1,7.1,6.8,6.8,6.8,4.4,4.4,9.7,9.7,7.4,7.4,7.4,7.2,7.2,6.1,6.1,7.9,7.9,6.4,6.7,5.6,5.6,5.6,7.8,7.5,7.5,7.5,6.7,6.7,5.3,5.3,5.3,7.8,7.1,7.1,7.1,6.4,6.4,6.7,6.7,6.0,6.0,6.0,8.5,8.5,7.7,7.6,5.7,7.6,5.4,5.4,7.4,7.4,7.4,6.5,6.5,5.4,5.4,5.9,5.9,3.2,3.2,5.0,5.0,5.0,4.5,7.8,7.8,7.8,4.6,4.6,4.6,4.6,4.6,4.4,5.2,5.2,5.2,6.6,6.6,6.6,6.4,7.9,6.4,6.4,7.7,7.7,7.7,6.5,6.5,6.5,7.2,7.2,5.5,5.5,5.5,7.5,6.2,6.2,1.9,1.9,1.9,5.7,5.7,6.9,6.9,6.9,6.8,6.8,4.4,6.2,6.2,6.2,6.7,6.7,6.7,5.4,5.4,5.4,4.7,5.3,5.3,4.4,4.4,4.5,4.5,3.3,3.3,3.3,7.9,6.0,6.0,5.6,5.6,5.6,4.2,4.2,4.2,6.9,6.9,6.9,4.1,4.1,4.1,5.6,4.1,6.3,6.3,6.3,6.7,6.2,3.3,3.3,3.3,7.4,7.4,7.4,5.5,5.5,2.7,2.7,2.7,6.2,6.2,6.5,7.1,7.9,5.1,5.1,5.1,7.0,7.0,7.0,5.1,5.1,4.0,4.0,4.0,3.4,5.6,3.3,3.3,4.7,4.7,4.7,5.6,2.7,2.7,6.3,6.3,3.8,3.8,3.8,6.0,6.0,4.3,4.3,6.4,6.4,6.4,6.8,6.8,6.8,8.2,8.2,8.2,5.3,6.7,6.7,6.7,3.5,3.5,3.5,4.8,4.8,4.8,6.2,6.2,6.2,6.2,6.2,6.2,5.5,5.5,5.5,5.1,5.3,5.3,2.9,2.9,2.9,7.9,7.9,7.9,6.3,6.0,6.0,7.5,7.5,4.2,4.2,4.2,5.4,5.4,5.4,7.6,7.6,7.6,3.7,3.7,6.8,6.8,6.8,6.4,6.4,6.4,4.5,4.5,4.5,5.0,5.0,5.0,5.1,5.1,4.5,4.5,4.5,4.3,1.7,1.7,1.7,6.6,6.6,7.9,7.9,6.2,6.2,6.2,5.3,5.9,5.4,5.4,5.4,2.9,2.9,2.9,5.4,5.4,5.4,6.1,6.1,6.1,3.8,3.8,4.3,4.3,4.3,7.4,7.4,5.9,5.9,7.2,7.2,7.0,7.0,3.1,3.1,6.6,6.5,6.5,6.5,5.6,5.6,6.1,6.1,6.1,6.3,6.3,6.3,3.5,4.2,4.7,4.7,4.7,5.2,5.2,5.2,5.1,5.0,5.0,5.0,6.2,6.2,5.8,3.8,3.8,7.6,7.6,7.6,7.1,7.1,5.5,5.8,7.3,7.3,6.4,5.5,5.5,5.3,5.3,5.3,5.0,5.0,5.0,3.5,3.5,3.5,6.9,6.9,6.4,6.1,6.1,4.6,4.6,4.6,7.1,7.1,7.1,7.0,7.0,7.0,6.4,6.4,6.8,6.8,6.8,5.7,5.7,7.5,7.5,7.5,5.8,5.8,5.8,5.7,7.5,7.5,7.5,6.6,6.6,6.6,7.5,7.5,7.5,6.3,6.3,6.3,7.1,6.2,4.8,4.8,4.8,5.5,5.5,5.5,7.4,7.4,7.4,4.2,4.2,4.2,3.6,3.6,3.6,4.4,4.4,4.4,7.2,7.2,7.2,6.5,5.6,5.6,5.6,5.3,5.3,6.5,6.5,5.7,5.7,6.3,6.3,3.5,3.5,3.5,6.0,4.5,4.5,4.5,5.8,2.7,2.7,2.7,7.0,7.0,7.0,4.7,4.7,4.7,4.6,5.9,6.4,6.4,5.3,5.3,5.3,3.6,3.6,3.6,5.4,5.4,7.5,7.5,4.9,4.9,4.9,1.7,6.7,6.7,6.7,5.2,5.2,4.8,4.8,6.9,6.0,6.0,6.0,6.4,6.4,6.4,5.3,6.1,6.1,6.1,1.8,1.8,1.8,7.5,7.5,7.5,7.0,7.0,6.9,6.9,6.9,7.2,7.2,7.2,6.8,5.2,6.1,6.1,6.1,6.8,6.0,6.0,6.5,8.0,8.0,8.0,5.7,5.7,7.2,7.2,8.6,5.4,5.4,5.4,7.3,6.0,5.6,5.6,5.6,3.5,3.4,3.4,4.1,4.1,4.1,4.6,4.6,4.6,6.9,5.4,5.4,5.9,5.9,5.9,4.5,4.5,6.5,3.6,3.6,4.7,4.7,6.0,6.0,6.1,6.1,6.1,9.2,7.4,5.4,5.4,5.4,5.7,5.7,5.3,5.3,5.3,7.4,7.4,7.1,7.1,5.9,7.1,7.1,7.1,7.1,7.1,5.4,5.4,5.4,8.2,8.2,8.2,6.9,6.9,6.9,4.5,4.5,4.5,7.0,3.0,3.0,7.3,6.0,6.0,7.2,7.2,6.0,6.0,6.9,6.9,6.0,6.0,6.0,5.8,5.8,5.8,7.4,5.7,5.7,5.7,4.7,4.7,4.8,4.8,4.2,4.2,4.2,3.9,3.9,5.4,5.4,5.4,6.8,6.8,6.8,6.5,6.5,6.4,6.4,4.6,4.6,4.6,3.0,3.0,3.0,7.4,7.4,7.4,4.6,6.8,6.9,6.9,6.9,6.2,6.2,6.8,6.8,6.8,5.1,5.1,5.1,3.8,3.8,3.8,2.6,2.6,5.0,5.0,6.5,6.5,4.8,4.8,4.8,5.8,8.1,8.1,4.7,4.7,6.3,6.3,6.3,6.7,6.7,5.0,5.4,4.7,6.5,6.5,6.5,2.6,7.3,7.3,3.8,3.8,6.9,6.9,6.9,4.0,3.1,5.8,5.8,6.8,6.8,5.7,5.5,5.5,5.5,6.0,6.0,4.8,4.1,4.1,7.3,7.3,7.3,5.7,5.7,5.7,5.4,5.4,5.4,6.4,7.5,4.4,4.4,4.4,6.7,4.5,4.5,6.7,6.7,7.3,7.3,7.3,6.8,5.0,5.0,3.5,3.5,3.5,6.9,6.9,4.5,4.5,4.5,4.3,7.4,7.4,7.4,4.5,4.5,4.5,7.2,7.2,7.2,7.0,7.0,5.8,5.8,5.0,5.0,5.0,5.3,4.1,4.1,6.5,6.5,6.5,4.2,4.2,7.2,7.2,5.8,5.8,5.8,6.9,4.1,4.1,4.1,7.3,7.3,7.3,4.1,4.1,4.1,5.6,5.9,4.7,6.6,5.3,5.3,5.3,5.9,5.9,4.6,4.8,4.8,8.4,8.4,8.4,2.7,2.7,2.7,3.3,3.3,3.3,3.8,3.8,3.8,4.8,7.5,7.5,7.5,6.5,6.8,6.8,6.8,6.1,6.1,6.1,5.8,5.8,5.8,6.1,6.1,6.1,2.8,2.8,2.8,5.0,5.0,6.0,6.0,6.0,6.3,6.3,6.3,4.2,4.2,5.3,5.3,5.3,6.9,6.9,6.8,6.8,6.8,6.2,6.2,6.7,6.7,5.6,7.9,7.9,7.9,6.5,6.5,4.4,4.4,4.4,7.5,7.5,2.0,2.0,8.1,6.1,6.1,6.6,6.5,6.5,6.5,6.4,6.4,6.4,5.1,5.1,5.1,6.8,6.8,6.8,3.9,3.9,3.9,6.4,6.4,6.1,7.8,5.6,5.6,5.1,5.1,5.2,5.2,7.9,7.9,7.9,5.2,5.2,5.2,5.1,5.1,7.2,3.6,3.6,3.6,6.2,6.2,5.3,3.6,3.6,3.6,5.0,6.2,5.3,5.3,5.6,5.6,5.2,5.2,5.2,5.8,5.8,5.8,6.7,5.7,6.0,6.0,5.7,5.7,7.0,7.1,7.1,7.1,6.6,6.6,7.5,7.5,7.1,7.1,4.0,4.0,4.0,4.0,4.4,4.4,2.9,2.9,2.9,6.2,6.2,6.7,6.7,2.7,4.2,4.2,4.2,5.9,6.2,6.2,6.2,2.8,6.9,6.9,6.9,6.5,6.5,6.5,7.0,7.0,6.0,6.0,6.0,3.9,3.9,3.9,5.8,5.6,5.6,5.6,6.6,6.6,5.2,5.2,5.2,7.6,6.0,5.6,2.9,2.9,2.9,4.6,5.0,5.6,5.6,5.3,5.3,5.3,5.8,5.8,5.8,4.2,5.5,5.5,5.5,5.4,4.8,4.8,4.4,4.4,4.8,6.7,4.6,4.6,5.9,6.9,6.9,5.9,5.7,5.7,4.8,4.1,4.1,4.1,3.8,6.6,6.6,4.9,4.9,6.3,6.3,7.1,7.1,7.1,7.3,5.1,5.1,5.1,8.0,8.0,8.0,6.1,6.1,7.2,6.5,6.5,6.5,7.2,7.2,7.2,6.9,6.9,6.9,7.1,7.2,7.2,8.2,8.2,6.3,5.9,5.9,3.7,3.7,3.7,5.7,5.7,6.1,6.1,6.1,4.7,6.6,4.6,4.6,7.0,7.0,7.0,5.9,5.9,4.4,5.2,5.2,4.9,2.5,2.5,6.4,3.4,8.6,4.9,4.9,4.9,7.4,7.4,7.4,5.2,5.2,5.2,3.0,3.0,3.0,3.6,3.6,3.6,5.7,5.7,5.7,8.2,8.2,8.2,7.6,7.6,7.6,6.1,3.5,3.5,3.5,5.8,5.8,7.4,7.4,7.4,6.2,6.2,7.3,7.3,6.4,6.4,6.4,6.8,6.8,6.8,6.8,6.8,6.8,6.8,5.6,5.6,5.6,7.5,7.5,7.5,7.8,7.8,7.8,6.0,6.0,4.9,4.9,7.3,7.3,7.3,2.4,2.4,2.4,7.5,7.5,7.2,7.2,5.1,5.1,5.1,9.0,6.2,6.2,6.2,6.2,6.2,5.7,5.7,5.7,4.6,4.6,4.6,2.1,2.1,2.1,3.1,3.1,6.6,6.1,6.1,6.1,5.9,5.9,3.9,3.9,5.9,5.9,5.9,6.1,6.1,6.1,3.6,3.6,6.2,6.5,6.5,6.5,6.1,6.1,6.1,4.0,4.0,2.3,2.3,2.3,3.7,9.4,4.0,4.0,4.0,4.2,4.2,4.2,5.6,5.6,6.1,6.1,6.1,6.2,7.3,7.3,7.3,5.6,5.6,5.6,3.1,7.6,5.6,5.6,5.6,4.2,4.2,5.6,5.6,5.6,5.4,5.4,5.4,6.8,6.8,5.4,4.6,4.6,7.9,5.3,5.3,5.3,5.6,5.6,5.6,5.8,5.8,5.8,4.2,4.2,7.6,7.6,8.0,5.9,5.0,5.0,5.0,7.1,7.1,7.1,6.5,9.1,9.1,9.1,6.1,6.1,7.1,7.1,7.6,7.6,7.6,3.9,8.0,8.9,6.2,6.2,6.2,4.6,4.6,4.6,6.7,6.7,7.7,7.7,7.7,4.2,4.2,4.2,6.4,6.4,6.3,6.3,3.4,3.4,3.4,5.0,6.8,6.8,3.3,3.3,3.3,2.7,6.4,4.6,4.6,6.6,6.6,4.2,4.2,4.2,7.3,3.8,3.8,6.5,6.5,6.5,4.8,6.3,5.0,3.6,5.4,6.8,6.8,6.8,6.6,6.2,6.2,6.2,6.1,6.1,7.8,7.8,7.8,7.4,7.4,7.4,4.3,4.3,4.3,6.2,6.2,7.4,7.4,7.1,7.1,7.1,4.8,4.8,3.7,3.1,6.8,6.8,6.8,7.8,5.9,5.9,5.9,6.4,6.4,6.0,6.0,6.0,6.1,6.1,7.0,7.0,7.0,6.6,5.3,5.3,5.3,6.8,6.8,6.8,7.1,7.1,6.8,8.1,5.8,5.7,5.7,8.1,8.1,6.6,6.6,5.8,5.8,6.9,5.2,5.2,6.0,6.0,5.6,5.6,5.6,5.7,5.7,5.7,7.5,6.9,6.9,6.9,6.3,6.3,7.8,7.8,5.4,6.2,6.2,6.6,2.8,2.8,2.8,7.9,7.9,7.9,6.9,6.9,6.9,6.7,7.9,7.9,7.9,6.2,3.6,3.6,3.6,6.3,6.3,6.3,6.0,6.0,6.0,5.5,5.5,7.4,7.4,7.4,5.7,5.7,7.1,7.1,7.1,5.6,6.4,6.4,6.4,6.3,6.3,6.3,3.6,3.6,6.3,6.3,5.8,5.8,5.8,6.2,5.7,5.7,8.0,6.7,6.7,6.7,5.1,5.1,6.7,7.2,7.8,6.5,6.5,6.5,5.2,4.1,4.1,6.5,6.5,3.9,3.9,3.9,7.4,7.4,7.4,7.1,7.2,5.1,5.8,5.8,5.8,6.0,6.0,8.2,6.2,6.2,6.8,6.6,6.7,6.7,6.7,3.7,3.7,5.8,7.9,7.9,7.9,3.1,3.1,5.6,5.6,5.6,6.3,4.6,4.6,7.3,7.3,6.9,8.2,8.2,8.2,7.7,7.7,7.7,5.5,5.5,5.5,7.1,7.1,7.1,4.0,6.8,6.8,6.8,4.2,6.2,6.2,6.2,6.5,6.5,4.8,6.1,6.1,6.5,6.5,2.7,2.7,6.7,6.7,7.4,7.4,7.4,2.9,5.0,5.0,5.0,4.4,4.4,4.4,7.0,7.0,7.1,7.1,7.1,5.1,5.1,3.0,3.0,7.7,7.7,7.7,7.6,7.6,7.6,7.5,7.5,7.5,3.9,3.9,3.9,2.1,2.1,2.1,6.6,5.1,5.1,4.5,5.1,5.1,5.1,5.7,5.7,4.3,4.3,5.9,5.9,7.0,5.4,5.4,5.4,6.7,6.7,7.1,7.1,7.1,6.0,6.0,6.0,6.9,6.9,7.8,7.8,5.6,6.9,6.9,7.2,7.2,7.2,6.4,6.4,6.4,7.8,7.8,5.6,4.9,4.9,4.9,5.1,5.9,5.9,3.2,3.2,3.2,6.1,6.1,6.1,3.8,3.8,5.5,5.5,5.5,7.8,7.8,6.4,7.1,7.1,6.7,6.7,5.0,5.0,5.0,6.9,6.9,6.8,5.7,5.7,5.7,3.3,3.3,4.7,4.7,4.7,5.7,7.4,7.4,7.4,8.1,8.1,2.3,2.3,2.3,5.6,5.6,5.6,5.9,5.6,7.4,7.4,7.4,7.2,7.2,7.2,5.7,5.7,5.7,4.0,4.0,4.0,3.7,3.7,3.7,6.3,4.6,4.6,7.5,7.5,7.7,3.3,3.3,7.7,7.7,3.5,3.5,7.5,7.5,7.5,4.0,4.0,4.0,5.9,5.9,5.9,6.2,6.2,6.5,6.5,4.0,4.0,6.9,6.9,7.2,5.8,5.1,5.0,5.0,5.2,5.2,5.2,4.8,4.8,7.5,7.5,5.7,5.7,5.7,4.4,4.4,4.4,6.6,6.6,5.8,7.0,8.1,6.4,6.4,6.4,4.0,4.0,4.0,7.5,7.5,7.5,6.2,6.2,5.2,5.2,7.2,7.2,5.8,5.8,5.8,7.2,7.2,7.2,7.2,7.2,5.2,5.2,5.2,4.3,4.3,6.0,6.0,6.0,6.8,6.8,7.2,7.2,7.2,7.1,7.1,6.8,6.8,6.8,5.1,5.1,5.3,5.3,5.3,6.4,6.4,5.7,5.7,6.6,6.6,6.6,4.8,4.8,4.8,4.1,6.1,6.1,2.7,6.2,6.2,5.6,4.1,5.5,2.8,8.3,8.3,8.3,4.7,6.2,6.2,6.2,7.5,6.3,6.3,7.6,7.6,7.6,6.5,6.5,6.5,7.4,7.4,7.4,8.1,3.2,3.2,3.2,6.9,6.9,5.1,5.1,5.1,5.8,5.8,5.8,5.8,5.8,4.1,7.1,7.1,4.4,4.4,4.4,4.6,5.5,5.5,5.5,5.9,5.9,5.9,7.8,4.1,4.1,4.1,5.8,5.8,5.3,5.3,5.3,4.6,4.6,4.6,4.3,4.3,4.3,6.3,6.3,6.3,6.7,6.7,7.1,7.1,6.3,6.3,6.3,5.1,5.1,5.1,6.3,6.3,7.5,7.5,2.5,2.5,2.5,5.7,5.7,5.6,5.3,5.3,5.3,6.1,6.1,6.1,6.3,5.9,5.9,5.9,5.1,5.1,5.1,3.7,3.7,5.2,5.2,5.2,7.4,6.1,6.1,6.1,4.2,4.2,4.2,4.2,4.2,4.5,4.5,4.5,4.6,7.1,3.3,3.3,3.3,4.6,4.6,4.6,7.4,7.4,7.4,6.1,6.1,6.1,4.5,4.5,6.0,6.0,6.0,6.8,6.8,6.8,4.5,4.5,6.7,6.7,6.7,5.5,5.4,5.4,5.4,5.2,5.2,5.2,2.4,2.4,3.5,7.9,7.9,4.7,4.7,3.5,3.5,3.5,7.1,7.1,7.1,6.3,6.3,7.4,7.4,7.4,7.4,7.3,8.6,3.8,6.9,6.9,6.9,5.4,5.4,6.2,6.2,6.2,7.2,7.2,7.2,3.8,3.8,6.3,6.3,6.3,7.4,7.4,7.4,4.6,4.6,4.6,4.2,4.2,4.2,5.8,7.8,5.7,4.7,4.7,4.7,6.6,6.5,6.5,6.5,5.2,5.2,6.5,6.5,6.5,5.1,5.1,5.1,4.4,4.4,4.4,6.5,6.5,6.5,6.4,6.4,6.4,5.2,5.2,5.2,5.9,5.9,5.9,6.7,4.3,4.2,4.2,8.5,3.8,4.6,4.6,4.6,7.6,7.6,7.6,2.5,2.5,5.4,5.4,5.4,4.3,5.6,5.6,5.6,7.5,3.4,3.4,3.7,6.9,6.9,6.9,4.5,4.5,4.5,5.1,8.5,5.3,5.3,6.6,6.6,6.6,6.5,6.5,5.8,5.8,5.1,5.1,5.1,7.2,7.2,5.7,4.2,4.2,4.2,5.7,5.7,5.7,6.0,6.0,6.0,4.7,4.7,4.7,4.3,8.9,7.4,7.4,7.4,5.9,5.9,3.6,3.6,3.6,6.1,6.1,6.1,3.9,3.9,6.1,6.1,1.9,4.9,5.4,5.4,5.4,5.6,5.6,4.2,4.2,4.2,5.8,5.8,5.8,5.4,5.4,5.4,7.3,7.3,7.3,8.0,8.0,8.0,3.4,3.4,3.4,3.2,3.2,3.2,7.1,7.1,7.1,4.4,4.4,4.4,6.4,3.6,5.8,3.6,6.0,6.0,6.0,5.9,6.2,6.2,5.2,5.2,5.2,8.1,8.1,8.1,8.0,8.0,8.0,6.5,7.2,7.2,7.2,4.5,4.5,6.3,6.3,6.3,2.8,2.8,2.8,6.1,6.1,3.4,3.4,8.0,7.8,7.8,6.7,6.7,6.7,7.3,7.3,6.9,6.9,4.4,4.4,5.4,6.8,6.8,6.8,7.0,7.0,4.7,5.0,7.9,7.9,7.9,7.9,3.2,3.2,5.7,6.2,6.5,6.3,6.7,6.7,6.7,7.4,4.6,4.6,4.6,5.0,5.0,5.0,7.4,7.4,7.4,7.3,5.8,5.8,5.8,5.8,5.8,5.8,6.0,8.8,8.8,3.4,3.4,3.4,6.6,6.5,6.5,6.5,6.0,6.0,6.0,6.6,5.2,2.4,2.4,2.4,6.2,5.3,5.3,5.3,7.3,7.3,7.3,6.6,6.6,8.9,8.9,4.9,4.9,7.5,7.5,7.5,6.7,6.7,6.7,5.1,5.1,5.1,6.1,6.1,6.1,5.7,5.7,5.7,6.3,5.7,5.7,6.8,6.8,6.8,8.2,5.9,5.9,5.9,4.4,7.4,7.4,7.4,5.4,5.4,5.5,5.3,5.3,5.8,5.8,7.1,7.1,6.6,7.9,7.9,7.9,6.4,6.4,5.9,5.9,7.1,8.4,8.4,5.6,5.6,5.6,8.0,8.0,6.8,6.8,6.6,8.6,5.1,5.1,5.1,6.1,6.1,5.8,5.1,5.1,5.1,6.5,6.5,5.2,5.2,5.2,5.8,5.8,6.1,6.1,6.0,6.0,6.0,5.5,7.8,7.0,7.0,4.4,4.4,4.4,3.8,3.8,3.8,6.4,6.4,6.4,5.3,5.3,5.7,7.7,7.7,7.7,6.8,6.8,6.8,3.3,3.3,3.3,7.6,7.6,7.3,7.3,5.1,5.1,5.1,7.0,7.0,5.9,5.9,5.9,5.7,5.7,4.7,4.7,6.8,6.8,6.8,7.4,7.4,7.4,7.4,3.8,3.8,5.1,5.8,5.8,5.8,5.2,5.3,5.3,6.0,4.3,4.3,6.5,6.5,3.1,3.1,3.1,3.6,3.6,3.6,6.8,6.8,6.8,4.2,6.6,6.0,6.0,6.0,5.7,5.7,5.7,5.5,5.5,7.6,7.2,7.2,10.0,10.0,4.4,4.4,7.4,9.3,9.3,9.3,6.5,6.5,6.5,2.6,2.6,2.6,5.8,5.3,5.3,3.0,3.0,3.0,5.3,5.3,6.0,6.0,4.5,4.5,5.1,7.1,7.1,7.1,7.5,7.5,7.5,4.8,4.8,4.8,7.1,7.1,6.2,6.2,6.2,5.1,4.7,4.7,4.7,7.6,7.6,7.6,6.3,6.3,5.6,5.6,6.4,6.4,4.8,4.8,4.7,6.6,5.3,5.3,5.5,5.5,6.2,5.6,5.6,5.6,3.9,3.9,5.1,5.1,7.9,7.9,7.9,5.0,5.0,5.0,5.9,5.9,7.2,7.2,6.5,6.5,7.5,6.6,6.6,5.1,4.4,4.6,3.5,3.5,7.8,7.8,7.8,7.0,5.7,5.4,5.4,3.1,3.1,3.1,3.7,6.3,6.3,6.3,8.6,5.4,5.4,4.5,5.8,5.8,5.8,8.6,8.6,2.3,2.7,2.7,2.7,7.6,7.6,7.6,4.6,3.7,3.7,3.7,5.3,5.3,6.2,6.2,6.2,6.2,6.3,6.3,6.3,4.6,4.6,4.6,3.2,8.0,8.0,8.0,5.4,5.4,7.0,7.0,7.0,3.6,3.6,7.7,7.7,7.7,5.1,5.0,6.5,6.4,6.4,6.4,5.7,5.7,6.1,6.1,6.1,6.9,6.9,6.9,7.3,7.3,7.3,5.3,5.3,5.3,6.8,6.8,6.8,4.9,4.9,4.9,7.1,7.1,7.1,6.6,6.6,6.6,7.6,4.1,4.1,4.1,5.0,5.0,7.1,7.1,7.1,5.6,5.6,5.6,7.7,8.0,6.3,6.2,6.2,6.7,6.7,6.8,6.8,4.3,4.3,4.8,4.8,4.8,6.3,6.3,6.3,6.6,6.6,5.2,5.2,5.2,5.2,7.2,5.8,7.4,7.4,7.0,7.0,7.0,7.3,6.5,6.5,5.3,5.3,5.3,4.2,4.0,4.0,4.0,4.5,4.5,6.5,6.5,6.5,5.1,5.1,5.1,4.7,6.7,6.7,6.8,4.1,4.1,7.8,7.2,7.2,7.2,3.7,3.7,5.5,5.5,5.5,5.1,5.4,2.8,7.7,8.1,5.3,5.3,5.3,5.2,5.2,5.2,6.0,6.0,6.0,7.0,6.5,6.5,6.5,6.6,6.6,6.6,7.7,6.8,6.8,5.7,5.7,5.2,5.2,6.9,7.3,7.3,5.2,6.5,6.5,6.5,7.5,7.5,5.9,5.9,5.9,6.6,6.6,6.6,6.2,6.2,6.5,6.5,3.6,3.6,3.6,6.4,6.4,6.4,8.0,8.0,8.0,7.2,7.2,6.7,6.7,6.7,7.1,7.1,7.1,7.1,7.6,7.6,7.6,6.8,6.8,6.8,7.4,7.4,6.0,6.0,6.0,6.0,6.9,6.9,6.9,4.2,8.1,8.1,8.1,5.9,5.9,6.2,6.2,6.2,4.2,7.4,7.4,7.3,7.3,7.3,7.4,7.4,7.4,7.2,4.8,4.8,4.8,6.4,6.4,6.4,3.6,3.6,3.6,3.5,3.5,4.9,5.1,5.4,4.9,4.9,6.1,6.1,6.8,6.8,6.8,7.1,7.1,8.2,8.2,5.2,5.2,4.1,4.1,4.1,6.2,7.3,7.3,7.3,5.3,5.3,5.3,5.8,5.8,5.8,5.2,5.2,5.2,8.4,5.8,5.8,5.8,7.2,5.4,5.4,5.4,5.2,5.2,5.2,6.8,6.8,6.8,4.8,6.5,6.5,6.5,6.2,6.2,6.2,5.1,5.1,5.1,3.3,2.4,4.8,4.8,7.7,7.7,5.6,5.6,7.7,8.1,8.1,4.7,4.7,4.7,2.8,4.3,4.2,5.4,5.4,3.5,4.7,4.7,4.7,7.0,5.4,5.4,5.4,6.5,6.5,6.9,5.9,5.9,5.9,2.7,6.7,8.5,6.5,6.5,5.7,3.6,3.6,3.6,7.9,6.7,6.9,6.9,7.2,6.2,6.2,6.2,6.6,6.6,5.5,7.2,7.2,5.3,5.3,6.6,6.1,6.7,6.7,6.7,6.5,6.5,3.5,3.5,3.4,5.9,5.9,5.9,7.2,6.6,7.5,7.5,7.5,6.8,6.8,3.8,3.8,3.8,6.4,6.4,7.2,7.2,7.2,7.4,7.4,7.6,7.6,7.2,6.1,3.6,3.6,4.4,4.4,5.6,4.8,7.0,7.0,4.7,5.8,5.8,8.0,8.0,4.1,3.8,3.8,4.6,4.6,4.6,8.8,4.9,7.6,7.6,7.6,3.9,5.2,4.7,4.7,5.5,7.4,6.6,5.4,5.4,5.4,5.6,5.6,5.8,5.8,5.8,6.4,6.4,6.4,5.0,3.5,6.7,6.7,7.0,7.0,6.4,6.4,6.9,6.9,6.9,3.5,3.5,3.5,5.6,5.6,5.6,6.9,6.9,6.9,6.1,6.3,6.3,7.3,7.3,5.3,5.3,5.3,6.6,6.6,6.6,5.1,5.1,5.1,5.1,3.9,3.9,3.9,6.5,6.5,5.6,7.3,7.3,3.2,3.2,3.2,7.1,5.0,6.0,6.0,6.0,5.7,5.7,5.7,5.3,5.3,6.0,6.0,6.2,6.8,6.8,6.8,5.0,5.0,6.0,6.0,6.0,4.1,4.1,6.6,2.5,2.5,2.5,7.5,7.5,7.5,6.2,6.2,6.2,6.5,6.5,6.5,7.7,7.7,3.9,6.1,6.1,6.1,7.0,7.0,7.0,4.1,7.3,4.6,4.6,4.6,7.1,7.1,4.3,4.3,4.3,6.1,7.5,6.4,6.4,6.4,6.3,4.5,5.4,5.4,5.4,3.2,7.6,7.6,5.8,5.8,5.8,4.3,3.4,3.4,3.4,6.7,6.7,6.7,6.5,6.5,3.8,7.1,7.1,7.1,6.8,6.9,5.3,5.3,4.7,4.7,6.4,6.4,8.0,6.5,6.5,6.5,5.6,5.6,5.6,5.5,5.3,5.3,4.5,6.7,6.7,3.5,3.5,5.3,5.3,5.3,7.1,7.1,7.1,6.8,6.8,7.1,7.1,6.8,5.7,5.7,5.7,7.0,7.0,7.0,5.3,5.3,4.2,6.2,6.2,6.2,4.8,4.8,7.3,7.3,7.3,5.9,5.9,5.9,2.7,2.7,5.5,5.5,5.5,3.3,3.3,3.3,6.6,6.6,6.6,7.4,7.4,7.4,5.8,4.4,4.4,4.4,9.0,6.7,6.7,4.7,7.9,4.3,4.3,8.0,8.0,8.0,4.8,4.8,7.0,7.0,7.0,3.6,3.6,3.6,5.3,3.6,3.6,7.2,7.2,7.2,6.4,6.4,6.4,4.2,4.2,4.2,5.4,4.3,4.3,4.3,4.0,4.0,4.0,7.8,7.8,7.8,6.8,6.8,6.8,4.8,6.6,6.6,6.6,5.5,5.5,5.5,6.7,6.7,7.4,4.2,3.3,3.3,3.3,5.5,5.5,5.5,7.0,3.8,3.8,3.8,6.3,6.3,6.3,5.8,6.6,2.5,2.5,2.5,7.3,7.3,6.5,6.5,4.8,4.8,4.8,6.6,6.6,6.6,6.7,6.7,6.7,5.8,5.8,5.8,2.5,2.5,5.5,5.5,8.6,8.6,7.2,3.9,6.0,6.0,6.0,6.5,6.5,6.6,6.6,6.6,5.0,5.0,6.1,6.9,6.9,6.9,6.7,6.7,6.9,6.9,6.9,7.0,7.2,7.2,7.2,6.9,4.8,6.8,6.8,6.8,2.7,2.7,2.7,1.6,4.8,5.9,5.7,5.7,5.2,5.2,7.7,4.9,4.9,4.9,6.1,6.1,3.3,3.3,3.3,6.6,6.4,5.2,5.2,5.2,4.9,4.9,7.4,7.4,7.4,5.3,8.1,8.1,3.2,3.3,3.3,3.3,4.0,4.0,4.0,6.5,6.5,6.5,4.2,4.2,4.2,5.5,5.5,4.8,4.8,4.8,7.5,7.5,5.4,5.4,5.4,6.2,6.2,6.2,4.9,4.9,4.9,7.4,5.5,5.5,5.5,4.8,6.3,6.3,4.4,4.4,7.0,7.0,5.7,7.1,7.1,7.6,7.6,7.6,5.5,6.7,5.5,7.2,7.2,6.2,6.2,7.4,7.4,7.4,7.5,7.5,7.5,4.7,4.7,4.7,6.2,4.6,4.4,4.4,5.3,5.3,5.3,6.4,3.1,6.9,8.0,6.1,6.1,6.1,6.5,5.7,5.7,7.2,7.2,7.2,5.4,5.0,5.0,5.0,4.2,4.2,4.2,4.1,5.8,5.6,5.6,5.6,4.4,5.5,5.5,6.0,6.0,7.5,7.5,7.5,5.9,5.9,5.9,5.9,4.3,4.3,6.3,6.3,4.5,4.5,5.8,4.5,4.5,4.5,6.7,6.7,4.8,6.7,7.1,7.9,7.9,6.8,5.6,5.6,6.7,6.7,6.7,6.3,6.3,6.3,6.5,6.5,6.3,6.3,7.4,6.3,6.3,4.3,4.3,4.3,6.8,6.8,7.5,6.4,6.4,6.4,5.9,5.9,3.3,3.3,3.3,5.0,5.0,5.0,6.1,6.1,6.1,4.1,4.1,4.1,7.3,7.3,7.3,7.3,2.2,2.2,2.2,7.1,7.1,7.1,7.4,7.6,7.6,5.4,5.4,5.4,8.2,6.0,6.0,6.0,6.2,6.2,6.2,5.9,5.9,5.9,5.4,5.4,5.4,8.6,7.4,7.4,5.5,5.5,6.8,7.0,6.5,6.5,6.5,7.1,7.1,7.1,5.3,5.3,5.3,5.6,5.6,3.8,3.2,3.2,5.1,5.1,6.2,6.2,6.2,4.9,4.9,6.2,6.8,6.8,6.8,2.5,2.5,5.4,5.6,6.6,7.4,7.4,6.4,6.4,6.2,6.2,6.5,6.5,6.5,5.8,5.8,5.8,7.1,6.5,6.5,6.5,4.4,4.4,5.8,8.0,8.0,8.0,5.5,5.5,5.5,7.0,7.0,4.4,6.9,6.9,7.8,7.8,7.8,5.4,6.3,3.9,4.7,4.7,4.7,6.9,6.9,6.9,7.8,3.2,3.2,3.2,6.8,7.7,7.7,7.7,6.8,6.8,6.8,6.1,7.4,6.5,6.5,7.6,7.6,7.6,5.5,5.5,3.8,3.8,3.8,5.4,3.2,7.6,7.6,7.6,7.7,7.7,7.4,7.4,7.4,7.7,7.7,6.8,6.8,6.8,7.7,7.7,2.7,6.1,6.1,5.2,5.2,5.2,4.3,4.3,6.2,6.2,8.3,8.3,7.5,7.5,7.5,4.9,4.9,4.0,4.0,3.9,3.9,3.9,7.7,9.1,5.5,5.9,9.1,6.3,6.3,6.3,5.4,4.9,5.9,5.9,2.9,2.9,2.9,7.6,7.6,4.2,4.2,4.2,6.6,6.6,6.6,6.3,6.3,6.3,7.2,7.2,7.2,4.3,4.3,4.3,7.3,7.3,7.3,5.8,7.2,7.2,3.9,3.9,3.9,6.0,6.0,6.0,6.0,6.0,6.0,5.0,5.0,5.0,6.9,6.9,7.6,7.6,5.6,5.6,6.3,6.3,6.3,4.3,4.3,4.3,5.7,5.1,5.3,5.3,5.3,3.3,3.3,6.2,6.6,5.1,7.5,7.5,8.2,5.4,8.0,8.0,6.3,4.2,5.4,5.4,5.2,5.2,7.1,5.5,5.5,6.7,6.7,6.7,7.2,7.2,7.2,8.1,8.1,8.1,8.1,8.1,8.1,4.9,4.9,7.0,7.0,6.7,7.4,7.4,7.4,4.6,4.6,4.6,5.4,5.4,5.4,4.2,4.2,4.2,7.5,7.5,5.0,5.0,5.0,5.6,7.0,3.1,3.1,5.3,5.3,6.1,6.1,6.4,6.4,7.4,7.4,7.4,6.9,6.9,6.2,3.5,3.5,5.5,5.5,5.5,8.0,8.0,4.7,4.7,4.7,7.0,7.0,7.0,6.6,7.0,7.0,7.0,8.5,3.3,3.3,3.3,4.8,7.7,7.7,7.7,3.9,3.9,6.8,6.8,6.8,7.2,7.2,6.5,8.2,8.2,8.2,7.7,7.7,6.2,6.2,4.1,4.1,5.1,5.1,5.1,5.0,5.0,5.0,5.2,5.4,3.8,7.6,4.9,4.9,3.3,3.3,3.3,6.7,7.9,7.9,7.1,7.1,7.0,7.0,7.0,2.4,8.1,8.1,8.1,7.2,3.2,3.2,5.8,5.8,3.9,3.9,7.3,6.9,6.9,6.7,4.5,4.5,4.5,7.6,7.6,6.5,6.5,6.5,7.0,7.0,6.4,6.4,6.4,6.3,6.5,4.1,4.1,4.1,4.9,4.9,4.9,6.5,6.5,4.6,4.6,4.6,6.5,6.5,5.5,5.5,5.5,7.6,7.6,5.3,5.3,5.3,6.5,6.5,6.4,6.4,6.4,5.9,3.9,3.9,3.9,8.6,7.3,6.8,6.8,5.2,5.2,6.8,6.8,5.3,5.3,5.3,3.7,4.6,5.5,7.6,7.6,2.2,2.2,6.5,6.5,6.5,6.0,5.9,5.9,5.9,6.7,6.5,6.5,6.5,5.7,5.7,5.7,5.0,5.0,6.2,6.2,6.4,6.4,6.4,4.3,4.3,6.2,6.2,7.6,6.4,7.1,7.1,7.1,7.0,7.0,7.0,7.0,7.0,7.0,6.2,8.1,4.8,4.8,6.6,6.6,6.6,7.5,7.5,7.5,7.2,7.8,7.8,7.8,7.2,7.2,7.2,6.3,6.3,7.6,7.6,7.6,6.6,5.8,5.8,5.8,7.2,6.8,6.8,6.9,6.9,6.9,6.8,6.8,2.2,2.2,2.2,7.6,7.6,6.9,6.9,7.2,7.2,7.2,5.7,5.7,7.1,6.2,5.5,5.5,5.5,6.4,6.4,4.1,4.6,6.2,6.2,6.2,7.1,7.1,5.7,5.7,4.0,5.6,5.6,7.8,5.8,4.3,3.8,4.6,6.6,6.6,5.6,5.6,5.6,6.6,6.6,6.6,8.0,7.0,5.6,4.4,4.4,4.4,5.5,5.5,5.5,7.1,7.1,7.1,4.2,4.2,2.8,2.8,7.2,7.2,7.0,7.0,6.4,6.4,7.4,7.4,4.4,4.4,4.4,5.7,4.9,4.9,4.9,6.4,6.4,6.4,4.4,5.5,6.2,6.2,6.2,4.8,4.8,4.8,8.3,8.3,8.3,7.1,7.1,6.3,6.3,6.6,6.6,6.0,7.3,7.3,7.3,3.8,3.8,3.8,6.7,6.7,5.9,5.9,5.9,7.5,7.5,7.5,4.8,4.8,5.0,5.0,5.0,6.1,6.1,6.1,7.2,6.2,6.2,6.2,7.0,7.0,6.2,6.1,5.4,7.5,7.5,2.7,5.8,5.8,6.6,6.6,6.6,6.9,6.9,6.9,6.5,5.4,5.4,5.8,5.8,5.8,6.3,6.3,6.3,6.2,6.2,4.4,5.7,5.7,3.9,3.9,3.9,3.2,3.2,3.2,7.6,6.9,6.9,6.0,6.0,5.4,5.8,5.8,6.2,6.3,6.3,6.1,6.1,6.1,6.7,6.7,7.6,7.6,8.0,7.9,8.1,8.1,8.1,8.4,8.7,5.9,6.3,6.3,5.0,5.0,6.7,6.7,6.7,4.5,4.5,4.5,8.3,2.7,2.7,6.2,8.1,8.1,8.1,5.5,5.5,4.1,4.1,4.1,3.7,3.7,3.7,5.4,4.1,4.1,4.1,3.1,3.1,6.5,6.5,5.2,5.2,5.2,4.5,4.5,4.5,3.4,6.6,6.6,4.1,4.1,4.1,4.1,5.0,5.0,4.6,4.6,7.0,7.0,7.0,5.2,6.8,6.8,6.8,7.8,7.8,7.8,4.0,4.0,4.0,6.4,6.4,5.4,6.9,5.6,5.6,5.6,8.0,8.0,8.0,4.9,6.2,6.2,4.3,4.3,4.3,6.8,5.9,5.9,5.5,6.0,6.0,7.8,7.8,7.8,7.0,7.0,7.0,5.5,4.9,4.9,4.9,7.4,7.4,6.5,6.7,6.2,6.2,4.1,4.1,4.1,1.7,1.7,5.2,5.2,5.2,7.7,5.9,5.9,5.9,6.6,6.6,6.6,6.3,6.3,6.3,7.6,7.6,5.9,5.9,6.9,6.9,6.9,2.1,2.1,4.4,4.4,4.4,7.2,7.2,7.2,6.5,6.5,6.1,6.1,6.1,6.1,5.7,5.7,5.7,3.5,5.5,5.5,5.5,4.2,4.2,4.2,4.4,4.4,4.4,7.7,5.8,4.6,4.6,4.6,6.7,6.7,6.7,7.4,7.4,7.4,7.0,7.0,7.0,6.2,6.6,6.6,6.6,6.4,6.6,7.4,7.4,7.4,4.7,4.7,4.7,6.0,6.0,6.0,6.3,6.3,6.3,7.8,7.8,7.8,7.4,7.4,6.4,6.4,6.4,8.4,8.4,8.4,5.2,6.3,6.3,6.5,6.5,5.9,3.9,3.9,3.9,4.6,4.6,7.6,7.6,7.6,7.2,7.2,7.2,6.1,4.3,4.3,6.4,6.4,3.6,6.7,6.7,6.7,6.1,6.1,6.7,6.7,6.7,3.3,3.3,3.3,6.1,6.1,6.1,6.7,6.7,6.7,5.7,5.7,5.7,5.9,6.5,6.5,6.5,8.4,8.4,8.4,3.3,3.3,5.3,7.4,7.4,6.3,6.3,6.9,6.3,6.3,6.3,3.8,3.8,3.8,6.1,6.5,6.5,6.8,6.8,6.8,6.2,6.2,6.2,4.4,6.2,6.2,5.6,5.6,5.6,5.6,5.6,5.6,7.4,7.4,7.4,6.1,6.1,3.6,3.6,7.1,7.1,3.3,3.3,3.3,6.8,6.8,6.8,5.0,5.7,5.7,5.7,6.1,6.1,7.1,7.1,4.0,6.0,6.0,6.0,5.2,3.1,7.0,7.0,6.0,6.0,6.0,7.5,7.5,7.5,4.7,4.7,4.7,5.1,5.1,5.1,8.2,8.2,8.2,5.8,5.8,5.8,7.0,7.0,7.0,5.2,5.2,5.2,4.7,4.7,4.7,5.1,5.1,5.1,5.4,5.4,8.1,8.1,8.1,6.5,6.5,7.4,6.2,6.2,7.5,7.5,7.5,3.6,3.6,3.6,6.3,6.3,6.3,7.6,7.6,4.9,4.9,5.7,5.7,7.1,7.3,7.3,7.3,7.6,7.6,5.2,5.2,6.3,6.3,4.3,4.3,5.4,5.4,5.4,6.2,6.2,5.2,5.2,5.2,6.5,6.5,6.5,4.0,4.0,4.0,4.4,4.4,4.4,5.6,5.6,5.6,7.8,7.8,7.8,7.2,7.2,7.2,4.3,4.3,6.7,6.7,6.7,5.4,5.4,5.4,1.9,1.9,1.9,4.8,7.3,7.9,1.8,1.8,1.8,2.9,2.9,2.9,6.8,6.8,6.8,3.6,3.4,3.4,3.4,6.9,6.9,4.3,4.3,4.9,4.9,4.9,3.8,7.6,7.6,5.6,6.8,7.0,5.8,5.4,7.4,7.4,7.4,8.0,8.0,7.2,7.2,7.2,7.5,7.5,7.9,7.9,7.6,7.6,6.2,6.2,6.2,6.1,6.1,6.1,5.3,5.3,5.3,4.3,6.9,6.9,6.9,6.3,6.3,6.3,3.7,3.7,6.0,6.2,6.2,6.2,3.7,3.7,3.4,3.4,3.4,6.1,6.1,6.3,4.6,4.6,2.9,2.9,2.9,2.3,2.3,4.5,4.5,4.5,7.0,7.0,7.0,5.8,5.8,5.8,7.1,7.1,7.1,7.3,7.3,3.3,6.4,6.4,3.1,6.8,6.8,6.8,5.1,5.1,5.1,6.5,6.5,6.6,6.6,6.6,3.7,3.7,7.6,7.6,7.6,6.5,6.5,6.5,3.1,2.9,4.7,5.8,5.8,7.6,4.7,4.7,5.3,5.3,5.3,6.5,7.4,7.4,7.4,6.3,6.3,6.3,6.7,1.7,1.7,1.7,5.4,5.4,5.4,6.6,6.8,6.8,6.8,7.2,7.2,7.2,3.7,8.0,5.8,6.0,6.7,6.7,6.7,3.9,3.9,3.9,3.4,3.4,3.4,7.5,7.5,5.7,5.7,5.7,4.5,4.5,4.5,5.9,5.9,5.9,4.7,4.7,4.7,6.7,6.7,6.7,5.4,6.4,6.4,6.4,7.6,7.6,6.8,6.9,6.1,6.1,6.1,3.6,7.3,4.8,4.8,7.1,8.1,8.1,8.1,6.2,6.2,7.5,7.5,7.5,2.3,5.0,5.0,5.0,5.6,5.6,5.6,5.1,5.1,6.7,6.7,6.7,5.8,5.8,7.2,6.9,6.9,6.9,6.2,6.2,6.2,7.7,7.7,7.7,5.7,5.7,4.2,4.2,4.2,4.3,4.3,4.3,2.9,2.9,2.9,5.7,5.7,5.7,7.2,7.2,3.5,5.9,5.9,5.9,4.8,4.8,4.8,6.8,6.8,6.4,6.4,6.4,6.3,6.3,6.3,2.8,2.8,2.8,3.3,3.3,3.3,9.0,3.9,9.3,5.4,5.4,5.4,5.5,5.9,7.6,7.6,3.2,8.0,8.0,7.7,5.2,5.2,5.2,4.5,7.0,7.0,6.8,6.8,6.8,4.9,4.6,4.6,7.0,8.4,5.1,8.5,4.5,4.5,4.5,6.9,6.9,6.4,6.4,6.4,6.7,7.6,3.5,3.5,3.5,6.5,6.5,4.6,4.6,6.6,6.6,6.6,7.0,6.8,6.8,6.7,4.6,4.6,4.6,6.4,8.7,5.6,6.1,7.4,7.4,6.8,6.8,6.8,5.2,5.2,5.2,7.8,5.6,5.6,5.6,4.2,4.2,4.2,5.0,5.0,7.7,7.7,7.5,7.5,7.4,7.4,7.7,7.7,7.7,6.9,6.9,3.9,3.9,3.9,6.8,6.8,6.8,5.2,5.2,5.2,4.2,4.2,4.2,6.9,6.6,6.6,6.6,3.9,4.3,4.3,2.6,2.6,2.6,3.5,4.9,4.9,4.9,6.1,6.1,6.1,6.2,6.2,6.8,6.8,6.8,6.3,6.9,6.9,6.9,5.8,5.8,5.8,6.8,6.0,6.0,5.7,5.7,5.7,3.3,3.3,3.3,5.5,5.5,5.5,7.2,2.7,2.7,2.7,6.5,6.5,6.5,7.7,6.4,6.4,4.8,4.8,4.8,5.7,7.5,7.5,7.5,6.5,6.5,6.5,6.6,6.6,4.0,4.0,4.0,5.4,5.4,5.4,3.7,3.7,6.3,7.1,7.1,7.1,6.2,6.2,6.2,6.2,6.2,6.4,6.4,6.4,5.7,5.7,5.4,7.1,7.1,7.2,7.2,7.2,7.2,6.4,6.4,6.4,6.0,6.0,4.9,7.6,7.6,7.6,6.3,6.3,7.7,7.7,8.2,8.2,5.8,3.1,3.1,8.2,7.1,7.1,5.6,6.5,6.5,6.5,5.9,5.9,5.7,7.1,7.2,7.2,6.2,6.2,6.2,6.8,6.8,6.8,5.1,6.7,2.8,2.8,2.8,5.2,5.2,5.2,5.1,5.8,5.8,5.8,5.1,5.1,5.1,5.7,5.7,5.7,4.8,4.4,3.5,3.5,6.5,6.5,3.4,3.4,6.9,6.0,6.0,6.0,6.8,2.9,7.5,7.5,7.5,6.7,6.7,6.7,7.3,7.3,7.3,4.5,4.5,8.6,8.6,5.8,6.5,6.5,6.5,1.1,1.1,7.1,7.1,7.1,7.2,6.6,6.6,4.5,4.5,8.4,8.4,7.2,7.2,6.1,6.4,5.6,5.6,6.0,6.0,6.0,6.6,6.6,7.2,7.2,7.2,4.4,4.4,4.4,6.8,6.8,6.8,4.7,4.8,4.8,4.8,8.3,8.3,5.7,5.7,4.2,4.2,4.2,6.1,6.1,6.1,6.7,6.7,7.1,7.1,7.1,4.1,6.6,6.6,6.6,5.4,5.4,5.8,5.8,5.8,5.8,8.0,8.0,6.2,6.2,6.2,6.4,5.1,5.1,5.1,7.6,7.6,3.6,5.6,7.3,6.9,6.6,6.6,6.6,6.2,7.5,7.1,7.1,6.7,6.7,6.7,6.9,6.9,6.9,5.4,6.7,7.8,7.8,7.8,7.4,7.4,7.4,5.8,5.8,5.8,6.2,6.2,6.1,6.1,6.1,6.0,6.0,5.5,5.5,5.5,4.8,4.8,4.8,5.4,5.4,3.2,3.2,4.8,4.8,4.8,7.4,7.4,7.4,6.9,6.3,6.3,6.3,5.4,5.4,7.5,7.5,7.5,7.3,7.3,7.3,4.2,4.2,5.6,5.6,6.8,6.8,6.8,6.7,3.2,3.2,7.0,7.0,6.9,6.9,6.2,6.2,6.2,7.0,7.7,7.7,7.7,6.2,6.2,6.2,5.0,5.0,6.4,6.4,6.6,6.6,7.3,7.9,8.1,6.5,6.5,6.7,2.8,2.8,2.8,5.8,5.8,6.7,6.7,7.1,7.1,6.8,3.3,3.3,7.2,5.2,5.2,5.2,7.2,6.8,4.5,4.5,4.5,7.3,7.3,7.3,6.4,6.4,7.3,7.3,4.7,4.7,4.7,7.9,7.9,7.9,4.1,4.1,4.1,6.6,5.2,8.1,8.1,6.8,6.8,6.9,6.9,6.2,7.5,3.9,3.9,7.0,7.6,7.6,7.6,4.9,4.9,4.9,6.7,6.7,6.7,4.8,4.8,5.3,5.4,5.4,6.7,6.3,6.3,5.0,5.0,5.3,5.3,5.3,6.8,6.8,7.2,7.2,7.2,8.2,8.2,8.2,5.9,5.9,5.9,5.9,7.2,7.2,8.2,7.1,7.1,5.2,5.2,5.7,5.7,5.7,4.0,4.0,7.2,7.2,3.8,7.2,7.2,6.8,6.8,6.8,5.8,5.8,5.8,3.8,4.7,6.0,6.2,6.1,6.1,6.1,6.5,6.5,6.5,6.3,6.3,7.6,7.6,7.6,6.3,6.3,5.5,7.6,7.6,7.6,6.2,6.2,2.5,5.3,6.0,6.0,4.1,4.1,4.1,6.5,3.8,3.8,7.5,7.8,7.8,9.3,9.3,8.1,8.1,8.1,6.8,6.8,7.5,7.5,6.8,6.8,6.8,6.8,4.4,4.4,4.4,6.8,6.8,7.7,7.7,7.7,6.9,6.8,6.8,5.3,5.2,4.1,4.1,4.1,5.1,6.9,5.6,5.6,7.6,7.6,3.5,4.1,4.1,4.1,4.9,6.0,6.0,7.1,7.1,7.1,3.5,3.5,3.5,5.4,5.4,5.4,5.1,5.1,6.6,6.6,6.6,6.2,6.2,6.2,5.6,5.6,5.6,7.4,7.1,7.1,7.1,7.2,7.2,7.9,7.9,7.9,6.8,6.8,6.8,6.3,6.3,4.6,8.2,8.2,6.9,6.9,6.9,7.4,5.0,5.0,7.1,5.4,5.4,5.4,7.2,7.2,7.2,4.3,4.8,4.9,4.9,4.9,2.3,2.3,2.3,3.2,3.2,6.8,6.8,6.0,6.0,7.7,7.7,7.7,2.6,2.6,2.6,6.7,6.1,6.1,6.3,6.3,6.3,3.5,3.5,6.5,6.5,6.5,6.6,6.6,6.8,6.8,6.8,5.2,5.2,5.2,7.2,7.2,7.2,6.5,5.6,5.6,5.6,5.5,5.5,5.5,6.0,6.0,6.0,4.3,5.5,7.4,7.4,7.4,6.6,6.6,6.6,7.1,7.1,5.8,4.9,4.9,4.9,6.8,4.6,4.6,4.6,5.5,5.5,4.9,7.0,7.0,7.0,6.7,6.7,6.4,6.4,6.4,3.5,3.5,4.6,4.6,6.1,6.1,6.9,6.9,6.9,7.2,6.1,6.1,7.3,7.3,7.3,7.4,7.2,3.9,6.5,4.2,8.5,8.5,5.4,5.4,5.4,4.0,5.1,4.5,4.5,4.5,3.6,3.6,6.6,6.6,3.8,3.8,3.8,4.6,4.6,4.6,5.7,5.7,5.7,5.6,5.6,7.0,4.9,5.6,5.6,4.6,4.6,8.1,7.0,7.0,4.8,4.8,4.2,8.1,8.1,8.1,3.9,3.9,3.9,4.6,4.6,4.6,4.7,4.7,4.7,6.2,6.2,6.2,4.2,4.2,6.2,6.2,5.2,7.3,7.3,6.5,6.5,6.5,8.2,8.2,8.2,7.7,7.7,7.7,6.8,5.0,7.1,7.1,7.1,5.9,5.9,5.9,7.2,7.2,7.2,6.6,5.7,2.3,2.3,2.3,6.4,6.4,6.4,3.4,3.4,6.5,3.6,3.6,3.6,7.3,7.3,6.3,6.3,8.0,8.0,8.0,7.5,7.5,7.5,7.0,7.0,7.0,7.2,4.8,4.8,8.2,8.2,7.0,7.0,7.0,6.4,6.4,6.4,6.6,6.6,5.0,5.0,6.3,6.3,6.9,6.9,5.8,5.8,4.5,6.0,6.0,6.0,7.9,7.9,7.9,6.4,5.1,5.1,5.1,7.2,6.6,6.2,6.2,7.5,7.3,6.4,6.4,6.4,3.9,3.9,4.5,4.5,2.9,6.2,6.6,6.6,4.0,7.3,7.3,7.3,2.5,2.5,2.5,7.1,7.1,8.5,8.5,5.6,5.6,5.6,5.1,5.1,5.1,9.3,9.3,9.3,5.1,5.1,6.5,6.5,5.0,5.0,5.7,5.7,5.7,5.6,5.6,6.8,6.8,6.8,5.5,5.5,5.7,5.7,5.7,5.1,5.1,5.1,4.2,4.2,4.2,7.7,7.7,6.2,6.2,6.2,3.4,5.8,5.1,5.1,6.5,6.5,7.5,7.5,7.5,5.5,6.9,6.3,6.3,6.3,5.3,6.6,6.6,6.6,7.1,7.1,6.5,6.5,6.5,6.5,6.5,5.9,5.9,5.9,4.3,4.3,4.3,7.4,7.4,7.4,7.2,7.2,6.1,6.1,6.1,5.9,5.9,6.9,6.2,6.2,6.2,7.0,7.0,7.0,6.0,5.1,5.1,5.1,5.5,5.5,2.8,4.0,4.0,3.5,3.5,3.5,5.3,5.3,8.1,8.1,8.1,6.0,6.0,4.8,4.8,7.2,7.2,6.7,6.7,6.7,7.1,7.1,9.1,7.4,7.4,7.4,5.6,6.3,6.3,6.1,6.1,6.1,5.8,5.6,5.6,5.6,7.1,7.1,5.8,5.8,5.7,5.7,5.7,5.3,5.3,4.7,6.1,5.9,8.0,8.0,8.0,2.9,2.9,2.9,6.5,6.5,4.9,4.9,4.9,7.8,7.8,4.6,4.6,8.5,8.5,4.4,4.4,7.8,7.8,7.8,6.3,6.3,6.3,7.5,7.5,7.5,8.2,8.2,6.2,6.2,5.6,6.2,6.2,5.8,5.8,4.9,4.9,4.9,7.5,7.6,7.6,3.6,3.6,5.2,3.7,3.7,3.7,6.3,6.9,6.9,6.9,6.5,5.3,5.3,5.3,2.2,2.2,2.2,2.6,2.6,2.6,6.7,6.7,6.7,5.4,6.5,6.5,6.5,8.2,8.2,8.2,7.2,3.7,3.7,3.7,4.0,4.0,4.0,6.7,6.7,6.7,5.7,5.7,5.7,4.8,4.8,6.1,6.4,6.4,6.8,6.8,7.3,7.3,7.1,7.1,3.2,3.2,3.2,5.6,5.6,7.0,7.0,7.0,6.2,6.2,6.2,7.1,7.1,6.9,6.3,6.3,6.3,5.4,5.4,5.9,5.9,5.9,5.3,5.3,5.3,6.6,6.8,6.8,6.8,5.4,5.4,5.4,6.1,6.1,5.6,5.6,4.5,2.5,2.5,2.5,8.6,6.5,6.8,4.3,4.3,4.3,5.9,8.0,8.0,1.9,1.9,1.9,4.6,4.6,4.6,5.5,5.5,4.5,4.5,4.5,8.0,6.0,6.0,6.4,6.4,6.4,6.8,6.8,6.8,6.7,6.7,6.7,5.7,5.7,5.9,7.3,7.3,7.3,4.1,4.1,4.1,6.3,6.3,6.3,5.4,5.4,5.4,4.5,4.5,7.3,8.2,6.5,6.8,6.3,6.3,6.7,5.5,5.5,5.5,6.7,7.4,7.4,7.4,6.1,6.1,3.4,3.4,3.4,4.2,4.2,8.7,5.6,5.6,5.6,6.7,6.7,6.7,7.3,7.3,4.8,4.8,4.5,4.5,4.5,4.4,7.2,7.2,7.2,4.7,5.6,4.7,4.7,5.7,5.7,5.7,5.4,5.4,5.4,5.3,5.3,7.5,7.5,6.6,6.6,6.7,6.7,6.7,5.0,5.0,5.0,5.7,5.7,6.1,4.6,4.6,4.6,5.4,6.7,7.2,7.2,7.2,4.7,4.7,4.7,4.3,4.3,6.6,6.6,5.5,5.5,5.5,5.4,5.4,5.4,8.2,8.2,8.2,4.0,4.0,4.4,4.4,6.8,7.6,7.3,7.3,7.3,5.1,5.6,5.6,5.6,8.4,8.4,6.0,6.0,6.0,7.6,7.6,7.6,8.7,7.5,7.5,7.5,6.8,6.8,6.8,7.6,7.6,7.6,7.2,7.2,6.0,6.3,6.3,4.2,4.2,4.2,6.5,6.5,6.5,7.3,5.5,6.9,6.9,6.9,4.5,4.5,4.5,7.6,4.6,4.6,4.6,5.0,5.0,7.2,7.2,8.1,3.8,5.6,5.6,5.6,3.8,4.5,4.5,4.5,3.9,3.9,3.9,6.9,6.9,4.4,4.4,4.4,2.6,2.6,7.4,7.1,7.1,7.1,5.2,5.2,6.9,6.9,6.3,7.3,7.3,7.3,6.4,6.4,6.4,7.3,7.3,7.3,4.0,4.0,6.8,5.8,5.8,5.8,6.9,6.9,4.1,4.1,4.1,6.3,6.3,6.3,6.4,7.5,2.6,2.6,6.3,6.3,6.3,5.2,5.2,6.4,6.4,2.6,2.6,2.6,7.9,7.9,7.9,7.7,7.7,7.7,5.9,6.3,6.3,6.3,2.5,2.5,2.5,5.5,5.5,5.5,5.4,1.8,1.8,3.0,3.0,6.0,6.0,6.0,4.9,4.0,2.6,2.6,2.6,7.2,7.2,4.3,5.1,7.4,7.4,7.4,2.4,5.3,5.3,5.3,5.3,5.3,5.3,7.2,7.2,6.2,6.2,6.2,5.8,5.8,5.8,5.9,6.2,6.2,6.1,3.1,3.1,7.0,5.7,5.7,5.7,6.7,5.0,5.4,5.4,5.4,4.7,4.7,4.7,5.3,5.3,6.8,6.8,6.8,6.2,4.0,4.0,4.0,7.0,7.0,7.0,3.9,3.9,3.9,5.2,5.2,5.9,5.9,5.9,5.7,5.7,5.6,5.6,5.6,6.1,6.1,4.7,7.9,7.9,6.8,6.7,6.7,6.7,4.2,4.8,4.8,4.8,6.3,6.3,6.0,6.0,7.3,7.1,7.1,5.7,6.8,6.8,6.8,6.9,6.9,6.9,6.4,6.4,6.4,6.1,6.1,6.1,7.4,7.4,7.4,5.6,5.6,5.4,5.4,8.0,8.0,8.0,5.9,6.8,6.8,7.6,7.6,7.6,7.7,6.4,7.2,7.2,7.2,5.9,6.1,6.1,6.1,2.4,6.6,6.6,6.6,3.6,6.0,6.0,6.0,7.5,7.5,7.5,5.1,6.9,6.9,6.4,6.4,6.4,6.0,6.0,6.0,3.4,3.4,3.4,6.2,5.4,9.2,5.0,5.0,5.0,5.2,5.2,7.6,7.6,7.6,4.4,4.4,4.4,7.1,7.1,7.1,6.1,6.5,6.5,6.5,6.2,7.1,7.1,7.1,6.5,6.5,4.1,4.1,4.1,5.3,5.3,5.3,3.5,8.0,8.0,7.2,6.8,6.8,7.3,7.3,7.2,6.4,6.4,6.4,6.0,6.6,6.1,4.7,4.7,4.7,7.9,5.9,7.3,7.3,7.3,8.1,8.1,8.1,2.0,2.0,2.0,7.2,7.2,6.2,6.2,7.8,7.8,7.9,7.9,7.9,4.6,4.6,4.6,7.8,7.8,4.4,4.4,7.0,4.0,4.0,5.8,5.8,6.4,6.2,6.2,6.2,5.3,3.5,3.5,5.7,8.7,8.7,8.7,5.7,5.7,5.7,6.8,6.8,6.8,6.8,4.5,4.5,8.6,7.3,7.3,7.3,9.4,2.9,6.9,7.0,7.0,7.0,6.6,6.6,6.6,8.0,8.0,4.9,6.7,7.7,7.7,7.7,7.3,6.4,6.4,6.4,6.8,6.8,7.6,7.6,5.9,5.7,5.7,5.7,7.2,7.2,7.2,7.4,7.4,7.4,7.1,7.8,7.8,7.8,7.3,8.1,8.1,6.4,6.4,6.4,4.4,4.3,4.3,4.3,5.7,5.7,4.6,5.7,5.7,5.7,6.5,6.5,6.5,6.9,6.9,6.0,6.0,6.0,6.7,6.7,7.4,7.4,7.4,5.2,7.1,7.1,4.5,4.5,4.5,7.0,7.0,6.8,6.8,5.9,5.9,3.3,3.3,7.3,7.3,7.3,4.2,4.2,4.2,6.6,6.6,6.6,5.5,5.5,4.4,4.4,4.4,4.9,4.9,4.9,7.0,7.0,7.0,5.9,5.9,5.9,7.3,7.3,6.4,6.6,5.9,5.8,5.8,5.8,7.1,7.1,7.1,4.1,4.1,6.4,5.9,5.9,5.9,7.3,7.9,5.9,5.9,5.9,4.1,1.8,1.8,5.4,6.3,6.9,6.9,6.9,5.0,5.0,5.0,4.1,4.1,7.6,7.6,7.6,4.3,4.3,6.7,6.7,6.7,4.4,4.4,4.4,6.9,6.9,5.1,5.1,5.2,5.2,5.5,5.5,7.2,7.2,3.2,3.2,3.2,7.9,4.9,4.9,5.7,5.7,3.4,4.2,4.2,4.2,5.7,5.4,2.6,2.6,6.8,6.8,6.8,4.2,4.2,4.2,5.0,5.0,5.0,7.6,6.3,6.3,6.7,6.7,6.7,6.5,5.6,5.6,5.6,6.7,6.7,7.6,7.6,5.3,5.3,5.3,6.1,6.1,6.3,6.3,6.3,7.0,4.8,4.8,5.1,2.4,2.4,7.3,7.2,6.0,7.7,7.7,7.7,5.2,5.2,5.2,7.3,8.0,5.2,5.2,5.2,3.8,3.8,4.5,4.5,4.5,6.4,6.2,6.2,6.6,6.6,6.0,4.8,4.8,7.5,7.5,7.0,7.0,3.9,4.7,4.7,4.7,5.0,5.0,5.6,5.6,4.6,4.6,4.6,2.4,2.4,2.4,8.3,8.3,8.3,5.6,5.6,6.1,7.0,7.0,5.6,5.6,5.6,7.0,7.0,4.5,4.5,6.5,6.5,6.5,5.9,5.9,5.1,5.1,5.1,8.1,5.5,5.5,5.0,6.9,4.8,6.8,5.9,5.9,5.8,6.6,4.5,4.5,4.5,8.1,3.5,5.0,5.0,7.8,7.8,7.8,8.0,8.0,8.0,3.7,3.7,6.8,6.8,6.8,6.2,6.2,6.9,6.5,7.0,7.0,7.0,4.4,4.4,5.5,5.5,5.5,4.2,4.2,4.2,6.6,5.5,5.5,5.5,5.5,6.6,6.6,8.2,6.6,6.6,5.8,5.1,5.1,5.1,5.7,5.7,5.7,4.2,4.2,7.3,6.5,6.5,6.5,3.3,3.3,3.3,7.0,7.0,7.8,7.2,7.5,7.5,7.5,6.7,7.4,7.4,7.4,8.2,8.2,8.2,7.1,7.1,6.9,6.8,6.8,6.8,5.2,3.8,3.8,3.8,7.4,7.4,7.4,4.4,4.4,5.6,6.9,6.9,6.9,6.0,6.0,4.2,4.2,4.1,4.1,4.1,4.8,4.8,4.9,4.9,6.9,6.9,6.9,5.6,5.6,5.6,4.8,4.5,4.5,4.5,5.8,5.8,5.8,8.0,8.0,8.0,5.0,5.0,5.3,6.8,6.8,8.5,8.5,8.5,7.7,7.7,7.7,7.3,7.3,5.5,5.5,5.5,7.0,7.0,7.0,7.0,4.7,8.2,6.0,6.0,6.0,7.4,4.5,4.5,4.5,5.1,3.7,3.7,4.5,4.5,4.5,7.0,7.0,7.0,6.8,6.8,7.2,7.2,7.2,6.6,6.6,6.5,6.4,6.4,6.4,6.6,6.6,6.6,5.3,5.3,5.3,3.2,2.8,2.8,5.7,5.7,6.0,5.8,5.0,7.8,7.8,7.8,6.7,6.7,6.0,6.7,6.7,6.7,5.4,5.4,5.4,6.7,6.7,6.7,6.9,6.9,7.8,7.8,7.1,7.1,7.1,5.3,5.3,5.3,3.8,3.8,7.2,7.2,5.2,5.2,6.5,7.1,7.2,5.6,5.6,5.6,5.0,5.0,5.0,7.3,6.1,6.1,6.1,7.3,7.3,7.3,3.7,3.7,6.2,5.3,5.3,5.3,5.6,8.9,7.5,7.5,7.5,2.9,2.9,4.3,7.1,7.1,4.9,4.9,4.9,5.1,5.1,5.1,7.2,7.2,7.2,8.1,8.1,5.9,5.9,5.3,6.5,6.5,6.5,6.6,6.6,6.6,6.6,6.6,5.6,5.6,5.4,5.4,5.4,6.6,6.6,6.6,3.7,3.7,3.7,6.7,3.8,3.8,3.8,3.7,3.7,3.7,4.5,4.5,5.4,5.5,5.5,5.5,7.2,7.2,4.4,4.4,4.4,6.9,6.9,6.9,6.7,7.6,7.6,7.6,6.6,6.6,6.6,6.6,6.5,6.5,6.5,4.5,4.5,7.8,7.8,6.0,6.0,6.0,6.3,6.3,6.3,5.9,5.9,5.9,6.8,6.8,6.8,6.5,6.5,6.5,5.4,5.4,6.8,6.8,6.4,6.4,4.6,4.6,7.1,7.1,4.1,4.1,5.7,5.7,5.7,7.7,7.1,7.1,7.1,5.6,5.6,5.6,4.8,4.9,3.8,3.8,6.9,6.9,4.3,4.3,4.3,4.2,4.2,4.2,7.5,7.5,7.5,6.0,6.0,6.0,7.9,5.2,5.2,5.2,1.6,1.6,6.9,6.9,7.3,5.4,6.5,5.0,5.0,5.0,4.6,4.6,4.6,4.9,4.9,7.3,7.3,7.3,4.9,5.8,5.8,5.8,5.5,6.8,5.1,5.1,3.9,3.9,6.0,6.0,4.5,9.0,9.0,6.4,6.4,6.4,4.8,6.2,6.2,7.6,7.6,4.6,7.6,7.6,7.6,6.4,6.4,6.4,7.1,6.4,3.3,7.6,7.6,8.1,3.9,3.9,2.7,5.2,5.2,5.2,5.7,7.7,7.7,7.7,5.9,5.9,5.9,6.5,6.5,4.4,4.4,4.4,5.4,3.5,3.5,3.7,3.7,4.2,4.2,4.2,6.3,6.3,6.3,5.6,7.1,7.1,7.1,2.7,2.7,7.0,6.0,6.6,5.1,7.2,7.2,7.2,7.0,7.0,7.0,5.1,5.1,3.3,3.3,3.3,5.4,5.4,5.4,6.7,3.2,3.2,3.4,3.4,4.5,4.5,4.5,4.7,4.7,4.7,5.4,6.1,4.4,4.4,4.4,6.3,6.3,6.4,4.6,3.4,3.4,3.4,7.6,5.8,5.8,3.9,3.9,4.3,4.3,5.4,5.4,6.4,6.4,6.4,6.0,6.0,6.0,4.7,4.7,6.8,6.8,3.6,3.6,6.6,5.2,5.2,5.2,4.7,4.7,4.7,4.4,4.4,4.4,3.3,7.1,7.1,7.1,5.2,4.4,6.1,3.8,3.8,3.8,3.7,3.7,3.7,4.9,4.9,4.1,4.1,4.1,3.4,6.0,6.0,6.0,8.0,8.0,8.0,7.5,7.5,7.5,8.6,6.5,6.5,6.5,7.2,7.2,7.2,3.0,3.0,5.2,5.2,5.2,4.8,6.4,6.4,6.8,6.8,6.8,7.2,7.2,7.2,4.6,4.6,7.8,7.8,5.1,5.1,5.7,5.7,5.9,7.0,6.2,6.2,6.2,7.7,7.7,7.7,7.4,7.4,7.4,4.8,4.8,4.8,4.1,4.1,4.1,4.9,4.9,5.3,5.3,4.6,4.6,7.9,6.2,6.2,4.0,4.0,4.0,5.0,4.7,4.7,4.7,5.6,5.6,6.0,6.0,4.9,4.9,4.9,3.8,3.8,3.8,6.8,6.8,6.3,6.3,6.3,5.5,5.5,5.5,5.3,5.3,5.3,6.0,6.0,6.0,5.5,5.5,6.2,6.2,3.0,3.0,3.3,7.6,7.6,7.6,3.2,3.2,3.2,7.6,7.6,7.6,6.3,7.7,7.7,7.7,6.4,6.4,5.4,5.4,5.4,7.1,7.1,5.4,5.4,5.4,4.7,4.7,4.4,4.4,4.4,6.9,6.9,5.8,5.8,3.6,3.6,3.6,4.8,4.8,4.8,5.3,4.9,4.9,4.9,7.1,7.1,3.9,7.1,6.5,6.5,6.5,7.0,6.8,6.8,2.8,2.7,2.7,6.0,8.2,8.2,8.2,3.7,5.5,5.5,8.2,8.2,4.4,6.0,5.7,4.0,4.0,4.0,5.7,4.3,4.3,4.3,5.6,5.6,5.6,6.1,6.2,6.2,6.2,5.8,5.8,5.8,4.5,4.5,6.2,6.2],\"xaxis\":\"x\",\"yaxis\":\"y\",\"type\":\"histogram\"}],                        {\"template\":{\"data\":{\"histogram2dcontour\":[{\"type\":\"histogram2dcontour\",\"colorbar\":{\"outlinewidth\":0,\"ticks\":\"\"},\"colorscale\":[[0.0,\"#0d0887\"],[0.1111111111111111,\"#46039f\"],[0.2222222222222222,\"#7201a8\"],[0.3333333333333333,\"#9c179e\"],[0.4444444444444444,\"#bd3786\"],[0.5555555555555556,\"#d8576b\"],[0.6666666666666666,\"#ed7953\"],[0.7777777777777778,\"#fb9f3a\"],[0.8888888888888888,\"#fdca26\"],[1.0,\"#f0f921\"]]}],\"choropleth\":[{\"type\":\"choropleth\",\"colorbar\":{\"outlinewidth\":0,\"ticks\":\"\"}}],\"histogram2d\":[{\"type\":\"histogram2d\",\"colorbar\":{\"outlinewidth\":0,\"ticks\":\"\"},\"colorscale\":[[0.0,\"#0d0887\"],[0.1111111111111111,\"#46039f\"],[0.2222222222222222,\"#7201a8\"],[0.3333333333333333,\"#9c179e\"],[0.4444444444444444,\"#bd3786\"],[0.5555555555555556,\"#d8576b\"],[0.6666666666666666,\"#ed7953\"],[0.7777777777777778,\"#fb9f3a\"],[0.8888888888888888,\"#fdca26\"],[1.0,\"#f0f921\"]]}],\"heatmap\":[{\"type\":\"heatmap\",\"colorbar\":{\"outlinewidth\":0,\"ticks\":\"\"},\"colorscale\":[[0.0,\"#0d0887\"],[0.1111111111111111,\"#46039f\"],[0.2222222222222222,\"#7201a8\"],[0.3333333333333333,\"#9c179e\"],[0.4444444444444444,\"#bd3786\"],[0.5555555555555556,\"#d8576b\"],[0.6666666666666666,\"#ed7953\"],[0.7777777777777778,\"#fb9f3a\"],[0.8888888888888888,\"#fdca26\"],[1.0,\"#f0f921\"]]}],\"heatmapgl\":[{\"type\":\"heatmapgl\",\"colorbar\":{\"outlinewidth\":0,\"ticks\":\"\"},\"colorscale\":[[0.0,\"#0d0887\"],[0.1111111111111111,\"#46039f\"],[0.2222222222222222,\"#7201a8\"],[0.3333333333333333,\"#9c179e\"],[0.4444444444444444,\"#bd3786\"],[0.5555555555555556,\"#d8576b\"],[0.6666666666666666,\"#ed7953\"],[0.7777777777777778,\"#fb9f3a\"],[0.8888888888888888,\"#fdca26\"],[1.0,\"#f0f921\"]]}],\"contourcarpet\":[{\"type\":\"contourcarpet\",\"colorbar\":{\"outlinewidth\":0,\"ticks\":\"\"}}],\"contour\":[{\"type\":\"contour\",\"colorbar\":{\"outlinewidth\":0,\"ticks\":\"\"},\"colorscale\":[[0.0,\"#0d0887\"],[0.1111111111111111,\"#46039f\"],[0.2222222222222222,\"#7201a8\"],[0.3333333333333333,\"#9c179e\"],[0.4444444444444444,\"#bd3786\"],[0.5555555555555556,\"#d8576b\"],[0.6666666666666666,\"#ed7953\"],[0.7777777777777778,\"#fb9f3a\"],[0.8888888888888888,\"#fdca26\"],[1.0,\"#f0f921\"]]}],\"surface\":[{\"type\":\"surface\",\"colorbar\":{\"outlinewidth\":0,\"ticks\":\"\"},\"colorscale\":[[0.0,\"#0d0887\"],[0.1111111111111111,\"#46039f\"],[0.2222222222222222,\"#7201a8\"],[0.3333333333333333,\"#9c179e\"],[0.4444444444444444,\"#bd3786\"],[0.5555555555555556,\"#d8576b\"],[0.6666666666666666,\"#ed7953\"],[0.7777777777777778,\"#fb9f3a\"],[0.8888888888888888,\"#fdca26\"],[1.0,\"#f0f921\"]]}],\"mesh3d\":[{\"type\":\"mesh3d\",\"colorbar\":{\"outlinewidth\":0,\"ticks\":\"\"}}],\"scatter\":[{\"fillpattern\":{\"fillmode\":\"overlay\",\"size\":10,\"solidity\":0.2},\"type\":\"scatter\"}],\"parcoords\":[{\"type\":\"parcoords\",\"line\":{\"colorbar\":{\"outlinewidth\":0,\"ticks\":\"\"}}}],\"scatterpolargl\":[{\"type\":\"scatterpolargl\",\"marker\":{\"colorbar\":{\"outlinewidth\":0,\"ticks\":\"\"}}}],\"bar\":[{\"error_x\":{\"color\":\"#2a3f5f\"},\"error_y\":{\"color\":\"#2a3f5f\"},\"marker\":{\"line\":{\"color\":\"#E5ECF6\",\"width\":0.5},\"pattern\":{\"fillmode\":\"overlay\",\"size\":10,\"solidity\":0.2}},\"type\":\"bar\"}],\"scattergeo\":[{\"type\":\"scattergeo\",\"marker\":{\"colorbar\":{\"outlinewidth\":0,\"ticks\":\"\"}}}],\"scatterpolar\":[{\"type\":\"scatterpolar\",\"marker\":{\"colorbar\":{\"outlinewidth\":0,\"ticks\":\"\"}}}],\"histogram\":[{\"marker\":{\"pattern\":{\"fillmode\":\"overlay\",\"size\":10,\"solidity\":0.2}},\"type\":\"histogram\"}],\"scattergl\":[{\"type\":\"scattergl\",\"marker\":{\"colorbar\":{\"outlinewidth\":0,\"ticks\":\"\"}}}],\"scatter3d\":[{\"type\":\"scatter3d\",\"line\":{\"colorbar\":{\"outlinewidth\":0,\"ticks\":\"\"}},\"marker\":{\"colorbar\":{\"outlinewidth\":0,\"ticks\":\"\"}}}],\"scattermapbox\":[{\"type\":\"scattermapbox\",\"marker\":{\"colorbar\":{\"outlinewidth\":0,\"ticks\":\"\"}}}],\"scatterternary\":[{\"type\":\"scatterternary\",\"marker\":{\"colorbar\":{\"outlinewidth\":0,\"ticks\":\"\"}}}],\"scattercarpet\":[{\"type\":\"scattercarpet\",\"marker\":{\"colorbar\":{\"outlinewidth\":0,\"ticks\":\"\"}}}],\"carpet\":[{\"aaxis\":{\"endlinecolor\":\"#2a3f5f\",\"gridcolor\":\"white\",\"linecolor\":\"white\",\"minorgridcolor\":\"white\",\"startlinecolor\":\"#2a3f5f\"},\"baxis\":{\"endlinecolor\":\"#2a3f5f\",\"gridcolor\":\"white\",\"linecolor\":\"white\",\"minorgridcolor\":\"white\",\"startlinecolor\":\"#2a3f5f\"},\"type\":\"carpet\"}],\"table\":[{\"cells\":{\"fill\":{\"color\":\"#EBF0F8\"},\"line\":{\"color\":\"white\"}},\"header\":{\"fill\":{\"color\":\"#C8D4E3\"},\"line\":{\"color\":\"white\"}},\"type\":\"table\"}],\"barpolar\":[{\"marker\":{\"line\":{\"color\":\"#E5ECF6\",\"width\":0.5},\"pattern\":{\"fillmode\":\"overlay\",\"size\":10,\"solidity\":0.2}},\"type\":\"barpolar\"}],\"pie\":[{\"automargin\":true,\"type\":\"pie\"}]},\"layout\":{\"autotypenumbers\":\"strict\",\"colorway\":[\"#636efa\",\"#EF553B\",\"#00cc96\",\"#ab63fa\",\"#FFA15A\",\"#19d3f3\",\"#FF6692\",\"#B6E880\",\"#FF97FF\",\"#FECB52\"],\"font\":{\"color\":\"#2a3f5f\"},\"hovermode\":\"closest\",\"hoverlabel\":{\"align\":\"left\"},\"paper_bgcolor\":\"white\",\"plot_bgcolor\":\"#E5ECF6\",\"polar\":{\"bgcolor\":\"#E5ECF6\",\"angularaxis\":{\"gridcolor\":\"white\",\"linecolor\":\"white\",\"ticks\":\"\"},\"radialaxis\":{\"gridcolor\":\"white\",\"linecolor\":\"white\",\"ticks\":\"\"}},\"ternary\":{\"bgcolor\":\"#E5ECF6\",\"aaxis\":{\"gridcolor\":\"white\",\"linecolor\":\"white\",\"ticks\":\"\"},\"baxis\":{\"gridcolor\":\"white\",\"linecolor\":\"white\",\"ticks\":\"\"},\"caxis\":{\"gridcolor\":\"white\",\"linecolor\":\"white\",\"ticks\":\"\"}},\"coloraxis\":{\"colorbar\":{\"outlinewidth\":0,\"ticks\":\"\"}},\"colorscale\":{\"sequential\":[[0.0,\"#0d0887\"],[0.1111111111111111,\"#46039f\"],[0.2222222222222222,\"#7201a8\"],[0.3333333333333333,\"#9c179e\"],[0.4444444444444444,\"#bd3786\"],[0.5555555555555556,\"#d8576b\"],[0.6666666666666666,\"#ed7953\"],[0.7777777777777778,\"#fb9f3a\"],[0.8888888888888888,\"#fdca26\"],[1.0,\"#f0f921\"]],\"sequentialminus\":[[0.0,\"#0d0887\"],[0.1111111111111111,\"#46039f\"],[0.2222222222222222,\"#7201a8\"],[0.3333333333333333,\"#9c179e\"],[0.4444444444444444,\"#bd3786\"],[0.5555555555555556,\"#d8576b\"],[0.6666666666666666,\"#ed7953\"],[0.7777777777777778,\"#fb9f3a\"],[0.8888888888888888,\"#fdca26\"],[1.0,\"#f0f921\"]],\"diverging\":[[0,\"#8e0152\"],[0.1,\"#c51b7d\"],[0.2,\"#de77ae\"],[0.3,\"#f1b6da\"],[0.4,\"#fde0ef\"],[0.5,\"#f7f7f7\"],[0.6,\"#e6f5d0\"],[0.7,\"#b8e186\"],[0.8,\"#7fbc41\"],[0.9,\"#4d9221\"],[1,\"#276419\"]]},\"xaxis\":{\"gridcolor\":\"white\",\"linecolor\":\"white\",\"ticks\":\"\",\"title\":{\"standoff\":15},\"zerolinecolor\":\"white\",\"automargin\":true,\"zerolinewidth\":2},\"yaxis\":{\"gridcolor\":\"white\",\"linecolor\":\"white\",\"ticks\":\"\",\"title\":{\"standoff\":15},\"zerolinecolor\":\"white\",\"automargin\":true,\"zerolinewidth\":2},\"scene\":{\"xaxis\":{\"backgroundcolor\":\"#E5ECF6\",\"gridcolor\":\"white\",\"linecolor\":\"white\",\"showbackground\":true,\"ticks\":\"\",\"zerolinecolor\":\"white\",\"gridwidth\":2},\"yaxis\":{\"backgroundcolor\":\"#E5ECF6\",\"gridcolor\":\"white\",\"linecolor\":\"white\",\"showbackground\":true,\"ticks\":\"\",\"zerolinecolor\":\"white\",\"gridwidth\":2},\"zaxis\":{\"backgroundcolor\":\"#E5ECF6\",\"gridcolor\":\"white\",\"linecolor\":\"white\",\"showbackground\":true,\"ticks\":\"\",\"zerolinecolor\":\"white\",\"gridwidth\":2}},\"shapedefaults\":{\"line\":{\"color\":\"#2a3f5f\"}},\"annotationdefaults\":{\"arrowcolor\":\"#2a3f5f\",\"arrowhead\":0,\"arrowwidth\":1},\"geo\":{\"bgcolor\":\"white\",\"landcolor\":\"#E5ECF6\",\"subunitcolor\":\"white\",\"showland\":true,\"showlakes\":true,\"lakecolor\":\"white\"},\"title\":{\"x\":0.05},\"mapbox\":{\"style\":\"light\"}}},\"xaxis\":{\"anchor\":\"y\",\"domain\":[0.0,1.0],\"title\":{\"text\":\"Rating\"},\"showgrid\":false},\"yaxis\":{\"anchor\":\"x\",\"domain\":[0.0,1.0],\"title\":{\"text\":\"Probability Density\"},\"showgrid\":false},\"legend\":{\"tracegroupgap\":0},\"margin\":{\"t\":60},\"barmode\":\"relative\",\"title\":{\"text\":\"Distribution of Rating\",\"x\":0.5,\"pad\":{\"t\":20},\"font\":{\"size\":20}},\"bargap\":0.02,\"plot_bgcolor\":\"white\"},                        {\"responsive\": true}                    ).then(function(){\n",
              "                            \n",
              "var gd = document.getElementById('386851c8-8cc0-4706-b0a9-9db1e5004ad5');\n",
              "var x = new MutationObserver(function (mutations, observer) {{\n",
              "        var display = window.getComputedStyle(gd).display;\n",
              "        if (!display || display === 'none') {{\n",
              "            console.log([gd, 'removed!']);\n",
              "            Plotly.purge(gd);\n",
              "            observer.disconnect();\n",
              "        }}\n",
              "}});\n",
              "\n",
              "// Listen for the removal of the full notebook cells\n",
              "var notebookContainer = gd.closest('#notebook-container');\n",
              "if (notebookContainer) {{\n",
              "    x.observe(notebookContainer, {childList: true});\n",
              "}}\n",
              "\n",
              "// Listen for the clearing of the current output cell\n",
              "var outputEl = gd.closest('.output');\n",
              "if (outputEl) {{\n",
              "    x.observe(outputEl, {childList: true});\n",
              "}}\n",
              "\n",
              "                        })                };                            </script>        </div>\n",
              "</body>\n",
              "</html>"
            ]
          },
          "metadata": {}
        }
      ]
    },
    {
      "cell_type": "code",
      "source": [],
      "metadata": {
        "id": "hA0V21AAr-sL"
      },
      "execution_count": null,
      "outputs": []
    },
    {
      "cell_type": "markdown",
      "source": [
        "#  Feature Engineering"
      ],
      "metadata": {
        "id": "a2SwM4DbsE82"
      }
    },
    {
      "cell_type": "code",
      "source": [
        "# Importing essential libraries for model building\n",
        "\n",
        "from sklearn.model_selection import train_test_split, cross_val_score\n",
        "\n",
        "from sklearn.linear_model import LinearRegression\n",
        "\n",
        "from sklearn.metrics import accuracy_score, mean_absolute_error, mean_squared_error, r2_score"
      ],
      "metadata": {
        "id": "cJAD2vvNnyTC"
      },
      "execution_count": 79,
      "outputs": []
    },
    {
      "cell_type": "code",
      "source": [
        "# Dropping Name column because it doesn't impact the outcome\n",
        "imdb_df.drop('Name', axis = 1, inplace = True"
      ],
      "metadata": {
        "id": "MG4DwqggsTPd"
      },
      "execution_count": null,
      "outputs": []
    },
    {
      "cell_type": "code",
      "source": [
        "# Grouping the columns with their average rating and then creating a new feature\n",
        "\n",
        "genre_mean_rating = imdb_df.groupby('Genre')['Rating'].transform('mean')\n",
        "imdb_df['Genre_mean_rating'] = genre_mean_rating\n",
        "\n",
        "director_mean_rating = imdb_df.groupby('Director')['Rating'].transform('mean')\n",
        "imdb_df['Director_encoded'] = director_mean_rating\n",
        "\n",
        "actor1_mean_rating = imdb_df.groupby('Actor 1')['Rating'].transform('mean')\n",
        "imdb_df['Actor1_encoded'] = actor1_mean_rating\n",
        "\n",
        "actor2_mean_rating = imdb_df.groupby('Actor 2')['Rating'].transform('mean')\n",
        "imdb_df['Actor2_encoded'] = actor2_mean_rating\n",
        "\n",
        "actor3_mean_rating = imdb_df.groupby('Actor 3')['Rating'].transform('mean')\n",
        "imdb_df['Actor3_encoded'] = actor3_mean_rating"
      ],
      "metadata": {
        "id": "F8BpYqMBsVwL"
      },
      "execution_count": 80,
      "outputs": []
    },
    {
      "cell_type": "code",
      "source": [
        "# Keeping the predictor and target variable\n",
        "\n",
        "X = imdb_df[[ 'Year', 'Votes', 'Duration', 'Genre_mean_rating','Director_encoded','Actor1_encoded', 'Actor2_encoded', 'Actor3_encoded']]\n",
        "y = imdb_df['Rating']"
      ],
      "metadata": {
        "id": "GEnsKZUTscdI"
      },
      "execution_count": 81,
      "outputs": []
    },
    {
      "cell_type": "code",
      "source": [
        "# Splitting the dataset into training and testing parts\n",
        "\n",
        "X_train,X_test,y_train,y_test = train_test_split(X,y,test_size=0.2,random_state=42)"
      ],
      "metadata": {
        "id": "duQk27X4sgB0"
      },
      "execution_count": 82,
      "outputs": []
    },
    {
      "cell_type": "markdown",
      "source": [
        "Model Building"
      ],
      "metadata": {
        "id": "BfHi2KCUsjM6"
      }
    },
    {
      "cell_type": "code",
      "source": [
        "# Building machine learning model and training them\n",
        "Model = LinearRegression()\n",
        "Model.fit(X_train,y_train)\n",
        "Model_pred = Model.predict(X_test)"
      ],
      "metadata": {
        "id": "rcaC3mRPsmX9"
      },
      "execution_count": 83,
      "outputs": []
    },
    {
      "cell_type": "code",
      "source": [
        "# Evaluating the performance of model with evaluation metrics\n",
        "\n",
        "print('The performance evaluation of Logistic Regression is below: ', '\\n')\n",
        "print('Mean squared error: ',mean_squared_error(y_test, Model_pred))\n",
        "print('Mean absolute error: ',mean_absolute_error(y_test, Model_pred))\n",
        "print('R2 score: ',r2_score(y_test, Model_pred))"
      ],
      "metadata": {
        "colab": {
          "base_uri": "https://localhost:8080/"
        },
        "id": "zcrf81zIspNk",
        "outputId": "4232aa23-899a-4dfe-e01e-b9baef49c911"
      },
      "execution_count": 84,
      "outputs": [
        {
          "output_type": "stream",
          "name": "stdout",
          "text": [
            "The performance evaluation of Logistic Regression is below:  \n",
            "\n",
            "Mean squared error:  0.44003087076283853\n",
            "Mean absolute error:  0.48860942189611917\n",
            "R2 score:  0.7675540095845457\n"
          ]
        }
      ]
    },
    {
      "cell_type": "code",
      "source": [],
      "metadata": {
        "id": "aPEIVLNGstpf"
      },
      "execution_count": null,
      "outputs": []
    },
    {
      "cell_type": "markdown",
      "source": [
        "# Model Testing"
      ],
      "metadata": {
        "id": "qwNjE4o7suNk"
      }
    },
    {
      "cell_type": "code",
      "source": [
        "X.head(5)"
      ],
      "metadata": {
        "colab": {
          "base_uri": "https://localhost:8080/",
          "height": 206
        },
        "id": "jVhvj8w_szaH",
        "outputId": "6d1b1ab5-373b-4b68-adcb-557ede5c95ba"
      },
      "execution_count": 85,
      "outputs": [
        {
          "output_type": "execute_result",
          "data": {
            "text/plain": [
              "   Year  Votes  Duration  Genre_mean_rating  Director_encoded  Actor1_encoded  \\\n",
              "1  2019      8       109           6.415521          7.000000        6.850000   \n",
              "3  2019     35       110           5.716822          4.400000        5.250000   \n",
              "3  2019     35       110           5.716822          4.400000        5.250000   \n",
              "5  1997    827       147           6.242222          5.335135        4.793617   \n",
              "5  1997    827       147           6.242222          5.335135        4.793617   \n",
              "\n",
              "   Actor2_encoded  Actor3_encoded  \n",
              "1            7.00            7.00  \n",
              "3            4.40            4.46  \n",
              "3            4.40            4.46  \n",
              "5            5.73            5.93  \n",
              "5            5.73            5.93  "
            ],
            "text/html": [
              "\n",
              "  <div id=\"df-f39cb01b-98a9-4b53-b9c7-98d9ac74096b\" class=\"colab-df-container\">\n",
              "    <div>\n",
              "<style scoped>\n",
              "    .dataframe tbody tr th:only-of-type {\n",
              "        vertical-align: middle;\n",
              "    }\n",
              "\n",
              "    .dataframe tbody tr th {\n",
              "        vertical-align: top;\n",
              "    }\n",
              "\n",
              "    .dataframe thead th {\n",
              "        text-align: right;\n",
              "    }\n",
              "</style>\n",
              "<table border=\"1\" class=\"dataframe\">\n",
              "  <thead>\n",
              "    <tr style=\"text-align: right;\">\n",
              "      <th></th>\n",
              "      <th>Year</th>\n",
              "      <th>Votes</th>\n",
              "      <th>Duration</th>\n",
              "      <th>Genre_mean_rating</th>\n",
              "      <th>Director_encoded</th>\n",
              "      <th>Actor1_encoded</th>\n",
              "      <th>Actor2_encoded</th>\n",
              "      <th>Actor3_encoded</th>\n",
              "    </tr>\n",
              "  </thead>\n",
              "  <tbody>\n",
              "    <tr>\n",
              "      <th>1</th>\n",
              "      <td>2019</td>\n",
              "      <td>8</td>\n",
              "      <td>109</td>\n",
              "      <td>6.415521</td>\n",
              "      <td>7.000000</td>\n",
              "      <td>6.850000</td>\n",
              "      <td>7.00</td>\n",
              "      <td>7.00</td>\n",
              "    </tr>\n",
              "    <tr>\n",
              "      <th>3</th>\n",
              "      <td>2019</td>\n",
              "      <td>35</td>\n",
              "      <td>110</td>\n",
              "      <td>5.716822</td>\n",
              "      <td>4.400000</td>\n",
              "      <td>5.250000</td>\n",
              "      <td>4.40</td>\n",
              "      <td>4.46</td>\n",
              "    </tr>\n",
              "    <tr>\n",
              "      <th>3</th>\n",
              "      <td>2019</td>\n",
              "      <td>35</td>\n",
              "      <td>110</td>\n",
              "      <td>5.716822</td>\n",
              "      <td>4.400000</td>\n",
              "      <td>5.250000</td>\n",
              "      <td>4.40</td>\n",
              "      <td>4.46</td>\n",
              "    </tr>\n",
              "    <tr>\n",
              "      <th>5</th>\n",
              "      <td>1997</td>\n",
              "      <td>827</td>\n",
              "      <td>147</td>\n",
              "      <td>6.242222</td>\n",
              "      <td>5.335135</td>\n",
              "      <td>4.793617</td>\n",
              "      <td>5.73</td>\n",
              "      <td>5.93</td>\n",
              "    </tr>\n",
              "    <tr>\n",
              "      <th>5</th>\n",
              "      <td>1997</td>\n",
              "      <td>827</td>\n",
              "      <td>147</td>\n",
              "      <td>6.242222</td>\n",
              "      <td>5.335135</td>\n",
              "      <td>4.793617</td>\n",
              "      <td>5.73</td>\n",
              "      <td>5.93</td>\n",
              "    </tr>\n",
              "  </tbody>\n",
              "</table>\n",
              "</div>\n",
              "    <div class=\"colab-df-buttons\">\n",
              "\n",
              "  <div class=\"colab-df-container\">\n",
              "    <button class=\"colab-df-convert\" onclick=\"convertToInteractive('df-f39cb01b-98a9-4b53-b9c7-98d9ac74096b')\"\n",
              "            title=\"Convert this dataframe to an interactive table.\"\n",
              "            style=\"display:none;\">\n",
              "\n",
              "  <svg xmlns=\"http://www.w3.org/2000/svg\" height=\"24px\" viewBox=\"0 -960 960 960\">\n",
              "    <path d=\"M120-120v-720h720v720H120Zm60-500h600v-160H180v160Zm220 220h160v-160H400v160Zm0 220h160v-160H400v160ZM180-400h160v-160H180v160Zm440 0h160v-160H620v160ZM180-180h160v-160H180v160Zm440 0h160v-160H620v160Z\"/>\n",
              "  </svg>\n",
              "    </button>\n",
              "\n",
              "  <style>\n",
              "    .colab-df-container {\n",
              "      display:flex;\n",
              "      gap: 12px;\n",
              "    }\n",
              "\n",
              "    .colab-df-convert {\n",
              "      background-color: #E8F0FE;\n",
              "      border: none;\n",
              "      border-radius: 50%;\n",
              "      cursor: pointer;\n",
              "      display: none;\n",
              "      fill: #1967D2;\n",
              "      height: 32px;\n",
              "      padding: 0 0 0 0;\n",
              "      width: 32px;\n",
              "    }\n",
              "\n",
              "    .colab-df-convert:hover {\n",
              "      background-color: #E2EBFA;\n",
              "      box-shadow: 0px 1px 2px rgba(60, 64, 67, 0.3), 0px 1px 3px 1px rgba(60, 64, 67, 0.15);\n",
              "      fill: #174EA6;\n",
              "    }\n",
              "\n",
              "    .colab-df-buttons div {\n",
              "      margin-bottom: 4px;\n",
              "    }\n",
              "\n",
              "    [theme=dark] .colab-df-convert {\n",
              "      background-color: #3B4455;\n",
              "      fill: #D2E3FC;\n",
              "    }\n",
              "\n",
              "    [theme=dark] .colab-df-convert:hover {\n",
              "      background-color: #434B5C;\n",
              "      box-shadow: 0px 1px 3px 1px rgba(0, 0, 0, 0.15);\n",
              "      filter: drop-shadow(0px 1px 2px rgba(0, 0, 0, 0.3));\n",
              "      fill: #FFFFFF;\n",
              "    }\n",
              "  </style>\n",
              "\n",
              "    <script>\n",
              "      const buttonEl =\n",
              "        document.querySelector('#df-f39cb01b-98a9-4b53-b9c7-98d9ac74096b button.colab-df-convert');\n",
              "      buttonEl.style.display =\n",
              "        google.colab.kernel.accessAllowed ? 'block' : 'none';\n",
              "\n",
              "      async function convertToInteractive(key) {\n",
              "        const element = document.querySelector('#df-f39cb01b-98a9-4b53-b9c7-98d9ac74096b');\n",
              "        const dataTable =\n",
              "          await google.colab.kernel.invokeFunction('convertToInteractive',\n",
              "                                                    [key], {});\n",
              "        if (!dataTable) return;\n",
              "\n",
              "        const docLinkHtml = 'Like what you see? Visit the ' +\n",
              "          '<a target=\"_blank\" href=https://colab.research.google.com/notebooks/data_table.ipynb>data table notebook</a>'\n",
              "          + ' to learn more about interactive tables.';\n",
              "        element.innerHTML = '';\n",
              "        dataTable['output_type'] = 'display_data';\n",
              "        await google.colab.output.renderOutput(dataTable, element);\n",
              "        const docLink = document.createElement('div');\n",
              "        docLink.innerHTML = docLinkHtml;\n",
              "        element.appendChild(docLink);\n",
              "      }\n",
              "    </script>\n",
              "  </div>\n",
              "\n",
              "\n",
              "<div id=\"df-64358ec4-645d-440f-8758-3ee5422060a5\">\n",
              "  <button class=\"colab-df-quickchart\" onclick=\"quickchart('df-64358ec4-645d-440f-8758-3ee5422060a5')\"\n",
              "            title=\"Suggest charts\"\n",
              "            style=\"display:none;\">\n",
              "\n",
              "<svg xmlns=\"http://www.w3.org/2000/svg\" height=\"24px\"viewBox=\"0 0 24 24\"\n",
              "     width=\"24px\">\n",
              "    <g>\n",
              "        <path d=\"M19 3H5c-1.1 0-2 .9-2 2v14c0 1.1.9 2 2 2h14c1.1 0 2-.9 2-2V5c0-1.1-.9-2-2-2zM9 17H7v-7h2v7zm4 0h-2V7h2v10zm4 0h-2v-4h2v4z\"/>\n",
              "    </g>\n",
              "</svg>\n",
              "  </button>\n",
              "\n",
              "<style>\n",
              "  .colab-df-quickchart {\n",
              "      --bg-color: #E8F0FE;\n",
              "      --fill-color: #1967D2;\n",
              "      --hover-bg-color: #E2EBFA;\n",
              "      --hover-fill-color: #174EA6;\n",
              "      --disabled-fill-color: #AAA;\n",
              "      --disabled-bg-color: #DDD;\n",
              "  }\n",
              "\n",
              "  [theme=dark] .colab-df-quickchart {\n",
              "      --bg-color: #3B4455;\n",
              "      --fill-color: #D2E3FC;\n",
              "      --hover-bg-color: #434B5C;\n",
              "      --hover-fill-color: #FFFFFF;\n",
              "      --disabled-bg-color: #3B4455;\n",
              "      --disabled-fill-color: #666;\n",
              "  }\n",
              "\n",
              "  .colab-df-quickchart {\n",
              "    background-color: var(--bg-color);\n",
              "    border: none;\n",
              "    border-radius: 50%;\n",
              "    cursor: pointer;\n",
              "    display: none;\n",
              "    fill: var(--fill-color);\n",
              "    height: 32px;\n",
              "    padding: 0;\n",
              "    width: 32px;\n",
              "  }\n",
              "\n",
              "  .colab-df-quickchart:hover {\n",
              "    background-color: var(--hover-bg-color);\n",
              "    box-shadow: 0 1px 2px rgba(60, 64, 67, 0.3), 0 1px 3px 1px rgba(60, 64, 67, 0.15);\n",
              "    fill: var(--button-hover-fill-color);\n",
              "  }\n",
              "\n",
              "  .colab-df-quickchart-complete:disabled,\n",
              "  .colab-df-quickchart-complete:disabled:hover {\n",
              "    background-color: var(--disabled-bg-color);\n",
              "    fill: var(--disabled-fill-color);\n",
              "    box-shadow: none;\n",
              "  }\n",
              "\n",
              "  .colab-df-spinner {\n",
              "    border: 2px solid var(--fill-color);\n",
              "    border-color: transparent;\n",
              "    border-bottom-color: var(--fill-color);\n",
              "    animation:\n",
              "      spin 1s steps(1) infinite;\n",
              "  }\n",
              "\n",
              "  @keyframes spin {\n",
              "    0% {\n",
              "      border-color: transparent;\n",
              "      border-bottom-color: var(--fill-color);\n",
              "      border-left-color: var(--fill-color);\n",
              "    }\n",
              "    20% {\n",
              "      border-color: transparent;\n",
              "      border-left-color: var(--fill-color);\n",
              "      border-top-color: var(--fill-color);\n",
              "    }\n",
              "    30% {\n",
              "      border-color: transparent;\n",
              "      border-left-color: var(--fill-color);\n",
              "      border-top-color: var(--fill-color);\n",
              "      border-right-color: var(--fill-color);\n",
              "    }\n",
              "    40% {\n",
              "      border-color: transparent;\n",
              "      border-right-color: var(--fill-color);\n",
              "      border-top-color: var(--fill-color);\n",
              "    }\n",
              "    60% {\n",
              "      border-color: transparent;\n",
              "      border-right-color: var(--fill-color);\n",
              "    }\n",
              "    80% {\n",
              "      border-color: transparent;\n",
              "      border-right-color: var(--fill-color);\n",
              "      border-bottom-color: var(--fill-color);\n",
              "    }\n",
              "    90% {\n",
              "      border-color: transparent;\n",
              "      border-bottom-color: var(--fill-color);\n",
              "    }\n",
              "  }\n",
              "</style>\n",
              "\n",
              "  <script>\n",
              "    async function quickchart(key) {\n",
              "      const quickchartButtonEl =\n",
              "        document.querySelector('#' + key + ' button');\n",
              "      quickchartButtonEl.disabled = true;  // To prevent multiple clicks.\n",
              "      quickchartButtonEl.classList.add('colab-df-spinner');\n",
              "      try {\n",
              "        const charts = await google.colab.kernel.invokeFunction(\n",
              "            'suggestCharts', [key], {});\n",
              "      } catch (error) {\n",
              "        console.error('Error during call to suggestCharts:', error);\n",
              "      }\n",
              "      quickchartButtonEl.classList.remove('colab-df-spinner');\n",
              "      quickchartButtonEl.classList.add('colab-df-quickchart-complete');\n",
              "    }\n",
              "    (() => {\n",
              "      let quickchartButtonEl =\n",
              "        document.querySelector('#df-64358ec4-645d-440f-8758-3ee5422060a5 button');\n",
              "      quickchartButtonEl.style.display =\n",
              "        google.colab.kernel.accessAllowed ? 'block' : 'none';\n",
              "    })();\n",
              "  </script>\n",
              "</div>\n",
              "\n",
              "    </div>\n",
              "  </div>\n"
            ],
            "application/vnd.google.colaboratory.intrinsic+json": {
              "type": "dataframe",
              "variable_name": "X",
              "summary": "{\n  \"name\": \"X\",\n  \"rows\": 11979,\n  \"fields\": [\n    {\n      \"column\": \"Year\",\n      \"properties\": {\n        \"dtype\": \"number\",\n        \"std\": 19,\n        \"min\": 1931,\n        \"max\": 2021,\n        \"num_unique_values\": 91,\n        \"samples\": [\n          1990,\n          1974,\n          1970\n        ],\n        \"semantic_type\": \"\",\n        \"description\": \"\"\n      }\n    },\n    {\n      \"column\": \"Votes\",\n      \"properties\": {\n        \"dtype\": \"number\",\n        \"std\": 15305,\n        \"min\": 5,\n        \"max\": 591417,\n        \"num_unique_values\": 2027,\n        \"samples\": [\n          2534,\n          8372,\n          21773\n        ],\n        \"semantic_type\": \"\",\n        \"description\": \"\"\n      }\n    },\n    {\n      \"column\": \"Duration\",\n      \"properties\": {\n        \"dtype\": \"number\",\n        \"std\": 25,\n        \"min\": 21,\n        \"max\": 321,\n        \"num_unique_values\": 174,\n        \"samples\": [\n          197,\n          247,\n          86\n        ],\n        \"semantic_type\": \"\",\n        \"description\": \"\"\n      }\n    },\n    {\n      \"column\": \"Genre_mean_rating\",\n      \"properties\": {\n        \"dtype\": \"number\",\n        \"std\": 0.593590124038237,\n        \"min\": 2.4,\n        \"max\": 9.4,\n        \"num_unique_values\": 237,\n        \"samples\": [\n          6.6,\n          5.040588235294117,\n          7.900000000000001\n        ],\n        \"semantic_type\": \"\",\n        \"description\": \"\"\n      }\n    },\n    {\n      \"column\": \"Director_encoded\",\n      \"properties\": {\n        \"dtype\": \"number\",\n        \"std\": 1.097723217523055,\n        \"min\": 1.6,\n        \"max\": 10.0,\n        \"num_unique_values\": 654,\n        \"samples\": [\n          6.270588235294118,\n          5.400000000000001,\n          5.455555555555556\n        ],\n        \"semantic_type\": \"\",\n        \"description\": \"\"\n      }\n    },\n    {\n      \"column\": \"Actor1_encoded\",\n      \"properties\": {\n        \"dtype\": \"number\",\n        \"std\": 1.0018932461598078,\n        \"min\": 1.4,\n        \"max\": 10.0,\n        \"num_unique_values\": 496,\n        \"samples\": [\n          5.199999999999999,\n          8.0,\n          6.400000000000001\n        ],\n        \"semantic_type\": \"\",\n        \"description\": \"\"\n      }\n    },\n    {\n      \"column\": \"Actor2_encoded\",\n      \"properties\": {\n        \"dtype\": \"number\",\n        \"std\": 1.033033590425124,\n        \"min\": 1.6,\n        \"max\": 10.0,\n        \"num_unique_values\": 593,\n        \"samples\": [\n          6.1,\n          8.0,\n          6.74\n        ],\n        \"semantic_type\": \"\",\n        \"description\": \"\"\n      }\n    },\n    {\n      \"column\": \"Actor3_encoded\",\n      \"properties\": {\n        \"dtype\": \"number\",\n        \"std\": 1.0460841819887676,\n        \"min\": 1.7,\n        \"max\": 10.0,\n        \"num_unique_values\": 624,\n        \"samples\": [\n          6.975,\n          6.9750000000000005,\n          5.136363636363637\n        ],\n        \"semantic_type\": \"\",\n        \"description\": \"\"\n      }\n    }\n  ]\n}"
            }
          },
          "metadata": {},
          "execution_count": 85
        }
      ]
    },
    {
      "cell_type": "code",
      "source": [
        "y.head(5)"
      ],
      "metadata": {
        "colab": {
          "base_uri": "https://localhost:8080/"
        },
        "id": "sVS6xkF7s10f",
        "outputId": "404c4f6b-7fc3-45b1-c29e-4ec4f97edb4d"
      },
      "execution_count": 86,
      "outputs": [
        {
          "output_type": "execute_result",
          "data": {
            "text/plain": [
              "1    7.0\n",
              "3    4.4\n",
              "3    4.4\n",
              "5    4.7\n",
              "5    4.7\n",
              "Name: Rating, dtype: float64"
            ]
          },
          "metadata": {},
          "execution_count": 86
        }
      ]
    },
    {
      "cell_type": "code",
      "source": [
        "# For testing, We create a new dataframe with values close to the any of our existing data to evaluate.\n",
        "\n",
        "data = {'Year': [2019], 'Votes': [36], 'Duration': [111], 'Genre_mean_rating': [5.8], 'Director_encoded': [4.5], 'Actor1_encoded': [5.3], 'Actor2_encoded': [4.5], 'Actor3_encoded': [4.5]}\n",
        "trail = pd.DataFrame(data)"
      ],
      "metadata": {
        "id": "RtSP1o43s4gD"
      },
      "execution_count": 87,
      "outputs": []
    },
    {
      "cell_type": "code",
      "source": [
        "# Predict the movie rating by entered data\n",
        "rating_predicted = Model.predict(trail)\n",
        "\n",
        "# Display the predicted result from the Model\n",
        "print(\"Predicted Rating:\", rating_predicted[0])"
      ],
      "metadata": {
        "colab": {
          "base_uri": "https://localhost:8080/"
        },
        "id": "e6xl2v37s7iI",
        "outputId": "bba541ca-7156-4ebf-daea-272e60b4a22e"
      },
      "execution_count": 88,
      "outputs": [
        {
          "output_type": "stream",
          "name": "stdout",
          "text": [
            "Predicted Rating: 4.2415904707412055\n"
          ]
        }
      ]
    }
  ]
}